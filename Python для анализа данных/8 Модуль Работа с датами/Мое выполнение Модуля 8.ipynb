{
 "cells": [
  {
   "cell_type": "markdown",
   "metadata": {},
   "source": [
    "# Блок 2. Распознавание дат > Шаг 1. Постановка проблемы"
   ]
  },
  {
   "cell_type": "markdown",
   "metadata": {},
   "source": [
    "Работа с датами — неотъемлемая часть решения многих аналитических задач. Некоторые инструменты, например, Excel, имеют встроенные инструменты по распознаванию дат в автоматическом режиме. Но не всегда даже эти инструменты дают корректный результат при работе с базами данных.\n",
    "\n",
    "Например, запись '01.12.17', скорее всего, будет распознана как 1 декабря 2017 года. Однако в американском стандарте записи дат это 12 января 2017 года.\n",
    "\n",
    "Также многие выгрузки из систем и баз данных имеют свой служебный формат. Например, формат времени из разных систем может отличаться:\n",
    "\n",
    "2018-11-09 15:45:21\n",
    "11/09/2018 3:45:20 PM\n",
    "2018-11-09T15:45:21.2984\n",
    "\n",
    "Для всех этих случаев необходимо задавать формат распознавания дат, уметь сравнивать их между собой. Также часто необходимо корректно прибавлять к датам разные временные интервалы. Например, час или день.\n",
    "\n",
    "Представим, что нам надо посчитать показатели рекламной кампании за определенный период. Например, для человека удобно дату начала и конца выгрузки задавать в формате строки:"
   ]
  },
  {
   "cell_type": "code",
   "execution_count": 1,
   "metadata": {},
   "outputs": [],
   "source": [
    "startDate = '2017-12-01'\n",
    "endDate = '2017-12-31'"
   ]
  },
  {
   "cell_type": "markdown",
   "metadata": {},
   "source": [
    "Однако сейчас переменные startDate и endDate — просто строки, которые нельзя преобразовывать, как даты. Для этого необходимо сначала перевести их в специальный формат."
   ]
  },
  {
   "cell_type": "markdown",
   "metadata": {},
   "source": [
    "## Шаг 2. Библиотека datetime\n",
    "\n",
    "В этом занятии мы познакомимся с библиотеками, которые позволяют относительно просто работать с любыми форматами дат и времени.\n",
    "\n",
    "В этом блоке мы будет работать с файлом data.tsv. В нем есть столбец date. Возьмем для примера первое значение в этом столбце:"
   ]
  },
  {
   "cell_type": "code",
   "execution_count": 3,
   "metadata": {},
   "outputs": [
    {
     "data": {
      "text/plain": [
       "str"
      ]
     },
     "execution_count": 3,
     "metadata": {},
     "output_type": "execute_result"
    }
   ],
   "source": [
    "date_string = '05.10.2016  23:18'\n",
    "type( date_string )\n"
   ]
  },
  {
   "cell_type": "markdown",
   "metadata": {},
   "source": [
    "Сейчас переменная date_string является просто строкой."
   ]
  },
  {
   "cell_type": "markdown",
   "metadata": {},
   "source": [
    "Соответственно, сейчас мы не можем выполнять со строкой никаких операций. Например, прибавить к этой дате неделю или посчитать, к какому году она относится. Нам необходимо перевести эту дату в формат datetime. Для этого в Python есть библиотека с аналогичным названием datetime. Импортируем ее в наш скрипт:"
   ]
  },
  {
   "cell_type": "code",
   "execution_count": 1,
   "metadata": {},
   "outputs": [],
   "source": [
    "import datetime"
   ]
  },
  {
   "cell_type": "markdown",
   "metadata": {},
   "source": [
    "На текущем занятии мы будем использовать из этой библиотеки следующие модули: datetime для распознавания формата дат и timedelta для прибавления к текущей дате определенный временной интервал. Нам придется вызывать эти модули следующим образом: datetime.datetime и datetime.timedelta , что достаточно громоздко. Чтобы сделать код более читабельным, давайте импортируем эти модули следующим образом:"
   ]
  },
  {
   "cell_type": "code",
   "execution_count": 2,
   "metadata": {},
   "outputs": [],
   "source": [
    "from datetime import datetime, timedelta"
   ]
  },
  {
   "cell_type": "markdown",
   "metadata": {},
   "source": [
    "## Шаг 3. Форматы даты и времени\n",
    "\n",
    "Чтобы перевести переменную date_string в формат даты и времени, необходимо указать, в каком формате записана наша переменная. Допустим, что в этом примере цифры значат следующее:\n",
    "\n",
    "05 - день\n",
    "\n",
    "10 - месяц\n",
    "\n",
    "2016 - год\n",
    "\n",
    "23 - часы\n",
    "\n",
    "18 - минуты\n",
    "\n",
    "В Python для каждого формата даты и времени есть свое обозначение. Например, чтобы указать формат 'часы в формате от 0 до 24', надо на странице https://docs.python.org/3/library/datetime.html в таблице форматов (она в конце страницы) найти соответствующее обозначение — 'Hour (24-hour clock) as a zero-padded decimal number', т. е. %H.\n",
    "\n",
    "В этой таблице есть много форматов, даже на случаи обозначения дней недели, как Sun, Mon (первая строка таблицы) и использование AM и PM.\n",
    "\n",
    "Давайте расшифруем формат переменной date_string. Для этого используется метод strptime, который переводит переменную типа строка в переменную типа дата и время.\n",
    "\n",
    "В качестве первого аргумента ставим строковую переменную (date_string), потом указываем формат (при указании формата обязательно учитываем все точки и двоеточия):"
   ]
  },
  {
   "cell_type": "code",
   "execution_count": 6,
   "metadata": {},
   "outputs": [
    {
     "data": {
      "text/plain": [
       "datetime.datetime(2016, 10, 5, 23, 18)"
      ]
     },
     "execution_count": 6,
     "metadata": {},
     "output_type": "execute_result"
    }
   ],
   "source": [
    "date_string = '05.10.2016  23:18'\n",
    "datetime.strptime( date_string, '%d.%m.%Y %H:%M' )"
   ]
  },
  {
   "cell_type": "code",
   "execution_count": 7,
   "metadata": {},
   "outputs": [
    {
     "ename": "ValueError",
     "evalue": "time data '05.10.2016  23:18' does not match format '%Y %H:%M'",
     "output_type": "error",
     "traceback": [
      "\u001b[1;31m---------------------------------------------------------------------------\u001b[0m",
      "\u001b[1;31mValueError\u001b[0m                                Traceback (most recent call last)",
      "\u001b[1;32m<ipython-input-7-0b1eabf0935a>\u001b[0m in \u001b[0;36m<module>\u001b[1;34m\u001b[0m\n\u001b[0;32m      2\u001b[0m \u001b[1;31m#Если бы мы ошиблись, то получили бы ошибку:\u001b[0m\u001b[1;33m\u001b[0m\u001b[1;33m\u001b[0m\u001b[1;33m\u001b[0m\u001b[0m\n\u001b[0;32m      3\u001b[0m \u001b[1;33m\u001b[0m\u001b[0m\n\u001b[1;32m----> 4\u001b[1;33m \u001b[0mdatetime\u001b[0m\u001b[1;33m.\u001b[0m\u001b[0mstrptime\u001b[0m\u001b[1;33m(\u001b[0m\u001b[0mdate_string\u001b[0m\u001b[1;33m,\u001b[0m \u001b[1;34m'%Y %H:%M'\u001b[0m\u001b[1;33m)\u001b[0m\u001b[1;33m\u001b[0m\u001b[1;33m\u001b[0m\u001b[0m\n\u001b[0m",
      "\u001b[1;32m~\\AppData\\Local\\Continuum\\anaconda3\\lib\\_strptime.py\u001b[0m in \u001b[0;36m_strptime_datetime\u001b[1;34m(cls, data_string, format)\u001b[0m\n\u001b[0;32m    575\u001b[0m     \"\"\"Return a class cls instance based on the input string and the\n\u001b[0;32m    576\u001b[0m     format string.\"\"\"\n\u001b[1;32m--> 577\u001b[1;33m     \u001b[0mtt\u001b[0m\u001b[1;33m,\u001b[0m \u001b[0mfraction\u001b[0m\u001b[1;33m,\u001b[0m \u001b[0mgmtoff_fraction\u001b[0m \u001b[1;33m=\u001b[0m \u001b[0m_strptime\u001b[0m\u001b[1;33m(\u001b[0m\u001b[0mdata_string\u001b[0m\u001b[1;33m,\u001b[0m \u001b[0mformat\u001b[0m\u001b[1;33m)\u001b[0m\u001b[1;33m\u001b[0m\u001b[1;33m\u001b[0m\u001b[0m\n\u001b[0m\u001b[0;32m    578\u001b[0m     \u001b[0mtzname\u001b[0m\u001b[1;33m,\u001b[0m \u001b[0mgmtoff\u001b[0m \u001b[1;33m=\u001b[0m \u001b[0mtt\u001b[0m\u001b[1;33m[\u001b[0m\u001b[1;33m-\u001b[0m\u001b[1;36m2\u001b[0m\u001b[1;33m:\u001b[0m\u001b[1;33m]\u001b[0m\u001b[1;33m\u001b[0m\u001b[1;33m\u001b[0m\u001b[0m\n\u001b[0;32m    579\u001b[0m     \u001b[0margs\u001b[0m \u001b[1;33m=\u001b[0m \u001b[0mtt\u001b[0m\u001b[1;33m[\u001b[0m\u001b[1;33m:\u001b[0m\u001b[1;36m6\u001b[0m\u001b[1;33m]\u001b[0m \u001b[1;33m+\u001b[0m \u001b[1;33m(\u001b[0m\u001b[0mfraction\u001b[0m\u001b[1;33m,\u001b[0m\u001b[1;33m)\u001b[0m\u001b[1;33m\u001b[0m\u001b[1;33m\u001b[0m\u001b[0m\n",
      "\u001b[1;32m~\\AppData\\Local\\Continuum\\anaconda3\\lib\\_strptime.py\u001b[0m in \u001b[0;36m_strptime\u001b[1;34m(data_string, format)\u001b[0m\n\u001b[0;32m    357\u001b[0m     \u001b[1;32mif\u001b[0m \u001b[1;32mnot\u001b[0m \u001b[0mfound\u001b[0m\u001b[1;33m:\u001b[0m\u001b[1;33m\u001b[0m\u001b[1;33m\u001b[0m\u001b[0m\n\u001b[0;32m    358\u001b[0m         raise ValueError(\"time data %r does not match format %r\" %\n\u001b[1;32m--> 359\u001b[1;33m                          (data_string, format))\n\u001b[0m\u001b[0;32m    360\u001b[0m     \u001b[1;32mif\u001b[0m \u001b[0mlen\u001b[0m\u001b[1;33m(\u001b[0m\u001b[0mdata_string\u001b[0m\u001b[1;33m)\u001b[0m \u001b[1;33m!=\u001b[0m \u001b[0mfound\u001b[0m\u001b[1;33m.\u001b[0m\u001b[0mend\u001b[0m\u001b[1;33m(\u001b[0m\u001b[1;33m)\u001b[0m\u001b[1;33m:\u001b[0m\u001b[1;33m\u001b[0m\u001b[1;33m\u001b[0m\u001b[0m\n\u001b[0;32m    361\u001b[0m         raise ValueError(\"unconverted data remains: %s\" %\n",
      "\u001b[1;31mValueError\u001b[0m: time data '05.10.2016  23:18' does not match format '%Y %H:%M'"
     ]
    }
   ],
   "source": [
    "#Вывод datetime.datetime(2016, 10, 5, 23, 18) означает, что мы верно расшифровали формат. \n",
    "#Если бы мы ошиблись, то получили бы ошибку:\n",
    "\n",
    "datetime.strptime(date_string, '%Y %H:%M')"
   ]
  },
  {
   "cell_type": "markdown",
   "metadata": {},
   "source": [
    "Запишем наш результат в переменную date_datetime и посмотрим, что с ней можно делать:"
   ]
  },
  {
   "cell_type": "code",
   "execution_count": 8,
   "metadata": {},
   "outputs": [
    {
     "data": {
      "text/plain": [
       "datetime.datetime"
      ]
     },
     "execution_count": 8,
     "metadata": {},
     "output_type": "execute_result"
    }
   ],
   "source": [
    "date_datetime = datetime.strptime( date_string, '%d.%m.%Y %H:%M' )\n",
    "type( date_datetime )"
   ]
  },
  {
   "cell_type": "markdown",
   "metadata": {},
   "source": [
    "Теперь можем получать множество характеристик даты:"
   ]
  },
  {
   "cell_type": "code",
   "execution_count": 9,
   "metadata": {},
   "outputs": [
    {
     "data": {
      "text/plain": [
       "2016"
      ]
     },
     "execution_count": 9,
     "metadata": {},
     "output_type": "execute_result"
    }
   ],
   "source": [
    "date_datetime.year # если хотим сгруппировать статистику покупок по году"
   ]
  },
  {
   "cell_type": "code",
   "execution_count": 10,
   "metadata": {},
   "outputs": [
    {
     "data": {
      "text/plain": [
       "23"
      ]
     },
     "execution_count": 10,
     "metadata": {},
     "output_type": "execute_result"
    }
   ],
   "source": [
    "date_datetime.hour # если строим отчет активности покупок по часам"
   ]
  },
  {
   "cell_type": "markdown",
   "metadata": {},
   "source": [
    "### Упражнение\n",
    "\n",
    "С помощью метода datetime.strptime переведите строку 'May 9 2017 9:00AM' в формат datetime.\n",
    "\n",
    "Выделите и запишите номер часа в этой дате (в виде целого числа). Подсказка: у обозначения месяца May формат %b, у AM - %p"
   ]
  },
  {
   "cell_type": "code",
   "execution_count": 13,
   "metadata": {},
   "outputs": [
    {
     "data": {
      "text/plain": [
       "datetime.datetime(2017, 5, 9, 9, 0)"
      ]
     },
     "execution_count": 13,
     "metadata": {},
     "output_type": "execute_result"
    }
   ],
   "source": [
    "date_string = 'May 9 2017 9:00AM'\n",
    "datetime.strptime( date_string, '%B %d %Y %I:%M%p' )"
   ]
  },
  {
   "cell_type": "markdown",
   "metadata": {},
   "source": [
    "Форматы\n",
    "https://docs.python.org/3/library/datetime.html\n"
   ]
  },
  {
   "cell_type": "markdown",
   "metadata": {},
   "source": [
    "# Блок 3. Прибавление интервала и строки > Шаг 1. Прибавление дней\n",
    "\n",
    "Необходимость прибавлять временной интервал к дате очень часто встречается в самых разнообразных задачах. Например, при заборе данных из внешних источников с помощью API для каждого дня отдельно (для увеличения точности выгрузки).\n",
    "\n",
    "Допустим, у нас есть дата начала выгрузки startDate. Необходимо прибавить к этой дате день. Воспользуемся модулем timedelta."
   ]
  },
  {
   "cell_type": "code",
   "execution_count": 14,
   "metadata": {},
   "outputs": [],
   "source": [
    "startDate = '2017-01-01'"
   ]
  },
  {
   "cell_type": "code",
   "execution_count": 16,
   "metadata": {},
   "outputs": [
    {
     "data": {
      "text/plain": [
       "datetime.datetime(2017, 1, 1, 0, 0)"
      ]
     },
     "execution_count": 16,
     "metadata": {},
     "output_type": "execute_result"
    }
   ],
   "source": [
    "#Переводим строковую переменную startDate в формат datetime:\n",
    "\n",
    "startDate_datetime = datetime.strptime( startDate, '%Y-%m-%d' )\n",
    "startDate_datetime"
   ]
  },
  {
   "cell_type": "code",
   "execution_count": 18,
   "metadata": {},
   "outputs": [
    {
     "data": {
      "text/plain": [
       "datetime.datetime(2017, 1, 2, 0, 0)"
      ]
     },
     "execution_count": 18,
     "metadata": {},
     "output_type": "execute_result"
    }
   ],
   "source": [
    "# Теперь можем прибавлять к ней нужные временные интервалы с помощью timedelta:\n",
    "\n",
    "startDate_datetime + timedelta( days = 1 )"
   ]
  },
  {
   "cell_type": "code",
   "execution_count": 19,
   "metadata": {},
   "outputs": [
    {
     "data": {
      "text/plain": [
       "datetime.datetime(2016, 12, 25, 0, 0)"
      ]
     },
     "execution_count": 19,
     "metadata": {},
     "output_type": "execute_result"
    }
   ],
   "source": [
    "# В результате получили 2 января 2017 года. \n",
    "# Посмотрим, что получится, если отнять от startDate_datetime (от 1 января) 7 дней:\n",
    "\n",
    "startDate_datetime + timedelta( days = -7 )"
   ]
  },
  {
   "cell_type": "markdown",
   "metadata": {},
   "source": [
    "## Шаг 2. Прибавление времени\n",
    "\n",
    "Для увеличения даты и времени на определенное количество часов или минут просто меняем название параметра. Попробуем добавить к дате выгрузки 1 час:"
   ]
  },
  {
   "cell_type": "code",
   "execution_count": 20,
   "metadata": {},
   "outputs": [
    {
     "data": {
      "text/plain": [
       "datetime.datetime(2017, 1, 1, 1, 0)"
      ]
     },
     "execution_count": 20,
     "metadata": {},
     "output_type": "execute_result"
    }
   ],
   "source": [
    "startDate_datetime += timedelta( hours = 1 )\n",
    "startDate_datetime"
   ]
  },
  {
   "cell_type": "markdown",
   "metadata": {},
   "source": [
    "### Упражнение\n",
    "\n",
    "Возьмите дату из прошлого шага 'May 9 2017 9:00AM', переведите в формат datetime и прибавьте к ней час с помощью timedelta.\n",
    "\n",
    "Какой результат будет на экране в формате datetime? Ответ должен иметь вид datetime.datetime(...)"
   ]
  },
  {
   "cell_type": "code",
   "execution_count": 24,
   "metadata": {},
   "outputs": [
    {
     "data": {
      "text/plain": [
       "datetime.datetime(2017, 5, 9, 9, 0)"
      ]
     },
     "execution_count": 24,
     "metadata": {},
     "output_type": "execute_result"
    }
   ],
   "source": [
    "date_string = 'May 9 2017 9:00AM'\n",
    "startDate_datetime = datetime.strptime( date_string, '%B %d %Y %I:%M%p' )\n",
    "startDate_datetime"
   ]
  },
  {
   "cell_type": "code",
   "execution_count": 25,
   "metadata": {},
   "outputs": [
    {
     "data": {
      "text/plain": [
       "datetime.datetime(2017, 5, 9, 10, 0)"
      ]
     },
     "execution_count": 25,
     "metadata": {},
     "output_type": "execute_result"
    }
   ],
   "source": [
    "startDate_datetime += timedelta( hours = 1 )\n",
    "startDate_datetime"
   ]
  },
  {
   "cell_type": "markdown",
   "metadata": {},
   "source": [
    "## Шаг 3. Перевод datetime в строку\n",
    "\n",
    "После вычислений с датами можно легко вернуть результат обратно в строку. Для этого воспользуемся методом strftime, указав в качестве аргумента желаемый формат:"
   ]
  },
  {
   "cell_type": "code",
   "execution_count": 26,
   "metadata": {},
   "outputs": [
    {
     "data": {
      "text/plain": [
       "'2017-05-09 10:00:00'"
      ]
     },
     "execution_count": 26,
     "metadata": {},
     "output_type": "execute_result"
    }
   ],
   "source": [
    "startDate_datetime.strftime( '%Y-%m-%d %H:%M:%S' )"
   ]
  },
  {
   "cell_type": "markdown",
   "metadata": {},
   "source": [
    "### Упражнение\n",
    "\n",
    "Возьмите результат прошлого упражнения (прибавление часа к 9 мая) и запишите результат в формате '%Y-%m-%d'.\n",
    "\n",
    "Какой будет результат?"
   ]
  },
  {
   "cell_type": "code",
   "execution_count": 27,
   "metadata": {},
   "outputs": [
    {
     "data": {
      "text/plain": [
       "'2017-05-09'"
      ]
     },
     "execution_count": 27,
     "metadata": {},
     "output_type": "execute_result"
    }
   ],
   "source": [
    "startDate_datetime.strftime( '%Y-%m-%d' )"
   ]
  },
  {
   "cell_type": "markdown",
   "metadata": {},
   "source": [
    "# Блок 4. Перебор дат в цикле > Шаг 1. Постановка задачи\n",
    "\n",
    "После того, как мы освоили работу с отдельными датами, давайте посмотрим, как работать с большим количеством дат. \n",
    "\n",
    "Для этого мы реализуем алгоритм, который по дате начала и конца выгрузки будет «пробегать» все значения по дням. Этот метод часто необходим при получении данных от внешних систем, а также обработки больших выгрузок частями. Например, по дням или по часам. Типичный пример — выгрузка сложных отчетов из Google Analytics по дням, чтобы уменьшить сэмплирование данных.\n",
    "\n",
    "В дальнейшем такой навык нам понадобится для определения покупательской активности по часам и дням или любой другой аналитики в больших файлах."
   ]
  },
  {
   "cell_type": "markdown",
   "metadata": {},
   "source": [
    "### Шаг 2. Подготовка переменных\n",
    "\n",
    "Потренируемся на простом примере. Представим, что нам необходимо из огромной таблицы с данными за год выяснить показатели за новогодние праздники с 1 по 7 января, и научимся в этом шаге перебирать необходимые даты. \n",
    "\n",
    "Начальную и конечную дату будем задавать в удобном для человека строковом виде:"
   ]
  },
  {
   "cell_type": "code",
   "execution_count": 3,
   "metadata": {},
   "outputs": [],
   "source": [
    "startDate = '2017-01-01'\n",
    "endDate = '2017-01-07'"
   ]
  },
  {
   "cell_type": "code",
   "execution_count": 4,
   "metadata": {},
   "outputs": [
    {
     "name": "stdout",
     "output_type": "stream",
     "text": [
      "2017-01-01 00:00:00 2017-01-07 00:00:00\n"
     ]
    }
   ],
   "source": [
    "# Поскольку нам надо в цикле работать с датами, то переведем строковые переменные в формат datetime:\n",
    "\n",
    "startDate_datetime = datetime.strptime( startDate, '%Y-%m-%d' )\n",
    "endDate_datetime = datetime.strptime( endDate, '%Y-%m-%d' )\n",
    "print( startDate_datetime, endDate_datetime )"
   ]
  },
  {
   "cell_type": "markdown",
   "metadata": {},
   "source": [
    "### Шаг 3. Создаем цикл\n",
    "\n",
    "Заведем переменную current_day, которая в цикле будет изменяться от 1 до 7 января и будет иметь тип datetime. В первом шаге цикла эта переменная будет равна 1 января:"
   ]
  },
  {
   "cell_type": "code",
   "execution_count": 5,
   "metadata": {},
   "outputs": [],
   "source": [
    "current_day = startDate_datetime"
   ]
  },
  {
   "cell_type": "markdown",
   "metadata": {},
   "source": [
    "Теперь в цикле будем увеличивать значение current_day на 1 день, пока ее значение не превысит дату конца выгрузки. Для составления таких циклов используется конструкция while. Этот цикл будет работать, пока указанное в нем условие выполняется. Простой пример для вывода нескольких чисел:"
   ]
  },
  {
   "cell_type": "code",
   "execution_count": 6,
   "metadata": {},
   "outputs": [
    {
     "name": "stdout",
     "output_type": "stream",
     "text": [
      "1\n",
      "2\n",
      "3\n",
      "4\n"
     ]
    }
   ],
   "source": [
    "a = 1\n",
    "while a < 5:\n",
    "    print( a )    \n",
    "    a += 1"
   ]
  },
  {
   "cell_type": "markdown",
   "metadata": {},
   "source": [
    "### Шаг 4. Аналогичный цикл для дат\n",
    "\n",
    "Напишем точно такой же цикл, только заменим a на current_day, а число 5 на 7 января:"
   ]
  },
  {
   "cell_type": "code",
   "execution_count": 7,
   "metadata": {},
   "outputs": [
    {
     "name": "stdout",
     "output_type": "stream",
     "text": [
      "2017-01-01 00:00:00\n",
      "2017-01-02 00:00:00\n",
      "2017-01-03 00:00:00\n",
      "2017-01-04 00:00:00\n",
      "2017-01-05 00:00:00\n",
      "2017-01-06 00:00:00\n",
      "2017-01-07 00:00:00\n"
     ]
    }
   ],
   "source": [
    "current_day = startDate_datetime\n",
    "while current_day <= endDate_datetime:\n",
    "    print( current_day )    \n",
    "    current_day += timedelta( days = 1 )"
   ]
  },
  {
   "cell_type": "markdown",
   "metadata": {},
   "source": [
    "### Шаг 5. Финальный код\n",
    "\n",
    "Для удобства вывода заменим вывод current_day на более наглядный строковый эквивалент в формате даты:"
   ]
  },
  {
   "cell_type": "code",
   "execution_count": 8,
   "metadata": {},
   "outputs": [
    {
     "name": "stdout",
     "output_type": "stream",
     "text": [
      "2017-01-01\n",
      "2017-01-02\n",
      "2017-01-03\n",
      "2017-01-04\n",
      "2017-01-05\n",
      "2017-01-06\n",
      "2017-01-07\n"
     ]
    }
   ],
   "source": [
    "current_day = startDate_datetime\n",
    "while current_day <= endDate_datetime:\n",
    "    print( current_day.strftime( '%Y-%m-%d' ) )\n",
    "    current_day += timedelta( days = 1 )"
   ]
  },
  {
   "cell_type": "markdown",
   "metadata": {},
   "source": [
    "### Упражнение\n",
    "\n",
    "Напишите алгоритм, который «пробегает» период 1 до 3 января включительно по часам. Формат вывода '%Y-%m-%d %H:%M:%S'.\n",
    "\n",
    "Какое значение будет последним для 2 января (т. е. 23 часа 2 января)? Результат должен иметь формат %Y-%m-%d %H:%M:%S"
   ]
  },
  {
   "cell_type": "code",
   "execution_count": 15,
   "metadata": {},
   "outputs": [
    {
     "name": "stdout",
     "output_type": "stream",
     "text": [
      "2017-01-01 00:00:00\n"
     ]
    }
   ],
   "source": [
    "startDate = '2017-01-01 00:00:00'\n",
    "startDate_datetime = datetime.strptime( startDate, '%Y-%m-%d %H:%M:%S' )\n",
    "print( startDate_datetime.strftime( '%Y-%m-%d %H:%M:%S' ) )"
   ]
  },
  {
   "cell_type": "code",
   "execution_count": 18,
   "metadata": {},
   "outputs": [
    {
     "name": "stdout",
     "output_type": "stream",
     "text": [
      "2017-01-03 23:59:59\n"
     ]
    }
   ],
   "source": [
    "endDate = '2017-01-03 23:59:59'\n",
    "endDate_datetime = datetime.strptime( endDate, '%Y-%m-%d %H:%M:%S' )\n",
    "print( endDate_datetime.strftime( '%Y-%m-%d %H:%M:%S' ) )"
   ]
  },
  {
   "cell_type": "code",
   "execution_count": 21,
   "metadata": {},
   "outputs": [
    {
     "name": "stdout",
     "output_type": "stream",
     "text": [
      "2017-01-01 00:00:00\n",
      "2017-01-01 01:00:00\n",
      "2017-01-01 02:00:00\n",
      "2017-01-01 03:00:00\n",
      "2017-01-01 04:00:00\n",
      "2017-01-01 05:00:00\n",
      "2017-01-01 06:00:00\n",
      "2017-01-01 07:00:00\n",
      "2017-01-01 08:00:00\n",
      "2017-01-01 09:00:00\n",
      "2017-01-01 10:00:00\n",
      "2017-01-01 11:00:00\n",
      "2017-01-01 12:00:00\n",
      "2017-01-01 13:00:00\n",
      "2017-01-01 14:00:00\n",
      "2017-01-01 15:00:00\n",
      "2017-01-01 16:00:00\n",
      "2017-01-01 17:00:00\n",
      "2017-01-01 18:00:00\n",
      "2017-01-01 19:00:00\n",
      "2017-01-01 20:00:00\n",
      "2017-01-01 21:00:00\n",
      "2017-01-01 22:00:00\n",
      "2017-01-01 23:00:00\n",
      "2017-01-02 00:00:00\n",
      "2017-01-02 01:00:00\n",
      "2017-01-02 02:00:00\n",
      "2017-01-02 03:00:00\n",
      "2017-01-02 04:00:00\n",
      "2017-01-02 05:00:00\n",
      "2017-01-02 06:00:00\n",
      "2017-01-02 07:00:00\n",
      "2017-01-02 08:00:00\n",
      "2017-01-02 09:00:00\n",
      "2017-01-02 10:00:00\n",
      "2017-01-02 11:00:00\n",
      "2017-01-02 12:00:00\n",
      "2017-01-02 13:00:00\n",
      "2017-01-02 14:00:00\n",
      "2017-01-02 15:00:00\n",
      "2017-01-02 16:00:00\n",
      "2017-01-02 17:00:00\n",
      "2017-01-02 18:00:00\n",
      "2017-01-02 19:00:00\n",
      "2017-01-02 20:00:00\n",
      "2017-01-02 21:00:00\n",
      "2017-01-02 22:00:00\n",
      "2017-01-02 23:00:00\n",
      "2017-01-03 00:00:00\n",
      "2017-01-03 01:00:00\n",
      "2017-01-03 02:00:00\n",
      "2017-01-03 03:00:00\n",
      "2017-01-03 04:00:00\n",
      "2017-01-03 05:00:00\n",
      "2017-01-03 06:00:00\n",
      "2017-01-03 07:00:00\n",
      "2017-01-03 08:00:00\n",
      "2017-01-03 09:00:00\n",
      "2017-01-03 10:00:00\n",
      "2017-01-03 11:00:00\n",
      "2017-01-03 12:00:00\n",
      "2017-01-03 13:00:00\n",
      "2017-01-03 14:00:00\n",
      "2017-01-03 15:00:00\n",
      "2017-01-03 16:00:00\n",
      "2017-01-03 17:00:00\n",
      "2017-01-03 18:00:00\n",
      "2017-01-03 19:00:00\n",
      "2017-01-03 20:00:00\n",
      "2017-01-03 21:00:00\n",
      "2017-01-03 22:00:00\n",
      "2017-01-03 23:00:00\n"
     ]
    }
   ],
   "source": [
    "current_day = startDate_datetime\n",
    "while current_day <= endDate_datetime:\n",
    "    print( current_day.strftime( '%Y-%m-%d %H:%M:%S' ) )\n",
    "    current_day += timedelta( hours = 1 )"
   ]
  },
  {
   "cell_type": "markdown",
   "metadata": {},
   "source": [
    "### Шаг 6. Функция для работы\n",
    "\n",
    "Чтобы каждый раз не повторять алгоритм перебора дат, мы подготовили для вас функцию, которая сразу формирует список с датами в заданном диапазоне. Вы можете скопировать ее и использовать в работе. Пример работы функции приведен в ее описании: "
   ]
  },
  {
   "cell_type": "code",
   "execution_count": 22,
   "metadata": {},
   "outputs": [],
   "source": [
    "def date_range(start_date, end_date):\n",
    "    \"\"\"\n",
    "    Возвращает список дат между start_date и end_date с шагом в день.\n",
    "    Если start_date > end_date, то возвращает пустой список. \n",
    "    Пример\n",
    "    date_range('2018-01-01', '2018-01-07')\n",
    "    [\n",
    "        '2018-01-01',\n",
    "        '2018-01-02',\n",
    "        '2018-01-03',\n",
    "        '2018-01-04',\n",
    "        '2018-01-05',\n",
    "        '2018-01-06',\n",
    "        '2018-01-07'\n",
    "    ]\n",
    "    \"\"\" \n",
    "    date_range_list = []\n",
    "    current_date = start_date  \n",
    "    current_date_dt = datetime.strptime(start_date, '%Y-%m-%d')\n",
    "    end_date_dt = datetime.strptime(end_date, '%Y-%m-%d')   \n",
    "    while current_date_dt <= end_date_dt:\n",
    "        date_range_list.append(current_date)        \n",
    "        current_date_dt += timedelta(days=1)\n",
    "        current_date = current_date_dt.strftime('%Y-%m-%d')    \n",
    "    return date_range_list"
   ]
  },
  {
   "cell_type": "markdown",
   "metadata": {},
   "source": [
    "# Блок 5. Расчет lifetime > Шаг 1. Постановка задачи\n",
    "\n",
    "Нам необходимо для пользователей из датасета data.tsv посчитать метрику lifetime, т. е. среднее время жизни (с точки зрения покупок, конечно). Т. е. если пользователь сделал 2 и более заказа, то для него необходимо посчитать разницу во времени между первой и последней покупкой и, соответственно, усреднить это значения для всех пользователей.\n",
    "\n",
    "Основной проблемой будет то, что время покупки у нас задано в виде строки. Соответственно, необходимо перевести эту дату в числа и считать разницу между первой и последней покупкой."
   ]
  },
  {
   "cell_type": "markdown",
   "metadata": {},
   "source": [
    "### Шаг 2. Переводим строки в даты\n",
    "\n",
    "Итак, посмотрим, как выглядят наши данные:"
   ]
  },
  {
   "cell_type": "code",
   "execution_count": 23,
   "metadata": {},
   "outputs": [
    {
     "data": {
      "text/html": [
       "<div>\n",
       "<style scoped>\n",
       "    .dataframe tbody tr th:only-of-type {\n",
       "        vertical-align: middle;\n",
       "    }\n",
       "\n",
       "    .dataframe tbody tr th {\n",
       "        vertical-align: top;\n",
       "    }\n",
       "\n",
       "    .dataframe thead th {\n",
       "        text-align: right;\n",
       "    }\n",
       "</style>\n",
       "<table border=\"1\" class=\"dataframe\">\n",
       "  <thead>\n",
       "    <tr style=\"text-align: right;\">\n",
       "      <th></th>\n",
       "      <th>id</th>\n",
       "      <th>date</th>\n",
       "      <th>user_id</th>\n",
       "      <th>duration</th>\n",
       "      <th>medium</th>\n",
       "      <th>source</th>\n",
       "      <th>cost</th>\n",
       "      <th>order_id</th>\n",
       "      <th>amount_paid</th>\n",
       "    </tr>\n",
       "  </thead>\n",
       "  <tbody>\n",
       "    <tr>\n",
       "      <th>0</th>\n",
       "      <td>40443</td>\n",
       "      <td>05.10.2016 23:18</td>\n",
       "      <td>1010</td>\n",
       "      <td>0.000926</td>\n",
       "      <td>seo</td>\n",
       "      <td>google</td>\n",
       "      <td>0.00</td>\n",
       "      <td>6243</td>\n",
       "      <td>20.2</td>\n",
       "    </tr>\n",
       "    <tr>\n",
       "      <th>1</th>\n",
       "      <td>35044</td>\n",
       "      <td>09.10.2016 21:40</td>\n",
       "      <td>1036</td>\n",
       "      <td>0.006493</td>\n",
       "      <td>sem</td>\n",
       "      <td>yandex</td>\n",
       "      <td>0.07</td>\n",
       "      <td>6145</td>\n",
       "      <td>15.6</td>\n",
       "    </tr>\n",
       "    <tr>\n",
       "      <th>2</th>\n",
       "      <td>40177</td>\n",
       "      <td>05.10.2016 3:23</td>\n",
       "      <td>1041</td>\n",
       "      <td>0.003380</td>\n",
       "      <td>email</td>\n",
       "      <td>promo</td>\n",
       "      <td>0.00</td>\n",
       "      <td>6128</td>\n",
       "      <td>13.2</td>\n",
       "    </tr>\n",
       "    <tr>\n",
       "      <th>3</th>\n",
       "      <td>39401</td>\n",
       "      <td>05.10.2016 23:19</td>\n",
       "      <td>1041</td>\n",
       "      <td>0.000463</td>\n",
       "      <td>sem</td>\n",
       "      <td>yandex</td>\n",
       "      <td>0.03</td>\n",
       "      <td>6697</td>\n",
       "      <td>9.8</td>\n",
       "    </tr>\n",
       "    <tr>\n",
       "      <th>4</th>\n",
       "      <td>41545</td>\n",
       "      <td>01.10.2016 4:57</td>\n",
       "      <td>1042</td>\n",
       "      <td>0.006493</td>\n",
       "      <td>sem</td>\n",
       "      <td>google</td>\n",
       "      <td>0.06</td>\n",
       "      <td>4510</td>\n",
       "      <td>14.8</td>\n",
       "    </tr>\n",
       "  </tbody>\n",
       "</table>\n",
       "</div>"
      ],
      "text/plain": [
       "      id              date  user_id  duration medium  source  cost  order_id  \\\n",
       "0  40443  05.10.2016 23:18     1010  0.000926    seo  google  0.00      6243   \n",
       "1  35044  09.10.2016 21:40     1036  0.006493    sem  yandex  0.07      6145   \n",
       "2  40177   05.10.2016 3:23     1041  0.003380  email   promo  0.00      6128   \n",
       "3  39401  05.10.2016 23:19     1041  0.000463    sem  yandex  0.03      6697   \n",
       "4  41545   01.10.2016 4:57     1042  0.006493    sem  google  0.06      4510   \n",
       "\n",
       "   amount_paid  \n",
       "0         20.2  \n",
       "1         15.6  \n",
       "2         13.2  \n",
       "3          9.8  \n",
       "4         14.8  "
      ]
     },
     "execution_count": 23,
     "metadata": {},
     "output_type": "execute_result"
    }
   ],
   "source": [
    "import pandas as pd\n",
    "data = pd.read_csv('data.tsv', sep='\\t')\n",
    "data.head()"
   ]
  },
  {
   "cell_type": "code",
   "execution_count": 24,
   "metadata": {},
   "outputs": [],
   "source": [
    "# Переведем столбец date в тип datetime с помощью функции:\n",
    "\n",
    "def convert_to_datetime(row):\n",
    "    return datetime.strptime(row['date'], '%d.%m.%Y %H:%M')"
   ]
  },
  {
   "cell_type": "code",
   "execution_count": 32,
   "metadata": {},
   "outputs": [
    {
     "data": {
      "text/html": [
       "<div>\n",
       "<style scoped>\n",
       "    .dataframe tbody tr th:only-of-type {\n",
       "        vertical-align: middle;\n",
       "    }\n",
       "\n",
       "    .dataframe tbody tr th {\n",
       "        vertical-align: top;\n",
       "    }\n",
       "\n",
       "    .dataframe thead th {\n",
       "        text-align: right;\n",
       "    }\n",
       "</style>\n",
       "<table border=\"1\" class=\"dataframe\">\n",
       "  <thead>\n",
       "    <tr style=\"text-align: right;\">\n",
       "      <th></th>\n",
       "      <th>id</th>\n",
       "      <th>date</th>\n",
       "      <th>user_id</th>\n",
       "      <th>duration</th>\n",
       "      <th>medium</th>\n",
       "      <th>source</th>\n",
       "      <th>cost</th>\n",
       "      <th>order_id</th>\n",
       "      <th>amount_paid</th>\n",
       "      <th>datetime</th>\n",
       "    </tr>\n",
       "  </thead>\n",
       "  <tbody>\n",
       "    <tr>\n",
       "      <th>0</th>\n",
       "      <td>40443</td>\n",
       "      <td>05.10.2016 23:18</td>\n",
       "      <td>1010</td>\n",
       "      <td>0.000926</td>\n",
       "      <td>seo</td>\n",
       "      <td>google</td>\n",
       "      <td>0.00</td>\n",
       "      <td>6243</td>\n",
       "      <td>20.2</td>\n",
       "      <td>2016-10-05 23:18:00</td>\n",
       "    </tr>\n",
       "    <tr>\n",
       "      <th>1</th>\n",
       "      <td>35044</td>\n",
       "      <td>09.10.2016 21:40</td>\n",
       "      <td>1036</td>\n",
       "      <td>0.006493</td>\n",
       "      <td>sem</td>\n",
       "      <td>yandex</td>\n",
       "      <td>0.07</td>\n",
       "      <td>6145</td>\n",
       "      <td>15.6</td>\n",
       "      <td>2016-10-09 21:40:00</td>\n",
       "    </tr>\n",
       "    <tr>\n",
       "      <th>2</th>\n",
       "      <td>40177</td>\n",
       "      <td>05.10.2016 3:23</td>\n",
       "      <td>1041</td>\n",
       "      <td>0.003380</td>\n",
       "      <td>email</td>\n",
       "      <td>promo</td>\n",
       "      <td>0.00</td>\n",
       "      <td>6128</td>\n",
       "      <td>13.2</td>\n",
       "      <td>2016-10-05 03:23:00</td>\n",
       "    </tr>\n",
       "    <tr>\n",
       "      <th>3</th>\n",
       "      <td>39401</td>\n",
       "      <td>05.10.2016 23:19</td>\n",
       "      <td>1041</td>\n",
       "      <td>0.000463</td>\n",
       "      <td>sem</td>\n",
       "      <td>yandex</td>\n",
       "      <td>0.03</td>\n",
       "      <td>6697</td>\n",
       "      <td>9.8</td>\n",
       "      <td>2016-10-05 23:19:00</td>\n",
       "    </tr>\n",
       "    <tr>\n",
       "      <th>4</th>\n",
       "      <td>41545</td>\n",
       "      <td>01.10.2016 4:57</td>\n",
       "      <td>1042</td>\n",
       "      <td>0.006493</td>\n",
       "      <td>sem</td>\n",
       "      <td>google</td>\n",
       "      <td>0.06</td>\n",
       "      <td>4510</td>\n",
       "      <td>14.8</td>\n",
       "      <td>2016-10-01 04:57:00</td>\n",
       "    </tr>\n",
       "  </tbody>\n",
       "</table>\n",
       "</div>"
      ],
      "text/plain": [
       "      id              date  user_id  duration medium  source  cost  order_id  \\\n",
       "0  40443  05.10.2016 23:18     1010  0.000926    seo  google  0.00      6243   \n",
       "1  35044  09.10.2016 21:40     1036  0.006493    sem  yandex  0.07      6145   \n",
       "2  40177   05.10.2016 3:23     1041  0.003380  email   promo  0.00      6128   \n",
       "3  39401  05.10.2016 23:19     1041  0.000463    sem  yandex  0.03      6697   \n",
       "4  41545   01.10.2016 4:57     1042  0.006493    sem  google  0.06      4510   \n",
       "\n",
       "   amount_paid            datetime  \n",
       "0         20.2 2016-10-05 23:18:00  \n",
       "1         15.6 2016-10-09 21:40:00  \n",
       "2         13.2 2016-10-05 03:23:00  \n",
       "3          9.8 2016-10-05 23:19:00  \n",
       "4         14.8 2016-10-01 04:57:00  "
      ]
     },
     "execution_count": 32,
     "metadata": {},
     "output_type": "execute_result"
    }
   ],
   "source": [
    "# Проверяем результат:\n",
    "\n",
    "data['datetime'] = data.apply(convert_to_datetime, axis=1)\n",
    "data.head()"
   ]
  },
  {
   "cell_type": "markdown",
   "metadata": {},
   "source": [
    "###  Шаг 3. Формат unixtime\n",
    "\n",
    "Для подсчета разницы в датах есть много методов. Одним из самых простых является перевод времени в формат unixtime. Он означает количество секунд, прошедшее с 1 января 1970 года. Этот формат очень популярен и используется во многих системах. Попробуем использовать его для нашей задачи.\n",
    "\n",
    "Для перевод столбца datetime в unix-формат даты используем библиотеку time и следующую функцию:"
   ]
  },
  {
   "cell_type": "code",
   "execution_count": 33,
   "metadata": {},
   "outputs": [],
   "source": [
    "import time\n",
    "def make_unix_time(row):\n",
    "    return time.mktime(row['datetime'].timetuple())"
   ]
  },
  {
   "cell_type": "code",
   "execution_count": 34,
   "metadata": {},
   "outputs": [
    {
     "data": {
      "text/html": [
       "<div>\n",
       "<style scoped>\n",
       "    .dataframe tbody tr th:only-of-type {\n",
       "        vertical-align: middle;\n",
       "    }\n",
       "\n",
       "    .dataframe tbody tr th {\n",
       "        vertical-align: top;\n",
       "    }\n",
       "\n",
       "    .dataframe thead th {\n",
       "        text-align: right;\n",
       "    }\n",
       "</style>\n",
       "<table border=\"1\" class=\"dataframe\">\n",
       "  <thead>\n",
       "    <tr style=\"text-align: right;\">\n",
       "      <th></th>\n",
       "      <th>id</th>\n",
       "      <th>date</th>\n",
       "      <th>user_id</th>\n",
       "      <th>duration</th>\n",
       "      <th>medium</th>\n",
       "      <th>source</th>\n",
       "      <th>cost</th>\n",
       "      <th>order_id</th>\n",
       "      <th>amount_paid</th>\n",
       "      <th>datetime</th>\n",
       "      <th>unixtime</th>\n",
       "    </tr>\n",
       "  </thead>\n",
       "  <tbody>\n",
       "    <tr>\n",
       "      <th>0</th>\n",
       "      <td>40443</td>\n",
       "      <td>05.10.2016 23:18</td>\n",
       "      <td>1010</td>\n",
       "      <td>0.000926</td>\n",
       "      <td>seo</td>\n",
       "      <td>google</td>\n",
       "      <td>0.00</td>\n",
       "      <td>6243</td>\n",
       "      <td>20.2</td>\n",
       "      <td>2016-10-05 23:18:00</td>\n",
       "      <td>1.475699e+09</td>\n",
       "    </tr>\n",
       "    <tr>\n",
       "      <th>1</th>\n",
       "      <td>35044</td>\n",
       "      <td>09.10.2016 21:40</td>\n",
       "      <td>1036</td>\n",
       "      <td>0.006493</td>\n",
       "      <td>sem</td>\n",
       "      <td>yandex</td>\n",
       "      <td>0.07</td>\n",
       "      <td>6145</td>\n",
       "      <td>15.6</td>\n",
       "      <td>2016-10-09 21:40:00</td>\n",
       "      <td>1.476038e+09</td>\n",
       "    </tr>\n",
       "    <tr>\n",
       "      <th>2</th>\n",
       "      <td>40177</td>\n",
       "      <td>05.10.2016 3:23</td>\n",
       "      <td>1041</td>\n",
       "      <td>0.003380</td>\n",
       "      <td>email</td>\n",
       "      <td>promo</td>\n",
       "      <td>0.00</td>\n",
       "      <td>6128</td>\n",
       "      <td>13.2</td>\n",
       "      <td>2016-10-05 03:23:00</td>\n",
       "      <td>1.475627e+09</td>\n",
       "    </tr>\n",
       "    <tr>\n",
       "      <th>3</th>\n",
       "      <td>39401</td>\n",
       "      <td>05.10.2016 23:19</td>\n",
       "      <td>1041</td>\n",
       "      <td>0.000463</td>\n",
       "      <td>sem</td>\n",
       "      <td>yandex</td>\n",
       "      <td>0.03</td>\n",
       "      <td>6697</td>\n",
       "      <td>9.8</td>\n",
       "      <td>2016-10-05 23:19:00</td>\n",
       "      <td>1.475699e+09</td>\n",
       "    </tr>\n",
       "    <tr>\n",
       "      <th>4</th>\n",
       "      <td>41545</td>\n",
       "      <td>01.10.2016 4:57</td>\n",
       "      <td>1042</td>\n",
       "      <td>0.006493</td>\n",
       "      <td>sem</td>\n",
       "      <td>google</td>\n",
       "      <td>0.06</td>\n",
       "      <td>4510</td>\n",
       "      <td>14.8</td>\n",
       "      <td>2016-10-01 04:57:00</td>\n",
       "      <td>1.475287e+09</td>\n",
       "    </tr>\n",
       "  </tbody>\n",
       "</table>\n",
       "</div>"
      ],
      "text/plain": [
       "      id              date  user_id  duration medium  source  cost  order_id  \\\n",
       "0  40443  05.10.2016 23:18     1010  0.000926    seo  google  0.00      6243   \n",
       "1  35044  09.10.2016 21:40     1036  0.006493    sem  yandex  0.07      6145   \n",
       "2  40177   05.10.2016 3:23     1041  0.003380  email   promo  0.00      6128   \n",
       "3  39401  05.10.2016 23:19     1041  0.000463    sem  yandex  0.03      6697   \n",
       "4  41545   01.10.2016 4:57     1042  0.006493    sem  google  0.06      4510   \n",
       "\n",
       "   amount_paid            datetime      unixtime  \n",
       "0         20.2 2016-10-05 23:18:00  1.475699e+09  \n",
       "1         15.6 2016-10-09 21:40:00  1.476038e+09  \n",
       "2         13.2 2016-10-05 03:23:00  1.475627e+09  \n",
       "3          9.8 2016-10-05 23:19:00  1.475699e+09  \n",
       "4         14.8 2016-10-01 04:57:00  1.475287e+09  "
      ]
     },
     "execution_count": 34,
     "metadata": {},
     "output_type": "execute_result"
    }
   ],
   "source": [
    "# Заведем столбец unixtime и посмотрим, что получилось:\n",
    "\n",
    "data['unixtime'] = data.apply(make_unix_time, axis=1)\n",
    "data.head()"
   ]
  },
  {
   "cell_type": "markdown",
   "metadata": {},
   "source": [
    "Дальнейшие действия по расчету lifetime будут составлять домашнее задание."
   ]
  },
  {
   "cell_type": "markdown",
   "metadata": {},
   "source": [
    "### ДОМАШНЕЕ ЗАДАНИЕ\n",
    "Для завершения подсчета lifetime вам необходимо сделать следующее:\n",
    "\n",
    "1. Сгруппировать датафрейм data по столбцу user_id, посчитав для столбца unixtime максимальное и минимальное значение для каждого пользователя.\n",
    "\n",
    "2. Посчитать столбец diff с разностью максимального и минимального значения столбца unixtime из пункта 1.\n",
    "\n",
    "3. Исключить из расчета пользователей, у которых разница diff равна 0.\n",
    "\n",
    "4. Посчитать среднее значение столбца diff после фильтрации.\n",
    "\n",
    "5. Вы получите ответ в секундах. Пересчитайте его в количество дней.\n",
    "\n",
    "Каково значение lifetime в днях? Результат округлите до первого знака после запятой. Пример формата ответа: 4.1"
   ]
  },
  {
   "cell_type": "code",
   "execution_count": 35,
   "metadata": {},
   "outputs": [
    {
     "data": {
      "text/html": [
       "<div>\n",
       "<style scoped>\n",
       "    .dataframe tbody tr th:only-of-type {\n",
       "        vertical-align: middle;\n",
       "    }\n",
       "\n",
       "    .dataframe tbody tr th {\n",
       "        vertical-align: top;\n",
       "    }\n",
       "\n",
       "    .dataframe thead tr th {\n",
       "        text-align: left;\n",
       "    }\n",
       "\n",
       "    .dataframe thead tr:last-of-type th {\n",
       "        text-align: right;\n",
       "    }\n",
       "</style>\n",
       "<table border=\"1\" class=\"dataframe\">\n",
       "  <thead>\n",
       "    <tr>\n",
       "      <th></th>\n",
       "      <th colspan=\"2\" halign=\"left\">id</th>\n",
       "      <th colspan=\"2\" halign=\"left\">date</th>\n",
       "      <th colspan=\"2\" halign=\"left\">duration</th>\n",
       "      <th colspan=\"2\" halign=\"left\">medium</th>\n",
       "      <th colspan=\"2\" halign=\"left\">source</th>\n",
       "      <th colspan=\"2\" halign=\"left\">cost</th>\n",
       "      <th colspan=\"2\" halign=\"left\">order_id</th>\n",
       "      <th colspan=\"2\" halign=\"left\">amount_paid</th>\n",
       "      <th colspan=\"2\" halign=\"left\">datetime</th>\n",
       "      <th colspan=\"2\" halign=\"left\">unixtime</th>\n",
       "    </tr>\n",
       "    <tr>\n",
       "      <th></th>\n",
       "      <th>min</th>\n",
       "      <th>max</th>\n",
       "      <th>min</th>\n",
       "      <th>max</th>\n",
       "      <th>min</th>\n",
       "      <th>max</th>\n",
       "      <th>min</th>\n",
       "      <th>max</th>\n",
       "      <th>min</th>\n",
       "      <th>max</th>\n",
       "      <th>min</th>\n",
       "      <th>max</th>\n",
       "      <th>min</th>\n",
       "      <th>max</th>\n",
       "      <th>min</th>\n",
       "      <th>max</th>\n",
       "      <th>min</th>\n",
       "      <th>max</th>\n",
       "      <th>min</th>\n",
       "      <th>max</th>\n",
       "    </tr>\n",
       "    <tr>\n",
       "      <th>user_id</th>\n",
       "      <th></th>\n",
       "      <th></th>\n",
       "      <th></th>\n",
       "      <th></th>\n",
       "      <th></th>\n",
       "      <th></th>\n",
       "      <th></th>\n",
       "      <th></th>\n",
       "      <th></th>\n",
       "      <th></th>\n",
       "      <th></th>\n",
       "      <th></th>\n",
       "      <th></th>\n",
       "      <th></th>\n",
       "      <th></th>\n",
       "      <th></th>\n",
       "      <th></th>\n",
       "      <th></th>\n",
       "      <th></th>\n",
       "      <th></th>\n",
       "    </tr>\n",
       "  </thead>\n",
       "  <tbody>\n",
       "    <tr>\n",
       "      <th>1010</th>\n",
       "      <td>40443</td>\n",
       "      <td>40443</td>\n",
       "      <td>05.10.2016 23:18</td>\n",
       "      <td>05.10.2016 23:18</td>\n",
       "      <td>0.000926</td>\n",
       "      <td>0.000926</td>\n",
       "      <td>seo</td>\n",
       "      <td>seo</td>\n",
       "      <td>google</td>\n",
       "      <td>google</td>\n",
       "      <td>0.00</td>\n",
       "      <td>0.00</td>\n",
       "      <td>6243</td>\n",
       "      <td>6243</td>\n",
       "      <td>20.2</td>\n",
       "      <td>20.2</td>\n",
       "      <td>2016-10-05 23:18:00</td>\n",
       "      <td>2016-10-05 23:18:00</td>\n",
       "      <td>1.475699e+09</td>\n",
       "      <td>1.475699e+09</td>\n",
       "    </tr>\n",
       "    <tr>\n",
       "      <th>1036</th>\n",
       "      <td>35044</td>\n",
       "      <td>35044</td>\n",
       "      <td>09.10.2016 21:40</td>\n",
       "      <td>09.10.2016 21:40</td>\n",
       "      <td>0.006493</td>\n",
       "      <td>0.006493</td>\n",
       "      <td>sem</td>\n",
       "      <td>sem</td>\n",
       "      <td>yandex</td>\n",
       "      <td>yandex</td>\n",
       "      <td>0.07</td>\n",
       "      <td>0.07</td>\n",
       "      <td>6145</td>\n",
       "      <td>6145</td>\n",
       "      <td>15.6</td>\n",
       "      <td>15.6</td>\n",
       "      <td>2016-10-09 21:40:00</td>\n",
       "      <td>2016-10-09 21:40:00</td>\n",
       "      <td>1.476038e+09</td>\n",
       "      <td>1.476038e+09</td>\n",
       "    </tr>\n",
       "    <tr>\n",
       "      <th>1041</th>\n",
       "      <td>39401</td>\n",
       "      <td>40177</td>\n",
       "      <td>05.10.2016 23:19</td>\n",
       "      <td>05.10.2016 3:23</td>\n",
       "      <td>0.000463</td>\n",
       "      <td>0.003380</td>\n",
       "      <td>email</td>\n",
       "      <td>sem</td>\n",
       "      <td>promo</td>\n",
       "      <td>yandex</td>\n",
       "      <td>0.00</td>\n",
       "      <td>0.03</td>\n",
       "      <td>6128</td>\n",
       "      <td>6697</td>\n",
       "      <td>9.8</td>\n",
       "      <td>13.2</td>\n",
       "      <td>2016-10-05 03:23:00</td>\n",
       "      <td>2016-10-05 23:19:00</td>\n",
       "      <td>1.475627e+09</td>\n",
       "      <td>1.475699e+09</td>\n",
       "    </tr>\n",
       "    <tr>\n",
       "      <th>1042</th>\n",
       "      <td>35921</td>\n",
       "      <td>42099</td>\n",
       "      <td>01.10.2016 23:29</td>\n",
       "      <td>08.10.2016 16:46</td>\n",
       "      <td>0.000463</td>\n",
       "      <td>0.006493</td>\n",
       "      <td>brand</td>\n",
       "      <td>seo</td>\n",
       "      <td>burgerclub</td>\n",
       "      <td>yandex</td>\n",
       "      <td>0.00</td>\n",
       "      <td>0.88</td>\n",
       "      <td>2582</td>\n",
       "      <td>4510</td>\n",
       "      <td>8.6</td>\n",
       "      <td>24.4</td>\n",
       "      <td>2016-10-01 04:57:00</td>\n",
       "      <td>2016-10-08 16:46:00</td>\n",
       "      <td>1.475287e+09</td>\n",
       "      <td>1.475934e+09</td>\n",
       "    </tr>\n",
       "    <tr>\n",
       "      <th>1047</th>\n",
       "      <td>35331</td>\n",
       "      <td>40842</td>\n",
       "      <td>01.10.2016 13:39</td>\n",
       "      <td>05.10.2016 21:41</td>\n",
       "      <td>0.001644</td>\n",
       "      <td>0.001921</td>\n",
       "      <td>cpa-partners</td>\n",
       "      <td>seo</td>\n",
       "      <td>food-delivery</td>\n",
       "      <td>yandex</td>\n",
       "      <td>0.00</td>\n",
       "      <td>1.86</td>\n",
       "      <td>3802</td>\n",
       "      <td>4182</td>\n",
       "      <td>12.4</td>\n",
       "      <td>16.2</td>\n",
       "      <td>2016-10-01 13:39:00</td>\n",
       "      <td>2016-10-05 21:41:00</td>\n",
       "      <td>1.475318e+09</td>\n",
       "      <td>1.475693e+09</td>\n",
       "    </tr>\n",
       "  </tbody>\n",
       "</table>\n",
       "</div>"
      ],
      "text/plain": [
       "            id                     date                    duration            \\\n",
       "           min    max               min               max       min       max   \n",
       "user_id                                                                         \n",
       "1010     40443  40443  05.10.2016 23:18  05.10.2016 23:18  0.000926  0.000926   \n",
       "1036     35044  35044  09.10.2016 21:40  09.10.2016 21:40  0.006493  0.006493   \n",
       "1041     39401  40177  05.10.2016 23:19   05.10.2016 3:23  0.000463  0.003380   \n",
       "1042     35921  42099  01.10.2016 23:29  08.10.2016 16:46  0.000463  0.006493   \n",
       "1047     35331  40842  01.10.2016 13:39  05.10.2016 21:41  0.001644  0.001921   \n",
       "\n",
       "               medium              source          cost       order_id        \\\n",
       "                  min  max            min     max   min   max      min   max   \n",
       "user_id                                                                        \n",
       "1010              seo  seo         google  google  0.00  0.00     6243  6243   \n",
       "1036              sem  sem         yandex  yandex  0.07  0.07     6145  6145   \n",
       "1041            email  sem          promo  yandex  0.00  0.03     6128  6697   \n",
       "1042            brand  seo     burgerclub  yandex  0.00  0.88     2582  4510   \n",
       "1047     cpa-partners  seo  food-delivery  yandex  0.00  1.86     3802  4182   \n",
       "\n",
       "        amount_paid                  datetime                      \\\n",
       "                min   max                 min                 max   \n",
       "user_id                                                             \n",
       "1010           20.2  20.2 2016-10-05 23:18:00 2016-10-05 23:18:00   \n",
       "1036           15.6  15.6 2016-10-09 21:40:00 2016-10-09 21:40:00   \n",
       "1041            9.8  13.2 2016-10-05 03:23:00 2016-10-05 23:19:00   \n",
       "1042            8.6  24.4 2016-10-01 04:57:00 2016-10-08 16:46:00   \n",
       "1047           12.4  16.2 2016-10-01 13:39:00 2016-10-05 21:41:00   \n",
       "\n",
       "             unixtime                \n",
       "                  min           max  \n",
       "user_id                              \n",
       "1010     1.475699e+09  1.475699e+09  \n",
       "1036     1.476038e+09  1.476038e+09  \n",
       "1041     1.475627e+09  1.475699e+09  \n",
       "1042     1.475287e+09  1.475934e+09  \n",
       "1047     1.475318e+09  1.475693e+09  "
      ]
     },
     "execution_count": 35,
     "metadata": {},
     "output_type": "execute_result"
    }
   ],
   "source": [
    "min_max_df = data.groupby('user_id').agg(['min', 'max'])\n",
    "min_max_df.head()"
   ]
  },
  {
   "cell_type": "code",
   "execution_count": 36,
   "metadata": {},
   "outputs": [
    {
     "data": {
      "text/html": [
       "<div>\n",
       "<style scoped>\n",
       "    .dataframe tbody tr th:only-of-type {\n",
       "        vertical-align: middle;\n",
       "    }\n",
       "\n",
       "    .dataframe tbody tr th {\n",
       "        vertical-align: top;\n",
       "    }\n",
       "\n",
       "    .dataframe thead tr th {\n",
       "        text-align: left;\n",
       "    }\n",
       "\n",
       "    .dataframe thead tr:last-of-type th {\n",
       "        text-align: right;\n",
       "    }\n",
       "</style>\n",
       "<table border=\"1\" class=\"dataframe\">\n",
       "  <thead>\n",
       "    <tr>\n",
       "      <th></th>\n",
       "      <th colspan=\"2\" halign=\"left\">id</th>\n",
       "      <th colspan=\"2\" halign=\"left\">date</th>\n",
       "      <th colspan=\"2\" halign=\"left\">duration</th>\n",
       "      <th colspan=\"2\" halign=\"left\">medium</th>\n",
       "      <th colspan=\"2\" halign=\"left\">source</th>\n",
       "      <th>...</th>\n",
       "      <th>cost</th>\n",
       "      <th colspan=\"2\" halign=\"left\">order_id</th>\n",
       "      <th colspan=\"2\" halign=\"left\">amount_paid</th>\n",
       "      <th colspan=\"2\" halign=\"left\">datetime</th>\n",
       "      <th colspan=\"2\" halign=\"left\">unixtime</th>\n",
       "      <th>diff</th>\n",
       "    </tr>\n",
       "    <tr>\n",
       "      <th></th>\n",
       "      <th>min</th>\n",
       "      <th>max</th>\n",
       "      <th>min</th>\n",
       "      <th>max</th>\n",
       "      <th>min</th>\n",
       "      <th>max</th>\n",
       "      <th>min</th>\n",
       "      <th>max</th>\n",
       "      <th>min</th>\n",
       "      <th>max</th>\n",
       "      <th>...</th>\n",
       "      <th>max</th>\n",
       "      <th>min</th>\n",
       "      <th>max</th>\n",
       "      <th>min</th>\n",
       "      <th>max</th>\n",
       "      <th>min</th>\n",
       "      <th>max</th>\n",
       "      <th>min</th>\n",
       "      <th>max</th>\n",
       "      <th></th>\n",
       "    </tr>\n",
       "    <tr>\n",
       "      <th>user_id</th>\n",
       "      <th></th>\n",
       "      <th></th>\n",
       "      <th></th>\n",
       "      <th></th>\n",
       "      <th></th>\n",
       "      <th></th>\n",
       "      <th></th>\n",
       "      <th></th>\n",
       "      <th></th>\n",
       "      <th></th>\n",
       "      <th></th>\n",
       "      <th></th>\n",
       "      <th></th>\n",
       "      <th></th>\n",
       "      <th></th>\n",
       "      <th></th>\n",
       "      <th></th>\n",
       "      <th></th>\n",
       "      <th></th>\n",
       "      <th></th>\n",
       "      <th></th>\n",
       "    </tr>\n",
       "  </thead>\n",
       "  <tbody>\n",
       "    <tr>\n",
       "      <th>1010</th>\n",
       "      <td>40443</td>\n",
       "      <td>40443</td>\n",
       "      <td>05.10.2016 23:18</td>\n",
       "      <td>05.10.2016 23:18</td>\n",
       "      <td>0.000926</td>\n",
       "      <td>0.000926</td>\n",
       "      <td>seo</td>\n",
       "      <td>seo</td>\n",
       "      <td>google</td>\n",
       "      <td>google</td>\n",
       "      <td>...</td>\n",
       "      <td>0.00</td>\n",
       "      <td>6243</td>\n",
       "      <td>6243</td>\n",
       "      <td>20.2</td>\n",
       "      <td>20.2</td>\n",
       "      <td>2016-10-05 23:18:00</td>\n",
       "      <td>2016-10-05 23:18:00</td>\n",
       "      <td>1.475699e+09</td>\n",
       "      <td>1.475699e+09</td>\n",
       "      <td>0.0</td>\n",
       "    </tr>\n",
       "    <tr>\n",
       "      <th>1036</th>\n",
       "      <td>35044</td>\n",
       "      <td>35044</td>\n",
       "      <td>09.10.2016 21:40</td>\n",
       "      <td>09.10.2016 21:40</td>\n",
       "      <td>0.006493</td>\n",
       "      <td>0.006493</td>\n",
       "      <td>sem</td>\n",
       "      <td>sem</td>\n",
       "      <td>yandex</td>\n",
       "      <td>yandex</td>\n",
       "      <td>...</td>\n",
       "      <td>0.07</td>\n",
       "      <td>6145</td>\n",
       "      <td>6145</td>\n",
       "      <td>15.6</td>\n",
       "      <td>15.6</td>\n",
       "      <td>2016-10-09 21:40:00</td>\n",
       "      <td>2016-10-09 21:40:00</td>\n",
       "      <td>1.476038e+09</td>\n",
       "      <td>1.476038e+09</td>\n",
       "      <td>0.0</td>\n",
       "    </tr>\n",
       "    <tr>\n",
       "      <th>1041</th>\n",
       "      <td>39401</td>\n",
       "      <td>40177</td>\n",
       "      <td>05.10.2016 23:19</td>\n",
       "      <td>05.10.2016 3:23</td>\n",
       "      <td>0.000463</td>\n",
       "      <td>0.003380</td>\n",
       "      <td>email</td>\n",
       "      <td>sem</td>\n",
       "      <td>promo</td>\n",
       "      <td>yandex</td>\n",
       "      <td>...</td>\n",
       "      <td>0.03</td>\n",
       "      <td>6128</td>\n",
       "      <td>6697</td>\n",
       "      <td>9.8</td>\n",
       "      <td>13.2</td>\n",
       "      <td>2016-10-05 03:23:00</td>\n",
       "      <td>2016-10-05 23:19:00</td>\n",
       "      <td>1.475627e+09</td>\n",
       "      <td>1.475699e+09</td>\n",
       "      <td>71760.0</td>\n",
       "    </tr>\n",
       "    <tr>\n",
       "      <th>1042</th>\n",
       "      <td>35921</td>\n",
       "      <td>42099</td>\n",
       "      <td>01.10.2016 23:29</td>\n",
       "      <td>08.10.2016 16:46</td>\n",
       "      <td>0.000463</td>\n",
       "      <td>0.006493</td>\n",
       "      <td>brand</td>\n",
       "      <td>seo</td>\n",
       "      <td>burgerclub</td>\n",
       "      <td>yandex</td>\n",
       "      <td>...</td>\n",
       "      <td>0.88</td>\n",
       "      <td>2582</td>\n",
       "      <td>4510</td>\n",
       "      <td>8.6</td>\n",
       "      <td>24.4</td>\n",
       "      <td>2016-10-01 04:57:00</td>\n",
       "      <td>2016-10-08 16:46:00</td>\n",
       "      <td>1.475287e+09</td>\n",
       "      <td>1.475934e+09</td>\n",
       "      <td>647340.0</td>\n",
       "    </tr>\n",
       "    <tr>\n",
       "      <th>1047</th>\n",
       "      <td>35331</td>\n",
       "      <td>40842</td>\n",
       "      <td>01.10.2016 13:39</td>\n",
       "      <td>05.10.2016 21:41</td>\n",
       "      <td>0.001644</td>\n",
       "      <td>0.001921</td>\n",
       "      <td>cpa-partners</td>\n",
       "      <td>seo</td>\n",
       "      <td>food-delivery</td>\n",
       "      <td>yandex</td>\n",
       "      <td>...</td>\n",
       "      <td>1.86</td>\n",
       "      <td>3802</td>\n",
       "      <td>4182</td>\n",
       "      <td>12.4</td>\n",
       "      <td>16.2</td>\n",
       "      <td>2016-10-01 13:39:00</td>\n",
       "      <td>2016-10-05 21:41:00</td>\n",
       "      <td>1.475318e+09</td>\n",
       "      <td>1.475693e+09</td>\n",
       "      <td>374520.0</td>\n",
       "    </tr>\n",
       "  </tbody>\n",
       "</table>\n",
       "<p>5 rows × 21 columns</p>\n",
       "</div>"
      ],
      "text/plain": [
       "            id                     date                    duration            \\\n",
       "           min    max               min               max       min       max   \n",
       "user_id                                                                         \n",
       "1010     40443  40443  05.10.2016 23:18  05.10.2016 23:18  0.000926  0.000926   \n",
       "1036     35044  35044  09.10.2016 21:40  09.10.2016 21:40  0.006493  0.006493   \n",
       "1041     39401  40177  05.10.2016 23:19   05.10.2016 3:23  0.000463  0.003380   \n",
       "1042     35921  42099  01.10.2016 23:29  08.10.2016 16:46  0.000463  0.006493   \n",
       "1047     35331  40842  01.10.2016 13:39  05.10.2016 21:41  0.001644  0.001921   \n",
       "\n",
       "               medium              source            ...     cost order_id  \\\n",
       "                  min  max            min     max    ...      max      min   \n",
       "user_id                                              ...                     \n",
       "1010              seo  seo         google  google    ...     0.00     6243   \n",
       "1036              sem  sem         yandex  yandex    ...     0.07     6145   \n",
       "1041            email  sem          promo  yandex    ...     0.03     6128   \n",
       "1042            brand  seo     burgerclub  yandex    ...     0.88     2582   \n",
       "1047     cpa-partners  seo  food-delivery  yandex    ...     1.86     3802   \n",
       "\n",
       "              amount_paid                  datetime                      \\\n",
       "          max         min   max                 min                 max   \n",
       "user_id                                                                   \n",
       "1010     6243        20.2  20.2 2016-10-05 23:18:00 2016-10-05 23:18:00   \n",
       "1036     6145        15.6  15.6 2016-10-09 21:40:00 2016-10-09 21:40:00   \n",
       "1041     6697         9.8  13.2 2016-10-05 03:23:00 2016-10-05 23:19:00   \n",
       "1042     4510         8.6  24.4 2016-10-01 04:57:00 2016-10-08 16:46:00   \n",
       "1047     4182        12.4  16.2 2016-10-01 13:39:00 2016-10-05 21:41:00   \n",
       "\n",
       "             unixtime                    diff  \n",
       "                  min           max            \n",
       "user_id                                        \n",
       "1010     1.475699e+09  1.475699e+09       0.0  \n",
       "1036     1.476038e+09  1.476038e+09       0.0  \n",
       "1041     1.475627e+09  1.475699e+09   71760.0  \n",
       "1042     1.475287e+09  1.475934e+09  647340.0  \n",
       "1047     1.475318e+09  1.475693e+09  374520.0  \n",
       "\n",
       "[5 rows x 21 columns]"
      ]
     },
     "execution_count": 36,
     "metadata": {},
     "output_type": "execute_result"
    }
   ],
   "source": [
    "# Считаем новый столбец diff\n",
    "min_max_df['diff'] = min_max_df['unixtime']['max'] - min_max_df['unixtime']['min']\n",
    "min_max_df.head()"
   ]
  },
  {
   "cell_type": "code",
   "execution_count": 38,
   "metadata": {},
   "outputs": [
    {
     "data": {
      "text/html": [
       "<div>\n",
       "<style scoped>\n",
       "    .dataframe tbody tr th:only-of-type {\n",
       "        vertical-align: middle;\n",
       "    }\n",
       "\n",
       "    .dataframe tbody tr th {\n",
       "        vertical-align: top;\n",
       "    }\n",
       "\n",
       "    .dataframe thead tr th {\n",
       "        text-align: left;\n",
       "    }\n",
       "\n",
       "    .dataframe thead tr:last-of-type th {\n",
       "        text-align: right;\n",
       "    }\n",
       "</style>\n",
       "<table border=\"1\" class=\"dataframe\">\n",
       "  <thead>\n",
       "    <tr>\n",
       "      <th></th>\n",
       "      <th colspan=\"2\" halign=\"left\">id</th>\n",
       "      <th colspan=\"2\" halign=\"left\">date</th>\n",
       "      <th colspan=\"2\" halign=\"left\">duration</th>\n",
       "      <th colspan=\"2\" halign=\"left\">medium</th>\n",
       "      <th colspan=\"2\" halign=\"left\">source</th>\n",
       "      <th>...</th>\n",
       "      <th>cost</th>\n",
       "      <th colspan=\"2\" halign=\"left\">order_id</th>\n",
       "      <th colspan=\"2\" halign=\"left\">amount_paid</th>\n",
       "      <th colspan=\"2\" halign=\"left\">datetime</th>\n",
       "      <th colspan=\"2\" halign=\"left\">unixtime</th>\n",
       "      <th>diff</th>\n",
       "    </tr>\n",
       "    <tr>\n",
       "      <th></th>\n",
       "      <th>min</th>\n",
       "      <th>max</th>\n",
       "      <th>min</th>\n",
       "      <th>max</th>\n",
       "      <th>min</th>\n",
       "      <th>max</th>\n",
       "      <th>min</th>\n",
       "      <th>max</th>\n",
       "      <th>min</th>\n",
       "      <th>max</th>\n",
       "      <th>...</th>\n",
       "      <th>max</th>\n",
       "      <th>min</th>\n",
       "      <th>max</th>\n",
       "      <th>min</th>\n",
       "      <th>max</th>\n",
       "      <th>min</th>\n",
       "      <th>max</th>\n",
       "      <th>min</th>\n",
       "      <th>max</th>\n",
       "      <th></th>\n",
       "    </tr>\n",
       "    <tr>\n",
       "      <th>user_id</th>\n",
       "      <th></th>\n",
       "      <th></th>\n",
       "      <th></th>\n",
       "      <th></th>\n",
       "      <th></th>\n",
       "      <th></th>\n",
       "      <th></th>\n",
       "      <th></th>\n",
       "      <th></th>\n",
       "      <th></th>\n",
       "      <th></th>\n",
       "      <th></th>\n",
       "      <th></th>\n",
       "      <th></th>\n",
       "      <th></th>\n",
       "      <th></th>\n",
       "      <th></th>\n",
       "      <th></th>\n",
       "      <th></th>\n",
       "      <th></th>\n",
       "      <th></th>\n",
       "    </tr>\n",
       "  </thead>\n",
       "  <tbody>\n",
       "    <tr>\n",
       "      <th>1041</th>\n",
       "      <td>39401</td>\n",
       "      <td>40177</td>\n",
       "      <td>05.10.2016 23:19</td>\n",
       "      <td>05.10.2016 3:23</td>\n",
       "      <td>0.000463</td>\n",
       "      <td>0.003380</td>\n",
       "      <td>email</td>\n",
       "      <td>sem</td>\n",
       "      <td>promo</td>\n",
       "      <td>yandex</td>\n",
       "      <td>...</td>\n",
       "      <td>0.03</td>\n",
       "      <td>6128</td>\n",
       "      <td>6697</td>\n",
       "      <td>9.8</td>\n",
       "      <td>13.2</td>\n",
       "      <td>2016-10-05 03:23:00</td>\n",
       "      <td>2016-10-05 23:19:00</td>\n",
       "      <td>1.475627e+09</td>\n",
       "      <td>1.475699e+09</td>\n",
       "      <td>71760.0</td>\n",
       "    </tr>\n",
       "    <tr>\n",
       "      <th>1042</th>\n",
       "      <td>35921</td>\n",
       "      <td>42099</td>\n",
       "      <td>01.10.2016 23:29</td>\n",
       "      <td>08.10.2016 16:46</td>\n",
       "      <td>0.000463</td>\n",
       "      <td>0.006493</td>\n",
       "      <td>brand</td>\n",
       "      <td>seo</td>\n",
       "      <td>burgerclub</td>\n",
       "      <td>yandex</td>\n",
       "      <td>...</td>\n",
       "      <td>0.88</td>\n",
       "      <td>2582</td>\n",
       "      <td>4510</td>\n",
       "      <td>8.6</td>\n",
       "      <td>24.4</td>\n",
       "      <td>2016-10-01 04:57:00</td>\n",
       "      <td>2016-10-08 16:46:00</td>\n",
       "      <td>1.475287e+09</td>\n",
       "      <td>1.475934e+09</td>\n",
       "      <td>647340.0</td>\n",
       "    </tr>\n",
       "    <tr>\n",
       "      <th>1047</th>\n",
       "      <td>35331</td>\n",
       "      <td>40842</td>\n",
       "      <td>01.10.2016 13:39</td>\n",
       "      <td>05.10.2016 21:41</td>\n",
       "      <td>0.001644</td>\n",
       "      <td>0.001921</td>\n",
       "      <td>cpa-partners</td>\n",
       "      <td>seo</td>\n",
       "      <td>food-delivery</td>\n",
       "      <td>yandex</td>\n",
       "      <td>...</td>\n",
       "      <td>1.86</td>\n",
       "      <td>3802</td>\n",
       "      <td>4182</td>\n",
       "      <td>12.4</td>\n",
       "      <td>16.2</td>\n",
       "      <td>2016-10-01 13:39:00</td>\n",
       "      <td>2016-10-05 21:41:00</td>\n",
       "      <td>1.475318e+09</td>\n",
       "      <td>1.475693e+09</td>\n",
       "      <td>374520.0</td>\n",
       "    </tr>\n",
       "    <tr>\n",
       "      <th>1052</th>\n",
       "      <td>35805</td>\n",
       "      <td>39418</td>\n",
       "      <td>07.10.2016 9:59</td>\n",
       "      <td>08.10.2016 19:36</td>\n",
       "      <td>0.000822</td>\n",
       "      <td>0.001921</td>\n",
       "      <td>email</td>\n",
       "      <td>sem</td>\n",
       "      <td>promo</td>\n",
       "      <td>yandex</td>\n",
       "      <td>...</td>\n",
       "      <td>0.04</td>\n",
       "      <td>3842</td>\n",
       "      <td>4217</td>\n",
       "      <td>18.8</td>\n",
       "      <td>24.0</td>\n",
       "      <td>2016-10-07 09:59:00</td>\n",
       "      <td>2016-10-08 19:36:00</td>\n",
       "      <td>1.475824e+09</td>\n",
       "      <td>1.475945e+09</td>\n",
       "      <td>121020.0</td>\n",
       "    </tr>\n",
       "    <tr>\n",
       "      <th>1057</th>\n",
       "      <td>37794</td>\n",
       "      <td>41669</td>\n",
       "      <td>04.10.2016 11:12</td>\n",
       "      <td>09.10.2016 2:47</td>\n",
       "      <td>0.000822</td>\n",
       "      <td>0.003843</td>\n",
       "      <td>email</td>\n",
       "      <td>sem</td>\n",
       "      <td>google</td>\n",
       "      <td>promo</td>\n",
       "      <td>...</td>\n",
       "      <td>0.19</td>\n",
       "      <td>3870</td>\n",
       "      <td>4324</td>\n",
       "      <td>9.4</td>\n",
       "      <td>11.8</td>\n",
       "      <td>2016-10-04 11:12:00</td>\n",
       "      <td>2016-10-09 02:47:00</td>\n",
       "      <td>1.475569e+09</td>\n",
       "      <td>1.475970e+09</td>\n",
       "      <td>401700.0</td>\n",
       "    </tr>\n",
       "  </tbody>\n",
       "</table>\n",
       "<p>5 rows × 21 columns</p>\n",
       "</div>"
      ],
      "text/plain": [
       "            id                     date                    duration            \\\n",
       "           min    max               min               max       min       max   \n",
       "user_id                                                                         \n",
       "1041     39401  40177  05.10.2016 23:19   05.10.2016 3:23  0.000463  0.003380   \n",
       "1042     35921  42099  01.10.2016 23:29  08.10.2016 16:46  0.000463  0.006493   \n",
       "1047     35331  40842  01.10.2016 13:39  05.10.2016 21:41  0.001644  0.001921   \n",
       "1052     35805  39418   07.10.2016 9:59  08.10.2016 19:36  0.000822  0.001921   \n",
       "1057     37794  41669  04.10.2016 11:12   09.10.2016 2:47  0.000822  0.003843   \n",
       "\n",
       "               medium              source            ...     cost order_id  \\\n",
       "                  min  max            min     max    ...      max      min   \n",
       "user_id                                              ...                     \n",
       "1041            email  sem          promo  yandex    ...     0.03     6128   \n",
       "1042            brand  seo     burgerclub  yandex    ...     0.88     2582   \n",
       "1047     cpa-partners  seo  food-delivery  yandex    ...     1.86     3802   \n",
       "1052            email  sem          promo  yandex    ...     0.04     3842   \n",
       "1057            email  sem         google   promo    ...     0.19     3870   \n",
       "\n",
       "              amount_paid                  datetime                      \\\n",
       "          max         min   max                 min                 max   \n",
       "user_id                                                                   \n",
       "1041     6697         9.8  13.2 2016-10-05 03:23:00 2016-10-05 23:19:00   \n",
       "1042     4510         8.6  24.4 2016-10-01 04:57:00 2016-10-08 16:46:00   \n",
       "1047     4182        12.4  16.2 2016-10-01 13:39:00 2016-10-05 21:41:00   \n",
       "1052     4217        18.8  24.0 2016-10-07 09:59:00 2016-10-08 19:36:00   \n",
       "1057     4324         9.4  11.8 2016-10-04 11:12:00 2016-10-09 02:47:00   \n",
       "\n",
       "             unixtime                    diff  \n",
       "                  min           max            \n",
       "user_id                                        \n",
       "1041     1.475627e+09  1.475699e+09   71760.0  \n",
       "1042     1.475287e+09  1.475934e+09  647340.0  \n",
       "1047     1.475318e+09  1.475693e+09  374520.0  \n",
       "1052     1.475824e+09  1.475945e+09  121020.0  \n",
       "1057     1.475569e+09  1.475970e+09  401700.0  \n",
       "\n",
       "[5 rows x 21 columns]"
      ]
     },
     "execution_count": 38,
     "metadata": {},
     "output_type": "execute_result"
    }
   ],
   "source": [
    "df = min_max_df.loc[min_max_df['diff'] != 0]\n",
    "df.head()"
   ]
  },
  {
   "cell_type": "code",
   "execution_count": 40,
   "metadata": {},
   "outputs": [
    {
     "data": {
      "text/plain": [
       "3.485453869047619"
      ]
     },
     "execution_count": 40,
     "metadata": {},
     "output_type": "execute_result"
    }
   ],
   "source": [
    "# Получаем ответ в секундах - переводим в дни\n",
    "df['diff'].mean() / 3600 / 24"
   ]
  }
 ],
 "metadata": {
  "kernelspec": {
   "display_name": "Python 3",
   "language": "python",
   "name": "python3"
  },
  "language_info": {
   "codemirror_mode": {
    "name": "ipython",
    "version": 3
   },
   "file_extension": ".py",
   "mimetype": "text/x-python",
   "name": "python",
   "nbconvert_exporter": "python",
   "pygments_lexer": "ipython3",
   "version": "3.7.1"
  }
 },
 "nbformat": 4,
 "nbformat_minor": 2
}
