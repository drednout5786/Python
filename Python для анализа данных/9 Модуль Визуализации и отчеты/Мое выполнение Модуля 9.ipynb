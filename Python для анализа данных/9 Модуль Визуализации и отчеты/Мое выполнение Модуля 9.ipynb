{
 "cells": [
  {
   "cell_type": "markdown",
   "metadata": {},
   "source": [
    "# Блок 2. Простые визуализации с Matplotlib > Шаг 1. Постановка задачи\n",
    "\n",
    "ПОСТАНОВКА ЗАДАЧИ\n",
    "Изучение визуализаций мы начнем с одного из самых частых кейсов, с которым сталкиваются аналитики: построим гистограмму распределения значений столбца датафрейма. Т. е., если в столбце встречаются, например, названия кампаний, то необходимо посчитать, сколько раз каждое название встретилось в датафрейме, и нарисовать столбчатую диаграмму.\n",
    "\n",
    "Упражнение\n",
    "\n",
    "Освежим в памяти распределения: как выглядит распределение выпадения орла и решки в эксперименте по подбрасыванию монетки?\n",
    "\n",
    " комбинаций выпадения четыре, поэтому будет четыре столбика  \n",
    " \n",
    " стандартный 'колокол' нормального распределения  \n",
    " \n",
    " два столбика, каждый с вероятностью 50%"
   ]
  },
  {
   "cell_type": "markdown",
   "metadata": {},
   "source": [
    "### Шаг 2. Данные о кампаниях\n",
    "\n",
    "Будем использовать знакомый нам датасет с рекламными кампаниями. Загрузим его в датафрейм:"
   ]
  },
  {
   "cell_type": "code",
   "execution_count": 2,
   "metadata": {},
   "outputs": [],
   "source": [
    "import pandas as pd"
   ]
  },
  {
   "cell_type": "code",
   "execution_count": 3,
   "metadata": {},
   "outputs": [
    {
     "data": {
      "text/html": [
       "<div>\n",
       "<style scoped>\n",
       "    .dataframe tbody tr th:only-of-type {\n",
       "        vertical-align: middle;\n",
       "    }\n",
       "\n",
       "    .dataframe tbody tr th {\n",
       "        vertical-align: top;\n",
       "    }\n",
       "\n",
       "    .dataframe thead th {\n",
       "        text-align: right;\n",
       "    }\n",
       "</style>\n",
       "<table border=\"1\" class=\"dataframe\">\n",
       "  <thead>\n",
       "    <tr style=\"text-align: right;\">\n",
       "      <th></th>\n",
       "      <th>group</th>\n",
       "      <th>phrase</th>\n",
       "      <th>effect</th>\n",
       "      <th>ad_id</th>\n",
       "      <th>title</th>\n",
       "      <th>text</th>\n",
       "      <th>link</th>\n",
       "      <th>campaign</th>\n",
       "    </tr>\n",
       "  </thead>\n",
       "  <tbody>\n",
       "    <tr>\n",
       "      <th>0</th>\n",
       "      <td>мрт менделеевская</td>\n",
       "      <td>\"!мрт !менделеевская\"</td>\n",
       "      <td>4.5</td>\n",
       "      <td>2101704995</td>\n",
       "      <td>МРТ на Менделеевской от 2000₽</td>\n",
       "      <td>24 часа. МРТ в день обращения. Консультация вр...</td>\n",
       "      <td>https://awesome-site.ru/?utm_source=yandex&amp;utm...</td>\n",
       "      <td>a825749b87</td>\n",
       "    </tr>\n",
       "    <tr>\n",
       "      <th>1</th>\n",
       "      <td>мрт цао</td>\n",
       "      <td>\"мрт менделеевская\"</td>\n",
       "      <td>4.5</td>\n",
       "      <td>2101704995</td>\n",
       "      <td>МРТ на Менделеевской от 2000₽</td>\n",
       "      <td>24 часа. МРТ в день обращения. Консультация вр...</td>\n",
       "      <td>https://awesome-site.ru/?utm_source=yandex&amp;utm...</td>\n",
       "      <td>a825749b87</td>\n",
       "    </tr>\n",
       "    <tr>\n",
       "      <th>2</th>\n",
       "      <td>мрт цао</td>\n",
       "      <td>мрт менделеевская -головы -позвоночника -сдела...</td>\n",
       "      <td>7.4</td>\n",
       "      <td>2101704995</td>\n",
       "      <td>МРТ на Менделеевской от 2000₽</td>\n",
       "      <td>24 часа. МРТ в день обращения. Консультация вр...</td>\n",
       "      <td>https://awesome-site.ru/?utm_source=yandex&amp;utm...</td>\n",
       "      <td>a825749b87</td>\n",
       "    </tr>\n",
       "    <tr>\n",
       "      <th>3</th>\n",
       "      <td>мрт цао</td>\n",
       "      <td>\"!мрт !цао\"</td>\n",
       "      <td>5.0</td>\n",
       "      <td>2101704999</td>\n",
       "      <td>МРТ в ЦАО от 2000₽. Звоните!</td>\n",
       "      <td>24 часа. МРТ в день обращения. Консультация вр...</td>\n",
       "      <td>https://awesome-site.ru/?utm_source=yandex&amp;utm...</td>\n",
       "      <td>9cc0c5f6ca</td>\n",
       "    </tr>\n",
       "    <tr>\n",
       "      <th>4</th>\n",
       "      <td>мрт сао</td>\n",
       "      <td>\"мрт цао\"</td>\n",
       "      <td>5.0</td>\n",
       "      <td>2101704999</td>\n",
       "      <td>МРТ в ЦАО от 2000₽. Звоните!</td>\n",
       "      <td>24 часа. МРТ в день обращения. Консультация вр...</td>\n",
       "      <td>https://awesome-site.ru/?utm_source=yandex&amp;utm...</td>\n",
       "      <td>9cc0c5f6ca</td>\n",
       "    </tr>\n",
       "  </tbody>\n",
       "</table>\n",
       "</div>"
      ],
      "text/plain": [
       "               group                                             phrase  \\\n",
       "0  мрт менделеевская                              \"!мрт !менделеевская\"   \n",
       "1            мрт цао                                \"мрт менделеевская\"   \n",
       "2            мрт цао  мрт менделеевская -головы -позвоночника -сдела...   \n",
       "3            мрт цао                                        \"!мрт !цао\"   \n",
       "4            мрт сао                                          \"мрт цао\"   \n",
       "\n",
       "   effect       ad_id                          title  \\\n",
       "0     4.5  2101704995  МРТ на Менделеевской от 2000₽   \n",
       "1     4.5  2101704995  МРТ на Менделеевской от 2000₽   \n",
       "2     7.4  2101704995  МРТ на Менделеевской от 2000₽   \n",
       "3     5.0  2101704999   МРТ в ЦАО от 2000₽. Звоните!   \n",
       "4     5.0  2101704999   МРТ в ЦАО от 2000₽. Звоните!   \n",
       "\n",
       "                                                text  \\\n",
       "0  24 часа. МРТ в день обращения. Консультация вр...   \n",
       "1  24 часа. МРТ в день обращения. Консультация вр...   \n",
       "2  24 часа. МРТ в день обращения. Консультация вр...   \n",
       "3  24 часа. МРТ в день обращения. Консультация вр...   \n",
       "4  24 часа. МРТ в день обращения. Консультация вр...   \n",
       "\n",
       "                                                link    campaign  \n",
       "0  https://awesome-site.ru/?utm_source=yandex&utm...  a825749b87  \n",
       "1  https://awesome-site.ru/?utm_source=yandex&utm...  a825749b87  \n",
       "2  https://awesome-site.ru/?utm_source=yandex&utm...  a825749b87  \n",
       "3  https://awesome-site.ru/?utm_source=yandex&utm...  9cc0c5f6ca  \n",
       "4  https://awesome-site.ru/?utm_source=yandex&utm...  9cc0c5f6ca  "
      ]
     },
     "execution_count": 3,
     "metadata": {},
     "output_type": "execute_result"
    }
   ],
   "source": [
    "data = pd.read_csv('ad_campaigns_stats.csv')\n",
    "data.head()"
   ]
  },
  {
   "cell_type": "markdown",
   "metadata": {},
   "source": [
    "### Упражнение для самопроверки\n",
    "\n",
    "Сначала нам необходимо получить топ самых 'популярных' кампаний. Т. е. посчитать, сколько раз каждая кампания из столбца campaign упоминается в датафрейме. С помощью какого из перечисленных методов это можно посчитать?\n",
    "\n",
    " len  sum  value_counts  mean"
   ]
  },
  {
   "cell_type": "markdown",
   "metadata": {},
   "source": [
    "### Шаг 3. Самые частые кампании\n",
    "\n",
    "В итоге мы хотим построить распределение для ТОП-5 самых часто встречающихся названий кампаний. Давайте сначала узнаем, что это за кампании, а потом отфильтруем датафрейм по этим названиям. Итак, посмотрим ТОП-5 кампаний в нашем датафрейме:"
   ]
  },
  {
   "cell_type": "code",
   "execution_count": 6,
   "metadata": {},
   "outputs": [
    {
     "data": {
      "text/plain": [
       "(2159,)"
      ]
     },
     "execution_count": 6,
     "metadata": {},
     "output_type": "execute_result"
    }
   ],
   "source": [
    "data.campaign.shape"
   ]
  },
  {
   "cell_type": "code",
   "execution_count": 4,
   "metadata": {},
   "outputs": [
    {
     "data": {
      "text/plain": [
       "7f35591a28    456\n",
       "8e77a0e565    348\n",
       "2cc2e7d770    240\n",
       "f6d2ae1e3d    220\n",
       "e90f4db55a    218\n",
       "Name: campaign, dtype: int64"
      ]
     },
     "execution_count": 4,
     "metadata": {},
     "output_type": "execute_result"
    }
   ],
   "source": [
    "data.campaign.value_counts().head()"
   ]
  },
  {
   "cell_type": "code",
   "execution_count": 5,
   "metadata": {},
   "outputs": [
    {
     "data": {
      "text/plain": [
       "Index(['7f35591a28', '8e77a0e565', '2cc2e7d770', 'f6d2ae1e3d', 'e90f4db55a',\n",
       "       '7388fb4c7b', 'be97523396', '8d3a748298', 'acc3077e55', '718ce6a065',\n",
       "       ...\n",
       "       'e2e45b2b2a', '5a7508fa8d', 'd5b16c7769', 'eb577faed1', '63153306ff',\n",
       "       '7b17b2d188', 'b3f52e6f64', 'da872d1fb4', 'a117c5fc1b', 'f80e902d76'],\n",
       "      dtype='object', length=115)"
      ]
     },
     "execution_count": 5,
     "metadata": {},
     "output_type": "execute_result"
    }
   ],
   "source": [
    "# Названия кампаний теперь в индексе полученного датафрейма. Извлечем индекс, используя метод с простым названием index:\n",
    "\n",
    "data.campaign.value_counts().index"
   ]
  },
  {
   "cell_type": "code",
   "execution_count": 7,
   "metadata": {},
   "outputs": [
    {
     "data": {
      "text/plain": [
       "['7f35591a28', '8e77a0e565', '2cc2e7d770', 'f6d2ae1e3d', 'e90f4db55a']"
      ]
     },
     "execution_count": 7,
     "metadata": {},
     "output_type": "execute_result"
    }
   ],
   "source": [
    "# Наконец, получим ТОП-5 самых часто встречающихся в датафрейме кампаний:\n",
    "\n",
    "most_popular_campaigns = data.campaign.value_counts().index[:5].tolist()\n",
    "most_popular_campaigns"
   ]
  },
  {
   "cell_type": "markdown",
   "metadata": {},
   "source": [
    "### Упражнение\n",
    "\n",
    "Получите последние 9 кампаний в этом списке и отсортируйте их названия в алфавитном порядке.\n",
    "\n",
    "Какая кампания будет стоять на предпоследнем месте в этом списке?"
   ]
  },
  {
   "cell_type": "code",
   "execution_count": 10,
   "metadata": {},
   "outputs": [
    {
     "data": {
      "text/plain": [
       "['7f35591a28',\n",
       " '8e77a0e565',\n",
       " '2cc2e7d770',\n",
       " 'f6d2ae1e3d',\n",
       " 'e90f4db55a',\n",
       " '7388fb4c7b',\n",
       " 'be97523396',\n",
       " '8d3a748298',\n",
       " 'acc3077e55',\n",
       " '718ce6a065',\n",
       " '90299cb806',\n",
       " '9cc20f7a67',\n",
       " '56f3d9eaff',\n",
       " 'd96029561c',\n",
       " '706fcb19c3',\n",
       " '6770528fff',\n",
       " 'f0079349af',\n",
       " '942cf4ac20',\n",
       " '88dfb2a17b',\n",
       " '55188f1274',\n",
       " '6bdff94e84',\n",
       " '8efe80b27c',\n",
       " 'edb6a77e3b',\n",
       " '777160ba51',\n",
       " 'c0c9fe22b7',\n",
       " '48ef008dae',\n",
       " '9cc0c5f6ca',\n",
       " '9d35dc6a56',\n",
       " '11d5b8b473',\n",
       " '1849dc35cf',\n",
       " '2db1121377',\n",
       " 'c2e4dcddaf',\n",
       " '218404d350',\n",
       " 'e7b94d5bd9',\n",
       " '1176612405',\n",
       " '645c634357',\n",
       " 'fbed7afb58',\n",
       " 'a1c0555361',\n",
       " '9bf072c32b',\n",
       " '5680da7bdf',\n",
       " 'd0712ff587',\n",
       " '691d220f7d',\n",
       " '1a39ecc6ce',\n",
       " '3157b77d24',\n",
       " '9ee3e2c876',\n",
       " 'bd64204705',\n",
       " '10f0dbeae4',\n",
       " 'adbedfa534',\n",
       " '8461c519ee',\n",
       " '3cba0fca70',\n",
       " 'a5444a2280',\n",
       " 'f1941889d7',\n",
       " '41af22f2cc',\n",
       " '6e82234792',\n",
       " '92de552c53',\n",
       " '6e4f6bfa59',\n",
       " '9912b25e89',\n",
       " 'bcc95186aa',\n",
       " '28d8dca4df',\n",
       " '7c089a3059',\n",
       " '08cdcb57a3',\n",
       " '034ada41b6',\n",
       " '172c17eaba',\n",
       " 'a825749b87',\n",
       " '6e8f620704',\n",
       " '5db8565897',\n",
       " 'c189a246bd',\n",
       " '1f39b7a501',\n",
       " '27d3cfb133',\n",
       " 'e2a26d3100',\n",
       " '52a474fef2',\n",
       " '254567583a',\n",
       " '1a419ad286',\n",
       " '5ccc7aa9aa',\n",
       " '23d6da5a5a',\n",
       " '82115c21af',\n",
       " '0697a81555',\n",
       " '5d5ece2ab4',\n",
       " '2775b98c81',\n",
       " '33e8b25a9e',\n",
       " '22797af531',\n",
       " '5ba2e2d560',\n",
       " '7829a47ba6',\n",
       " '03fcaecd1d',\n",
       " '3eb8e263e0',\n",
       " '499806bf0f',\n",
       " '8c26e3c9fb',\n",
       " '5e6cef260b',\n",
       " 'b067aafafd',\n",
       " '4bca69eb73',\n",
       " '0f0ba311fb',\n",
       " 'fedd9b9cc0',\n",
       " 'a2c4f30428',\n",
       " '5b0c050763',\n",
       " '285b2840bb',\n",
       " '779ad0e7f3',\n",
       " '6176f4d3bc',\n",
       " '5e92a46918',\n",
       " 'b0fb5bd15c',\n",
       " '3e3a02c7b5',\n",
       " 'd920f4dfbb',\n",
       " '8b86eb301f',\n",
       " '95ab5f377f',\n",
       " 'fe6fa9154a',\n",
       " '2b6d8d8535',\n",
       " 'e2e45b2b2a',\n",
       " '5a7508fa8d',\n",
       " 'd5b16c7769',\n",
       " 'eb577faed1',\n",
       " '63153306ff',\n",
       " '7b17b2d188',\n",
       " 'b3f52e6f64',\n",
       " 'da872d1fb4',\n",
       " 'a117c5fc1b',\n",
       " 'f80e902d76']"
      ]
     },
     "execution_count": 10,
     "metadata": {},
     "output_type": "execute_result"
    }
   ],
   "source": [
    "less_popular_campaigns = data.campaign.value_counts().index[:].tolist()\n",
    "less_popular_campaigns"
   ]
  },
  {
   "cell_type": "code",
   "execution_count": 18,
   "metadata": {},
   "outputs": [
    {
     "data": {
      "text/plain": [
       "['5a7508fa8d',\n",
       " '63153306ff',\n",
       " '7b17b2d188',\n",
       " 'a117c5fc1b',\n",
       " 'b3f52e6f64',\n",
       " 'd5b16c7769',\n",
       " 'da872d1fb4',\n",
       " 'eb577faed1',\n",
       " 'f80e902d76']"
      ]
     },
     "execution_count": 18,
     "metadata": {},
     "output_type": "execute_result"
    }
   ],
   "source": [
    "less_popular_campaigns = data.campaign.value_counts().index[-9:].tolist()\n",
    "# less_popular_campaigns\n",
    "bd = sorted(less_popular_campaigns)\n",
    "bd"
   ]
  },
  {
   "cell_type": "markdown",
   "metadata": {},
   "source": [
    "### Шаг 4. Фильтруем датафрейм\n",
    "\n",
    "Перед тем, как заняться визуализацией распределения, для простоты отфильтруем исходный датафрейм по ТОП-5 кампаний (уберем лишние строки):\n",
    "\n",
    "Проверим, что все отфильтровалось, как мы ожидаем:"
   ]
  },
  {
   "cell_type": "code",
   "execution_count": 20,
   "metadata": {},
   "outputs": [
    {
     "data": {
      "text/plain": [
       "array(['7f35591a28', '8e77a0e565', '2cc2e7d770', 'f6d2ae1e3d',\n",
       "       'e90f4db55a'], dtype=object)"
      ]
     },
     "execution_count": 20,
     "metadata": {},
     "output_type": "execute_result"
    }
   ],
   "source": [
    "data = data[data['campaign'].isin(most_popular_campaigns)]\n",
    "data['campaign'].unique()"
   ]
  },
  {
   "cell_type": "markdown",
   "metadata": {},
   "source": [
    "Отлично, уникальных кампаний в датафрейме осталось только 5! Продолжим!"
   ]
  },
  {
   "cell_type": "markdown",
   "metadata": {},
   "source": [
    "### Шаг 5. Построение распределения\n",
    "\n",
    "Остался последний шаг — построить и нарисовать распределение. На самом деле, это будет самым простым шагом, т. к. в Pandas для создания любых графиков есть метод с коротким названием plot. Перед тем, как рисовать графики, надо один раз выполнить следующую команду. Она позволяет отображать графики прямо в браузере."
   ]
  },
  {
   "cell_type": "code",
   "execution_count": 22,
   "metadata": {},
   "outputs": [],
   "source": [
    "%matplotlib inline"
   ]
  },
  {
   "cell_type": "code",
   "execution_count": 23,
   "metadata": {},
   "outputs": [
    {
     "data": {
      "text/plain": [
       "<matplotlib.axes._subplots.AxesSubplot at 0x222fc6941d0>"
      ]
     },
     "execution_count": 23,
     "metadata": {},
     "output_type": "execute_result"
    },
    {
     "data": {
      "image/png": "[encoded data removed]",
      "text/plain": [
       "<Figure size 432x288 with 1 Axes>"
      ]
     },
     "metadata": {
      "needs_background": "light"
     },
     "output_type": "display_data"
    }
   ],
   "source": [
    "data['campaign'].value_counts().plot(kind = 'bar', color = 'blue')"
   ]
  },
  {
   "cell_type": "markdown",
   "metadata": {},
   "source": [
    "Собственно, это все, что нужно. Без процедуры подготовки данных построение распределения требует одну строчку кода!\n",
    "\n",
    "У метода plot есть несколько параметров, которые помогают настраивать внешний вид графика. Об этом можно почитать в документации метода (http://pandas.pydata.org/pandas-docs/stable/reference/api/pandas.DataFrame.plot.html). А мы продолжим с более сложными визуализациями."
   ]
  },
  {
   "cell_type": "markdown",
   "metadata": {},
   "source": [
    "# Блок 3. Оформление графиков в Matplotlib > Шаг 1. Данные по продажам"
   ]
  },
  {
   "cell_type": "code",
   "execution_count": 24,
   "metadata": {},
   "outputs": [
    {
     "data": {
      "text/html": [
       "<div>\n",
       "<style scoped>\n",
       "    .dataframe tbody tr th:only-of-type {\n",
       "        vertical-align: middle;\n",
       "    }\n",
       "\n",
       "    .dataframe tbody tr th {\n",
       "        vertical-align: top;\n",
       "    }\n",
       "\n",
       "    .dataframe thead th {\n",
       "        text-align: right;\n",
       "    }\n",
       "</style>\n",
       "<table border=\"1\" class=\"dataframe\">\n",
       "  <thead>\n",
       "    <tr style=\"text-align: right;\">\n",
       "      <th></th>\n",
       "      <th>month</th>\n",
       "      <th>2016</th>\n",
       "      <th>2017</th>\n",
       "      <th>2018</th>\n",
       "    </tr>\n",
       "  </thead>\n",
       "  <tbody>\n",
       "    <tr>\n",
       "      <th>0</th>\n",
       "      <td>1</td>\n",
       "      <td>513</td>\n",
       "      <td>465</td>\n",
       "      <td>500</td>\n",
       "    </tr>\n",
       "    <tr>\n",
       "      <th>1</th>\n",
       "      <td>2</td>\n",
       "      <td>534</td>\n",
       "      <td>481</td>\n",
       "      <td>523</td>\n",
       "    </tr>\n",
       "    <tr>\n",
       "      <th>2</th>\n",
       "      <td>3</td>\n",
       "      <td>608</td>\n",
       "      <td>553</td>\n",
       "      <td>580</td>\n",
       "    </tr>\n",
       "    <tr>\n",
       "      <th>3</th>\n",
       "      <td>4</td>\n",
       "      <td>620</td>\n",
       "      <td>561</td>\n",
       "      <td>593</td>\n",
       "    </tr>\n",
       "    <tr>\n",
       "      <th>4</th>\n",
       "      <td>5</td>\n",
       "      <td>577</td>\n",
       "      <td>563</td>\n",
       "      <td>600</td>\n",
       "    </tr>\n",
       "  </tbody>\n",
       "</table>\n",
       "</div>"
      ],
      "text/plain": [
       "   month  2016  2017  2018\n",
       "0      1   513   465   500\n",
       "1      2   534   481   523\n",
       "2      3   608   553   580\n",
       "3      4   620   561   593\n",
       "4      5   577   563   600"
      ]
     },
     "execution_count": 24,
     "metadata": {},
     "output_type": "execute_result"
    }
   ],
   "source": [
    "#В этом блоке мы посмотрим, как изменять форматирование элементов графиков в Matplotlib. \n",
    "#Будем использовать данные по продажам за последние 3 года sales_data.csv. Посмотрим, что есть в файле:\n",
    "\n",
    "data = pd.read_csv('sales_data.csv', sep=';')\n",
    "data.head()"
   ]
  },
  {
   "cell_type": "markdown",
   "metadata": {},
   "source": [
    "### Упражнение\n",
    "\n",
    "В наших файлах уже изначально есть заголовок с названиями столбцов. Какой параметр пришлось бы использовать для названия столбцов, если бы заголовка в данных не было?\n",
    "\n",
    " encoding  header  names"
   ]
  },
  {
   "cell_type": "markdown",
   "metadata": {},
   "source": [
    "### Шаг 2. Визуализация год к году\n",
    "\n",
    "Наша задача — отобразить продажи за три последних года на оси месяцев от 1 до 12. Для этого мы будем использовать метод pyplot, с помощью которого последовательно несколькими командами добавим необходимые данные на итоговый график.\n",
    "\n",
    "Для краткости импортируем библиотеку следующим образом:"
   ]
  },
  {
   "cell_type": "code",
   "execution_count": 25,
   "metadata": {},
   "outputs": [],
   "source": [
    "import matplotlib.pyplot as plt"
   ]
  },
  {
   "cell_type": "code",
   "execution_count": 26,
   "metadata": {},
   "outputs": [
    {
     "data": {
      "text/plain": [
       "[<matplotlib.lines.Line2D at 0x222fc77b208>]"
      ]
     },
     "execution_count": 26,
     "metadata": {},
     "output_type": "execute_result"
    },
    {
     "data": {
      "image/png": "[encoded data removed]",
      "text/plain": [
       "<Figure size 432x288 with 1 Axes>"
      ]
     },
     "metadata": {
      "needs_background": "light"
     },
     "output_type": "display_data"
    }
   ],
   "source": [
    "# Добавляем нужные данные тремя командами (ось X задаем в первой команде, в остальных добавляем данные \n",
    "# по оси Y и получаем графики):\n",
    "\n",
    "plt.plot(data['month'], data['2016'])\n",
    "plt.plot(data['2017'])\n",
    "plt.plot(data['2018'])"
   ]
  },
  {
   "cell_type": "markdown",
   "metadata": {},
   "source": [
    "### Шаг 3. Изменение типов линий\n",
    "Метод plot имеет множество параметров для придания графикам нужного вида. Например, можем добавить маркеры на график 2016 года:"
   ]
  },
  {
   "cell_type": "code",
   "execution_count": 27,
   "metadata": {},
   "outputs": [
    {
     "data": {
      "text/plain": [
       "[<matplotlib.lines.Line2D at 0x222fc7e0ac8>]"
      ]
     },
     "execution_count": 27,
     "metadata": {},
     "output_type": "execute_result"
    },
    {
     "data": {
      "image/png": "[encoded data removed]",
      "text/plain": [
       "<Figure size 432x288 with 1 Axes>"
      ]
     },
     "metadata": {
      "needs_background": "light"
     },
     "output_type": "display_data"
    }
   ],
   "source": [
    "plt.plot(data['month'], data['2016'], marker='o')\n",
    "plt.plot(data['2017'])\n",
    "plt.plot(data['2018'])"
   ]
  },
  {
   "cell_type": "code",
   "execution_count": 28,
   "metadata": {},
   "outputs": [
    {
     "data": {
      "text/plain": [
       "[<matplotlib.lines.Line2D at 0x222fc7141d0>]"
      ]
     },
     "execution_count": 28,
     "metadata": {},
     "output_type": "execute_result"
    },
    {
     "data": {
      "image/png": "[encoded data removed]",
      "text/plain": [
       "<Figure size 432x288 with 1 Axes>"
      ]
     },
     "metadata": {
      "needs_background": "light"
     },
     "output_type": "display_data"
    }
   ],
   "source": [
    "# Или изменить тип линии у графика 2017 года:\n",
    "\n",
    "plt.plot(data['month'], data['2016'])\n",
    "plt.plot(data['2017'], linestyle='dashed')\n",
    "plt.plot(data['2018'])"
   ]
  },
  {
   "cell_type": "markdown",
   "metadata": {},
   "source": [
    "### УПРАЖНЕНИЕ (БЕЗ ПРОВЕРКИ)\n",
    "\n",
    "Сделайте толщину графика 2018 года больше с помощью параметра linewidth."
   ]
  },
  {
   "cell_type": "code",
   "execution_count": 31,
   "metadata": {},
   "outputs": [
    {
     "data": {
      "text/plain": [
       "[<matplotlib.lines.Line2D at 0x222fc902668>]"
      ]
     },
     "execution_count": 31,
     "metadata": {},
     "output_type": "execute_result"
    },
    {
     "data": {
      "image/png": "[encoded data removed]",
      "text/plain": [
       "<Figure size 432x288 with 1 Axes>"
      ]
     },
     "metadata": {
      "needs_background": "light"
     },
     "output_type": "display_data"
    }
   ],
   "source": [
    "plt.plot(data['month'], data['2016'])\n",
    "plt.plot(data['2017'])\n",
    "plt.plot(data['2018'], linewidth=3.0)"
   ]
  },
  {
   "cell_type": "markdown",
   "metadata": {},
   "source": [
    "### Шаг 4. Добавление легенды"
   ]
  },
  {
   "cell_type": "code",
   "execution_count": 32,
   "metadata": {},
   "outputs": [
    {
     "data": {
      "text/plain": [
       "<matplotlib.legend.Legend at 0x222fc9680b8>"
      ]
     },
     "execution_count": 32,
     "metadata": {},
     "output_type": "execute_result"
    },
    {
     "data": {
      "image/png": "[encoded data removed]",
      "text/plain": [
       "<Figure size 432x288 with 1 Axes>"
      ]
     },
     "metadata": {
      "needs_background": "light"
     },
     "output_type": "display_data"
    }
   ],
   "source": [
    "# Чтобы точно понимать соответствие цветов линий и годов, добавим легенду на график:\n",
    "\n",
    "plt.plot(data['month'], data['2016'], marker='o')\n",
    "plt.plot(data['2017'], linestyle='dashed')\n",
    "plt.plot(data['2018'], linewidth=3)\n",
    "plt.legend()"
   ]
  },
  {
   "cell_type": "markdown",
   "metadata": {},
   "source": [
    "Для изменения названий в легенде надо переименовать названия столбцов датафрейма.\n",
    "\n",
    "Метод plot имеет много параметров, ознакомиться с которыми можно в документации (https://matplotlib.org/api/_as_gen/matplotlib.pyplot.plot.html)."
   ]
  },
  {
   "cell_type": "markdown",
   "metadata": {},
   "source": [
    "# Блок 4. Seaborn для продвинутых визуализаций > Шаг 1. Данные и задача\n",
    "\n",
    "### ПОСТАНОВКА ЗАДАЧИ\n",
    "\n",
    "Python-библиотеки для визуализаций позволяют не только рисовать простые графики и распределения, но и быстро получать наглядные отображения структуры данных. В этом блоке мы вспомним понятие корреляции и визуализируем так называемую матрицу корреляций между признаками.\n",
    "\n",
    "Это популярный прием в машинном обучении для быстрого выделения зависимых признаков в датасете.\n",
    "\n",
    "Для визуализаций будем использовать библиотеку Seaborn. Насколько сложные графики можно сделать с помощью этой библиотеки, вы можете посмотреть в галерее Seaborn.\n",
    "\n",
    "### УПРАЖНЕНИЕ\n",
    "\n",
    "Даны значения двух переменных, зависимость которых отображена на графике:\n",
    "\n",
    "Какой коэффициент корреляции между этими переменными?"
   ]
  },
  {
   "cell_type": "markdown",
   "metadata": {},
   "source": [
    "### Шаг 2. Данные\n",
    "\n",
    "Мы будем использовать набор признаков из файла correlation.tsv. Это статистика потребления видеоконтента по 10 различным характеристикам для набора групп пользователей: время просмотра по категориям, соцдем характеристики, просмотр рекомендованных видео и т. д. Довольно часто такая информация шифруется в набор признаков p1, p2... p10. Если признаки хорошо коррелируют между собой, то, возможно, эти пары не следует использовать в одной линейной модели. \n",
    "\n",
    "Загрузим их в датафрейм:"
   ]
  },
  {
   "cell_type": "code",
   "execution_count": 33,
   "metadata": {},
   "outputs": [],
   "source": [
    "import pandas as pd"
   ]
  },
  {
   "cell_type": "code",
   "execution_count": 34,
   "metadata": {},
   "outputs": [
    {
     "data": {
      "text/html": [
       "<div>\n",
       "<style scoped>\n",
       "    .dataframe tbody tr th:only-of-type {\n",
       "        vertical-align: middle;\n",
       "    }\n",
       "\n",
       "    .dataframe tbody tr th {\n",
       "        vertical-align: top;\n",
       "    }\n",
       "\n",
       "    .dataframe thead th {\n",
       "        text-align: right;\n",
       "    }\n",
       "</style>\n",
       "<table border=\"1\" class=\"dataframe\">\n",
       "  <thead>\n",
       "    <tr style=\"text-align: right;\">\n",
       "      <th></th>\n",
       "      <th>month</th>\n",
       "      <th>p1</th>\n",
       "      <th>p2</th>\n",
       "      <th>p3</th>\n",
       "      <th>p4</th>\n",
       "      <th>p5</th>\n",
       "      <th>p6</th>\n",
       "      <th>p7</th>\n",
       "      <th>p8</th>\n",
       "      <th>p9</th>\n",
       "      <th>p10</th>\n",
       "    </tr>\n",
       "  </thead>\n",
       "  <tbody>\n",
       "    <tr>\n",
       "      <th>0</th>\n",
       "      <td>2018-01-01</td>\n",
       "      <td>7</td>\n",
       "      <td>185</td>\n",
       "      <td>385</td>\n",
       "      <td>-129</td>\n",
       "      <td>2260</td>\n",
       "      <td>98</td>\n",
       "      <td>245</td>\n",
       "      <td>1250</td>\n",
       "      <td>214</td>\n",
       "      <td>415</td>\n",
       "    </tr>\n",
       "    <tr>\n",
       "      <th>1</th>\n",
       "      <td>2018-01-02</td>\n",
       "      <td>7</td>\n",
       "      <td>108</td>\n",
       "      <td>79</td>\n",
       "      <td>-142</td>\n",
       "      <td>3280</td>\n",
       "      <td>113</td>\n",
       "      <td>149</td>\n",
       "      <td>1161</td>\n",
       "      <td>123</td>\n",
       "      <td>376</td>\n",
       "    </tr>\n",
       "    <tr>\n",
       "      <th>2</th>\n",
       "      <td>2018-01-03</td>\n",
       "      <td>8</td>\n",
       "      <td>214</td>\n",
       "      <td>80</td>\n",
       "      <td>-151</td>\n",
       "      <td>410</td>\n",
       "      <td>141</td>\n",
       "      <td>297</td>\n",
       "      <td>1315</td>\n",
       "      <td>146</td>\n",
       "      <td>397</td>\n",
       "    </tr>\n",
       "    <tr>\n",
       "      <th>3</th>\n",
       "      <td>2018-01-04</td>\n",
       "      <td>8</td>\n",
       "      <td>81</td>\n",
       "      <td>372</td>\n",
       "      <td>-160</td>\n",
       "      <td>1289</td>\n",
       "      <td>46</td>\n",
       "      <td>447</td>\n",
       "      <td>1389</td>\n",
       "      <td>200</td>\n",
       "      <td>253</td>\n",
       "    </tr>\n",
       "    <tr>\n",
       "      <th>4</th>\n",
       "      <td>2018-01-05</td>\n",
       "      <td>9</td>\n",
       "      <td>113</td>\n",
       "      <td>144</td>\n",
       "      <td>-173</td>\n",
       "      <td>1297</td>\n",
       "      <td>67</td>\n",
       "      <td>413</td>\n",
       "      <td>938</td>\n",
       "      <td>129</td>\n",
       "      <td>489</td>\n",
       "    </tr>\n",
       "  </tbody>\n",
       "</table>\n",
       "</div>"
      ],
      "text/plain": [
       "        month  p1   p2   p3   p4    p5   p6   p7    p8   p9  p10\n",
       "0  2018-01-01   7  185  385 -129  2260   98  245  1250  214  415\n",
       "1  2018-01-02   7  108   79 -142  3280  113  149  1161  123  376\n",
       "2  2018-01-03   8  214   80 -151   410  141  297  1315  146  397\n",
       "3  2018-01-04   8   81  372 -160  1289   46  447  1389  200  253\n",
       "4  2018-01-05   9  113  144 -173  1297   67  413   938  129  489"
      ]
     },
     "execution_count": 34,
     "metadata": {},
     "output_type": "execute_result"
    }
   ],
   "source": [
    "features = pd.read_csv('correlation.tsv', sep='\\t')\n",
    "features.head()"
   ]
  },
  {
   "cell_type": "code",
   "execution_count": 35,
   "metadata": {},
   "outputs": [
    {
     "data": {
      "text/html": [
       "<div>\n",
       "<style scoped>\n",
       "    .dataframe tbody tr th:only-of-type {\n",
       "        vertical-align: middle;\n",
       "    }\n",
       "\n",
       "    .dataframe tbody tr th {\n",
       "        vertical-align: top;\n",
       "    }\n",
       "\n",
       "    .dataframe thead th {\n",
       "        text-align: right;\n",
       "    }\n",
       "</style>\n",
       "<table border=\"1\" class=\"dataframe\">\n",
       "  <thead>\n",
       "    <tr style=\"text-align: right;\">\n",
       "      <th></th>\n",
       "      <th>p1</th>\n",
       "      <th>p2</th>\n",
       "      <th>p3</th>\n",
       "      <th>p4</th>\n",
       "      <th>p5</th>\n",
       "      <th>p6</th>\n",
       "      <th>p7</th>\n",
       "      <th>p8</th>\n",
       "      <th>p9</th>\n",
       "      <th>p10</th>\n",
       "    </tr>\n",
       "  </thead>\n",
       "  <tbody>\n",
       "    <tr>\n",
       "      <th>0</th>\n",
       "      <td>7</td>\n",
       "      <td>185</td>\n",
       "      <td>385</td>\n",
       "      <td>-129</td>\n",
       "      <td>2260</td>\n",
       "      <td>98</td>\n",
       "      <td>245</td>\n",
       "      <td>1250</td>\n",
       "      <td>214</td>\n",
       "      <td>415</td>\n",
       "    </tr>\n",
       "    <tr>\n",
       "      <th>1</th>\n",
       "      <td>7</td>\n",
       "      <td>108</td>\n",
       "      <td>79</td>\n",
       "      <td>-142</td>\n",
       "      <td>3280</td>\n",
       "      <td>113</td>\n",
       "      <td>149</td>\n",
       "      <td>1161</td>\n",
       "      <td>123</td>\n",
       "      <td>376</td>\n",
       "    </tr>\n",
       "    <tr>\n",
       "      <th>2</th>\n",
       "      <td>8</td>\n",
       "      <td>214</td>\n",
       "      <td>80</td>\n",
       "      <td>-151</td>\n",
       "      <td>410</td>\n",
       "      <td>141</td>\n",
       "      <td>297</td>\n",
       "      <td>1315</td>\n",
       "      <td>146</td>\n",
       "      <td>397</td>\n",
       "    </tr>\n",
       "    <tr>\n",
       "      <th>3</th>\n",
       "      <td>8</td>\n",
       "      <td>81</td>\n",
       "      <td>372</td>\n",
       "      <td>-160</td>\n",
       "      <td>1289</td>\n",
       "      <td>46</td>\n",
       "      <td>447</td>\n",
       "      <td>1389</td>\n",
       "      <td>200</td>\n",
       "      <td>253</td>\n",
       "    </tr>\n",
       "    <tr>\n",
       "      <th>4</th>\n",
       "      <td>9</td>\n",
       "      <td>113</td>\n",
       "      <td>144</td>\n",
       "      <td>-173</td>\n",
       "      <td>1297</td>\n",
       "      <td>67</td>\n",
       "      <td>413</td>\n",
       "      <td>938</td>\n",
       "      <td>129</td>\n",
       "      <td>489</td>\n",
       "    </tr>\n",
       "  </tbody>\n",
       "</table>\n",
       "</div>"
      ],
      "text/plain": [
       "   p1   p2   p3   p4    p5   p6   p7    p8   p9  p10\n",
       "0   7  185  385 -129  2260   98  245  1250  214  415\n",
       "1   7  108   79 -142  3280  113  149  1161  123  376\n",
       "2   8  214   80 -151   410  141  297  1315  146  397\n",
       "3   8   81  372 -160  1289   46  447  1389  200  253\n",
       "4   9  113  144 -173  1297   67  413   938  129  489"
      ]
     },
     "execution_count": 35,
     "metadata": {},
     "output_type": "execute_result"
    }
   ],
   "source": [
    "#Для исследования зависимостей между признаками уберем из датафрейма столбец month:\n",
    "\n",
    "features.drop('month', axis=1, inplace=True)\n",
    "features.head()"
   ]
  },
  {
   "cell_type": "markdown",
   "metadata": {},
   "source": [
    "### Упражнение\n",
    "\n",
    "Зачем в методе drop указан параметр axis?\n",
    "\n",
    " для краткости, чтобы не писать features = features.drop(...)  указывает, что удаление происходит по строкам  указывает, что удаление происходит по столбцам  не влияет ни на что в этом случае"
   ]
  },
  {
   "cell_type": "markdown",
   "metadata": {},
   "source": [
    "### Шаг 3. Матрица корреляций\n",
    "\n",
    "Для того, чтобы узнать коэффициент корреляции между всеми признаками, построим матрицу корреляций. Для этого воспользуемся методом corr. Достаточно одной строчки:"
   ]
  },
  {
   "cell_type": "code",
   "execution_count": 36,
   "metadata": {},
   "outputs": [
    {
     "data": {
      "text/html": [
       "<div>\n",
       "<style scoped>\n",
       "    .dataframe tbody tr th:only-of-type {\n",
       "        vertical-align: middle;\n",
       "    }\n",
       "\n",
       "    .dataframe tbody tr th {\n",
       "        vertical-align: top;\n",
       "    }\n",
       "\n",
       "    .dataframe thead th {\n",
       "        text-align: right;\n",
       "    }\n",
       "</style>\n",
       "<table border=\"1\" class=\"dataframe\">\n",
       "  <thead>\n",
       "    <tr style=\"text-align: right;\">\n",
       "      <th></th>\n",
       "      <th>p1</th>\n",
       "      <th>p2</th>\n",
       "      <th>p3</th>\n",
       "      <th>p4</th>\n",
       "      <th>p5</th>\n",
       "      <th>p6</th>\n",
       "      <th>p7</th>\n",
       "      <th>p8</th>\n",
       "      <th>p9</th>\n",
       "      <th>p10</th>\n",
       "    </tr>\n",
       "  </thead>\n",
       "  <tbody>\n",
       "    <tr>\n",
       "      <th>p1</th>\n",
       "      <td>1.000000</td>\n",
       "      <td>0.249489</td>\n",
       "      <td>0.619757</td>\n",
       "      <td>-0.999524</td>\n",
       "      <td>0.587943</td>\n",
       "      <td>0.433063</td>\n",
       "      <td>0.577808</td>\n",
       "      <td>0.967058</td>\n",
       "      <td>0.466873</td>\n",
       "      <td>0.945575</td>\n",
       "    </tr>\n",
       "    <tr>\n",
       "      <th>p2</th>\n",
       "      <td>0.249489</td>\n",
       "      <td>1.000000</td>\n",
       "      <td>0.113910</td>\n",
       "      <td>-0.248287</td>\n",
       "      <td>0.141641</td>\n",
       "      <td>0.126832</td>\n",
       "      <td>0.078979</td>\n",
       "      <td>0.262559</td>\n",
       "      <td>0.012126</td>\n",
       "      <td>0.256899</td>\n",
       "    </tr>\n",
       "    <tr>\n",
       "      <th>p3</th>\n",
       "      <td>0.619757</td>\n",
       "      <td>0.113910</td>\n",
       "      <td>1.000000</td>\n",
       "      <td>-0.620411</td>\n",
       "      <td>0.309102</td>\n",
       "      <td>0.320015</td>\n",
       "      <td>0.382502</td>\n",
       "      <td>0.607829</td>\n",
       "      <td>0.249586</td>\n",
       "      <td>0.606912</td>\n",
       "    </tr>\n",
       "    <tr>\n",
       "      <th>p4</th>\n",
       "      <td>-0.999524</td>\n",
       "      <td>-0.248287</td>\n",
       "      <td>-0.620411</td>\n",
       "      <td>1.000000</td>\n",
       "      <td>-0.586430</td>\n",
       "      <td>-0.432828</td>\n",
       "      <td>-0.579732</td>\n",
       "      <td>-0.968715</td>\n",
       "      <td>-0.463727</td>\n",
       "      <td>-0.945416</td>\n",
       "    </tr>\n",
       "    <tr>\n",
       "      <th>p5</th>\n",
       "      <td>0.587943</td>\n",
       "      <td>0.141641</td>\n",
       "      <td>0.309102</td>\n",
       "      <td>-0.586430</td>\n",
       "      <td>1.000000</td>\n",
       "      <td>0.155944</td>\n",
       "      <td>0.297214</td>\n",
       "      <td>0.571159</td>\n",
       "      <td>0.269545</td>\n",
       "      <td>0.537990</td>\n",
       "    </tr>\n",
       "    <tr>\n",
       "      <th>p6</th>\n",
       "      <td>0.433063</td>\n",
       "      <td>0.126832</td>\n",
       "      <td>0.320015</td>\n",
       "      <td>-0.432828</td>\n",
       "      <td>0.155944</td>\n",
       "      <td>1.000000</td>\n",
       "      <td>0.313817</td>\n",
       "      <td>0.411173</td>\n",
       "      <td>0.255341</td>\n",
       "      <td>0.422155</td>\n",
       "    </tr>\n",
       "    <tr>\n",
       "      <th>p7</th>\n",
       "      <td>0.577808</td>\n",
       "      <td>0.078979</td>\n",
       "      <td>0.382502</td>\n",
       "      <td>-0.579732</td>\n",
       "      <td>0.297214</td>\n",
       "      <td>0.313817</td>\n",
       "      <td>1.000000</td>\n",
       "      <td>0.573135</td>\n",
       "      <td>0.286736</td>\n",
       "      <td>0.559694</td>\n",
       "    </tr>\n",
       "    <tr>\n",
       "      <th>p8</th>\n",
       "      <td>0.967058</td>\n",
       "      <td>0.262559</td>\n",
       "      <td>0.607829</td>\n",
       "      <td>-0.968715</td>\n",
       "      <td>0.571159</td>\n",
       "      <td>0.411173</td>\n",
       "      <td>0.573135</td>\n",
       "      <td>1.000000</td>\n",
       "      <td>0.433534</td>\n",
       "      <td>0.911911</td>\n",
       "    </tr>\n",
       "    <tr>\n",
       "      <th>p9</th>\n",
       "      <td>0.466873</td>\n",
       "      <td>0.012126</td>\n",
       "      <td>0.249586</td>\n",
       "      <td>-0.463727</td>\n",
       "      <td>0.269545</td>\n",
       "      <td>0.255341</td>\n",
       "      <td>0.286736</td>\n",
       "      <td>0.433534</td>\n",
       "      <td>1.000000</td>\n",
       "      <td>0.453852</td>\n",
       "    </tr>\n",
       "    <tr>\n",
       "      <th>p10</th>\n",
       "      <td>0.945575</td>\n",
       "      <td>0.256899</td>\n",
       "      <td>0.606912</td>\n",
       "      <td>-0.945416</td>\n",
       "      <td>0.537990</td>\n",
       "      <td>0.422155</td>\n",
       "      <td>0.559694</td>\n",
       "      <td>0.911911</td>\n",
       "      <td>0.453852</td>\n",
       "      <td>1.000000</td>\n",
       "    </tr>\n",
       "  </tbody>\n",
       "</table>\n",
       "</div>"
      ],
      "text/plain": [
       "           p1        p2        p3        p4        p5        p6        p7  \\\n",
       "p1   1.000000  0.249489  0.619757 -0.999524  0.587943  0.433063  0.577808   \n",
       "p2   0.249489  1.000000  0.113910 -0.248287  0.141641  0.126832  0.078979   \n",
       "p3   0.619757  0.113910  1.000000 -0.620411  0.309102  0.320015  0.382502   \n",
       "p4  -0.999524 -0.248287 -0.620411  1.000000 -0.586430 -0.432828 -0.579732   \n",
       "p5   0.587943  0.141641  0.309102 -0.586430  1.000000  0.155944  0.297214   \n",
       "p6   0.433063  0.126832  0.320015 -0.432828  0.155944  1.000000  0.313817   \n",
       "p7   0.577808  0.078979  0.382502 -0.579732  0.297214  0.313817  1.000000   \n",
       "p8   0.967058  0.262559  0.607829 -0.968715  0.571159  0.411173  0.573135   \n",
       "p9   0.466873  0.012126  0.249586 -0.463727  0.269545  0.255341  0.286736   \n",
       "p10  0.945575  0.256899  0.606912 -0.945416  0.537990  0.422155  0.559694   \n",
       "\n",
       "           p8        p9       p10  \n",
       "p1   0.967058  0.466873  0.945575  \n",
       "p2   0.262559  0.012126  0.256899  \n",
       "p3   0.607829  0.249586  0.606912  \n",
       "p4  -0.968715 -0.463727 -0.945416  \n",
       "p5   0.571159  0.269545  0.537990  \n",
       "p6   0.411173  0.255341  0.422155  \n",
       "p7   0.573135  0.286736  0.559694  \n",
       "p8   1.000000  0.433534  0.911911  \n",
       "p9   0.433534  1.000000  0.453852  \n",
       "p10  0.911911  0.453852  1.000000  "
      ]
     },
     "execution_count": 36,
     "metadata": {},
     "output_type": "execute_result"
    }
   ],
   "source": [
    "features.corr()"
   ]
  },
  {
   "cell_type": "markdown",
   "metadata": {},
   "source": [
    "### Упражнение\n",
    "\n",
    "Величины A и B имеют коэффициент корреляции 0.99. Верно ли, что величина B определяется изменениями A?\n",
    "\n",
    " при такой высокой корреляции это верно  это неверно в общем случае  это верно, если величины имеют нормальное распределение"
   ]
  },
  {
   "cell_type": "markdown",
   "metadata": {},
   "source": [
    "### Шаг 4. Корреляция и зависимость\n",
    "\n",
    "Сделаем короткое отступление. Тема корреляции и зависимости переменных очень важна, т. к. часто это приводит к неверным выводам. К сожалению, в общем случае только по значению коэффициента корреляции между величинами A и B мы ничего не можем сказать о зависимости B от A хотя бы потому, что, если корреляция между A и B равна, например, 0.9, то и корреляция между B и A тоже равна 0.9. Рассмотрим три примера, когда коэффициент корреляции вводит нас в заблуждение:\n",
    "\n",
    "1. Количество пожарных машин в регионе коррелирует с количеством пожаров. Однако глупо будет утверждать, что количество машин определяет количество пожаров. В данном случае мы путаем причину и следствие.\n",
    "\n",
    "2. Интеллект школьника коррелирует с размером его обуви. Здесь правильнее сказать, что интеллект и размер обуви зависят от возраста. Т. е. мы упускаем влияние третьей переменной — возраста.\n",
    "\n",
    "3. Невероятно, но факт: показатель количества разводов в штате Мэн коррелирует с потреблением маргарина на душу населения с коэффициентом 99.26%. Это просто совпадение. Вы можете найти много других примеров мистических корреляций на сайте www.tylervigen.com."
   ]
  },
  {
   "cell_type": "markdown",
   "metadata": {},
   "source": [
    "### Шаг 5. Визуализация матрицы \n",
    "\n",
    "Читать матрицу корреляций для десяти признаков неудобно. Давайте визуализируем нашу таблицу с помощью heatmap. Т. е. в зависимости от величины корреляции необходимо давать ячейке определенную градацию цвета. Для этого импортируем необходимые библиотеки:"
   ]
  },
  {
   "cell_type": "code",
   "execution_count": 37,
   "metadata": {},
   "outputs": [],
   "source": [
    "import matplotlib.pyplot as plt\n",
    "import seaborn as sns"
   ]
  },
  {
   "cell_type": "code",
   "execution_count": 38,
   "metadata": {},
   "outputs": [
    {
     "data": {
      "text/plain": [
       "<matplotlib.axes._subplots.AxesSubplot at 0x222fe57ea90>"
      ]
     },
     "execution_count": 38,
     "metadata": {},
     "output_type": "execute_result"
    },
    {
     "data": {
      "image/png": "[encoded data removed]",
      "text/plain": [
       "<Figure size 648x432 with 2 Axes>"
      ]
     },
     "metadata": {
      "needs_background": "light"
     },
     "output_type": "display_data"
    }
   ],
   "source": [
    "# Создаем пространство для визуализации удобного нам размера и рисуем heatmap для датафрейма features:\n",
    "\n",
    "f, ax = plt.subplots(figsize=(9, 6))\n",
    "sns.heatmap(features.corr())"
   ]
  },
  {
   "cell_type": "markdown",
   "metadata": {},
   "source": [
    "### Шаг 6. Добавляем формат heatmap\n",
    "\n",
    "Укажем детали нашей визуализации, чтобы она стала более наглядной:\n",
    "\n",
    "1. Добавим подписи данных с помощью параметра annot=True.\n",
    "\n",
    "2. Уточним формат подписи fmt='.1f'.\n",
    "\n",
    "3. Выберем другую цветовую палитру с помощью параметра cmap. Палитры можно выбрать здесь (http://seaborn.pydata.org/tutorial/color_palettes.html)."
   ]
  },
  {
   "cell_type": "code",
   "execution_count": 39,
   "metadata": {},
   "outputs": [
    {
     "data": {
      "text/plain": [
       "<matplotlib.axes._subplots.AxesSubplot at 0x222fe68e630>"
      ]
     },
     "execution_count": 39,
     "metadata": {},
     "output_type": "execute_result"
    },
    {
     "data": {
      "image/png": "[encoded data removed]",
      "text/plain": [
       "<Figure size 648x432 with 2 Axes>"
      ]
     },
     "metadata": {
      "needs_background": "light"
     },
     "output_type": "display_data"
    }
   ],
   "source": [
    "f, ax = plt.subplots(figsize=(9, 6))\n",
    "sns.heatmap(features.corr(), annot=True, fmt='.1f', ax=ax, cmap=sns.color_palette('coolwarm', 16))"
   ]
  },
  {
   "cell_type": "markdown",
   "metadata": {},
   "source": [
    "Теперь ясно видно, какие пары признаков сильно коррелируют: темно-красные и синие."
   ]
  },
  {
   "cell_type": "markdown",
   "metadata": {},
   "source": [
    "### О библиотеке\n",
    "\n",
    "Библиотека Plotly является коммерческим продуктом (но можно использовать бесплатную версию), которая позволяет делать сложные визуализации с элементами управления. Например, отображать 3D диаграмму с выбором опций:\n",
    "\n",
    "В этом блоке мы пройдем первый этап знакомства с этой библиотекой на примере таблиц. А при необходимости вы сможете освоить необходимые визуализации под свои рабочие задачи."
   ]
  },
  {
   "cell_type": "markdown",
   "metadata": {},
   "source": [
    "### Шаг 1. Установка plotly\n",
    "\n",
    "Библиотека plotly не входит в стандартный набор модулей Anaconda, поэтому ее надо установить. Для этого сделайте следующее:\n",
    "\n",
    "1. Откройте Anaconda Navigator и перейдите на вкладку Environments.\n",
    "2. Ищем библиотеку plotly среди всех, выбираем ее и устанавливаем с помощью кнопки Apply в правом нижнем углу."
   ]
  },
  {
   "cell_type": "markdown",
   "metadata": {},
   "source": [
    "pip install plotly"
   ]
  },
  {
   "cell_type": "code",
   "execution_count": 41,
   "metadata": {},
   "outputs": [],
   "source": [
    "#Проверяем, что библиотека установлена: открываем новый jupyter notebook и импортируем.\n",
    "\n",
    "import plotly"
   ]
  },
  {
   "cell_type": "markdown",
   "metadata": {},
   "source": [
    "### Шаг 2. Токен для использования plotly\n",
    "\n",
    "Plotly является коммерческим продуктом, поэтому для контроля использования (в том числе бесплатного) необходимо к каждому запросу добавлять авторизационный токен. Для его получения делаем следующее:\n",
    "\n",
    "1. Регистрируемся на plot.ly.\n",
    "\n",
    "2. После прохождения регистрации заходим в настройки API  и генерим токен для запросов:"
   ]
  },
  {
   "cell_type": "markdown",
   "metadata": {},
   "source": [
    "### Шаг 3. Подготовка данных\n",
    "\n",
    "Попробуем визуализировать таблицу с помощью plotly. Возьмем знакомый нам файл sales_data.csv."
   ]
  },
  {
   "cell_type": "code",
   "execution_count": 42,
   "metadata": {},
   "outputs": [],
   "source": [
    "import pandas as pd"
   ]
  },
  {
   "cell_type": "code",
   "execution_count": 43,
   "metadata": {},
   "outputs": [
    {
     "data": {
      "text/html": [
       "<div>\n",
       "<style scoped>\n",
       "    .dataframe tbody tr th:only-of-type {\n",
       "        vertical-align: middle;\n",
       "    }\n",
       "\n",
       "    .dataframe tbody tr th {\n",
       "        vertical-align: top;\n",
       "    }\n",
       "\n",
       "    .dataframe thead th {\n",
       "        text-align: right;\n",
       "    }\n",
       "</style>\n",
       "<table border=\"1\" class=\"dataframe\">\n",
       "  <thead>\n",
       "    <tr style=\"text-align: right;\">\n",
       "      <th></th>\n",
       "      <th>month</th>\n",
       "      <th>2016</th>\n",
       "      <th>2017</th>\n",
       "      <th>2018</th>\n",
       "    </tr>\n",
       "  </thead>\n",
       "  <tbody>\n",
       "    <tr>\n",
       "      <th>0</th>\n",
       "      <td>1</td>\n",
       "      <td>513</td>\n",
       "      <td>465</td>\n",
       "      <td>500</td>\n",
       "    </tr>\n",
       "    <tr>\n",
       "      <th>1</th>\n",
       "      <td>2</td>\n",
       "      <td>534</td>\n",
       "      <td>481</td>\n",
       "      <td>523</td>\n",
       "    </tr>\n",
       "    <tr>\n",
       "      <th>2</th>\n",
       "      <td>3</td>\n",
       "      <td>608</td>\n",
       "      <td>553</td>\n",
       "      <td>580</td>\n",
       "    </tr>\n",
       "    <tr>\n",
       "      <th>3</th>\n",
       "      <td>4</td>\n",
       "      <td>620</td>\n",
       "      <td>561</td>\n",
       "      <td>593</td>\n",
       "    </tr>\n",
       "    <tr>\n",
       "      <th>4</th>\n",
       "      <td>5</td>\n",
       "      <td>577</td>\n",
       "      <td>563</td>\n",
       "      <td>600</td>\n",
       "    </tr>\n",
       "  </tbody>\n",
       "</table>\n",
       "</div>"
      ],
      "text/plain": [
       "   month  2016  2017  2018\n",
       "0      1   513   465   500\n",
       "1      2   534   481   523\n",
       "2      3   608   553   580\n",
       "3      4   620   561   593\n",
       "4      5   577   563   600"
      ]
     },
     "execution_count": 43,
     "metadata": {},
     "output_type": "execute_result"
    }
   ],
   "source": [
    "data = pd.read_csv('sales_data.csv', sep=';')\n",
    "data.head()"
   ]
  },
  {
   "cell_type": "code",
   "execution_count": 44,
   "metadata": {},
   "outputs": [],
   "source": [
    "# Импортируем библиотеку plotly с логином и ключом к API:\n",
    "\n",
    "import plotly\n",
    "plotly.tools.set_credentials_file(username='Bukovka', api_key='GjJm5fGzazwcGuiqvBD6')"
   ]
  },
  {
   "cell_type": "markdown",
   "metadata": {},
   "source": [
    "### Шаг 4. Визуализация таблицы\n",
    "\n",
    "В галерее примеров (https://plot.ly/python/) можно выбрать визуализацию любой сложности. Попробуем применить форматирование к нашему датафрейму:\n",
    "\n",
    "Параметр fill указывает на цвет заливки, align — выравнивание столбцов. "
   ]
  },
  {
   "cell_type": "code",
   "execution_count": 45,
   "metadata": {},
   "outputs": [
    {
     "name": "stdout",
     "output_type": "stream",
     "text": [
      "High five! You successfully sent some data to your account on plotly. View your plot in your browser at https://plot.ly/~Bukovka/0 or inside your plot.ly account where it is named 'pandas_table'\n"
     ]
    },
    {
     "name": "stderr",
     "output_type": "stream",
     "text": [
      "C:\\Users\\shchepkina-ev\\AppData\\Local\\Continuum\\anaconda3\\lib\\site-packages\\IPython\\core\\display.py:689: UserWarning:\n",
      "\n",
      "Consider using IPython.display.IFrame instead\n",
      "\n"
     ]
    },
    {
     "data": {
      "text/html": [
       "<iframe id=\"igraph\" scrolling=\"no\" style=\"border:none;\" seamless=\"seamless\" src=\"https://plot.ly/~Bukovka/0.embed\" height=\"525px\" width=\"100%\"></iframe>"
      ],
      "text/plain": [
       "<plotly.tools.PlotlyDisplay object>"
      ]
     },
     "execution_count": 45,
     "metadata": {},
     "output_type": "execute_result"
    }
   ],
   "source": [
    "import plotly.plotly as py\n",
    "import plotly.graph_objs as go\n",
    "trace = go.Table(\n",
    "    header=dict(values=list(data.columns),\n",
    "                fill = dict(color='#C2D4FF'),\n",
    "                align = ['left', 'right', 'right', 'right']),\n",
    "    cells=dict(values=[data['month'], data['2016'], data['2017'], data['2018']],\n",
    "               fill = dict(color='#F5F8FF'),\n",
    "               align = ['left'] + ['right']*3))\n",
    "py.iplot([trace], filename = 'pandas_table')"
   ]
  },
  {
   "cell_type": "markdown",
   "metadata": {},
   "source": [
    "Кликнув по кнопке Edit chart в правом нижнем углу, можно продолжить настройку визуализации таблицы в отдельном окне."
   ]
  },
  {
   "cell_type": "code",
   "execution_count": null,
   "metadata": {},
   "outputs": [],
   "source": []
  },
  {
   "cell_type": "code",
   "execution_count": null,
   "metadata": {},
   "outputs": [],
   "source": []
  },
  {
   "cell_type": "code",
   "execution_count": null,
   "metadata": {},
   "outputs": [],
   "source": []
  }
 ],
 "metadata": {
  "kernelspec": {
   "display_name": "Python 3",
   "language": "python",
   "name": "python3"
  },
  "language_info": {
   "codemirror_mode": {
    "name": "ipython",
    "version": 3
   },
   "file_extension": ".py",
   "mimetype": "text/x-python",
   "name": "python",
   "nbconvert_exporter": "python",
   "pygments_lexer": "ipython3",
   "version": "3.7.1"
  }
 },
 "nbformat": 4,
 "nbformat_minor": 2
}
