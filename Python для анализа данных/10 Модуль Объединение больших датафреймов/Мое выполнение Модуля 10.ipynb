{
 "cells": [
  {
   "cell_type": "markdown",
   "metadata": {},
   "source": [
    "# Блок 1. Введение > Введение\n",
    "\n",
    "Объединение данных из разных источников. Почему это важно?\n",
    "В реальных задачах, как правило, мы не имеем готовой к использованию таблицы, а получаем данные из разных источников, и очень часто приходится объединять несколько таблиц в одну. \n",
    "\n",
    "Например, при построении воронки продаж для сквозной аналитики, обогащении выгрузки данными другой системы, сравнении полноты данных в системах и при других задачах.\n",
    "\n",
    "При этом требования к объемам данных постоянно растут. Если у вас нет под рукой настроенной базы данных или личного разработчика, то объединить даже «небольшие» таблицы в пару миллионов строк по визитам на сайт и покупкам в CRM станет проблемой, а по современным меркам это сравнительно небольшие таблицы. При этом объединять их надо сразу по нескольким измерениям. Например, чтобы получить конверсию в продажи на каждый день в разбивке по рекламному источнику и региону.\n",
    "\n",
    "На этом занятии мы научимся эффективно решать такие задачи средствами Python, увидим, как несколько строк кода существенно экономят нам время. Для начала рассмотрим практические примеры решения таких задач и уточним технические особенности."
   ]
  },
  {
   "cell_type": "markdown",
   "metadata": {},
   "source": [
    "# Блок 2. Объединение таблиц по одному измерению > Шаг 1. Преобразование таблицы в словарь\n",
    "\n",
    "### Описание кейса для объединения таблиц\n",
    "\n",
    "На данном занятии мы будем использовать данные о покупках из файла, сгруппированных по источнику, каналу и дате. а также аналогичный файл по визитам на сайт, часть из которых привела к покупке.\n",
    "\n",
    "Файл с визитами по источникам (visits_by_source.txt) \n",
    "\n",
    "Файл с покупками по источникам (orders_by_source.txt)\n",
    "\n",
    "Наша задача — посчитать конверсию из визитов в покупки в разрезе источников трафика.\n",
    "\n",
    "Т. е. для каждой пары значений source и medium нам нужно взять количество визитов и покупок и совместить их в одной таблице. Для тех, кто знаком с SQL, это аналог операции JOIN. На первом шаге нам понадобится самый простой случай объединения этих файлов по одному столбцу (источнику).\n",
    "\n",
    "### visits_by_source.txt — в первом столбце стоит источник трафика, во втором — сумма визитов:\n",
    "\n",
    "burgerclub 1197\n",
    "\n",
    "city-magazine 528\n",
    "\n",
    "facebook 3144\n",
    "...\n",
    "\n",
    "### orders_by_source.txt — в первом столбце стоит источник трафика, во втором — количество покупок, в третьем — суммарная стоимость покупок:\n",
    "\n",
    "burgerclub 10 185\n",
    "\n",
    "city-magazine 5 81\n",
    "\n",
    "direct 5 88"
   ]
  },
  {
   "cell_type": "markdown",
   "metadata": {},
   "source": [
    "Важное замечание: сейчас наши файлы очень малы, и объединить их легко можно даже в Excel. В реальной жизни такие файлы намного больше, поэтому мы представим, что решаем более сложную задачу со следующими условиями:\n",
    "\n",
    "1. Файл visits_by_source.txt может быть любого размера (мы обрабатываем его построчно). Представим, что это выгрузка из базы данных на 50 Гб или поток данных в виде транзакций из базы данных.\n",
    "\n",
    "То есть мы считаем файл условно «бесконечным».\n",
    "\n",
    "2. Второй файл orders_by_source.txt помещается в оперативной памяти компьютера. Однако в памяти мы можем обрабатывать довольно большие файлы. Например, файл в 1 гигабайт свободно помещается в памяти даже не особо мощного ноутбука. \n",
    "\n",
    "То есть файл большой, но помещается в оперативную память."
   ]
  },
  {
   "cell_type": "markdown",
   "metadata": {},
   "source": [
    "### Функция поиска по файлу покупок\n",
    "Наша задача будет состоять в следующем: нужно написать функцию, на вход которой будем подавать очередную строчку из файла visits_by_source.txt. В ответ должны получать количество покупок из файла orders_by_source.txt, которое соответствует этой строчке. Т. е. в самом простом случае в файле orders_by_source.txt надо найти строчку с таким же источником и вернуть значение из второго столбца.\n",
    "\n",
    "Начнем писать такую функцию:"
   ]
  },
  {
   "cell_type": "code",
   "execution_count": 1,
   "metadata": {},
   "outputs": [],
   "source": [
    "def searchForLine( source ):\n",
    "    \"\"\"\n",
    "    Функция по названию источника source ищет соответствующую строку в файле orders_by_source.txt.\n",
    "    Возвращает количество покупок, соответствующее источнику source. Если источник не найден, то возвращает 0    \n",
    "    Пример\n",
    "    searchForLine('burgerclub')\n",
    "    10    \n",
    "    searchForLine('source_123')\n",
    "    0\n",
    "    \"\"\""
   ]
  },
  {
   "cell_type": "markdown",
   "metadata": {},
   "source": [
    "Для получения определенного значения по названию источника отлично подойдет словарь.\n",
    "\n",
    "Можно было, например, поместить наши пары значений в набор листов и пробегать все его значения. Но это будет очень долго в случае больших файлов. К тому же если источника в файле покупок нет, то \"проход\" по этому листу будет впустую.\n",
    "\n",
    "Словарь позволит гораздо быстрее найти в файле покупок нужный источник.\n",
    "\n",
    "Давайте переведем наш файл с покупками orders_by_source.txt к словарю. Назовем его orders_dict и начнем писать цикл:"
   ]
  },
  {
   "cell_type": "code",
   "execution_count": 5,
   "metadata": {},
   "outputs": [
    {
     "name": "stdout",
     "output_type": "stream",
     "text": [
      "['burgerclub', '10', '185']\n",
      "['city-magazine', '5', '81']\n",
      "['direct', '5', '88']\n",
      "['facebook', '5', '91']\n",
      "['food-delivery', '10', '173']\n",
      "['foody', '3', '66']\n",
      "['google', '77', '1319']\n",
      "['newsletter', '5', '98']\n",
      "['promo', '68', '1181']\n",
      "['vk', '2', '29']\n",
      "['yandex', '104', '1818']\n"
     ]
    }
   ],
   "source": [
    "orders_dict = {}\n",
    "with open('orders_by_source.txt', 'r') as f:\n",
    "    for line in f:\n",
    "        line = line.strip().split('\\t') \n",
    "        print (line)"
   ]
  },
  {
   "cell_type": "code",
   "execution_count": 6,
   "metadata": {},
   "outputs": [
    {
     "name": "stdout",
     "output_type": "stream",
     "text": [
      "['burgerclub', '1197']\n",
      "['city-magazine', '528']\n",
      "['facebook', '3144']\n",
      "['food-delivery', '1184']\n",
      "['foody', '421']\n",
      "['google', '10961']\n",
      "['newsletter', '637']\n",
      "['promo', '7405']\n",
      "['vk', '256']\n",
      "['yandex', '11757']\n",
      "['direct', '2156']\n"
     ]
    }
   ],
   "source": [
    "visits_dict = {}\n",
    "with open('visits_by_source.txt', 'r') as fv:\n",
    "    for line_v in fv:\n",
    "        line_v = line_v.strip().split('\\t') \n",
    "        print (line_v)"
   ]
  },
  {
   "cell_type": "markdown",
   "metadata": {},
   "source": [
    "### Упражнение\n",
    "\n",
    "Дополните алгоритм, который записывает данные файла orders_by_source.txt в словарь orders_dict: в качестве ключей используйте первое значение листа line (обозначим источник как source), а в качестве значений - второе значение (orders_count). Обратите внимание, что число orders_count скорее всего считается из файла как строковая переменная. Используйте функцию int, чтобы получить численное значение.\n",
    "\n",
    "Какое количество покупок выдаст строчка print(orders_dict['promo'])?"
   ]
  },
  {
   "cell_type": "markdown",
   "metadata": {},
   "source": [
    "### Добавление и обновление ключей\n",
    "Добавление новых пар в словарь происходит достаточно просто:\n",
    "\n",
    "Добавляем ключ \"туфля\" со значением \"род обуви, закрывающей ногу не выше щиколотки\"\n",
    "\n",
    "dictionary['туфля'] = 'род обуви, закрывающей ногу не выше щиколотки'\n",
    "Обновление существующих значений происходит абсолютно также:\n",
    "\n",
    "Обновляем ключ \"туфля\" и присваиваем ему значение \"хорошая туфля\"\n",
    "\n",
    "dictionary['туфля'] = 'хорошая туфля'\n",
    "\n",
    "Удаляем значение с ключом \"противостоять\" из словаря\n",
    "\n",
    "del dictionary['противостоять']\n",
    "\n",
    "Метод вернёт 0 в случае, если данного ключа не существует\n",
    "story_count.get('два', 0)"
   ]
  },
  {
   "cell_type": "code",
   "execution_count": 9,
   "metadata": {},
   "outputs": [
    {
     "name": "stdout",
     "output_type": "stream",
     "text": [
      "['burgerclub', '10', '185']\n",
      "burgerclub\n",
      "10\n",
      "{'burgerclub': 10}\n",
      "['city-magazine', '5', '81']\n",
      "city-magazine\n",
      "5\n",
      "{'burgerclub': 10, 'city-magazine': 5}\n",
      "['direct', '5', '88']\n",
      "direct\n",
      "5\n",
      "{'burgerclub': 10, 'city-magazine': 5, 'direct': 5}\n",
      "['facebook', '5', '91']\n",
      "facebook\n",
      "5\n",
      "{'burgerclub': 10, 'city-magazine': 5, 'direct': 5, 'facebook': 5}\n",
      "['food-delivery', '10', '173']\n",
      "food-delivery\n",
      "10\n",
      "{'burgerclub': 10, 'city-magazine': 5, 'direct': 5, 'facebook': 5, 'food-delivery': 10}\n",
      "['foody', '3', '66']\n",
      "foody\n",
      "3\n",
      "{'burgerclub': 10, 'city-magazine': 5, 'direct': 5, 'facebook': 5, 'food-delivery': 10, 'foody': 3}\n",
      "['google', '77', '1319']\n",
      "google\n",
      "77\n",
      "{'burgerclub': 10, 'city-magazine': 5, 'direct': 5, 'facebook': 5, 'food-delivery': 10, 'foody': 3, 'google': 77}\n",
      "['newsletter', '5', '98']\n",
      "newsletter\n",
      "5\n",
      "{'burgerclub': 10, 'city-magazine': 5, 'direct': 5, 'facebook': 5, 'food-delivery': 10, 'foody': 3, 'google': 77, 'newsletter': 5}\n",
      "['promo', '68', '1181']\n",
      "promo\n",
      "68\n",
      "{'burgerclub': 10, 'city-magazine': 5, 'direct': 5, 'facebook': 5, 'food-delivery': 10, 'foody': 3, 'google': 77, 'newsletter': 5, 'promo': 68}\n",
      "['vk', '2', '29']\n",
      "vk\n",
      "2\n",
      "{'burgerclub': 10, 'city-magazine': 5, 'direct': 5, 'facebook': 5, 'food-delivery': 10, 'foody': 3, 'google': 77, 'newsletter': 5, 'promo': 68, 'vk': 2}\n",
      "['yandex', '104', '1818']\n",
      "yandex\n",
      "104\n",
      "{'burgerclub': 10, 'city-magazine': 5, 'direct': 5, 'facebook': 5, 'food-delivery': 10, 'foody': 3, 'google': 77, 'newsletter': 5, 'promo': 68, 'vk': 2, 'yandex': 104}\n",
      "ОТВЕТ:  68\n"
     ]
    }
   ],
   "source": [
    "orders_dict = {}\n",
    "with open('orders_by_source.txt', 'r') as f:\n",
    "    for line in f:\n",
    "        line = line.strip().split('\\t') \n",
    "        print (line)\n",
    "        print (line[0])\n",
    "        print (line[1])\n",
    "        orders_dict[line[0]] = int(line[1])\n",
    "        print(orders_dict)\n",
    "print('ОТВЕТ: ', orders_dict['promo'])"
   ]
  },
  {
   "cell_type": "code",
   "execution_count": 10,
   "metadata": {},
   "outputs": [
    {
     "name": "stdout",
     "output_type": "stream",
     "text": [
      "{'burgerclub': 10, 'city-magazine': 5, 'direct': 5, 'facebook': 5, 'food-delivery': 10, 'foody': 3, 'google': 77, 'newsletter': 5, 'promo': 68, 'vk': 2, 'yandex': 104}\n"
     ]
    }
   ],
   "source": [
    "print(orders_dict)"
   ]
  },
  {
   "cell_type": "code",
   "execution_count": 11,
   "metadata": {},
   "outputs": [
    {
     "name": "stdout",
     "output_type": "stream",
     "text": [
      "{'burgerclub': 1197}\n",
      "{'burgerclub': 1197, 'city-magazine': 528}\n",
      "{'burgerclub': 1197, 'city-magazine': 528, 'facebook': 3144}\n",
      "{'burgerclub': 1197, 'city-magazine': 528, 'facebook': 3144, 'food-delivery': 1184}\n",
      "{'burgerclub': 1197, 'city-magazine': 528, 'facebook': 3144, 'food-delivery': 1184, 'foody': 421}\n",
      "{'burgerclub': 1197, 'city-magazine': 528, 'facebook': 3144, 'food-delivery': 1184, 'foody': 421, 'google': 10961}\n",
      "{'burgerclub': 1197, 'city-magazine': 528, 'facebook': 3144, 'food-delivery': 1184, 'foody': 421, 'google': 10961, 'newsletter': 637}\n",
      "{'burgerclub': 1197, 'city-magazine': 528, 'facebook': 3144, 'food-delivery': 1184, 'foody': 421, 'google': 10961, 'newsletter': 637, 'promo': 7405}\n",
      "{'burgerclub': 1197, 'city-magazine': 528, 'facebook': 3144, 'food-delivery': 1184, 'foody': 421, 'google': 10961, 'newsletter': 637, 'promo': 7405, 'vk': 256}\n",
      "{'burgerclub': 1197, 'city-magazine': 528, 'facebook': 3144, 'food-delivery': 1184, 'foody': 421, 'google': 10961, 'newsletter': 637, 'promo': 7405, 'vk': 256, 'yandex': 11757}\n",
      "{'burgerclub': 1197, 'city-magazine': 528, 'facebook': 3144, 'food-delivery': 1184, 'foody': 421, 'google': 10961, 'newsletter': 637, 'promo': 7405, 'vk': 256, 'yandex': 11757, 'direct': 2156}\n"
     ]
    }
   ],
   "source": [
    "visits_dict = {}\n",
    "with open('visits_by_source.txt', 'r') as fv:\n",
    "    for line_v in fv:\n",
    "        line_v = line_v.strip().split('\\t') \n",
    "#        print (line_v)\n",
    "#        print (line_v)\n",
    "#        print (line_v[0])\n",
    "#        print (line_v[1])\n",
    "        visits_dict[line_v[0]] = int(line_v[1])\n",
    "        print(visits_dict)\n",
    "#print('ОТВЕТ: ', visits_dict['burgerclub'])"
   ]
  },
  {
   "cell_type": "code",
   "execution_count": 12,
   "metadata": {},
   "outputs": [
    {
     "name": "stdout",
     "output_type": "stream",
     "text": [
      "{'burgerclub': 1197, 'city-magazine': 528, 'facebook': 3144, 'food-delivery': 1184, 'foody': 421, 'google': 10961, 'newsletter': 637, 'promo': 7405, 'vk': 256, 'yandex': 11757, 'direct': 2156}\n"
     ]
    }
   ],
   "source": [
    "print(visits_dict)"
   ]
  },
  {
   "cell_type": "markdown",
   "metadata": {},
   "source": [
    "### Объединение таблиц\n",
    "\n",
    "Теперь мы можем использовать наш словарь в функции поиска количества покупок. Для более удобного использования будем передавать словарь как аргумент функции searchForLine:\n",
    "\n",
    "keys() — возвращает список ключей;\n",
    "\n",
    "values() — возвращает список значений\n",
    "\n",
    "for key, value in d.items():\n",
    "        print(key, value)"
   ]
  },
  {
   "cell_type": "code",
   "execution_count": 15,
   "metadata": {},
   "outputs": [],
   "source": [
    "def searchForLine( source, dict_s ):\n",
    "    \"\"\"\n",
    "    searchForLine('burgerclub')\n",
    "    1197   \n",
    "    searchForLine('source_123')\n",
    "    0\n",
    "    \"\"\"\n",
    "    #print(dict_s)\n",
    "    if source in dict_s:\n",
    "        #print (source)\n",
    "        return int( dict_s[source] )\n",
    "    else:\n",
    "        return (0)"
   ]
  },
  {
   "cell_type": "markdown",
   "metadata": {},
   "source": [
    "Функция по названию источника source ищет соответствующую строку в файле orders_by_source.txt.\n",
    "\n",
    "Возвращает количество покупок, соответствующее источнику source. Если источник не найден, то возвращает 0\n",
    "\n",
    "source.get('два', 0)"
   ]
  },
  {
   "cell_type": "code",
   "execution_count": 13,
   "metadata": {},
   "outputs": [
    {
     "name": "stdout",
     "output_type": "stream",
     "text": [
      "{'burgerclub': 10, 'city-magazine': 5, 'direct': 5, 'facebook': 5, 'food-delivery': 10, 'foody': 3, 'google': 77, 'newsletter': 5, 'promo': 68, 'vk': 2, 'yandex': 104}\n"
     ]
    }
   ],
   "source": [
    "print(orders_dict)"
   ]
  },
  {
   "cell_type": "code",
   "execution_count": 16,
   "metadata": {},
   "outputs": [
    {
     "name": "stdout",
     "output_type": "stream",
     "text": [
      "{'burgerclub': 1197, 'city-magazine': 528, 'facebook': 3144, 'food-delivery': 1184, 'foody': 421, 'google': 10961, 'newsletter': 637, 'promo': 7405, 'vk': 256, 'yandex': 11757, 'direct': 2156}\n",
      "1197\n"
     ]
    }
   ],
   "source": [
    "# Проверим работает ли наша функция как мы ожидаем:\n",
    "print (visits_dict)\n",
    "print(searchForLine('burgerclub', visits_dict))"
   ]
  },
  {
   "cell_type": "code",
   "execution_count": 17,
   "metadata": {},
   "outputs": [
    {
     "name": "stdout",
     "output_type": "stream",
     "text": [
      "0\n"
     ]
    }
   ],
   "source": [
    "print(searchForLine('source_123', visits_dict))"
   ]
  },
  {
   "cell_type": "markdown",
   "metadata": {},
   "source": [
    "### Упражнение\n",
    "\n",
    "Напишите цикл, в котором в каждую строчку файла visits_by_source.txt подставляется соответствующее количество покупок orders. Т. е. цикл заканчивается следующей строкой:\n",
    "\n",
    "...\n",
    "\n",
    "print(source, visits, orders, orders / visits)\n",
    "\n",
    "Выведите на экран конверсию визитов в покупки для каждого источника (т. е. отношение orders к visits). Какое значение конверсии у источника vk? Ответ округлите до тысячных (т. е. ответ будет иметь формат 0.009)."
   ]
  },
  {
   "cell_type": "code",
   "execution_count": 30,
   "metadata": {},
   "outputs": [
    {
     "name": "stdout",
     "output_type": "stream",
     "text": [
      "burgerclub 1197\n",
      "source =  burgerclub\n",
      "visits =  1197\n",
      "orders =  10\n",
      "burgerclub 1197 10 0.00835421888053467\n",
      "city-magazine 528\n",
      "source =  city-magazine\n",
      "visits =  528\n",
      "orders =  5\n",
      "city-magazine 528 5 0.00946969696969697\n",
      "facebook 3144\n",
      "source =  facebook\n",
      "visits =  3144\n",
      "orders =  5\n",
      "facebook 3144 5 0.0015903307888040711\n",
      "food-delivery 1184\n",
      "source =  food-delivery\n",
      "visits =  1184\n",
      "orders =  10\n",
      "food-delivery 1184 10 0.008445945945945946\n",
      "foody 421\n",
      "source =  foody\n",
      "visits =  421\n",
      "orders =  3\n",
      "foody 421 3 0.007125890736342043\n",
      "google 10961\n",
      "source =  google\n",
      "visits =  10961\n",
      "orders =  77\n",
      "google 10961 77 0.007024906486634432\n",
      "newsletter 637\n",
      "source =  newsletter\n",
      "visits =  637\n",
      "orders =  5\n",
      "newsletter 637 5 0.007849293563579277\n",
      "promo 7405\n",
      "source =  promo\n",
      "visits =  7405\n",
      "orders =  68\n",
      "promo 7405 68 0.009182984469952735\n",
      "vk 256\n",
      "source =  vk\n",
      "visits =  256\n",
      "orders =  2\n",
      "vk 256 2 0.0078125\n",
      "yandex 11757\n",
      "source =  yandex\n",
      "visits =  11757\n",
      "orders =  104\n",
      "yandex 11757 104 0.008845793995066768\n",
      "direct 2156\n",
      "source =  direct\n",
      "visits =  2156\n",
      "orders =  5\n",
      "direct 2156 5 0.002319109461966605\n"
     ]
    }
   ],
   "source": [
    "for k, v in visits_dict.items():\n",
    "    print (k, str(v))\n",
    "    source = k\n",
    "    print ('source = ', source)\n",
    "    visits = v\n",
    "    print ('visits = ', visits)\n",
    "    orders = searchForLine(k, orders_dict)\n",
    "    print ('orders = ', orders)\n",
    "    print(source, visits, orders, orders / visits)"
   ]
  },
  {
   "cell_type": "code",
   "execution_count": 1,
   "metadata": {},
   "outputs": [],
   "source": [
    "import pandas as pd"
   ]
  },
  {
   "cell_type": "code",
   "execution_count": 72,
   "metadata": {},
   "outputs": [],
   "source": [
    "names_visits = ['name', 'visits']"
   ]
  },
  {
   "cell_type": "code",
   "execution_count": 73,
   "metadata": {},
   "outputs": [
    {
     "data": {
      "text/html": [
       "<div>\n",
       "<style scoped>\n",
       "    .dataframe tbody tr th:only-of-type {\n",
       "        vertical-align: middle;\n",
       "    }\n",
       "\n",
       "    .dataframe tbody tr th {\n",
       "        vertical-align: top;\n",
       "    }\n",
       "\n",
       "    .dataframe thead th {\n",
       "        text-align: right;\n",
       "    }\n",
       "</style>\n",
       "<table border=\"1\" class=\"dataframe\">\n",
       "  <thead>\n",
       "    <tr style=\"text-align: right;\">\n",
       "      <th></th>\n",
       "      <th>name</th>\n",
       "      <th>visits</th>\n",
       "    </tr>\n",
       "  </thead>\n",
       "  <tbody>\n",
       "    <tr>\n",
       "      <th>0</th>\n",
       "      <td>burgerclub</td>\n",
       "      <td>1197</td>\n",
       "    </tr>\n",
       "    <tr>\n",
       "      <th>1</th>\n",
       "      <td>city-magazine</td>\n",
       "      <td>528</td>\n",
       "    </tr>\n",
       "    <tr>\n",
       "      <th>2</th>\n",
       "      <td>facebook</td>\n",
       "      <td>3144</td>\n",
       "    </tr>\n",
       "    <tr>\n",
       "      <th>3</th>\n",
       "      <td>food-delivery</td>\n",
       "      <td>1184</td>\n",
       "    </tr>\n",
       "    <tr>\n",
       "      <th>4</th>\n",
       "      <td>foody</td>\n",
       "      <td>421</td>\n",
       "    </tr>\n",
       "  </tbody>\n",
       "</table>\n",
       "</div>"
      ],
      "text/plain": [
       "            name  visits\n",
       "0     burgerclub    1197\n",
       "1  city-magazine     528\n",
       "2       facebook    3144\n",
       "3  food-delivery    1184\n",
       "4          foody     421"
      ]
     },
     "execution_count": 73,
     "metadata": {},
     "output_type": "execute_result"
    }
   ],
   "source": [
    "data = pd.read_csv('visits_by_source.csv', sep = ';', header=None, names = names_visits)\n",
    "data.head()"
   ]
  },
  {
   "cell_type": "markdown",
   "metadata": {},
   "source": [
    "# Шаг 2. Запись результатов в файл\n",
    "\n",
    "### Запись результатов в файл\n",
    "\n",
    "Т. к. файл visits_by_source.txt может быть очень большим, выводить результаты на экран не особо практично.\n",
    "\n",
    "Давайте запишем результат в файл.\n",
    "\n",
    "Для этого мы будем «открывать» файл joined_by_source.txt с параметром 'w' вместо 'r'. При каждом таком «открытии» файл joined_by_source.txt будет создаваться заново (т. е., если он существовал ранее, все его содержимое будет удалено).\n",
    "\n",
    "Один файл (visits_by_source.txt) у нас уже открыт как переменная f. Соответственно, при открытии файла joined_by_source.txt надо давать ему другое имя (например, f_joined). И вместо функции print пишем команду записи в файл f_joined.write(...).\n",
    "\n",
    "Обратите внимание, что при записи строки в файл надо указывать символ переноса строки \\n в конце каждой строчки, иначе все строки будут записаны как одна:"
   ]
  },
  {
   "cell_type": "code",
   "execution_count": 32,
   "metadata": {},
   "outputs": [],
   "source": [
    "with open('joined_by_source.txt', 'w') as f_joined:\n",
    "    with open('visits_by_source.txt', 'r') as f:\n",
    "        for line in f:\n",
    "            line = line.strip().split('\\t')\n",
    "            source = line[0]\n",
    "            visits = int(line[1])\n",
    "            orders = searchForLine( source, orders_dict )\n",
    "            f_joined.write('{}\\t{}\\t{}\\n'.format( source, visits, orders) )"
   ]
  },
  {
   "cell_type": "markdown",
   "metadata": {},
   "source": [
    "### Упражнение\n",
    "\n",
    "Добавьте в файл orders_by_source.txt первой строчкой заголовок, чтобы после работы скрипта результаты можно было, например, скопировать в Excel в готовом к использованию виде.\n",
    "\n",
    "Теперь добавьте расчет конверсии визитов в покупки четвертым столбцом.\n",
    "\n",
    "Какая средняя конверсия для всех источников (т. е. отношение всех покупок к сумме визитов)? Ответ округлите до тысячных (т. е. ответ будет иметь формат 0.009)."
   ]
  },
  {
   "cell_type": "code",
   "execution_count": 36,
   "metadata": {},
   "outputs": [],
   "source": [
    "names_orders = ['source', 'p1', 'orders']"
   ]
  },
  {
   "cell_type": "code",
   "execution_count": 37,
   "metadata": {},
   "outputs": [
    {
     "data": {
      "text/html": [
       "<div>\n",
       "<style scoped>\n",
       "    .dataframe tbody tr th:only-of-type {\n",
       "        vertical-align: middle;\n",
       "    }\n",
       "\n",
       "    .dataframe tbody tr th {\n",
       "        vertical-align: top;\n",
       "    }\n",
       "\n",
       "    .dataframe thead th {\n",
       "        text-align: right;\n",
       "    }\n",
       "</style>\n",
       "<table border=\"1\" class=\"dataframe\">\n",
       "  <thead>\n",
       "    <tr style=\"text-align: right;\">\n",
       "      <th></th>\n",
       "      <th>source</th>\n",
       "      <th>p1</th>\n",
       "      <th>orders</th>\n",
       "    </tr>\n",
       "  </thead>\n",
       "  <tbody>\n",
       "    <tr>\n",
       "      <th>0</th>\n",
       "      <td>burgerclub</td>\n",
       "      <td>10</td>\n",
       "      <td>185</td>\n",
       "    </tr>\n",
       "    <tr>\n",
       "      <th>1</th>\n",
       "      <td>city-magazine</td>\n",
       "      <td>5</td>\n",
       "      <td>81</td>\n",
       "    </tr>\n",
       "    <tr>\n",
       "      <th>2</th>\n",
       "      <td>direct</td>\n",
       "      <td>5</td>\n",
       "      <td>88</td>\n",
       "    </tr>\n",
       "    <tr>\n",
       "      <th>3</th>\n",
       "      <td>facebook</td>\n",
       "      <td>5</td>\n",
       "      <td>91</td>\n",
       "    </tr>\n",
       "    <tr>\n",
       "      <th>4</th>\n",
       "      <td>food-delivery</td>\n",
       "      <td>10</td>\n",
       "      <td>173</td>\n",
       "    </tr>\n",
       "  </tbody>\n",
       "</table>\n",
       "</div>"
      ],
      "text/plain": [
       "          source  p1  orders\n",
       "0     burgerclub  10     185\n",
       "1  city-magazine   5      81\n",
       "2         direct   5      88\n",
       "3       facebook   5      91\n",
       "4  food-delivery  10     173"
      ]
     },
     "execution_count": 37,
     "metadata": {},
     "output_type": "execute_result"
    }
   ],
   "source": [
    "data = pd.read_csv('orders_by_source.csv', sep = ';', header=None, names = names_orders)\n",
    "data.head()"
   ]
  },
  {
   "cell_type": "code",
   "execution_count": 40,
   "metadata": {},
   "outputs": [],
   "source": [
    "with open('home_dz.csv', 'w') as fj:\n",
    "    with open('orders_by_source.txt', 'r') as f:\n",
    "        for line in f:\n",
    "            line = line.strip().split('\\t')\n",
    "            source = line[0]\n",
    "            orders = int(line[1])\n",
    "            visits = searchForLine( source, visits_dict )\n",
    "            conversion = orders / visits\n",
    "            fj.write('{}\\t{}\\t{}\\t{}\\n'.format( source, visits, orders, conversion) )"
   ]
  },
  {
   "cell_type": "code",
   "execution_count": 41,
   "metadata": {},
   "outputs": [],
   "source": [
    "names_orders_j = ['source', 'visits', 'orders', 'conversion']"
   ]
  },
  {
   "cell_type": "code",
   "execution_count": 45,
   "metadata": {},
   "outputs": [
    {
     "data": {
      "text/html": [
       "<div>\n",
       "<style scoped>\n",
       "    .dataframe tbody tr th:only-of-type {\n",
       "        vertical-align: middle;\n",
       "    }\n",
       "\n",
       "    .dataframe tbody tr th {\n",
       "        vertical-align: top;\n",
       "    }\n",
       "\n",
       "    .dataframe thead th {\n",
       "        text-align: right;\n",
       "    }\n",
       "</style>\n",
       "<table border=\"1\" class=\"dataframe\">\n",
       "  <thead>\n",
       "    <tr style=\"text-align: right;\">\n",
       "      <th></th>\n",
       "      <th>source</th>\n",
       "      <th>visits</th>\n",
       "      <th>orders</th>\n",
       "      <th>conversion</th>\n",
       "    </tr>\n",
       "  </thead>\n",
       "  <tbody>\n",
       "    <tr>\n",
       "      <th>0</th>\n",
       "      <td>burgerclub</td>\n",
       "      <td>1197</td>\n",
       "      <td>10</td>\n",
       "      <td>0.008354</td>\n",
       "    </tr>\n",
       "    <tr>\n",
       "      <th>1</th>\n",
       "      <td>city-magazine</td>\n",
       "      <td>528</td>\n",
       "      <td>5</td>\n",
       "      <td>0.009470</td>\n",
       "    </tr>\n",
       "    <tr>\n",
       "      <th>2</th>\n",
       "      <td>direct</td>\n",
       "      <td>2156</td>\n",
       "      <td>5</td>\n",
       "      <td>0.002319</td>\n",
       "    </tr>\n",
       "    <tr>\n",
       "      <th>3</th>\n",
       "      <td>facebook</td>\n",
       "      <td>3144</td>\n",
       "      <td>5</td>\n",
       "      <td>0.001590</td>\n",
       "    </tr>\n",
       "    <tr>\n",
       "      <th>4</th>\n",
       "      <td>food-delivery</td>\n",
       "      <td>1184</td>\n",
       "      <td>10</td>\n",
       "      <td>0.008446</td>\n",
       "    </tr>\n",
       "    <tr>\n",
       "      <th>5</th>\n",
       "      <td>foody</td>\n",
       "      <td>421</td>\n",
       "      <td>3</td>\n",
       "      <td>0.007126</td>\n",
       "    </tr>\n",
       "    <tr>\n",
       "      <th>6</th>\n",
       "      <td>google</td>\n",
       "      <td>10961</td>\n",
       "      <td>77</td>\n",
       "      <td>0.007025</td>\n",
       "    </tr>\n",
       "    <tr>\n",
       "      <th>7</th>\n",
       "      <td>newsletter</td>\n",
       "      <td>637</td>\n",
       "      <td>5</td>\n",
       "      <td>0.007849</td>\n",
       "    </tr>\n",
       "    <tr>\n",
       "      <th>8</th>\n",
       "      <td>promo</td>\n",
       "      <td>7405</td>\n",
       "      <td>68</td>\n",
       "      <td>0.009183</td>\n",
       "    </tr>\n",
       "    <tr>\n",
       "      <th>9</th>\n",
       "      <td>vk</td>\n",
       "      <td>256</td>\n",
       "      <td>2</td>\n",
       "      <td>0.007812</td>\n",
       "    </tr>\n",
       "    <tr>\n",
       "      <th>10</th>\n",
       "      <td>yandex</td>\n",
       "      <td>11757</td>\n",
       "      <td>104</td>\n",
       "      <td>0.008846</td>\n",
       "    </tr>\n",
       "  </tbody>\n",
       "</table>\n",
       "</div>"
      ],
      "text/plain": [
       "           source  visits  orders  conversion\n",
       "0      burgerclub    1197      10    0.008354\n",
       "1   city-magazine     528       5    0.009470\n",
       "2          direct    2156       5    0.002319\n",
       "3        facebook    3144       5    0.001590\n",
       "4   food-delivery    1184      10    0.008446\n",
       "5           foody     421       3    0.007126\n",
       "6          google   10961      77    0.007025\n",
       "7      newsletter     637       5    0.007849\n",
       "8           promo    7405      68    0.009183\n",
       "9              vk     256       2    0.007812\n",
       "10         yandex   11757     104    0.008846"
      ]
     },
     "execution_count": 45,
     "metadata": {},
     "output_type": "execute_result"
    }
   ],
   "source": [
    "data = pd.read_csv('home_dz.csv', sep = '\\t', header=None, names = names_orders_j)\n",
    "data.head(11)"
   ]
  },
  {
   "cell_type": "code",
   "execution_count": 61,
   "metadata": {},
   "outputs": [
    {
     "data": {
      "text/plain": [
       "source        burgerclubcity-magazinedirectfacebookfood-deli...\n",
       "visits                                                    39646\n",
       "orders                                                      294\n",
       "conversion                                            0.0780207\n",
       "dtype: object"
      ]
     },
     "execution_count": 61,
     "metadata": {},
     "output_type": "execute_result"
    }
   ],
   "source": [
    "data.sum(axis=0)"
   ]
  },
  {
   "cell_type": "code",
   "execution_count": 65,
   "metadata": {},
   "outputs": [
    {
     "data": {
      "text/plain": [
       "39646"
      ]
     },
     "execution_count": 65,
     "metadata": {},
     "output_type": "execute_result"
    }
   ],
   "source": [
    "data.visits.sum()"
   ]
  },
  {
   "cell_type": "code",
   "execution_count": 66,
   "metadata": {},
   "outputs": [
    {
     "data": {
      "text/plain": [
       "294"
      ]
     },
     "execution_count": 66,
     "metadata": {},
     "output_type": "execute_result"
    }
   ],
   "source": [
    "data.orders.sum()"
   ]
  },
  {
   "cell_type": "code",
   "execution_count": 67,
   "metadata": {},
   "outputs": [
    {
     "data": {
      "text/plain": [
       "0.007415628310548353"
      ]
     },
     "execution_count": 67,
     "metadata": {},
     "output_type": "execute_result"
    }
   ],
   "source": [
    "data.orders.sum()/data.visits.sum()"
   ]
  },
  {
   "cell_type": "markdown",
   "metadata": {},
   "source": [
    "# Блок 3. Объединение таблиц по двум измерениям > Шаг 1. Построение вложенного словаря\n",
    "\n",
    "В этом блоке нам понадобятся данные о визитах и покупках, сгруппированные по источнику и каналу.\n",
    "\n",
    "Данные по визитам (visits_by_source_and_medium.txt)\n",
    "\n",
    "Данные по покупкам (orders_by_source_and_medium.txt)\n",
    "\n",
    "Поиск по одному столбцу — ситуация не самая часто встречающаяся. Обычно столбцов гораздо больше. Да и файлы, с которыми приходится работать, на практике гораздо сложнее. Как «масштабировать» наше решение, чтобы оно могло учитывать любое количество столбцов и при этом не теряло скорость?\n",
    "\n",
    "Для удобства представим более реальную таблицу с покупками. Например, на 4 миллиона строк и 500 Мб на диске. Если необходимо найти в этой таблице нужную комбинацию source и medium, надо учитывать, что эта пара может встретиться в любой из 4 миллионов строк. Также может быть ситуация, что для этой комбинации source и medium не было ни одной покупки.\n",
    "\n",
    "Для ускорения нашего поиска давайте заменим таблицу из столбцов source, medium и количества покупок вложенным словарем. Пример такого преобразования:"
   ]
  },
  {
   "cell_type": "code",
   "execution_count": 69,
   "metadata": {},
   "outputs": [],
   "source": [
    "# Соответствующий словарь:\n",
    "orders_dict = {\n",
    "    'google': {\n",
    "        'sem': 56,\n",
    "        'seo': 15\n",
    "    },    \n",
    "    'newsletter': {\n",
    "        'email': 5\n",
    "    }\n",
    "}"
   ]
  },
  {
   "cell_type": "markdown",
   "metadata": {},
   "source": [
    "Т. е. первичными ключами словаря будут все значения переменной source. Для каждого ключа словаря в качестве значений создаем еще один словарь, ключами которого уже будут значения столбца medium, и в качестве значений ставим количество покупок orders."
   ]
  },
  {
   "cell_type": "markdown",
   "metadata": {},
   "source": [
    "### Что дает такая структура?\n",
    "\n",
    "Теперь, чтобы найти нужную комбинацию значений source и medium, нужно сделать два простых шага:\n",
    "\n",
    "1. Из 2000 значений source определить, есть ли среди них нужный нам. Если его не оказалось, то сразу возвращаем 0 покупок.\n",
    "\n",
    "2. Если значение source есть в первичных ключах, то ищем значение medium в списке из вторичных ключей, которые оказались у источника source (кстати, их может быть всего несколько). Логика такая же: если ключ найден, возвращаем значение покупок для первичного ключа source и вторичного medium. Если не найден, то возвращаем 0.\n",
    "\n",
    "Итого для поиска среди 4 000 000 строк нам нужно сначала проверить наличие очередного значения в списке ключей из  source, а затем — в списке из medium. Это намного быстрее, чем любой последовательный мониторинг этих 4 миллионов строк.\n",
    "\n",
    "Давайте реализуем этот алгоритм в коде. Сначала преобразуем знакомый нам словарь orders_dict, чтобы из таблицы со столбцами source и medium получать словарь с двумя уровнями ключей.\n",
    "\n",
    "### Метод setdefault\n",
    "\n",
    "Для более наглядной записи используем метод setdefault, который позволяет не проводить проверку наличия ключа в словаре. Чтобы прибавить к значению словаря число мы использовали следующую проверку:"
   ]
  },
  {
   "cell_type": "code",
   "execution_count": 23,
   "metadata": {},
   "outputs": [
    {
     "name": "stdout",
     "output_type": "stream",
     "text": [
      "{'google': 1}\n"
     ]
    }
   ],
   "source": [
    "orders_dict = {}\n",
    "if 'google' in orders_dict:\n",
    "    orders_dict['google'] += 1\n",
    "else:\n",
    "    orders_dict['google'] = 1\n",
    "print(orders_dict)"
   ]
  },
  {
   "cell_type": "markdown",
   "metadata": {},
   "source": [
    "Можно переписать этот код с помощью метода setdefault. Этот метод проверяет есть ли в словаре указанный ключ 'google'. Если есть, то оставляет соответствующее значение ключа прежним. Если ключа не оказалось, то подставляет указанное нами значение (в примере это значение 0). Тем самым после применения метода setdefault можно смело использовать прибавление 1 к ключу 'google'. Независимо от того был ли этот ключ в словаре раньше:"
   ]
  },
  {
   "cell_type": "code",
   "execution_count": 25,
   "metadata": {},
   "outputs": [
    {
     "name": "stdout",
     "output_type": "stream",
     "text": [
      "{'google': 1}\n"
     ]
    }
   ],
   "source": [
    "orders_dict = {}\n",
    "orders_dict.setdefault('google', 0)\n",
    "orders_dict['google'] += 1\n",
    "print(orders_dict)"
   ]
  },
  {
   "cell_type": "markdown",
   "metadata": {},
   "source": [
    "Давайте сформируем словарь orders_dict из прошлого блока. Только теперь в нем добавится еще один уровень вложенности для канала medium:"
   ]
  },
  {
   "cell_type": "code",
   "execution_count": 27,
   "metadata": {},
   "outputs": [],
   "source": [
    "orders_dict = {}\n",
    "with open('orders_by_source_and_medium.txt', 'r') as f:\n",
    "    for line in f:\n",
    "        line = line.strip().split('\\t')       \n",
    "        source = line[0]\n",
    "        medium = line[1]\n",
    "        orders_count = int( line[2] )      \n",
    "        orders_dict.setdefault(source, {})\n",
    "        orders_dict[source].setdefault(medium, 0)      \n",
    "        orders_dict[source][medium] = orders_count"
   ]
  },
  {
   "cell_type": "code",
   "execution_count": 28,
   "metadata": {},
   "outputs": [
    {
     "name": "stdout",
     "output_type": "stream",
     "text": [
      "{'burgerclub': {'cpa-partners': 10}, 'city-magazine': {'cpc-partners': 5}, 'direct': {'brand': 5}, 'facebook': {'smm': 5}, 'food-delivery': {'cpa-partners': 10}, 'foody': {'cpc-partners': 3}, 'google': {'brand': 6, 'sem': 56, 'seo': 15}, 'newsletter': {'email': 5}, 'promo': {'email': 68}, 'vk': {'smm': 2}, 'yandex': {'brand': 7, 'sem': 67, 'seo': 30}}\n"
     ]
    }
   ],
   "source": [
    "print(orders_dict)"
   ]
  },
  {
   "cell_type": "markdown",
   "metadata": {},
   "source": [
    "Смотрим что получилось для ключа 'google':"
   ]
  },
  {
   "cell_type": "code",
   "execution_count": 30,
   "metadata": {},
   "outputs": [
    {
     "data": {
      "text/plain": [
       "{'brand': 7, 'sem': 67, 'seo': 30}"
      ]
     },
     "execution_count": 30,
     "metadata": {},
     "output_type": "execute_result"
    }
   ],
   "source": [
    "orders_dict['yandex']"
   ]
  },
  {
   "cell_type": "markdown",
   "metadata": {},
   "source": [
    "### Домашнее задание\n",
    "\n",
    "Измените код функции searchForLine из прошлого блока, чтобы по названию источника source и канала medium получать соответствующее количество покупок из файла orders_by_source_and_medium.txt. Соответственно, функция должна \"пройти\" следующие тесты:"
   ]
  },
  {
   "cell_type": "code",
   "execution_count": 35,
   "metadata": {},
   "outputs": [],
   "source": [
    "def searchForLine_DZ( source, medium, dict_s ):\n",
    "    \n",
    "    #print(dict_s)\n",
    "    if source in dict_s:\n",
    "        print (source)\n",
    "        if medium in dict_s[source]:\n",
    "            return int( dict_s[source][medium] )\n",
    "        else:\n",
    "            return (0)\n",
    "    else:\n",
    "        return (0)"
   ]
  },
  {
   "cell_type": "code",
   "execution_count": 36,
   "metadata": {},
   "outputs": [
    {
     "name": "stdout",
     "output_type": "stream",
     "text": [
      "google\n"
     ]
    },
    {
     "data": {
      "text/plain": [
       "15"
      ]
     },
     "execution_count": 36,
     "metadata": {},
     "output_type": "execute_result"
    }
   ],
   "source": [
    "searchForLine_DZ('google', 'seo', orders_dict)"
   ]
  },
  {
   "cell_type": "code",
   "execution_count": 37,
   "metadata": {},
   "outputs": [
    {
     "data": {
      "text/plain": [
       "0"
      ]
     },
     "execution_count": 37,
     "metadata": {},
     "output_type": "execute_result"
    }
   ],
   "source": [
    "searchForLine_DZ('google_123', 'seo', orders_dict)"
   ]
  },
  {
   "cell_type": "code",
   "execution_count": 38,
   "metadata": {},
   "outputs": [
    {
     "name": "stdout",
     "output_type": "stream",
     "text": [
      "google\n"
     ]
    },
    {
     "data": {
      "text/plain": [
       "0"
      ]
     },
     "execution_count": 38,
     "metadata": {},
     "output_type": "execute_result"
    }
   ],
   "source": [
    "searchForLine_DZ('google', 'seo_123', orders_dict)"
   ]
  },
  {
   "cell_type": "code",
   "execution_count": 39,
   "metadata": {},
   "outputs": [
    {
     "name": "stdout",
     "output_type": "stream",
     "text": [
      "google\n"
     ]
    },
    {
     "data": {
      "text/plain": [
       "56"
      ]
     },
     "execution_count": 39,
     "metadata": {},
     "output_type": "execute_result"
    }
   ],
   "source": [
    "searchForLine_DZ('google', 'sem', orders_dict)"
   ]
  },
  {
   "cell_type": "markdown",
   "metadata": {},
   "source": [
    "# Шаг 2. Тест на повторение пройденных материалов"
   ]
  },
  {
   "cell_type": "code",
   "execution_count": 43,
   "metadata": {},
   "outputs": [
    {
     "data": {
      "text/plain": [
       "float"
      ]
     },
     "execution_count": 43,
     "metadata": {},
     "output_type": "execute_result"
    }
   ],
   "source": [
    "a = 4 / 2\n",
    "type(a)"
   ]
  },
  {
   "cell_type": "code",
   "execution_count": 44,
   "metadata": {},
   "outputs": [],
   "source": [
    "months = ['январь', 'февраль', 'март', 'апрель', 'май', 'июнь', 'июль', 'август', 'сентябрь', 'октябрь', 'ноябрь', 'декабрь']"
   ]
  },
  {
   "cell_type": "code",
   "execution_count": 53,
   "metadata": {},
   "outputs": [
    {
     "data": {
      "text/plain": [
       "['март', 'апрель', 'май']"
      ]
     },
     "execution_count": 53,
     "metadata": {},
     "output_type": "execute_result"
    }
   ],
   "source": [
    "# Как получить из этого листа названия весенних месяцев?\n",
    "months[2:5]"
   ]
  },
  {
   "cell_type": "code",
   "execution_count": 47,
   "metadata": {},
   "outputs": [],
   "source": [
    "campaign = 'yandex_cpc_bmv_brand_summer'"
   ]
  },
  {
   "cell_type": "code",
   "execution_count": 52,
   "metadata": {},
   "outputs": [
    {
     "data": {
      "text/plain": [
       "'bmv'"
      ]
     },
     "execution_count": 52,
     "metadata": {},
     "output_type": "execute_result"
    }
   ],
   "source": [
    "# Как выделить из переменной campaign название марки автомобиля?\n",
    "campaign.split('_')[2]"
   ]
  },
  {
   "cell_type": "code",
   "execution_count": 50,
   "metadata": {},
   "outputs": [
    {
     "data": {
      "text/plain": [
       "['bmv', 'brand']"
      ]
     },
     "execution_count": 50,
     "metadata": {},
     "output_type": "execute_result"
    }
   ],
   "source": [
    " campaign.split('_')[2:4]"
   ]
  },
  {
   "cell_type": "code",
   "execution_count": 51,
   "metadata": {},
   "outputs": [],
   "source": [
    "total_costs = { 'google': 1319, 'yandex': 1818, 'promo': 1181 }"
   ]
  },
  {
   "cell_type": "code",
   "execution_count": 54,
   "metadata": {},
   "outputs": [
    {
     "data": {
      "text/plain": [
       "['yandex', 'promo', 'google']"
      ]
     },
     "execution_count": 54,
     "metadata": {},
     "output_type": "execute_result"
    }
   ],
   "source": [
    "# Необходимо вывести названия источников, отсортированных по алфавиту в обратном порядке\n",
    "sorted( total_costs, reverse = True )"
   ]
  },
  {
   "cell_type": "code",
   "execution_count": 55,
   "metadata": {},
   "outputs": [
    {
     "data": {
      "text/plain": [
       "[1818, 1319, 1181]"
      ]
     },
     "execution_count": 55,
     "metadata": {},
     "output_type": "execute_result"
    }
   ],
   "source": [
    "sorted( total_costs.values(), reverse = True )"
   ]
  },
  {
   "cell_type": "code",
   "execution_count": 56,
   "metadata": {},
   "outputs": [
    {
     "data": {
      "text/plain": [
       "['yandex', 'promo', 'google']"
      ]
     },
     "execution_count": 56,
     "metadata": {},
     "output_type": "execute_result"
    }
   ],
   "source": [
    "sorted( total_costs.keys(), reverse = True )"
   ]
  },
  {
   "cell_type": "code",
   "execution_count": 59,
   "metadata": {},
   "outputs": [],
   "source": [
    "def google_costs(data):\n",
    "\n",
    "    data.setdefault('google', 0)\n",
    "\n",
    "    return data['google']"
   ]
  },
  {
   "cell_type": "code",
   "execution_count": 60,
   "metadata": {},
   "outputs": [
    {
     "data": {
      "text/plain": [
       "0"
      ]
     },
     "execution_count": 60,
     "metadata": {},
     "output_type": "execute_result"
    }
   ],
   "source": [
    "google_costs( {'vk': 100} )"
   ]
  },
  {
   "cell_type": "code",
   "execution_count": 62,
   "metadata": {},
   "outputs": [],
   "source": [
    "# datetime: \n",
    "date_string = '23.02.2017 15:20'"
   ]
  },
  {
   "cell_type": "code",
   "execution_count": 67,
   "metadata": {},
   "outputs": [
    {
     "ename": "AttributeError",
     "evalue": "'str' object has no attribute 'strptime'",
     "output_type": "error",
     "traceback": [
      "\u001b[1;31m---------------------------------------------------------------------------\u001b[0m",
      "\u001b[1;31mAttributeError\u001b[0m                            Traceback (most recent call last)",
      "\u001b[1;32m<ipython-input-67-f3921dcaa5f2>\u001b[0m in \u001b[0;36m<module>\u001b[1;34m\u001b[0m\n\u001b[1;32m----> 1\u001b[1;33m \u001b[0mdatetime\u001b[0m\u001b[1;33m.\u001b[0m\u001b[0mstrptime\u001b[0m\u001b[1;33m(\u001b[0m \u001b[0mdate_string\u001b[0m\u001b[1;33m,\u001b[0m \u001b[1;34m'%d.%m.%Y %H:%M'\u001b[0m \u001b[1;33m)\u001b[0m\u001b[1;33m\u001b[0m\u001b[1;33m\u001b[0m\u001b[0m\n\u001b[0m",
      "\u001b[1;31mAttributeError\u001b[0m: 'str' object has no attribute 'strptime'"
     ]
    }
   ],
   "source": [
    "datetime.strptime( date_string, '%d.%m.%Y %H:%M' )"
   ]
  },
  {
   "cell_type": "markdown",
   "metadata": {},
   "source": [
    "# Дополнительный блок. Объединение таблиц по произвольным столбцам > Введение\n",
    "\n",
    "### ПОНЯТИЕ РЕКУРСИИ\n",
    "\n",
    "Осторожно, рекурсия! Этот блок посвящен очень сложной теме объединения таблиц с 5-ю и более столбцами с помощью рекурсии. Мы вынесли его и готовое решение в дополнительную информацию для самых любознательных.\n",
    "\n",
    "Вы наверняка заметили, что в прошлом шаге при учете столбца medium наш код усложнился. Приходилось каждый раз проверять наличие новых ключей или использовать setdefault для всех уровней. В реальных задачах столбцов будет больше. Например, в некоторых задачах приходится объединять таблицы по 5 и более столбцам. Если обходиться проверками или методом setdefault на всех возможных уровнях словарей, то наш код будет быстро разрастаться или станет медленным, т. к. заранее сложно предсказать структуру вложенных уровней словаря orders_dict.\n",
    "\n",
    "В таких задачах на помощь приходит использование рекурсии. Это понятие широко используется в науке и большом количестве задач.\n",
    "\n",
    "В текущем модуле под рекурсией мы будем понимать алгоритм, в котором функция может вызывать сама себя с изменяющимся аргументом.\n",
    "\n",
    "В текущем модуле под рекурсией мы будем понимать алгоритм, в котором функция может вызывать сама себя с изменяющимся аргументом.\n",
    "\n",
    "Рассмотрим математический пример: допустим, нам необходимо вывести все числа от 10 до 1 с шагом 1. Если не использовать функцию range, то можно сделать это следующим образом:"
   ]
  },
  {
   "cell_type": "code",
   "execution_count": 68,
   "metadata": {},
   "outputs": [
    {
     "name": "stdout",
     "output_type": "stream",
     "text": [
      "10\n",
      "9\n",
      "8\n",
      "7\n",
      "6\n",
      "5\n",
      "4\n",
      "3\n",
      "2\n",
      "1\n"
     ]
    }
   ],
   "source": [
    "i = 10\n",
    "while i >= 1:\n",
    "    print(i)\n",
    "   \n",
    "    # уменьшаем значение i на 1\n",
    "    # такая запись равносильна i = i - 1\n",
    "    i -=1"
   ]
  },
  {
   "cell_type": "markdown",
   "metadata": {},
   "source": [
    "В цикле мы на каждом шаге уменьшаем значение переменной i и ждем, пока ее значение не снизится до 1. В этом примере перебор крайне простой, т. к. в качестве шага алгоритма выступает уменьшение переменной на 1. Но что делать, если изменение переменной алгоритма сложно выразить в цикле? Например, если нам нужно перебрать ключи словаря, вложенные друг в друга? Не составлять же нам многократно вручную цепочки вида orders_dict[source][medium][date]...\n",
    "\n",
    "Давайте решим пример с переменной i следующим образом: вместо цикла while и строчки i -= 1 используем функцию:"
   ]
  },
  {
   "cell_type": "code",
   "execution_count": 69,
   "metadata": {},
   "outputs": [],
   "source": [
    "def decrease_and_print_i( i ):\n",
    "    if i > 1:\n",
    "        print(i)\n",
    "        return decrease_and_print_i(i - 1)\n",
    "    else:\n",
    "        return 1"
   ]
  },
  {
   "cell_type": "markdown",
   "metadata": {},
   "source": [
    "Это пример рекурсивной функции. Рассмотрим как она работает. При первом вызове этой функции со значением i = 10 идет проверка: если i > 1, то вывести i на экран и вызвать эту функцию со значением i = 9.\n",
    "\n",
    "При вызове функции со значением i = 9 снова происходит проверка i > 1, i выводится на экран и вызывается функция со значением i = 8.\n",
    "\n",
    "Так происходит до тех пор, пока значение i не станет меньше 1. Тогда функция возвращает 1 и завершает работу."
   ]
  },
  {
   "cell_type": "markdown",
   "metadata": {},
   "source": [
    "### Упражнение\n",
    "\n",
    "Часто в качестве примера рекурсии приводят расчет факториала числа. Т. е. для числа n это выражение n!:\n",
    "\n",
    "Как написать рекурсивную функцию, которая рассчитывает факториал числа?\n",
    "\n",
    "В основе функции можно использовать более короткую запись определения факториала:"
   ]
  },
  {
   "cell_type": "code",
   "execution_count": 70,
   "metadata": {},
   "outputs": [
    {
     "ename": "SyntaxError",
     "evalue": "invalid syntax (<ipython-input-70-cd1fb7aad6be>, line 1)",
     "output_type": "error",
     "traceback": [
      "\u001b[1;36m  File \u001b[1;32m\"<ipython-input-70-cd1fb7aad6be>\"\u001b[1;36m, line \u001b[1;32m1\u001b[0m\n\u001b[1;33m    n! = n * (n - 1)!\u001b[0m\n\u001b[1;37m     ^\u001b[0m\n\u001b[1;31mSyntaxError\u001b[0m\u001b[1;31m:\u001b[0m invalid syntax\n"
     ]
    }
   ],
   "source": [
    "n! = n * (n - 1)!\n",
    "1! = 1"
   ]
  },
  {
   "cell_type": "code",
   "execution_count": 85,
   "metadata": {},
   "outputs": [],
   "source": [
    "def factor_i( i, U ):\n",
    "    if i > 1:\n",
    "        print('i', i)\n",
    "        print('U*i', U*i)\n",
    "        U = U*i\n",
    "        return factor_i(i - 1, U)\n",
    "    else:\n",
    "        return U"
   ]
  },
  {
   "cell_type": "code",
   "execution_count": 86,
   "metadata": {},
   "outputs": [
    {
     "name": "stdout",
     "output_type": "stream",
     "text": [
      "i 4\n",
      "U*i 4\n",
      "i 3\n",
      "U*i 12\n",
      "i 2\n",
      "U*i 24\n",
      "F 24\n"
     ]
    }
   ],
   "source": [
    "F = 1\n",
    "print('F', factor_i( 4, F ))"
   ]
  },
  {
   "cell_type": "markdown",
   "metadata": {},
   "source": [
    "### Рекурсия и словари\n",
    "\n",
    "Все прошлые примеры можно было без труда решить с помощью циклов. Давайте сделаем пример, в котором использование рекурсии позволит нам перевести лист в словарь"
   ]
  },
  {
   "cell_type": "code",
   "execution_count": 87,
   "metadata": {},
   "outputs": [],
   "source": [
    "line = ['2016-10-01', 'burgerclub', 'cpa-partners', 1]"
   ]
  },
  {
   "cell_type": "code",
   "execution_count": 88,
   "metadata": {},
   "outputs": [],
   "source": [
    "dict2fill = {'2016-10-01': {'burgerclub': {'cpa-partners': 1}}}"
   ]
  },
  {
   "cell_type": "markdown",
   "metadata": {},
   "source": [
    "Здесь в общем случае простым циклом уже не обойтись, т. к. нам надо создать словарь с большим количеством вложенных ключей.\n",
    "\n",
    "Наша функция должна проходить по всем значениям листа и для каждого создавать новый ключ внутри «внешнего» словаря. Чтобы реализовать такой алгоритм можем использовать рекурсию. На каждом шаге берем очередной элемент листа и создаем пару ключ-значение. В качестве ключа ставим текущий элемент листа. А в качестве значения берем вызов этой же функции, но с урезанным на 1 элемент листом."
   ]
  },
  {
   "cell_type": "code",
   "execution_count": 92,
   "metadata": {},
   "outputs": [],
   "source": [
    "line = ['2016-10-01', 'burgerclub', 'cpa-partners', 1]\n",
    "def fillLevels( lineRemainder ):\n",
    "    \"\"\"\n",
    "fillLevels( ['2016-10-01', 'burgerclub', 'cpa-partners', 1] )\n",
    "    {'2016-10-01': {'burgerclub': {'cpa-partners': 1}}}\n",
    "    \"\"\"\n",
    "    \n",
    "    # словарь, который будем пошагово заполнять\n",
    "    dict2fill = {}\n",
    "    if len( lineRemainder ) > 1:\n",
    "        dict2fill[ lineRemainder[0] ] = fillLevels( lineRemainder[1:] )\n",
    "    else:\n",
    "        return lineRemainder[0]\n",
    "    return dict2fill"
   ]
  },
  {
   "cell_type": "markdown",
   "metadata": {},
   "source": [
    "На вход функция принимает часть листа line. \n",
    "\n",
    "    Берет его первый элемент lineRemainder[0] и вызывает себя с остатком листа line, т. е. с элементами lineRemainder[1:].\n",
    "\n",
    "    Так продолжаем до тех пор, пока в lineRemainder не останется один элемент\n",
    "\n",
    "    Пример"
   ]
  },
  {
   "cell_type": "markdown",
   "metadata": {},
   "source": [
    "Что получилось:"
   ]
  },
  {
   "cell_type": "code",
   "execution_count": 94,
   "metadata": {},
   "outputs": [
    {
     "data": {
      "text/plain": [
       "{'2016-10-01': {'burgerclub': {'cpa-partners': 1}}}"
      ]
     },
     "execution_count": 94,
     "metadata": {},
     "output_type": "execute_result"
    }
   ],
   "source": [
    "fillLevels(line)"
   ]
  },
  {
   "cell_type": "markdown",
   "metadata": {},
   "source": [
    "### Упражнение\n",
    "\n",
    "Получите вложенный словарь для листа range(100).\n",
    "\n",
    "Какое значение будет иметь ключ в самого глубоко вложенного словаря?"
   ]
  },
  {
   "cell_type": "code",
   "execution_count": 96,
   "metadata": {},
   "outputs": [
    {
     "data": {
      "text/plain": [
       "{0: {1: {2: {3: {4: {5: {6: {7: {8: {9: {10: {11: {12: {13: {14: {15: {16: {17: {18: {19: {20: {21: {22: {23: {24: {25: {26: {27: {28: {29: {30: {31: {32: {33: {34: {35: {36: {37: {38: {39: {40: {41: {42: {43: {44: {45: {46: {47: {48: {49: {50: {51: {52: {53: {54: {55: {56: {57: {58: {59: {60: {61: {62: {63: {64: {65: {66: {67: {68: {69: {70: {71: {72: {73: {74: {75: {76: {77: {78: {79: {80: {81: {82: {83: {84: {85: {86: {87: {88: {89: {90: {91: {92: {93: {94: {95: {96: {97: {98: 99}}}}}}}}}}}}}}}}}}}}}}}}}}}}}}}}}}}}}}}}}}}}}}}}}}}}}}}}}}}}}}}}}}}}}}}}}}}}}}}}}}}}}}}}}}}}}}}}}}}"
      ]
     },
     "execution_count": 96,
     "metadata": {},
     "output_type": "execute_result"
    }
   ],
   "source": [
    "fillLevels(range(100))"
   ]
  },
  {
   "cell_type": "markdown",
   "metadata": {},
   "source": [
    "# Построение алгоритма поиска по нескольким столбцам\n",
    "Теперь, используя перевод листа в словарь через функцию fillLevels, мы можем дополнять получившийся словарь другими строками. Т. е. мы хотим из списка листов"
   ]
  },
  {
   "cell_type": "markdown",
   "metadata": {},
   "source": [
    "data = [\n",
    "    ['2016-10-01', 'google', 'sem', 5],\n",
    "    ['2016-10-01', 'google', 'seo', 1],\n",
    "    ['2016-10-01', 'newsletter', 'email', 1]\n",
    "]\n",
    "\n",
    "получить словарь\n",
    "\n",
    "data_dict = \n",
    "    { '2016-10-01': \n",
    "        { 'google': \n",
    "            { 'sem': 5, \n",
    "              'seo': 1 },      \n",
    "          'newsletter': \n",
    "            { 'email': 1 }\n",
    "        }\n",
    "    }"
   ]
  },
  {
   "cell_type": "markdown",
   "metadata": {},
   "source": [
    "### Функция перевода таблицы в словарь\n",
    "\n",
    "Здесь нам на помощь опять придет рекурсия:\n",
    "\n",
    "1. На первом шаге словарь data_dict пуст. Поэтому с помощью функции fillLevels просто записываем в него первую строку ['2016-10-01', 'google', 'sem', 5] в виде словаря.\n",
    "\n",
    "2. При обработке второй строки line = ['2016-10-01', 'google', 'seo', 1] нужно проверить, нет ли в словаре data_dict уже существующих ключей. Такую проверку можно сделать рекурсивно, последовательно сравнивая ключи словаря data_dict и элементы листа line. Как только мы найдем несовпадение, дополним словарь data_dict остатком листа line с помощью функции fillLevels"
   ]
  },
  {
   "cell_type": "code",
   "execution_count": 99,
   "metadata": {},
   "outputs": [],
   "source": [
    "def checkLevels( levelDict, level, line ):\n",
    "    if line[ level ] in levelDict:\n",
    "        checkLevels( levelDict[ line[ level ] ], level + 1, line )\n",
    "        return levelDict\n",
    "    else:\n",
    "        levelDict[ line[ level ] ] =  fillLevels( line[ level + 1: ] )\n",
    "        return levelDict"
   ]
  },
  {
   "cell_type": "markdown",
   "metadata": {},
   "source": [
    "Проверим, что получится:"
   ]
  },
  {
   "cell_type": "code",
   "execution_count": 100,
   "metadata": {},
   "outputs": [
    {
     "name": "stdout",
     "output_type": "stream",
     "text": [
      "{'2016-10-01': {'google': {'sem': 5, 'seo': 1}, 'newsletter': {'email': 1}}}\n"
     ]
    }
   ],
   "source": [
    "data = [\n",
    "    ['2016-10-01', 'google', 'sem', 5],\n",
    "    ['2016-10-01', 'google', 'seo', 1],\n",
    "    ['2016-10-01', 'newsletter', 'email', 1]\n",
    "]\n",
    "data_dict = {}\n",
    "for line in data:\n",
    "    data_dict = checkLevels(data_dict, 0, line)\n",
    "print(data_dict)"
   ]
  },
  {
   "cell_type": "markdown",
   "metadata": {},
   "source": [
    "### Упражнение\n",
    "\n",
    "Статистика покупок прошедшей рекламной кампании задается шестью параметрами листом data:"
   ]
  },
  {
   "cell_type": "code",
   "execution_count": 101,
   "metadata": {},
   "outputs": [],
   "source": [
    "data = [\n",
    "\n",
    "['2018-01-01', 'google', 'cpc', 'ДФО', 'кампания_1', 'Хабаровск', 114],\n",
    "\n",
    "['2018-01-01', 'google', 'cpc', 'ДФО', 'кампания_2', 'Владивосток', 536],\n",
    "\n",
    "['2018-01-01', 'google', 'cpc', 'ДФО', 'кампания_1', 'Магадан', 436]\n",
    "\n",
    "]"
   ]
  },
  {
   "cell_type": "markdown",
   "metadata": {},
   "source": [
    "Используя функцию checkLevels, получите словарь data_dict.\n",
    "\n",
    "Сколько различных кампаний было проведено в листе data? Т. е. необходимо посчитать количество ключей словаря data_dict['2018-01-01']['google']['cpc']['ДФО']"
   ]
  },
  {
   "cell_type": "code",
   "execution_count": 102,
   "metadata": {},
   "outputs": [
    {
     "name": "stdout",
     "output_type": "stream",
     "text": [
      "{'2018-01-01': {'google': {'cpc': {'ДФО': {'кампания_1': {'Хабаровск': 114, 'Магадан': 436}, 'кампания_2': {'Владивосток': 536}}}}}}\n"
     ]
    }
   ],
   "source": [
    "data_dict = {}\n",
    "for line in data:\n",
    "    data_dict = checkLevels(data_dict, 0, line)\n",
    "print(data_dict)"
   ]
  },
  {
   "cell_type": "code",
   "execution_count": 103,
   "metadata": {},
   "outputs": [
    {
     "data": {
      "text/plain": [
       "{'кампания_1': {'Хабаровск': 114, 'Магадан': 436},\n",
       " 'кампания_2': {'Владивосток': 536}}"
      ]
     },
     "execution_count": 103,
     "metadata": {},
     "output_type": "execute_result"
    }
   ],
   "source": [
    "data_dict['2018-01-01']['google']['cpc']['ДФО']"
   ]
  },
  {
   "cell_type": "markdown",
   "metadata": {},
   "source": [
    "### Поиск покупок в таблице\n",
    "\n",
    "Словарь готов, а это значит, основная часть задачи выполнена. Осталось написать функцию поиска количества покупок по трем значениям: дата покупки, источник и канал.\n",
    "\n",
    "Реализуем следующий алгорим: будем последовательно проверять наличие ключа с данной датой, источником или каналом в словаре data_dict. Если хотя бы одного ключа не окажется, то можем сразу возвращать 0 покупок. Это существенно ускорит наш поиск в случае присутствия больших таблиц."
   ]
  },
  {
   "cell_type": "code",
   "execution_count": 104,
   "metadata": {},
   "outputs": [],
   "source": [
    "def findLineValue( finalDict, line ):\n",
    "    if len( line ) > 1:\n",
    "        if line[ 0 ] in finalDict:\n",
    "            return findLineValue( finalDict[ line[ 0 ] ], line[1:] )\n",
    "        else:\n",
    "            return 0\n",
    "    else:\n",
    "        if line[0] in finalDict:\n",
    "            return finalDict[ line[0] ]\n",
    "        else:\n",
    "            return 0"
   ]
  },
  {
   "cell_type": "code",
   "execution_count": 108,
   "metadata": {},
   "outputs": [
    {
     "data": {
      "text/plain": [
       "{'ДФО': {'кампания_1': {'Хабаровск': 114, 'Магадан': 436},\n",
       "  'кампания_2': {'Владивосток': 536}}}"
      ]
     },
     "execution_count": 108,
     "metadata": {},
     "output_type": "execute_result"
    }
   ],
   "source": [
    "# Проверим корректность работы:\n",
    "\n",
    "findLineValue( data_dict, ['2018-01-01', 'google', 'cpc'] )"
   ]
  },
  {
   "cell_type": "code",
   "execution_count": 107,
   "metadata": {},
   "outputs": [
    {
     "data": {
      "text/plain": [
       "0"
      ]
     },
     "execution_count": 107,
     "metadata": {},
     "output_type": "execute_result"
    }
   ],
   "source": [
    "# Если даты нет в словаре data_dict, то должны получить 0:\n",
    "\n",
    "findLineValue( data_dict, ['2018-01-01', 'google', 'sem'] )"
   ]
  },
  {
   "cell_type": "markdown",
   "metadata": {},
   "source": [
    "### Упражнение\n",
    "\n",
    "Известно, что 1 января по кампании google / cpc кампания_2 во Владивостоке было 26 800 переходов. Посчитайте конверсию из переходов в покупки, используя функцию поиска findLineValue.\n",
    "\n",
    "Каково значение конверсии переходов в покупки для этого случая? Приведите точное значение конверсии (пример формата ответа 0.04)"
   ]
  },
  {
   "cell_type": "code",
   "execution_count": 126,
   "metadata": {},
   "outputs": [
    {
     "name": "stdout",
     "output_type": "stream",
     "text": [
      "{'Владивосток': 536}\n",
      "dict_items([('Владивосток', 536)])\n",
      "dict_keys(['Владивосток'])\n",
      "dict_values([536])\n"
     ]
    }
   ],
   "source": [
    "a = findLineValue( data_dict, ['2018-01-01', 'google', 'cpc', 'ДФО', 'кампания_2'] )\n",
    "#type (a)\n",
    "print(a)\n",
    "print(a.items())\n",
    "print(a.keys())\n",
    "print(a.values())"
   ]
  },
  {
   "cell_type": "code",
   "execution_count": 120,
   "metadata": {},
   "outputs": [
    {
     "data": {
      "text/plain": [
       "dict_values([536])"
      ]
     },
     "execution_count": 120,
     "metadata": {},
     "output_type": "execute_result"
    }
   ],
   "source": [
    "a.values()"
   ]
  },
  {
   "cell_type": "code",
   "execution_count": 123,
   "metadata": {},
   "outputs": [
    {
     "data": {
      "text/plain": [
       "0.02"
      ]
     },
     "execution_count": 123,
     "metadata": {},
     "output_type": "execute_result"
    }
   ],
   "source": [
    "536/26800"
   ]
  }
 ],
 "metadata": {
  "kernelspec": {
   "display_name": "Python 3",
   "language": "python",
   "name": "python3"
  },
  "language_info": {
   "codemirror_mode": {
    "name": "ipython",
    "version": 3
   },
   "file_extension": ".py",
   "mimetype": "text/x-python",
   "name": "python",
   "nbconvert_exporter": "python",
   "pygments_lexer": "ipython3",
   "version": "3.7.1"
  }
 },
 "nbformat": 4,
 "nbformat_minor": 2
}
