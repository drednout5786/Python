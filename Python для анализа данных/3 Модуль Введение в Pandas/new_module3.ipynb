{
 "cells": [
  {
   "cell_type": "markdown",
   "metadata": {},
   "source": [
    "## Блок 2"
   ]
  },
  {
   "cell_type": "markdown",
   "metadata": {},
   "source": [
    "### Шаг 5"
   ]
  },
  {
   "cell_type": "code",
   "execution_count": 7,
   "metadata": {},
   "outputs": [
    {
     "data": {
      "text/plain": [
       "_5    11\n",
       "_2     8\n",
       "_8     8\n",
       "_3     7\n",
       "_4     7\n",
       "A1     5\n",
       "A5     5\n",
       "A4     5\n",
       "A2     2\n",
       "_6     2\n",
       "Name: Product, dtype: int64"
      ]
     },
     "execution_count": 7,
     "metadata": {},
     "output_type": "execute_result"
    }
   ],
   "source": [
    "# Определим какой товар (столбец Product) упоминается в файле чаще всего\n",
    "import pandas as pd\n",
    "data = pd.read_csv('transactions.csv', sep=';')\n",
    "# получаем ответ\n",
    "data['Product'].value_counts()"
   ]
  },
  {
   "cell_type": "markdown",
   "metadata": {},
   "source": [
    "## Блок 3"
   ]
  },
  {
   "cell_type": "markdown",
   "metadata": {},
   "source": [
    "### Шаг 5"
   ]
  },
  {
   "cell_type": "code",
   "execution_count": 16,
   "metadata": {},
   "outputs": [
    {
     "data": {
      "text/plain": [
       "6"
      ]
     },
     "execution_count": 16,
     "metadata": {},
     "output_type": "execute_result"
    }
   ],
   "source": [
    "# Найдем, в названиях каких стран есть слово state\n",
    "data = pd.read_csv('power.csv')\n",
    "# Используем str.contains() и sum()\n",
    "len(data[ data['country'].str.contains('state', case=False) ]['country'].unique())"
   ]
  },
  {
   "cell_type": "markdown",
   "metadata": {},
   "source": [
    "### Шаг 8"
   ]
  },
  {
   "cell_type": "code",
   "execution_count": 24,
   "metadata": {},
   "outputs": [
    {
     "data": {
      "text/html": [
       "<div>\n",
       "<table border=\"1\" class=\"dataframe\">\n",
       "  <thead>\n",
       "    <tr style=\"text-align: right;\">\n",
       "      <th></th>\n",
       "      <th>country</th>\n",
       "      <th>quantity</th>\n",
       "      <th>category</th>\n",
       "    </tr>\n",
       "    <tr>\n",
       "      <th>year</th>\n",
       "      <th></th>\n",
       "      <th></th>\n",
       "      <th></th>\n",
       "    </tr>\n",
       "  </thead>\n",
       "  <tbody>\n",
       "    <tr>\n",
       "      <th>2010</th>\n",
       "      <td>1215</td>\n",
       "      <td>1215</td>\n",
       "      <td>1215</td>\n",
       "    </tr>\n",
       "    <tr>\n",
       "      <th>2008</th>\n",
       "      <td>1203</td>\n",
       "      <td>1203</td>\n",
       "      <td>1203</td>\n",
       "    </tr>\n",
       "    <tr>\n",
       "      <th>2009</th>\n",
       "      <td>1192</td>\n",
       "      <td>1192</td>\n",
       "      <td>1192</td>\n",
       "    </tr>\n",
       "    <tr>\n",
       "      <th>2011</th>\n",
       "      <td>1191</td>\n",
       "      <td>1191</td>\n",
       "      <td>1191</td>\n",
       "    </tr>\n",
       "    <tr>\n",
       "      <th>2012</th>\n",
       "      <td>1183</td>\n",
       "      <td>1183</td>\n",
       "      <td>1183</td>\n",
       "    </tr>\n",
       "    <tr>\n",
       "      <th>2014</th>\n",
       "      <td>1171</td>\n",
       "      <td>1171</td>\n",
       "      <td>1171</td>\n",
       "    </tr>\n",
       "    <tr>\n",
       "      <th>2013</th>\n",
       "      <td>1163</td>\n",
       "      <td>1163</td>\n",
       "      <td>1163</td>\n",
       "    </tr>\n",
       "    <tr>\n",
       "      <th>2007</th>\n",
       "      <td>1150</td>\n",
       "      <td>1150</td>\n",
       "      <td>1150</td>\n",
       "    </tr>\n",
       "    <tr>\n",
       "      <th>2006</th>\n",
       "      <td>1146</td>\n",
       "      <td>1146</td>\n",
       "      <td>1146</td>\n",
       "    </tr>\n",
       "    <tr>\n",
       "      <th>2005</th>\n",
       "      <td>1040</td>\n",
       "      <td>1040</td>\n",
       "      <td>1040</td>\n",
       "    </tr>\n",
       "    <tr>\n",
       "      <th>2003</th>\n",
       "      <td>997</td>\n",
       "      <td>997</td>\n",
       "      <td>997</td>\n",
       "    </tr>\n",
       "    <tr>\n",
       "      <th>2004</th>\n",
       "      <td>993</td>\n",
       "      <td>993</td>\n",
       "      <td>993</td>\n",
       "    </tr>\n",
       "    <tr>\n",
       "      <th>2000</th>\n",
       "      <td>984</td>\n",
       "      <td>984</td>\n",
       "      <td>984</td>\n",
       "    </tr>\n",
       "    <tr>\n",
       "      <th>2002</th>\n",
       "      <td>982</td>\n",
       "      <td>982</td>\n",
       "      <td>982</td>\n",
       "    </tr>\n",
       "    <tr>\n",
       "      <th>2001</th>\n",
       "      <td>972</td>\n",
       "      <td>972</td>\n",
       "      <td>972</td>\n",
       "    </tr>\n",
       "    <tr>\n",
       "      <th>1999</th>\n",
       "      <td>942</td>\n",
       "      <td>942</td>\n",
       "      <td>942</td>\n",
       "    </tr>\n",
       "    <tr>\n",
       "      <th>1998</th>\n",
       "      <td>934</td>\n",
       "      <td>934</td>\n",
       "      <td>934</td>\n",
       "    </tr>\n",
       "    <tr>\n",
       "      <th>1997</th>\n",
       "      <td>914</td>\n",
       "      <td>914</td>\n",
       "      <td>914</td>\n",
       "    </tr>\n",
       "    <tr>\n",
       "      <th>1995</th>\n",
       "      <td>898</td>\n",
       "      <td>898</td>\n",
       "      <td>898</td>\n",
       "    </tr>\n",
       "    <tr>\n",
       "      <th>1996</th>\n",
       "      <td>896</td>\n",
       "      <td>896</td>\n",
       "      <td>896</td>\n",
       "    </tr>\n",
       "    <tr>\n",
       "      <th>1993</th>\n",
       "      <td>860</td>\n",
       "      <td>860</td>\n",
       "      <td>860</td>\n",
       "    </tr>\n",
       "    <tr>\n",
       "      <th>1994</th>\n",
       "      <td>857</td>\n",
       "      <td>857</td>\n",
       "      <td>857</td>\n",
       "    </tr>\n",
       "    <tr>\n",
       "      <th>1992</th>\n",
       "      <td>814</td>\n",
       "      <td>814</td>\n",
       "      <td>814</td>\n",
       "    </tr>\n",
       "  </tbody>\n",
       "</table>\n",
       "</div>"
      ],
      "text/plain": [
       "      country  quantity  category\n",
       "year                             \n",
       "2010     1215      1215      1215\n",
       "2008     1203      1203      1203\n",
       "2009     1192      1192      1192\n",
       "2011     1191      1191      1191\n",
       "2012     1183      1183      1183\n",
       "2014     1171      1171      1171\n",
       "2013     1163      1163      1163\n",
       "2007     1150      1150      1150\n",
       "2006     1146      1146      1146\n",
       "2005     1040      1040      1040\n",
       "2003      997       997       997\n",
       "2004      993       993       993\n",
       "2000      984       984       984\n",
       "2002      982       982       982\n",
       "2001      972       972       972\n",
       "1999      942       942       942\n",
       "1998      934       934       934\n",
       "1997      914       914       914\n",
       "1995      898       898       898\n",
       "1996      896       896       896\n",
       "1993      860       860       860\n",
       "1994      857       857       857\n",
       "1992      814       814       814"
      ]
     },
     "execution_count": 24,
     "metadata": {},
     "output_type": "execute_result"
    }
   ],
   "source": [
    "filtered_countries = data[ (data['country']=='Russian Federation') | (data['country']=='Belarus') ]\n",
    "\n",
    "# Применяем метод groupby для группировки строк по годам, считаем количество строк,\n",
    "# относящихся к определенному году с помощью count() и сортируем по любому столбцу,\n",
    "# чтобы получить наиболее удобный для нас вид\n",
    "filtered_countries.groupby('year').count().sort_values('category', ascending=False)"
   ]
  },
  {
   "cell_type": "markdown",
   "metadata": {},
   "source": [
    "## Блок 4"
   ]
  },
  {
   "cell_type": "markdown",
   "metadata": {},
   "source": [
    "### Шаг 4"
   ]
  },
  {
   "cell_type": "code",
   "execution_count": 30,
   "metadata": {},
   "outputs": [
    {
     "data": {
      "text/plain": [
       "'t023'"
      ]
     },
     "execution_count": 30,
     "metadata": {},
     "output_type": "execute_result"
    }
   ],
   "source": [
    "# Найдем, на какой транзакции (столбец ID) были наименьшие расходы (столбец Cost) \n",
    "# в категории \"_8\" (столбец Product)\n",
    "import pandas as pd\n",
    "data = pd.read_csv('transactions.csv', sep=';')\n",
    "# Непосредственно находим: сначала выделяем строки, где значение столбца Product равно '_8', \n",
    "# затем сортируем получившийся датафрейм по столбцу Cost, берем первую строку нового датафрейма\n",
    "# (так как именно там находится минимум столбца Cost) и берем оттуда ID\n",
    "data[data['Product'] == '_8'].sort_values(by='Cost').reset_index().loc[0]['ID']"
   ]
  },
  {
   "cell_type": "markdown",
   "metadata": {},
   "source": [
    "## Домашнее задание"
   ]
  },
  {
   "cell_type": "code",
   "execution_count": 47,
   "metadata": {},
   "outputs": [
    {
     "data": {
      "text/plain": [
       "['Lithuania', 'Latvia', 'Estonia']"
      ]
     },
     "execution_count": 47,
     "metadata": {},
     "output_type": "execute_result"
    }
   ],
   "source": [
    "# посчитать заданную метрику по данным файла power.csv: каково суммарное\n",
    "# потребление стран Прибалтики  категорий 4, 12 и 21 за период с 2005 по 2010 года\n",
    "data = pd.read_csv('power.csv')\n",
    "# Выясним, как в датафрейме называются Литва, Латвия и Эстония\n",
    "countries = [ x for x in data['country'].unique() if 'Lit' in x or 'Lat' in x or 'Est' in x]\n",
    "countries"
   ]
  },
  {
   "cell_type": "code",
   "execution_count": 48,
   "metadata": {},
   "outputs": [
    {
     "data": {
      "text/plain": [
       "240580.0"
      ]
     },
     "execution_count": 48,
     "metadata": {},
     "output_type": "execute_result"
    }
   ],
   "source": [
    "# Оставляем только те строки датафрейма, которые содержат 'Lithuania', 'Latvia', 'Estonia'\n",
    "filtered_countries = data[ (data['country']=='Lithuania') | (data['country']=='Latvia')\n",
    "                         | (data['country'] == 'Estonia')]\n",
    "\n",
    "# Оставьте в датафрейме только те строки, \n",
    "# год которых приходится на период с 2005 по 2010 включительно\n",
    "filtered_countries = filtered_countries[(filtered_countries['year'] >= 2005) & \n",
    "                                        (filtered_countries['year'] <= 2010)]\n",
    "# Удалим строки со значением столбца quantity < 0\n",
    "filtered_countries = filtered_countries[filtered_countries['quantity'] >= 0]\n",
    "\n",
    "# Оставим в датафрейме только строки со значением столбца category, равным 4, 12 или 21. \n",
    "filtered_countries = filtered_countries[(filtered_countries['category'] == 4) |\n",
    "                                        (filtered_countries['category'] == 12) |\n",
    "                                        (filtered_countries['category'] == 21)]\n",
    "\n",
    "# Посчитаум сумму столбца quantity.\n",
    "filtered_countries['quantity'].sum()"
   ]
  },
  {
   "cell_type": "code",
   "execution_count": null,
   "metadata": {},
   "outputs": [],
   "source": []
  }
 ],
 "metadata": {
  "kernelspec": {
   "display_name": "Python 3",
   "language": "python",
   "name": "python3"
  },
  "language_info": {
   "codemirror_mode": {
    "name": "ipython",
    "version": 3
   },
   "file_extension": ".py",
   "mimetype": "text/x-python",
   "name": "python",
   "nbconvert_exporter": "python",
   "pygments_lexer": "ipython3",
   "version": "3.5.2"
  }
 },
 "nbformat": 4,
 "nbformat_minor": 2
}
