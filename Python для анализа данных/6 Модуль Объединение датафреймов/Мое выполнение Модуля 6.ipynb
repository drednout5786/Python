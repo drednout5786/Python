{
 "cells": [
  {
   "cell_type": "markdown",
   "metadata": {},
   "source": [
    "# Метод merge\n",
    "\n",
    "На практике источники данных редко ограничиваются одной таблицей.  Что делать, если надо объединить несколько? \n",
    "\n",
    "Если все ваши данные сложены в одну хорошо настроенную базу данных, то объединение этих таблиц сводится к SQL JOIN командам. Но, предположим, такой работы еще никто не проделал, и вы, наверняка, даже не знаете, что такое SQL JOIN, тогда для данных, доступных к обработке в Pandas, есть метод merge. Он позволяет аналогичным образом объединять датафреймы, используя для объединения один или несколько общих столбцов таблиц.\n",
    "\n",
    "В этом модуле мы продолжим использовать знакомый нам датасет от Grouplens. Предположим, вам поручили определить самые популярные жанры среди кинолюбителей, но жанры хранятся в другом файле. \n",
    "\n",
    "Помимо файла ratings.csv ,возьмем файл с соответствием movieId и названием фильма с перечнем его жанров movies.csv. Нам необходимо объединить эти файлы и определить самые популярные жанры. Поехали!"
   ]
  },
  {
   "cell_type": "code",
   "execution_count": 2,
   "metadata": {},
   "outputs": [],
   "source": [
    "import pandas as pd\n",
    "import numpy as np"
   ]
  },
  {
   "cell_type": "code",
   "execution_count": 14,
   "metadata": {},
   "outputs": [
    {
     "data": {
      "text/html": [
       "<div>\n",
       "<style scoped>\n",
       "    .dataframe tbody tr th:only-of-type {\n",
       "        vertical-align: middle;\n",
       "    }\n",
       "\n",
       "    .dataframe tbody tr th {\n",
       "        vertical-align: top;\n",
       "    }\n",
       "\n",
       "    .dataframe thead th {\n",
       "        text-align: right;\n",
       "    }\n",
       "</style>\n",
       "<table border=\"1\" class=\"dataframe\">\n",
       "  <thead>\n",
       "    <tr style=\"text-align: right;\">\n",
       "      <th></th>\n",
       "      <th>movieId</th>\n",
       "      <th>title</th>\n",
       "      <th>genres</th>\n",
       "    </tr>\n",
       "  </thead>\n",
       "  <tbody>\n",
       "    <tr>\n",
       "      <th>0</th>\n",
       "      <td>1</td>\n",
       "      <td>Toy Story (1995)</td>\n",
       "      <td>Adventure|Animation|Children|Comedy|Fantasy</td>\n",
       "    </tr>\n",
       "    <tr>\n",
       "      <th>1</th>\n",
       "      <td>2</td>\n",
       "      <td>Jumanji (1995)</td>\n",
       "      <td>Adventure|Children|Fantasy</td>\n",
       "    </tr>\n",
       "    <tr>\n",
       "      <th>2</th>\n",
       "      <td>3</td>\n",
       "      <td>Grumpier Old Men (1995)</td>\n",
       "      <td>Comedy|Romance</td>\n",
       "    </tr>\n",
       "    <tr>\n",
       "      <th>3</th>\n",
       "      <td>4</td>\n",
       "      <td>Waiting to Exhale (1995)</td>\n",
       "      <td>Comedy|Drama|Romance</td>\n",
       "    </tr>\n",
       "    <tr>\n",
       "      <th>4</th>\n",
       "      <td>5</td>\n",
       "      <td>Father of the Bride Part II (1995)</td>\n",
       "      <td>Comedy</td>\n",
       "    </tr>\n",
       "  </tbody>\n",
       "</table>\n",
       "</div>"
      ],
      "text/plain": [
       "   movieId                               title  \\\n",
       "0        1                    Toy Story (1995)   \n",
       "1        2                      Jumanji (1995)   \n",
       "2        3             Grumpier Old Men (1995)   \n",
       "3        4            Waiting to Exhale (1995)   \n",
       "4        5  Father of the Bride Part II (1995)   \n",
       "\n",
       "                                        genres  \n",
       "0  Adventure|Animation|Children|Comedy|Fantasy  \n",
       "1                   Adventure|Children|Fantasy  \n",
       "2                               Comedy|Romance  \n",
       "3                         Comedy|Drama|Romance  \n",
       "4                                       Comedy  "
      ]
     },
     "execution_count": 14,
     "metadata": {},
     "output_type": "execute_result"
    }
   ],
   "source": [
    "ratings = pd.read_csv('ratings.csv')\n",
    "movies = pd.read_csv('movies.csv')\n",
    "movies.head()"
   ]
  },
  {
   "cell_type": "code",
   "execution_count": 6,
   "metadata": {},
   "outputs": [
    {
     "data": {
      "text/plain": [
       "(9125, 3)"
      ]
     },
     "execution_count": 6,
     "metadata": {},
     "output_type": "execute_result"
    }
   ],
   "source": [
    "movies.shape"
   ]
  },
  {
   "cell_type": "code",
   "execution_count": 15,
   "metadata": {},
   "outputs": [
    {
     "data": {
      "text/plain": [
       "9125"
      ]
     },
     "execution_count": 15,
     "metadata": {},
     "output_type": "execute_result"
    }
   ],
   "source": [
    "len(movies)"
   ]
  },
  {
   "cell_type": "code",
   "execution_count": 1,
   "metadata": {},
   "outputs": [],
   "source": []
  },
  {
   "cell_type": "markdown",
   "metadata": {},
   "source": [
    "Посчитайте какое количество фильмов в датафрейме movies относится к жанру Fantasy? Т. е. найдите количество строк, у которых в столбце genres упоминается слово 'Fantasy'. Напомним, что для такого фильтра можно использовать метод str.contains"
   ]
  },
  {
   "cell_type": "code",
   "execution_count": 17,
   "metadata": {},
   "outputs": [
    {
     "data": {
      "text/plain": [
       "654"
      ]
     },
     "execution_count": 17,
     "metadata": {},
     "output_type": "execute_result"
    }
   ],
   "source": [
    "len(movies[ movies['genres'].str.contains('Fantasy') ])"
   ]
  },
  {
   "cell_type": "code",
   "execution_count": 20,
   "metadata": {},
   "outputs": [
    {
     "data": {
      "text/plain": [
       "654"
      ]
     },
     "execution_count": 20,
     "metadata": {},
     "output_type": "execute_result"
    }
   ],
   "source": [
    "# Узнаем, сколько фильмов в датафрейме movies относится к жанру Fantasy\n",
    "movies['genres'].str.contains('Fantasy').sum()"
   ]
  },
  {
   "cell_type": "markdown",
   "metadata": {},
   "source": [
    "ОБЪЕДИНЯЕМ СО СТАТИСТИКОЙ РЕЙТИНГОВ\n",
    "\n",
    "У датафреймов ratings и movies есть общий столбец movieId. А это значит, что мы можем объединить эти датафреймы в одну таблицу. Используем метод merge:\n",
    "\n",
    "Основные параметры метода merge:\n",
    "\n",
    "how — при значении left берем все значения из ratings и ищем их соответствия в movies. Если нет совпадений, то ставим нулевое значение. При этом все значения из ratings сохраняются. Другие варианты: right, inner (оставляем только те movieId, которые есть в обоих датафреймах), outer (объединение всех вариантов movieId в датафреймах).\n",
    "on — по какому столбцу происходит объединение. Для объединения по нескольким столбцам используйте on = ['col1', 'col2'] или left_on и right_on."
   ]
  },
  {
   "cell_type": "code",
   "execution_count": 18,
   "metadata": {},
   "outputs": [
    {
     "data": {
      "text/html": [
       "<div>\n",
       "<style scoped>\n",
       "    .dataframe tbody tr th:only-of-type {\n",
       "        vertical-align: middle;\n",
       "    }\n",
       "\n",
       "    .dataframe tbody tr th {\n",
       "        vertical-align: top;\n",
       "    }\n",
       "\n",
       "    .dataframe thead th {\n",
       "        text-align: right;\n",
       "    }\n",
       "</style>\n",
       "<table border=\"1\" class=\"dataframe\">\n",
       "  <thead>\n",
       "    <tr style=\"text-align: right;\">\n",
       "      <th></th>\n",
       "      <th>userId</th>\n",
       "      <th>movieId</th>\n",
       "      <th>rating</th>\n",
       "      <th>timestamp</th>\n",
       "      <th>title</th>\n",
       "      <th>genres</th>\n",
       "    </tr>\n",
       "  </thead>\n",
       "  <tbody>\n",
       "    <tr>\n",
       "      <th>0</th>\n",
       "      <td>1</td>\n",
       "      <td>31</td>\n",
       "      <td>2.5</td>\n",
       "      <td>1260759144</td>\n",
       "      <td>Dangerous Minds (1995)</td>\n",
       "      <td>Drama</td>\n",
       "    </tr>\n",
       "    <tr>\n",
       "      <th>1</th>\n",
       "      <td>1</td>\n",
       "      <td>1029</td>\n",
       "      <td>3.0</td>\n",
       "      <td>1260759179</td>\n",
       "      <td>Dumbo (1941)</td>\n",
       "      <td>Animation|Children|Drama|Musical</td>\n",
       "    </tr>\n",
       "    <tr>\n",
       "      <th>2</th>\n",
       "      <td>1</td>\n",
       "      <td>1061</td>\n",
       "      <td>3.0</td>\n",
       "      <td>1260759182</td>\n",
       "      <td>Sleepers (1996)</td>\n",
       "      <td>Thriller</td>\n",
       "    </tr>\n",
       "    <tr>\n",
       "      <th>3</th>\n",
       "      <td>1</td>\n",
       "      <td>1129</td>\n",
       "      <td>2.0</td>\n",
       "      <td>1260759185</td>\n",
       "      <td>Escape from New York (1981)</td>\n",
       "      <td>Action|Adventure|Sci-Fi|Thriller</td>\n",
       "    </tr>\n",
       "    <tr>\n",
       "      <th>4</th>\n",
       "      <td>1</td>\n",
       "      <td>1172</td>\n",
       "      <td>4.0</td>\n",
       "      <td>1260759205</td>\n",
       "      <td>Cinema Paradiso (Nuovo cinema Paradiso) (1989)</td>\n",
       "      <td>Drama</td>\n",
       "    </tr>\n",
       "  </tbody>\n",
       "</table>\n",
       "</div>"
      ],
      "text/plain": [
       "   userId  movieId  rating   timestamp  \\\n",
       "0       1       31     2.5  1260759144   \n",
       "1       1     1029     3.0  1260759179   \n",
       "2       1     1061     3.0  1260759182   \n",
       "3       1     1129     2.0  1260759185   \n",
       "4       1     1172     4.0  1260759205   \n",
       "\n",
       "                                            title  \\\n",
       "0                          Dangerous Minds (1995)   \n",
       "1                                    Dumbo (1941)   \n",
       "2                                 Sleepers (1996)   \n",
       "3                     Escape from New York (1981)   \n",
       "4  Cinema Paradiso (Nuovo cinema Paradiso) (1989)   \n",
       "\n",
       "                             genres  \n",
       "0                             Drama  \n",
       "1  Animation|Children|Drama|Musical  \n",
       "2                          Thriller  \n",
       "3  Action|Adventure|Sci-Fi|Thriller  \n",
       "4                             Drama  "
      ]
     },
     "execution_count": 18,
     "metadata": {},
     "output_type": "execute_result"
    }
   ],
   "source": [
    "joined = ratings.merge(movies, on='movieId', how='left')\n",
    "joined.head()"
   ]
  },
  {
   "cell_type": "code",
   "execution_count": 19,
   "metadata": {},
   "outputs": [
    {
     "data": {
      "text/plain": [
       "True"
      ]
     },
     "execution_count": 19,
     "metadata": {},
     "output_type": "execute_result"
    }
   ],
   "source": [
    "#После объединения датафреймов лучше проверять, не возникли ли дубликаты. О возможных проблемах метода merge мы поговорим \n",
    "#в следующем блоке. Сейчас проверим, совпадает ли число строк объединенного датафрейма с исходным:\n",
    "\n",
    "len(ratings) == len(joined)"
   ]
  },
  {
   "cell_type": "markdown",
   "metadata": {},
   "source": [
    "### УПРАЖНЕНИЕ\n",
    "\n",
    "Вам даны выгрузки статистики рекламных кампаний из Яндекс.Директа (файл direct_stats.tsv) и заказов на сайте из CRM (файл crm_stats.tsv). В файле со статистикой Яндекс.Директа приведены данные по открученной рекламе: для каждой кампании (столбец campaign) есть показы объявлений, клики и расходы. В файле с  выгрузкой CRM - для этих же кампаний сумма заказов на сайте (столбец orders).\n",
    "\n",
    "Вам необходимо совместить эти выгрузки по дате и названию кампании. И посчитать стоимость заказа для каждой кампании за каждый день. Т. е. отношение расходов (столбец cost) к количеству заказов (столбец orders).\n",
    "\n",
    "Какое значение стоимости заказа получится к кампании landings_promo за 1 января 2018? Ответ округлите до ближайшего целого числа. Пример ответа: 698"
   ]
  },
  {
   "cell_type": "code",
   "execution_count": 27,
   "metadata": {},
   "outputs": [
    {
     "data": {
      "text/html": [
       "<div>\n",
       "<style scoped>\n",
       "    .dataframe tbody tr th:only-of-type {\n",
       "        vertical-align: middle;\n",
       "    }\n",
       "\n",
       "    .dataframe tbody tr th {\n",
       "        vertical-align: top;\n",
       "    }\n",
       "\n",
       "    .dataframe thead th {\n",
       "        text-align: right;\n",
       "    }\n",
       "</style>\n",
       "<table border=\"1\" class=\"dataframe\">\n",
       "  <thead>\n",
       "    <tr style=\"text-align: right;\">\n",
       "      <th></th>\n",
       "      <th>date</th>\n",
       "      <th>campaign</th>\n",
       "      <th>views</th>\n",
       "      <th>clicks</th>\n",
       "      <th>cost</th>\n",
       "    </tr>\n",
       "  </thead>\n",
       "  <tbody>\n",
       "    <tr>\n",
       "      <th>0</th>\n",
       "      <td>2018-01-01</td>\n",
       "      <td>landings_promo</td>\n",
       "      <td>38120423</td>\n",
       "      <td>49557</td>\n",
       "      <td>1139801</td>\n",
       "    </tr>\n",
       "    <tr>\n",
       "      <th>1</th>\n",
       "      <td>2018-01-01</td>\n",
       "      <td>homepage_partner_1</td>\n",
       "      <td>5729483</td>\n",
       "      <td>12605</td>\n",
       "      <td>189073</td>\n",
       "    </tr>\n",
       "    <tr>\n",
       "      <th>2</th>\n",
       "      <td>2018-01-01</td>\n",
       "      <td>homepage_partner_2</td>\n",
       "      <td>4412029</td>\n",
       "      <td>9265</td>\n",
       "      <td>176040</td>\n",
       "    </tr>\n",
       "    <tr>\n",
       "      <th>3</th>\n",
       "      <td>2018-01-01</td>\n",
       "      <td>socdem_w_25-34_vip_test</td>\n",
       "      <td>913823</td>\n",
       "      <td>2559</td>\n",
       "      <td>89555</td>\n",
       "    </tr>\n",
       "    <tr>\n",
       "      <th>4</th>\n",
       "      <td>2018-01-02</td>\n",
       "      <td>landings_promo</td>\n",
       "      <td>40873806</td>\n",
       "      <td>61311</td>\n",
       "      <td>1471457</td>\n",
       "    </tr>\n",
       "  </tbody>\n",
       "</table>\n",
       "</div>"
      ],
      "text/plain": [
       "         date                 campaign     views  clicks     cost\n",
       "0  2018-01-01           landings_promo  38120423   49557  1139801\n",
       "1  2018-01-01       homepage_partner_1   5729483   12605   189073\n",
       "2  2018-01-01       homepage_partner_2   4412029    9265   176040\n",
       "3  2018-01-01  socdem_w_25-34_vip_test    913823    2559    89555\n",
       "4  2018-01-02           landings_promo  40873806   61311  1471457"
      ]
     },
     "execution_count": 27,
     "metadata": {},
     "output_type": "execute_result"
    }
   ],
   "source": [
    "crm = pd.read_csv('crm_stats.tsv', sep='\\t')\n",
    "direct = pd.read_csv('direct_stats.tsv', sep='\\t')\n",
    "direct.head()"
   ]
  },
  {
   "cell_type": "code",
   "execution_count": 23,
   "metadata": {},
   "outputs": [
    {
     "data": {
      "text/html": [
       "<div>\n",
       "<style scoped>\n",
       "    .dataframe tbody tr th:only-of-type {\n",
       "        vertical-align: middle;\n",
       "    }\n",
       "\n",
       "    .dataframe tbody tr th {\n",
       "        vertical-align: top;\n",
       "    }\n",
       "\n",
       "    .dataframe thead th {\n",
       "        text-align: right;\n",
       "    }\n",
       "</style>\n",
       "<table border=\"1\" class=\"dataframe\">\n",
       "  <thead>\n",
       "    <tr style=\"text-align: right;\">\n",
       "      <th></th>\n",
       "      <th>date</th>\n",
       "      <th>campaign</th>\n",
       "      <th>orders</th>\n",
       "    </tr>\n",
       "  </thead>\n",
       "  <tbody>\n",
       "    <tr>\n",
       "      <th>0</th>\n",
       "      <td>2018-01-01</td>\n",
       "      <td>landings_promo</td>\n",
       "      <td>1487</td>\n",
       "    </tr>\n",
       "    <tr>\n",
       "      <th>1</th>\n",
       "      <td>2018-01-01</td>\n",
       "      <td>homepage_partner_1</td>\n",
       "      <td>386</td>\n",
       "    </tr>\n",
       "    <tr>\n",
       "      <th>2</th>\n",
       "      <td>2018-01-01</td>\n",
       "      <td>homepage_partner_2</td>\n",
       "      <td>315</td>\n",
       "    </tr>\n",
       "    <tr>\n",
       "      <th>3</th>\n",
       "      <td>2018-01-01</td>\n",
       "      <td>socdem_w_25-34_vip_test</td>\n",
       "      <td>85</td>\n",
       "    </tr>\n",
       "    <tr>\n",
       "      <th>4</th>\n",
       "      <td>2018-01-02</td>\n",
       "      <td>landings_promo</td>\n",
       "      <td>1605</td>\n",
       "    </tr>\n",
       "  </tbody>\n",
       "</table>\n",
       "</div>"
      ],
      "text/plain": [
       "         date                 campaign  orders\n",
       "0  2018-01-01           landings_promo    1487\n",
       "1  2018-01-01       homepage_partner_1     386\n",
       "2  2018-01-01       homepage_partner_2     315\n",
       "3  2018-01-01  socdem_w_25-34_vip_test      85\n",
       "4  2018-01-02           landings_promo    1605"
      ]
     },
     "execution_count": 23,
     "metadata": {},
     "output_type": "execute_result"
    }
   ],
   "source": [
    "crm.head()"
   ]
  },
  {
   "cell_type": "code",
   "execution_count": 25,
   "metadata": {},
   "outputs": [
    {
     "name": "stdout",
     "output_type": "stream",
     "text": [
      "28\n",
      "28\n"
     ]
    }
   ],
   "source": [
    "print(len(crm))\n",
    "print(len(direct))"
   ]
  },
  {
   "cell_type": "code",
   "execution_count": 29,
   "metadata": {},
   "outputs": [
    {
     "data": {
      "text/html": [
       "<div>\n",
       "<style scoped>\n",
       "    .dataframe tbody tr th:only-of-type {\n",
       "        vertical-align: middle;\n",
       "    }\n",
       "\n",
       "    .dataframe tbody tr th {\n",
       "        vertical-align: top;\n",
       "    }\n",
       "\n",
       "    .dataframe thead th {\n",
       "        text-align: right;\n",
       "    }\n",
       "</style>\n",
       "<table border=\"1\" class=\"dataframe\">\n",
       "  <thead>\n",
       "    <tr style=\"text-align: right;\">\n",
       "      <th></th>\n",
       "      <th>date</th>\n",
       "      <th>campaign</th>\n",
       "      <th>orders</th>\n",
       "      <th>views</th>\n",
       "      <th>clicks</th>\n",
       "      <th>cost</th>\n",
       "    </tr>\n",
       "  </thead>\n",
       "  <tbody>\n",
       "    <tr>\n",
       "      <th>0</th>\n",
       "      <td>2018-01-01</td>\n",
       "      <td>landings_promo</td>\n",
       "      <td>1487</td>\n",
       "      <td>38120423</td>\n",
       "      <td>49557</td>\n",
       "      <td>1139801</td>\n",
       "    </tr>\n",
       "    <tr>\n",
       "      <th>1</th>\n",
       "      <td>2018-01-01</td>\n",
       "      <td>homepage_partner_1</td>\n",
       "      <td>386</td>\n",
       "      <td>5729483</td>\n",
       "      <td>12605</td>\n",
       "      <td>189073</td>\n",
       "    </tr>\n",
       "    <tr>\n",
       "      <th>2</th>\n",
       "      <td>2018-01-01</td>\n",
       "      <td>homepage_partner_2</td>\n",
       "      <td>315</td>\n",
       "      <td>4412029</td>\n",
       "      <td>9265</td>\n",
       "      <td>176040</td>\n",
       "    </tr>\n",
       "    <tr>\n",
       "      <th>3</th>\n",
       "      <td>2018-01-01</td>\n",
       "      <td>socdem_w_25-34_vip_test</td>\n",
       "      <td>85</td>\n",
       "      <td>913823</td>\n",
       "      <td>2559</td>\n",
       "      <td>89555</td>\n",
       "    </tr>\n",
       "    <tr>\n",
       "      <th>4</th>\n",
       "      <td>2018-01-02</td>\n",
       "      <td>landings_promo</td>\n",
       "      <td>1605</td>\n",
       "      <td>40873806</td>\n",
       "      <td>61311</td>\n",
       "      <td>1471457</td>\n",
       "    </tr>\n",
       "  </tbody>\n",
       "</table>\n",
       "</div>"
      ],
      "text/plain": [
       "         date                 campaign  orders     views  clicks     cost\n",
       "0  2018-01-01           landings_promo    1487  38120423   49557  1139801\n",
       "1  2018-01-01       homepage_partner_1     386   5729483   12605   189073\n",
       "2  2018-01-01       homepage_partner_2     315   4412029    9265   176040\n",
       "3  2018-01-01  socdem_w_25-34_vip_test      85    913823    2559    89555\n",
       "4  2018-01-02           landings_promo    1605  40873806   61311  1471457"
      ]
     },
     "execution_count": 29,
     "metadata": {},
     "output_type": "execute_result"
    }
   ],
   "source": [
    "# Совмещаем датафрейме по дате и названию компани1\n",
    "join = crm.merge(direct, on=['date', 'campaign'])\n",
    "join.head()"
   ]
  },
  {
   "cell_type": "code",
   "execution_count": 30,
   "metadata": {},
   "outputs": [
    {
     "name": "stdout",
     "output_type": "stream",
     "text": [
      "28\n"
     ]
    }
   ],
   "source": [
    "print(len(join))"
   ]
  },
  {
   "cell_type": "code",
   "execution_count": 34,
   "metadata": {},
   "outputs": [
    {
     "data": {
      "text/html": [
       "<div>\n",
       "<style scoped>\n",
       "    .dataframe tbody tr th:only-of-type {\n",
       "        vertical-align: middle;\n",
       "    }\n",
       "\n",
       "    .dataframe tbody tr th {\n",
       "        vertical-align: top;\n",
       "    }\n",
       "\n",
       "    .dataframe thead th {\n",
       "        text-align: right;\n",
       "    }\n",
       "</style>\n",
       "<table border=\"1\" class=\"dataframe\">\n",
       "  <thead>\n",
       "    <tr style=\"text-align: right;\">\n",
       "      <th></th>\n",
       "      <th>date</th>\n",
       "      <th>campaign</th>\n",
       "      <th>orders</th>\n",
       "      <th>views</th>\n",
       "      <th>clicks</th>\n",
       "      <th>cost</th>\n",
       "      <th>order_cost</th>\n",
       "    </tr>\n",
       "  </thead>\n",
       "  <tbody>\n",
       "    <tr>\n",
       "      <th>0</th>\n",
       "      <td>2018-01-01</td>\n",
       "      <td>landings_promo</td>\n",
       "      <td>1487</td>\n",
       "      <td>38120423</td>\n",
       "      <td>49557</td>\n",
       "      <td>1139801</td>\n",
       "      <td>766.510424</td>\n",
       "    </tr>\n",
       "    <tr>\n",
       "      <th>1</th>\n",
       "      <td>2018-01-01</td>\n",
       "      <td>homepage_partner_1</td>\n",
       "      <td>386</td>\n",
       "      <td>5729483</td>\n",
       "      <td>12605</td>\n",
       "      <td>189073</td>\n",
       "      <td>489.826425</td>\n",
       "    </tr>\n",
       "    <tr>\n",
       "      <th>2</th>\n",
       "      <td>2018-01-01</td>\n",
       "      <td>homepage_partner_2</td>\n",
       "      <td>315</td>\n",
       "      <td>4412029</td>\n",
       "      <td>9265</td>\n",
       "      <td>176040</td>\n",
       "      <td>558.857143</td>\n",
       "    </tr>\n",
       "    <tr>\n",
       "      <th>3</th>\n",
       "      <td>2018-01-01</td>\n",
       "      <td>socdem_w_25-34_vip_test</td>\n",
       "      <td>85</td>\n",
       "      <td>913823</td>\n",
       "      <td>2559</td>\n",
       "      <td>89555</td>\n",
       "      <td>1053.588235</td>\n",
       "    </tr>\n",
       "    <tr>\n",
       "      <th>4</th>\n",
       "      <td>2018-01-02</td>\n",
       "      <td>landings_promo</td>\n",
       "      <td>1605</td>\n",
       "      <td>40873806</td>\n",
       "      <td>61311</td>\n",
       "      <td>1471457</td>\n",
       "      <td>916.795639</td>\n",
       "    </tr>\n",
       "  </tbody>\n",
       "</table>\n",
       "</div>"
      ],
      "text/plain": [
       "         date                 campaign  orders     views  clicks     cost  \\\n",
       "0  2018-01-01           landings_promo    1487  38120423   49557  1139801   \n",
       "1  2018-01-01       homepage_partner_1     386   5729483   12605   189073   \n",
       "2  2018-01-01       homepage_partner_2     315   4412029    9265   176040   \n",
       "3  2018-01-01  socdem_w_25-34_vip_test      85    913823    2559    89555   \n",
       "4  2018-01-02           landings_promo    1605  40873806   61311  1471457   \n",
       "\n",
       "    order_cost  \n",
       "0   766.510424  \n",
       "1   489.826425  \n",
       "2   558.857143  \n",
       "3  1053.588235  \n",
       "4   916.795639  "
      ]
     },
     "execution_count": 34,
     "metadata": {},
     "output_type": "execute_result"
    }
   ],
   "source": [
    "# Считаем стоимость заказа\n",
    "join['order_cost'] = join['cost'] / join['orders']\n",
    "join.head()"
   ]
  },
  {
   "cell_type": "code",
   "execution_count": 32,
   "metadata": {},
   "outputs": [
    {
     "data": {
      "text/plain": [
       "0    767.0\n",
       "Name: order_cost, dtype: float64"
      ]
     },
     "execution_count": 32,
     "metadata": {},
     "output_type": "execute_result"
    }
   ],
   "source": [
    "# Находим значение этого столбца для landings_promo за 1 января 2018\n",
    "round(join[(join['campaign'] == 'landings_promo') & (join['date'] == '2018-01-01')]['order_cost'])"
   ]
  },
  {
   "cell_type": "markdown",
   "metadata": {},
   "source": [
    "## СЧИТАЕМ РЕЙТИНГИ ЖАНРОВ\n",
    "\n",
    "\n",
    "Итак, теперь для каждой строки датафрейма joined нам нужно выделить рейтинги жанров из списка genres. Напомним список жанров, которые нам интересны:"
   ]
  },
  {
   "cell_type": "code",
   "execution_count": null,
   "metadata": {},
   "outputs": [],
   "source": [
    "genres = ['Drama', 'Action', 'Thriller']"
   ]
  }
 ],
 "metadata": {
  "kernelspec": {
   "display_name": "Python 3",
   "language": "python",
   "name": "python3"
  },
  "language_info": {
   "codemirror_mode": {
    "name": "ipython",
    "version": 3
   },
   "file_extension": ".py",
   "mimetype": "text/x-python",
   "name": "python",
   "nbconvert_exporter": "python",
   "pygments_lexer": "ipython3",
   "version": "3.7.1"
  }
 },
 "nbformat": 4,
 "nbformat_minor": 2
}
