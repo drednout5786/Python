{
 "cells": [
  {
   "cell_type": "markdown",
   "metadata": {
    "colab_type": "text",
    "id": "HAT6o6_MdB3P"
   },
   "source": [
    "## Блок 2"
   ]
  },
  {
   "cell_type": "markdown",
   "metadata": {
    "colab_type": "text",
    "id": "nhKky7JQdB3m"
   },
   "source": [
    "### Шаг 2"
   ]
  },
  {
   "cell_type": "code",
   "execution_count": 0,
   "metadata": {
    "colab": {},
    "colab_type": "code",
    "id": "0I-OaAfvdB3q",
    "outputId": "68f5dc7a-a67f-48c3-e6c2-70af18e2e0d4"
   },
   "outputs": [
    {
     "data": {
      "text/plain": [
       "0.09090909090909087"
      ]
     },
     "execution_count": 2,
     "metadata": {
      "tags": []
     },
     "output_type": "execute_result"
    }
   ],
   "source": [
    "import pandas as pd\n",
    "data = pd.read_csv('keywords.csv')\n",
    "data['daily_shows'] = data['shows'] / 11\n",
    "\n",
    "# Посчитаем столбец ratio и его среднее значение\n",
    "data['ratio'] = data['daily_shows'] / data['shows']\n",
    "data['ratio'].mean()"
   ]
  },
  {
   "cell_type": "markdown",
   "metadata": {
    "colab_type": "text",
    "id": "pnbsw2CndB4U"
   },
   "source": [
    "## Блок 3"
   ]
  },
  {
   "cell_type": "markdown",
   "metadata": {
    "colab_type": "text",
    "id": "r1ULi5H3dB4Y"
   },
   "source": [
    "### Шаг 1"
   ]
  },
  {
   "cell_type": "code",
   "execution_count": 0,
   "metadata": {
    "colab": {},
    "colab_type": "code",
    "id": "kDGfAs1LdB4l",
    "outputId": "dca24cbb-163c-4ab6-d60a-d4f6339c2a3f"
   },
   "outputs": [
    {
     "data": {
      "text/plain": [
       "142"
      ]
     },
     "execution_count": 12,
     "metadata": {
      "tags": []
     },
     "output_type": "execute_result"
    }
   ],
   "source": [
    "data = data[data.keyword.str.contains('недвиж')].reset_index()\n",
    "len(data)"
   ]
  },
  {
   "cell_type": "markdown",
   "metadata": {
    "colab_type": "text",
    "id": "eYFCOtz7dB45"
   },
   "source": [
    "### Шаг 2"
   ]
  },
  {
   "cell_type": "code",
   "execution_count": 0,
   "metadata": {
    "colab": {},
    "colab_type": "code",
    "id": "qnj8gl3UdB5F",
    "outputId": "80b11d9e-c9f3-4105-9ab1-7616125461b1"
   },
   "outputs": [
    {
     "data": {
      "text/plain": [
       "list"
      ]
     },
     "execution_count": 13,
     "metadata": {
      "tags": []
     },
     "output_type": "execute_result"
    }
   ],
   "source": [
    "# Узнаем тип переменных из нового столбца\n",
    "data['split'] = data['keyword'].str.split(' ')\n",
    "type(data.loc[0]['split'])"
   ]
  },
  {
   "cell_type": "markdown",
   "metadata": {
    "colab_type": "text",
    "id": "q27EpyoJdB5k"
   },
   "source": [
    "### Шаг 4"
   ]
  },
  {
   "cell_type": "code",
   "execution_count": 0,
   "metadata": {
    "colab": {},
    "colab_type": "code",
    "id": "HCK4BxPcdB5p",
    "outputId": "13760db2-dea5-4c17-ef13-ba90d81ba0a3"
   },
   "outputs": [
    {
     "data": {
      "text/plain": [
       "2    6634\n",
       "Name: daily_shows, dtype: int64"
      ]
     },
     "execution_count": 15,
     "metadata": {
      "tags": []
     },
     "output_type": "execute_result"
    }
   ],
   "source": [
    "# Переведем столбец к типу int\n",
    "data['daily_shows'] = data['daily_shows'].astype(int)\n",
    "data[data['keyword'] == 'недвижимость']['daily_shows']"
   ]
  },
  {
   "cell_type": "markdown",
   "metadata": {
    "colab_type": "text",
    "id": "xfVot7u7dB6E"
   },
   "source": [
    "### Шаг 5"
   ]
  },
  {
   "cell_type": "code",
   "execution_count": 0,
   "metadata": {
    "colab": {},
    "colab_type": "code",
    "id": "Y3DBXfjmdB6K",
    "outputId": "1ce89c42-9a68-40f4-ccbc-e69eaf185c86"
   },
   "outputs": [
    {
     "data": {
      "text/plain": [
       "3    72\n",
       "2    25\n",
       "4    20\n",
       "5    12\n",
       "6     7\n",
       "8     3\n",
       "9     1\n",
       "7     1\n",
       "1     1\n",
       "Name: count_words, dtype: int64"
      ]
     },
     "execution_count": 18,
     "metadata": {
      "tags": []
     },
     "output_type": "execute_result"
    }
   ],
   "source": [
    "# Прибавим столбец, где будет храниться количество слов в столбце split\n",
    "data['count_words'] = data['split'].apply(lambda x: len(x))\n",
    "\n",
    "# Найдем наиболее встречающееся число слов\n",
    "data['count_words'].value_counts()"
   ]
  },
  {
   "cell_type": "markdown",
   "metadata": {
    "colab_type": "text",
    "id": "t8cJh8hxdB6p"
   },
   "source": [
    "## Блок 4"
   ]
  },
  {
   "cell_type": "markdown",
   "metadata": {
    "colab_type": "text",
    "id": "_MM2OpSYdB6y"
   },
   "source": [
    "### Шаги 1, 2, 3, 4"
   ]
  },
  {
   "cell_type": "code",
   "execution_count": 0,
   "metadata": {
    "colab": {},
    "colab_type": "code",
    "id": "vZuHfgpqdB6-",
    "outputId": "c862f01b-dd1a-440f-b9af-0c4b5148f54e"
   },
   "outputs": [
    {
     "name": "stdout",
     "output_type": "stream",
     "text": [
      "SplitResult(scheme='https', netloc='awesome-site.ru', path='/', query='utm_source=yandex&utm_medium=cpc&utm_campaign=a825749b87&utm_content=dev_{device_type}', fragment='')\n",
      "awesome-site.ru\n",
      "utm_source=yandex&utm_medium=cpc&utm_campaign=a825749b87&utm_content=dev_{device_type}\n"
     ]
    }
   ],
   "source": [
    "# Выполняем предварительные действия, описанные в модуле\n",
    "import pandas as pd\n",
    "ad_stats = pd.read_excel('ad_campaigns.xlsx')\n",
    "ad_stats.rename(columns={'Название группы': 'group', 'Фраза (с минус-словами)': 'phrase', \n",
    "\n",
    "                         'Продуктивность': 'effect', 'ID объявления': 'ad_id', 'Заголовок': 'title', \n",
    "\n",
    "                         'Текст': 'text', 'Ссылка': 'link'}, inplace=True)\n",
    "url = ad_stats.loc[0, 'link']\n",
    "from urllib import parse\n",
    "parsed = parse.urlsplit(url)\n",
    "print(parsed)\n",
    "print(parsed.netloc)\n",
    "print(parsed.query) # ответ на вопрос"
   ]
  },
  {
   "cell_type": "markdown",
   "metadata": {
    "colab_type": "text",
    "id": "TFKfqmwFdB7c"
   },
   "source": [
    "### Шаг 6"
   ]
  },
  {
   "cell_type": "code",
   "execution_count": 0,
   "metadata": {
    "colab": {},
    "colab_type": "code",
    "id": "CSR2mRigdB7i",
    "outputId": "e2635b3d-38d5-4bf8-9fad-26507bda34a9"
   },
   "outputs": [
    {
     "name": "stdout",
     "output_type": "stream",
     "text": [
      "10.0\n"
     ]
    }
   ],
   "source": [
    "# Напишем функцию \n",
    "def campaign_name(row):\n",
    "\n",
    "    \"\"\"Получение названия кампании из ссылки внутри строки row\"\"\"\n",
    "\n",
    "    parsed = parse.urlsplit(row['link'])\n",
    "\n",
    "    params_dict = parse.parse_qs(parsed.query)\n",
    "\n",
    "    return params_dict['utm_campaign'][0]\n",
    "\n",
    "# Применим функцию\n",
    "ad_stats['campaign'] = ad_stats.apply(campaign_name, axis=1)\n",
    "\n",
    "# Считаем среднее число в названии компании\n",
    "ad_stats['count'] = ad_stats['campaign'].apply(lambda x: len(x))\n",
    "print(ad_stats['count'].mean())"
   ]
  },
  {
   "cell_type": "markdown",
   "metadata": {
    "colab_type": "text",
    "id": "37DMmRqJdB77"
   },
   "source": [
    "## Блок 5"
   ]
  },
  {
   "cell_type": "markdown",
   "metadata": {
    "colab_type": "text",
    "id": "FxK9C5-adB7-"
   },
   "source": [
    "### Шаг 4"
   ]
  },
  {
   "cell_type": "code",
   "execution_count": 0,
   "metadata": {
    "colab": {},
    "colab_type": "code",
    "id": "fS1UQAwAdB8C",
    "outputId": "e9f35f23-8a83-4b68-fc1f-ef7df61d7a03"
   },
   "outputs": [
    {
     "data": {
      "text/html": [
       "<div>\n",
       "<table border=\"1\" class=\"dataframe\">\n",
       "  <thead>\n",
       "    <tr style=\"text-align: right;\">\n",
       "      <th></th>\n",
       "      <th>group</th>\n",
       "      <th>phrase</th>\n",
       "      <th>effect</th>\n",
       "      <th>ad_id</th>\n",
       "      <th>title</th>\n",
       "      <th>text</th>\n",
       "      <th>link</th>\n",
       "      <th>count</th>\n",
       "    </tr>\n",
       "    <tr>\n",
       "      <th>campaign</th>\n",
       "      <th></th>\n",
       "      <th></th>\n",
       "      <th></th>\n",
       "      <th></th>\n",
       "      <th></th>\n",
       "      <th></th>\n",
       "      <th></th>\n",
       "      <th></th>\n",
       "    </tr>\n",
       "  </thead>\n",
       "  <tbody>\n",
       "    <tr>\n",
       "      <th>8e77a0e565</th>\n",
       "      <td>1 5 москва мрт тесла</td>\n",
       "      <td>\"!1 !мрт !нагатинский\"</td>\n",
       "      <td>1.6</td>\n",
       "      <td>2101705401</td>\n",
       "      <td>МРТ центры в Москве. От 2000₽</td>\n",
       "      <td>24 часа. МРТ в день обращения. Консультация вр...</td>\n",
       "      <td>https://awesome-site.ru/?utm_source=yandex&amp;utm...</td>\n",
       "      <td>10</td>\n",
       "    </tr>\n",
       "    <tr>\n",
       "      <th>7f35591a28</th>\n",
       "      <td>1 градская мрт</td>\n",
       "      <td>\"!1 !градская !мрт\"</td>\n",
       "      <td>1.7</td>\n",
       "      <td>2101705009</td>\n",
       "      <td>МРТ в Москве от 2000₽. Звоните!</td>\n",
       "      <td>24 часа. МРТ в день обращения. Консультация вр...</td>\n",
       "      <td>https://awesome-site.ru/?utm_source=yandex&amp;utm...</td>\n",
       "      <td>10</td>\n",
       "    </tr>\n",
       "    <tr>\n",
       "      <th>be97523396</th>\n",
       "      <td>мрт в бабушкинском районе</td>\n",
       "      <td>\"!мрт !в !москве !метро !щелковская\"</td>\n",
       "      <td>1.8</td>\n",
       "      <td>2101705493</td>\n",
       "      <td>МРТ у метро в Москве от 2000₽</td>\n",
       "      <td>24 часа. МРТ в день обращения. Консультация вр...</td>\n",
       "      <td>https://awesome-site.ru/?utm_source=yandex&amp;utm...</td>\n",
       "      <td>10</td>\n",
       "    </tr>\n",
       "    <tr>\n",
       "      <th>d96029561c</th>\n",
       "      <td>круглосуточный мрт в москве</td>\n",
       "      <td>\"!круглосуточный !мрт !в !москве\"</td>\n",
       "      <td>1.8</td>\n",
       "      <td>2428555742</td>\n",
       "      <td>МРТ круглосуточно. От 2000₽</td>\n",
       "      <td>24 часа. МРТ в день обращения. Консультация вр...</td>\n",
       "      <td>https://awesome-site.ru/?utm_source=yandex&amp;utm...</td>\n",
       "      <td>10</td>\n",
       "    </tr>\n",
       "    <tr>\n",
       "      <th>acc3077e55</th>\n",
       "      <td>алтуфьево бибирево мрт</td>\n",
       "      <td>\"!алтуфьево !бибирево !мрт\"</td>\n",
       "      <td>1.9</td>\n",
       "      <td>2428554791</td>\n",
       "      <td>Томография в Москве. От 2000₽</td>\n",
       "      <td>24 часа. МРТ в день обращения. Консультация вр...</td>\n",
       "      <td>https://awesome-site.ru/?utm_source=yandex&amp;utm...</td>\n",
       "      <td>10</td>\n",
       "    </tr>\n",
       "  </tbody>\n",
       "</table>\n",
       "</div>"
      ],
      "text/plain": [
       "                                  group                                phrase  \\\n",
       "campaign                                                                        \n",
       "8e77a0e565         1 5 москва мрт тесла                \"!1 !мрт !нагатинский\"   \n",
       "7f35591a28               1 градская мрт                   \"!1 !градская !мрт\"   \n",
       "be97523396    мрт в бабушкинском районе  \"!мрт !в !москве !метро !щелковская\"   \n",
       "d96029561c  круглосуточный мрт в москве     \"!круглосуточный !мрт !в !москве\"   \n",
       "acc3077e55       алтуфьево бибирево мрт           \"!алтуфьево !бибирево !мрт\"   \n",
       "\n",
       "            effect       ad_id                            title  \\\n",
       "campaign                                                          \n",
       "8e77a0e565     1.6  2101705401    МРТ центры в Москве. От 2000₽   \n",
       "7f35591a28     1.7  2101705009  МРТ в Москве от 2000₽. Звоните!   \n",
       "be97523396     1.8  2101705493    МРТ у метро в Москве от 2000₽   \n",
       "d96029561c     1.8  2428555742      МРТ круглосуточно. От 2000₽   \n",
       "acc3077e55     1.9  2428554791    Томография в Москве. От 2000₽   \n",
       "\n",
       "                                                         text  \\\n",
       "campaign                                                        \n",
       "8e77a0e565  24 часа. МРТ в день обращения. Консультация вр...   \n",
       "7f35591a28  24 часа. МРТ в день обращения. Консультация вр...   \n",
       "be97523396  24 часа. МРТ в день обращения. Консультация вр...   \n",
       "d96029561c  24 часа. МРТ в день обращения. Консультация вр...   \n",
       "acc3077e55  24 часа. МРТ в день обращения. Консультация вр...   \n",
       "\n",
       "                                                         link  count  \n",
       "campaign                                                              \n",
       "8e77a0e565  https://awesome-site.ru/?utm_source=yandex&utm...     10  \n",
       "7f35591a28  https://awesome-site.ru/?utm_source=yandex&utm...     10  \n",
       "be97523396  https://awesome-site.ru/?utm_source=yandex&utm...     10  \n",
       "d96029561c  https://awesome-site.ru/?utm_source=yandex&utm...     10  \n",
       "acc3077e55  https://awesome-site.ru/?utm_source=yandex&utm...     10  "
      ]
     },
     "execution_count": 24,
     "metadata": {
      "tags": []
     },
     "output_type": "execute_result"
    }
   ],
   "source": [
    "# Построим рейтинг компаний, начиная с самого малого значения стобца effect\n",
    "ad_stats.groupby('campaign').min().sort_values('effect').head()"
   ]
  },
  {
   "cell_type": "markdown",
   "metadata": {
    "colab_type": "text",
    "id": "WyL7MZswdB8U"
   },
   "source": [
    "### Шаг 8"
   ]
  },
  {
   "cell_type": "code",
   "execution_count": 0,
   "metadata": {
    "colab": {},
    "colab_type": "code",
    "id": "TBZxMe7XdB8c",
    "outputId": "89690eaa-74ac-4a2e-f4f2-cb046d1725d9"
   },
   "outputs": [
    {
     "data": {
      "text/html": [
       "<div>\n",
       "<table border=\"1\" class=\"dataframe\">\n",
       "  <thead>\n",
       "    <tr style=\"text-align: right;\">\n",
       "      <th></th>\n",
       "      <th>effect</th>\n",
       "      <th>ad_id</th>\n",
       "      <th>count</th>\n",
       "    </tr>\n",
       "    <tr>\n",
       "      <th>campaign</th>\n",
       "      <th></th>\n",
       "      <th></th>\n",
       "      <th></th>\n",
       "    </tr>\n",
       "  </thead>\n",
       "  <tbody>\n",
       "    <tr>\n",
       "      <th>63153306ff</th>\n",
       "      <td>2.8</td>\n",
       "      <td>2428554756</td>\n",
       "      <td>10</td>\n",
       "    </tr>\n",
       "    <tr>\n",
       "      <th>f80e902d76</th>\n",
       "      <td>3.3</td>\n",
       "      <td>2101705003</td>\n",
       "      <td>10</td>\n",
       "    </tr>\n",
       "    <tr>\n",
       "      <th>5a7508fa8d</th>\n",
       "      <td>3.5</td>\n",
       "      <td>2428554764</td>\n",
       "      <td>10</td>\n",
       "    </tr>\n",
       "    <tr>\n",
       "      <th>d5b16c7769</th>\n",
       "      <td>3.6</td>\n",
       "      <td>3401169381</td>\n",
       "      <td>10</td>\n",
       "    </tr>\n",
       "    <tr>\n",
       "      <th>7b17b2d188</th>\n",
       "      <td>5.8</td>\n",
       "      <td>2101705006</td>\n",
       "      <td>10</td>\n",
       "    </tr>\n",
       "  </tbody>\n",
       "</table>\n",
       "</div>"
      ],
      "text/plain": [
       "            effect       ad_id  count\n",
       "campaign                             \n",
       "63153306ff     2.8  2428554756     10\n",
       "f80e902d76     3.3  2101705003     10\n",
       "5a7508fa8d     3.5  2428554764     10\n",
       "d5b16c7769     3.6  3401169381     10\n",
       "7b17b2d188     5.8  2101705006     10"
      ]
     },
     "execution_count": 25,
     "metadata": {
      "tags": []
     },
     "output_type": "execute_result"
    }
   ],
   "source": [
    "# Найдем компанию с минимальной суммой столбца effect\n",
    "ad_stats.groupby('campaign').sum().sort_values('effect').head()"
   ]
  },
  {
   "cell_type": "markdown",
   "metadata": {
    "colab_type": "text",
    "id": "SdYJjUAydB9i"
   },
   "source": [
    "## Блок 6"
   ]
  },
  {
   "cell_type": "code",
   "execution_count": 0,
   "metadata": {
    "colab": {},
    "colab_type": "code",
    "id": "Q5B3vwgPdB9m",
    "outputId": "35c37ceb-b435-4bf5-9d11-4295824e74ab"
   },
   "outputs": [
    {
     "data": {
      "text/html": [
       "<div>\n",
       "<table border=\"1\" class=\"dataframe\">\n",
       "  <thead>\n",
       "    <tr style=\"text-align: right;\">\n",
       "      <th></th>\n",
       "      <th>keyword</th>\n",
       "      <th>shows</th>\n",
       "    </tr>\n",
       "    <tr>\n",
       "      <th>city_group</th>\n",
       "      <th></th>\n",
       "      <th></th>\n",
       "    </tr>\n",
       "  </thead>\n",
       "  <tbody>\n",
       "    <tr>\n",
       "      <th>undefined</th>\n",
       "      <td>99253</td>\n",
       "      <td>99253</td>\n",
       "    </tr>\n",
       "    <tr>\n",
       "      <th>Дальний Восток</th>\n",
       "      <td>94</td>\n",
       "      <td>94</td>\n",
       "    </tr>\n",
       "    <tr>\n",
       "      <th>Северо-Запад</th>\n",
       "      <td>268</td>\n",
       "      <td>268</td>\n",
       "    </tr>\n",
       "    <tr>\n",
       "      <th>Центр</th>\n",
       "      <td>385</td>\n",
       "      <td>385</td>\n",
       "    </tr>\n",
       "  </tbody>\n",
       "</table>\n",
       "</div>"
      ],
      "text/plain": [
       "                keyword  shows\n",
       "city_group                    \n",
       "undefined         99253  99253\n",
       "Дальний Восток       94     94\n",
       "Северо-Запад        268    268\n",
       "Центр               385    385"
      ]
     },
     "execution_count": 28,
     "metadata": {
      "tags": []
     },
     "output_type": "execute_result"
    }
   ],
   "source": [
    "data = pd.read_csv('keywords.csv')\n",
    "\n",
    "geo_data = {\n",
    "\n",
    "    'Центр': ['москва', 'тула', 'ярославль'],\n",
    "\n",
    "    'Северо-Запад': ['петербург', 'псков', 'мурманск'],\n",
    "\n",
    "    'Дальний Восток': ['владивосток', 'сахалин', 'хабаровск']\n",
    "\n",
    "}\n",
    "\n",
    "# Напишем функцию, которая по городу определяет тип региона\n",
    "def geo_classification(row):\n",
    "    \n",
    "    # Пробегаемся по всем городам всех регионов и,\n",
    "    # если такой город имеется в запросе, то возвращаем регион\n",
    "    for region, city_list in geo_data.items():\n",
    "        for city in city_list:\n",
    "            if city in row['keyword']:\n",
    "                return region\n",
    "    # Если такого города нет, то возвращаем 'undefined'\n",
    "    return 'undefined'\n",
    "\n",
    "# Применяем\n",
    "data['city_group'] = data.apply(geo_classification, axis=1)\n",
    "\n",
    "data.groupby('city_group').count().head()"
   ]
  },
  {
   "cell_type": "code",
   "execution_count": 0,
   "metadata": {
    "colab": {},
    "colab_type": "code",
    "id": "muPgDMasdB-c"
   },
   "outputs": [],
   "source": []
  }
 ],
 "metadata": {
  "colab": {
   "name": "new_module 4.ipynb",
   "provenance": [],
   "version": "0.3.2"
  },
  "kernelspec": {
   "display_name": "Python 3",
   "language": "python",
   "name": "python3"
  },
  "language_info": {
   "codemirror_mode": {
    "name": "ipython",
    "version": 3
   },
   "file_extension": ".py",
   "mimetype": "text/x-python",
   "name": "python",
   "nbconvert_exporter": "python",
   "pygments_lexer": "ipython3",
   "version": "3.7.1"
  }
 },
 "nbformat": 4,
 "nbformat_minor": 1
}
