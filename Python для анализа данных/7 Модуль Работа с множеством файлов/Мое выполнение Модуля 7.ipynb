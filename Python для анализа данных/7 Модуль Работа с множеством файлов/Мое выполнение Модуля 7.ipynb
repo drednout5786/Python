{
 "cells": [
  {
   "cell_type": "markdown",
   "metadata": {},
   "source": [
    "# Перебор файлов в папке"
   ]
  },
  {
   "cell_type": "markdown",
   "metadata": {},
   "source": [
    "### ПОСТАНОВКА ЗАДАЧИ. МНОГО ФАЙЛОВ\n",
    "\n",
    "Данные могут приходить к нам в самом разном виде. Часто это не один файл, а целая папка со множеством файлов и не всегда предсказуемыми именами. Например, из базы данных на сетевой диск вам каждое утро могут выгружаться наборы CSV-файлов с такими именами:\n",
    "\n",
    "Center_110000000043282_batch_0001.csv\n",
    "\n",
    "...\n",
    "\n",
    "Center_110000000043282_batch_0244.csv\n",
    "\n",
    "SZ_120000000043282_batch_001.csv\n",
    "\n",
    "...\n",
    "\n",
    "SZ_120000000043282_batch_0173.csv\n",
    "\n",
    "Конечно, можно узнать алгоритм формирования имен файлов и понять, что вначале идет название региона (Центр и Северо-Запад), его ID (11 и 12), потом дата (нули и 43282, т. е. 1 июля 2018) и номер файла выгрузки и попробовать в цикле перебирать каждый день все возможные названия этих файлов. Схема ненадежная, к тому же довольно часто предсказать ее невозможно."
   ]
  },
  {
   "cell_type": "markdown",
   "metadata": {},
   "source": [
    "### СПОСОБ ПОЛУЧШЕ\n",
    "\n",
    "Более универсальным способом является использование библиотеки os, которая позволит вам автоматически получать содержимое папок, а также много крайне полезной информации о файлах, переменных окружения и других свойств вашей операционной системы. Мы будем использовать выгрузку архив файлов data.zip. Для удобства разархивируйте data.zip в папку data, а файл с кодом оставьте вне этой папки. Т. е. чтобы в папке с вашим кодом лежала папка \"data\", внутри которой будут 10 файлов из архива data.zip.\n",
    "\n",
    "Наша задача — научиться автоматически считывать все файлы из папки data в датафрейм."
   ]
  },
  {
   "cell_type": "code",
   "execution_count": 3,
   "metadata": {},
   "outputs": [],
   "source": [
    "import os"
   ]
  },
  {
   "cell_type": "markdown",
   "metadata": {},
   "source": [
    "Для получения списка файлов воспользуемся методом listdir. В качестве аргумента указываем папку 'data', результат работы метода запишем в переменную files:"
   ]
  },
  {
   "cell_type": "code",
   "execution_count": 42,
   "metadata": {},
   "outputs": [
    {
     "data": {
      "text/plain": [
       "['ratings_1.txt',\n",
       " 'ratings_10.txt',\n",
       " 'ratings_2.txt',\n",
       " 'ratings_3.txt',\n",
       " 'ratings_4.txt',\n",
       " 'ratings_5.txt',\n",
       " 'ratings_6.txt',\n",
       " 'ratings_7.txt',\n",
       " 'ratings_8.txt',\n",
       " 'ratings_9.txt']"
      ]
     },
     "execution_count": 42,
     "metadata": {},
     "output_type": "execute_result"
    }
   ],
   "source": [
    "files = os.listdir('data')\n",
    "files"
   ]
  },
  {
   "cell_type": "code",
   "execution_count": 50,
   "metadata": {},
   "outputs": [],
   "source": [
    "mixed_files = [\n",
    "\n",
    "'movies.csv',\n",
    "\n",
    "'notes.txt',\n",
    "\n",
    "'ratings.zip',\n",
    "\n",
    "'ratings_1.txt',\n",
    "\n",
    "'ratings_10.txt',\n",
    "\n",
    "'ratings_2.txt',\n",
    "\n",
    "'ratings_3.txt',\n",
    "\n",
    "'ratings_6.txt',\n",
    "\n",
    "'ratings_7.txt',\n",
    "\n",
    "'ratings_8.txt',\n",
    "\n",
    "'ratings_9.txt',\n",
    "\n",
    "'subfolder'\n",
    "\n",
    "]"
   ]
  },
  {
   "cell_type": "markdown",
   "metadata": {},
   "source": [
    "Напишите алгоритм, который оставляет в списке mixed_files только файлы, содержащие 'ratings_' и 'txt'.\n",
    "\n",
    "Сколько файлов, удовлетворяющих перечисленным условиям, содержится в списке mixed_files?"
   ]
  },
  {
   "cell_type": "code",
   "execution_count": 51,
   "metadata": {},
   "outputs": [
    {
     "name": "stdout",
     "output_type": "stream",
     "text": [
      "['movies.csv', 'notes.txt', 'ratings.zip', 'ratings_1.txt', 'ratings_10.txt', 'ratings_2.txt', 'ratings_3.txt', 'ratings_6.txt', 'ratings_7.txt', 'ratings_8.txt', 'ratings_9.txt', 'subfolder']\n",
      "0 movies.csv\n",
      "DEL movies.csv\n",
      "1 notes.txt\n",
      "DEL notes.txt\n",
      "2 ratings.zip\n",
      "DEL ratings.zip\n",
      "3 ratings_1.txt\n",
      "ОСТАВЛЯЕМ ratings_1.txt\n",
      "4 ratings_10.txt\n",
      "ОСТАВЛЯЕМ ratings_10.txt\n",
      "5 ratings_2.txt\n",
      "ОСТАВЛЯЕМ ratings_2.txt\n",
      "6 ratings_3.txt\n",
      "ОСТАВЛЯЕМ ratings_3.txt\n",
      "7 ratings_6.txt\n",
      "ОСТАВЛЯЕМ ratings_6.txt\n",
      "8 ratings_7.txt\n",
      "ОСТАВЛЯЕМ ratings_7.txt\n",
      "9 ratings_8.txt\n",
      "ОСТАВЛЯЕМ ratings_8.txt\n",
      "10 ratings_9.txt\n",
      "ОСТАВЛЯЕМ ratings_9.txt\n",
      "11 subfolder\n",
      "DEL subfolder\n",
      "8\n"
     ]
    },
    {
     "data": {
      "text/plain": [
       "['ratings_1.txt',\n",
       " 'ratings_10.txt',\n",
       " 'ratings_2.txt',\n",
       " 'ratings_3.txt',\n",
       " 'ratings_6.txt',\n",
       " 'ratings_7.txt',\n",
       " 'ratings_8.txt',\n",
       " 'ratings_9.txt']"
      ]
     },
     "execution_count": 51,
     "metadata": {},
     "output_type": "execute_result"
    }
   ],
   "source": [
    "print (mixed_files)\n",
    "j = 0\n",
    "a = []\n",
    "for i, item in enumerate (mixed_files):\n",
    "    print(i, item)\n",
    "    if item in files:\n",
    "        j += 1 \n",
    "        a.append(item)\n",
    "        print('ОСТАВЛЯЕМ', str(item))\n",
    "    else:\n",
    "        #mixed_files.pop([i])\n",
    "        print('DEL', mixed_files[i])\n",
    "print(str(j))\n",
    "a"
   ]
  },
  {
   "cell_type": "markdown",
   "metadata": {},
   "source": [
    "### ЧТЕНИЕ ВЛОЖЕННЫХ ПАПОК\n",
    "Иногда приходится учитывать наличие вложенных папок с нужными файлами. Допустим, в папке data окажется вложенная папка subfolder с еще тремя файлами:"
   ]
  },
  {
   "cell_type": "code",
   "execution_count": 53,
   "metadata": {},
   "outputs": [
    {
     "name": "stdout",
     "output_type": "stream",
     "text": [
      "Прохожу файлы папки data\n",
      "Файлы в папке: ['ratings_1.txt', 'ratings_10.txt', 'ratings_2.txt', 'ratings_3.txt', 'ratings_4.txt', 'ratings_5.txt', 'ratings_6.txt', 'ratings_7.txt', 'ratings_8.txt', 'ratings_9.txt']\n",
      "Список внутренних папок: ['Subfolder']\n",
      "\n",
      "Прохожу файлы папки data\\Subfolder\n",
      "Файлы в папке: []\n",
      "Список внутренних папок: []\n",
      "\n"
     ]
    }
   ],
   "source": [
    "#Для получения файлов в таких случаях нам пригодится метод os.walk. Для удобства используем следующий синтаксис:\n",
    "\n",
    "for root, dirs, files in os.walk('data'):\n",
    "    print('Прохожу файлы папки {}'.format(root))\n",
    "    print('Файлы в папке: {}'.format(files))\n",
    "    print('Список внутренних папок: {}\\n'.format(dirs))"
   ]
  },
  {
   "cell_type": "markdown",
   "metadata": {},
   "source": [
    "### Упражнение\n",
    "\n",
    "В результат выгрузки файлов из вложенных папок были получены списки файлов:\n",
    "\n",
    "level_0 = ['ratings_1.txt', 'ratings_10.txt', 'ratings_2.txt']\n",
    "\n",
    "level_1 = ['ratings_1_subfolder.txt', 'ratings_2_subfolder.txt', 'ratings_3_subfolder.txt']\n",
    "\n",
    "level_2 = ['ratings_logs_001.txt', 'ratings_logs_002.txt', 'ratings_logs_003.txt']\n",
    "\n",
    "Напишите кода для подсчета суммарного количества файлов в этих списках.\n",
    "\n",
    "Сколько файлов будет в этих трех списках?"
   ]
  },
  {
   "cell_type": "markdown",
   "metadata": {},
   "source": [
    "### ЧТЕНИЕ ФАЙЛОВ ИЗ ПАПКИ В ДАТАФРЕЙМ\n",
    "\n",
    "Обратите внимание, что мы ни разу не задавали имя файла, т. к. получали его автоматически. Это очень удобный прием, когда вам заранее неизвестны названия файлов с данными. В следующем шаге мы объединим все файлы из папки в один датафрейм. Давайте сначала запишем первый файл из папки в датафрейм.\n",
    "\n",
    "Поскольку мы получили только имена файлов, то нам теперь надо указывать методу pd.read_csv не только на имя файла, но и папку 'data', в которой лежит файл. Для того, чтобы объединять названия папок и имена файлов, можно воспользоваться удобным методом os.path.join (в нашем простом случае можно было объединить их через слэш, но в случае длинных адресов этот метод сэкономит вам много времени):"
   ]
  },
  {
   "cell_type": "code",
   "execution_count": 54,
   "metadata": {},
   "outputs": [
    {
     "name": "stdout",
     "output_type": "stream",
     "text": [
      "data\\ratings_1.txt\n"
     ]
    }
   ],
   "source": [
    "print(os.path.join('data', 'ratings_1.txt'))"
   ]
  },
  {
   "cell_type": "markdown",
   "metadata": {},
   "source": [
    "Проверим такой алгоритм на первом файле (обратите внимание, что мы ставим первый элемент листа с названиями файлов files[0]):"
   ]
  },
  {
   "cell_type": "code",
   "execution_count": null,
   "metadata": {},
   "outputs": [],
   "source": [
    "import pandas as pd"
   ]
  },
  {
   "cell_type": "code",
   "execution_count": 59,
   "metadata": {},
   "outputs": [
    {
     "name": "stdout",
     "output_type": "stream",
     "text": [
      "['ratings_1.txt', 'ratings_10.txt', 'ratings_2.txt', 'ratings_3.txt', 'ratings_4.txt', 'ratings_5.txt', 'ratings_6.txt', 'ratings_7.txt', 'ratings_8.txt', 'ratings_9.txt', 'Subfolder']\n",
      "(9998, 4)\n"
     ]
    },
    {
     "data": {
      "text/html": [
       "<div>\n",
       "<style scoped>\n",
       "    .dataframe tbody tr th:only-of-type {\n",
       "        vertical-align: middle;\n",
       "    }\n",
       "\n",
       "    .dataframe tbody tr th {\n",
       "        vertical-align: top;\n",
       "    }\n",
       "\n",
       "    .dataframe thead th {\n",
       "        text-align: right;\n",
       "    }\n",
       "</style>\n",
       "<table border=\"1\" class=\"dataframe\">\n",
       "  <thead>\n",
       "    <tr style=\"text-align: right;\">\n",
       "      <th></th>\n",
       "      <th>1</th>\n",
       "      <th>31</th>\n",
       "      <th>2.5</th>\n",
       "      <th>1260759144</th>\n",
       "    </tr>\n",
       "  </thead>\n",
       "  <tbody>\n",
       "    <tr>\n",
       "      <th>0</th>\n",
       "      <td>1</td>\n",
       "      <td>1029</td>\n",
       "      <td>3.0</td>\n",
       "      <td>1260759179</td>\n",
       "    </tr>\n",
       "    <tr>\n",
       "      <th>1</th>\n",
       "      <td>1</td>\n",
       "      <td>1061</td>\n",
       "      <td>3.0</td>\n",
       "      <td>1260759182</td>\n",
       "    </tr>\n",
       "    <tr>\n",
       "      <th>2</th>\n",
       "      <td>1</td>\n",
       "      <td>1129</td>\n",
       "      <td>2.0</td>\n",
       "      <td>1260759185</td>\n",
       "    </tr>\n",
       "    <tr>\n",
       "      <th>3</th>\n",
       "      <td>1</td>\n",
       "      <td>1172</td>\n",
       "      <td>4.0</td>\n",
       "      <td>1260759205</td>\n",
       "    </tr>\n",
       "    <tr>\n",
       "      <th>4</th>\n",
       "      <td>1</td>\n",
       "      <td>1263</td>\n",
       "      <td>2.0</td>\n",
       "      <td>1260759151</td>\n",
       "    </tr>\n",
       "  </tbody>\n",
       "</table>\n",
       "</div>"
      ],
      "text/plain": [
       "   1    31  2.5  1260759144\n",
       "0  1  1029  3.0  1260759179\n",
       "1  1  1061  3.0  1260759182\n",
       "2  1  1129  2.0  1260759185\n",
       "3  1  1172  4.0  1260759205\n",
       "4  1  1263  2.0  1260759151"
      ]
     },
     "execution_count": 59,
     "metadata": {},
     "output_type": "execute_result"
    }
   ],
   "source": [
    "files = os.listdir('data')\n",
    "data = pd.read_csv( os.path.join('data', files[0]) )\n",
    "print (files)\n",
    "print (data.shape)\n",
    "data.head()"
   ]
  },
  {
   "cell_type": "markdown",
   "metadata": {},
   "source": [
    "### Упражнение\n",
    "\n",
    "Сейчас в нашем датафрейме data нет названий столбцов, что неудобно.\n",
    "\n",
    "С помощью какого параметра метода read_csv их можно добавить, вручную указав имена?\n",
    "\n",
    " header  sep  +names  nrows"
   ]
  },
  {
   "cell_type": "markdown",
   "metadata": {},
   "source": [
    "### РАЗМЕР ФАЙЛОВ В ПАПКЕ\n",
    "\n",
    "С помощью библиотеки os можно автоматизировать огромное количество операций с файлами. Например, можно быстро оценить размер папки, из которой мы собираемся брать данные. В случае больших файлов это очень важно, т. к. при чтении файла в датафрейм (без опции построчного чтения) весь объем файла пишется в оперативную память компьютера. С помощью метода getsize можно получить размер файлов в байтах:"
   ]
  },
  {
   "cell_type": "code",
   "execution_count": 61,
   "metadata": {},
   "outputs": [
    {
     "name": "stdout",
     "output_type": "stream",
     "text": [
      "В байтах:  2438233\n",
      "В байтах:  0\n"
     ]
    }
   ],
   "source": [
    "from os.path import join, getsize\n",
    "for root, dirs, files in os.walk('data'):\n",
    "    print('В байтах: ', sum(getsize(join(root, name)) for name in files))"
   ]
  },
  {
   "cell_type": "markdown",
   "metadata": {},
   "source": [
    "# Склеивание датафреймов через concatenate"
   ]
  },
  {
   "cell_type": "markdown",
   "metadata": {},
   "source": [
    "МЕТОД CONCAT\n",
    "\n",
    "На прошлом шаге мы получили список файлов в папке и прочитали первый в датафрейм data. Давайте повторим процедуру для всех файлов и склеим все выгрузки в один датафрейм.\n",
    "\n",
    "В этом нам поможет метод concat.\n",
    "\n",
    "Этот метод позволяем склеивать два и более датафреймов в один. Например, если у нас есть датафреймы df1 и df2 с одинаковыми столбцами (обратите внимание, что название последнего столбца у них разное):"
   ]
  },
  {
   "cell_type": "code",
   "execution_count": 62,
   "metadata": {},
   "outputs": [],
   "source": [
    "df1 = pd.DataFrame({'A': ['A0', 'A1', 'A2', 'A3'], \n",
    "\n",
    "                    'B': ['B0', 'B1', 'B2', 'B3'], \n",
    "\n",
    "                    'C': ['C0', 'C1', 'C2', 'C3'], \n",
    "\n",
    "                    'D': ['D0', 'D1', 'D2', 'D3']})\n"
   ]
  },
  {
   "cell_type": "code",
   "execution_count": 63,
   "metadata": {},
   "outputs": [],
   "source": [
    "df2 = pd.DataFrame({'A': ['A4', 'A5', 'A6', 'A7'], \n",
    "\n",
    "                    'B': ['B4', 'B5', 'B6', 'B7'],\n",
    "\n",
    "                    'C': ['C4', 'C5', 'C6', 'C7'],\n",
    "\n",
    "                    'E': ['D4', 'D5', 'D6', 'D7']})"
   ]
  },
  {
   "cell_type": "code",
   "execution_count": 65,
   "metadata": {},
   "outputs": [
    {
     "name": "stderr",
     "output_type": "stream",
     "text": [
      "C:\\Users\\shchepkina-ev\\AppData\\Local\\Continuum\\anaconda3\\lib\\site-packages\\ipykernel_launcher.py:3: FutureWarning: Sorting because non-concatenation axis is not aligned. A future version\n",
      "of pandas will change to not sort by default.\n",
      "\n",
      "To accept the future behavior, pass 'sort=False'.\n",
      "\n",
      "To retain the current behavior and silence the warning, pass 'sort=True'.\n",
      "\n",
      "  This is separate from the ipykernel package so we can avoid doing imports until\n"
     ]
    },
    {
     "data": {
      "text/html": [
       "<div>\n",
       "<style scoped>\n",
       "    .dataframe tbody tr th:only-of-type {\n",
       "        vertical-align: middle;\n",
       "    }\n",
       "\n",
       "    .dataframe tbody tr th {\n",
       "        vertical-align: top;\n",
       "    }\n",
       "\n",
       "    .dataframe thead th {\n",
       "        text-align: right;\n",
       "    }\n",
       "</style>\n",
       "<table border=\"1\" class=\"dataframe\">\n",
       "  <thead>\n",
       "    <tr style=\"text-align: right;\">\n",
       "      <th></th>\n",
       "      <th>A</th>\n",
       "      <th>B</th>\n",
       "      <th>C</th>\n",
       "      <th>D</th>\n",
       "      <th>E</th>\n",
       "    </tr>\n",
       "  </thead>\n",
       "  <tbody>\n",
       "    <tr>\n",
       "      <th>0</th>\n",
       "      <td>A0</td>\n",
       "      <td>B0</td>\n",
       "      <td>C0</td>\n",
       "      <td>D0</td>\n",
       "      <td>NaN</td>\n",
       "    </tr>\n",
       "    <tr>\n",
       "      <th>1</th>\n",
       "      <td>A1</td>\n",
       "      <td>B1</td>\n",
       "      <td>C1</td>\n",
       "      <td>D1</td>\n",
       "      <td>NaN</td>\n",
       "    </tr>\n",
       "    <tr>\n",
       "      <th>2</th>\n",
       "      <td>A2</td>\n",
       "      <td>B2</td>\n",
       "      <td>C2</td>\n",
       "      <td>D2</td>\n",
       "      <td>NaN</td>\n",
       "    </tr>\n",
       "    <tr>\n",
       "      <th>3</th>\n",
       "      <td>A3</td>\n",
       "      <td>B3</td>\n",
       "      <td>C3</td>\n",
       "      <td>D3</td>\n",
       "      <td>NaN</td>\n",
       "    </tr>\n",
       "    <tr>\n",
       "      <th>0</th>\n",
       "      <td>A4</td>\n",
       "      <td>B4</td>\n",
       "      <td>C4</td>\n",
       "      <td>NaN</td>\n",
       "      <td>D4</td>\n",
       "    </tr>\n",
       "    <tr>\n",
       "      <th>1</th>\n",
       "      <td>A5</td>\n",
       "      <td>B5</td>\n",
       "      <td>C5</td>\n",
       "      <td>NaN</td>\n",
       "      <td>D5</td>\n",
       "    </tr>\n",
       "    <tr>\n",
       "      <th>2</th>\n",
       "      <td>A6</td>\n",
       "      <td>B6</td>\n",
       "      <td>C6</td>\n",
       "      <td>NaN</td>\n",
       "      <td>D6</td>\n",
       "    </tr>\n",
       "    <tr>\n",
       "      <th>3</th>\n",
       "      <td>A7</td>\n",
       "      <td>B7</td>\n",
       "      <td>C7</td>\n",
       "      <td>NaN</td>\n",
       "      <td>D7</td>\n",
       "    </tr>\n",
       "  </tbody>\n",
       "</table>\n",
       "</div>"
      ],
      "text/plain": [
       "    A   B   C    D    E\n",
       "0  A0  B0  C0   D0  NaN\n",
       "1  A1  B1  C1   D1  NaN\n",
       "2  A2  B2  C2   D2  NaN\n",
       "3  A3  B3  C3   D3  NaN\n",
       "0  A4  B4  C4  NaN   D4\n",
       "1  A5  B5  C5  NaN   D5\n",
       "2  A6  B6  C6  NaN   D6\n",
       "3  A7  B7  C7  NaN   D7"
      ]
     },
     "execution_count": 65,
     "metadata": {},
     "output_type": "execute_result"
    }
   ],
   "source": [
    "# Метод concat по умолчанию склеивает датафреймы вертикально, самостоятельно определяя одинаковые столбцы:\n",
    "frames = [df1, df2]\n",
    "a = pd.concat(frames)\n",
    "a"
   ]
  },
  {
   "cell_type": "markdown",
   "metadata": {},
   "source": [
    "### Упражнение\n",
    "\n",
    "У итогового датафрейма значения индекса дублируются. Каким методом его можно обновить?"
   ]
  },
  {
   "cell_type": "code",
   "execution_count": 70,
   "metadata": {},
   "outputs": [
    {
     "data": {
      "text/html": [
       "<div>\n",
       "<style scoped>\n",
       "    .dataframe tbody tr th:only-of-type {\n",
       "        vertical-align: middle;\n",
       "    }\n",
       "\n",
       "    .dataframe tbody tr th {\n",
       "        vertical-align: top;\n",
       "    }\n",
       "\n",
       "    .dataframe thead th {\n",
       "        text-align: right;\n",
       "    }\n",
       "</style>\n",
       "<table border=\"1\" class=\"dataframe\">\n",
       "  <thead>\n",
       "    <tr style=\"text-align: right;\">\n",
       "      <th></th>\n",
       "      <th>index</th>\n",
       "      <th>A</th>\n",
       "      <th>B</th>\n",
       "      <th>C</th>\n",
       "      <th>D</th>\n",
       "      <th>E</th>\n",
       "    </tr>\n",
       "  </thead>\n",
       "  <tbody>\n",
       "    <tr>\n",
       "      <th>0</th>\n",
       "      <td>0</td>\n",
       "      <td>A0</td>\n",
       "      <td>B0</td>\n",
       "      <td>C0</td>\n",
       "      <td>D0</td>\n",
       "      <td>NaN</td>\n",
       "    </tr>\n",
       "    <tr>\n",
       "      <th>1</th>\n",
       "      <td>1</td>\n",
       "      <td>A1</td>\n",
       "      <td>B1</td>\n",
       "      <td>C1</td>\n",
       "      <td>D1</td>\n",
       "      <td>NaN</td>\n",
       "    </tr>\n",
       "    <tr>\n",
       "      <th>2</th>\n",
       "      <td>2</td>\n",
       "      <td>A2</td>\n",
       "      <td>B2</td>\n",
       "      <td>C2</td>\n",
       "      <td>D2</td>\n",
       "      <td>NaN</td>\n",
       "    </tr>\n",
       "    <tr>\n",
       "      <th>3</th>\n",
       "      <td>3</td>\n",
       "      <td>A3</td>\n",
       "      <td>B3</td>\n",
       "      <td>C3</td>\n",
       "      <td>D3</td>\n",
       "      <td>NaN</td>\n",
       "    </tr>\n",
       "    <tr>\n",
       "      <th>4</th>\n",
       "      <td>0</td>\n",
       "      <td>A4</td>\n",
       "      <td>B4</td>\n",
       "      <td>C4</td>\n",
       "      <td>NaN</td>\n",
       "      <td>D4</td>\n",
       "    </tr>\n",
       "    <tr>\n",
       "      <th>5</th>\n",
       "      <td>1</td>\n",
       "      <td>A5</td>\n",
       "      <td>B5</td>\n",
       "      <td>C5</td>\n",
       "      <td>NaN</td>\n",
       "      <td>D5</td>\n",
       "    </tr>\n",
       "    <tr>\n",
       "      <th>6</th>\n",
       "      <td>2</td>\n",
       "      <td>A6</td>\n",
       "      <td>B6</td>\n",
       "      <td>C6</td>\n",
       "      <td>NaN</td>\n",
       "      <td>D6</td>\n",
       "    </tr>\n",
       "    <tr>\n",
       "      <th>7</th>\n",
       "      <td>3</td>\n",
       "      <td>A7</td>\n",
       "      <td>B7</td>\n",
       "      <td>C7</td>\n",
       "      <td>NaN</td>\n",
       "      <td>D7</td>\n",
       "    </tr>\n",
       "  </tbody>\n",
       "</table>\n",
       "</div>"
      ],
      "text/plain": [
       "   index   A   B   C    D    E\n",
       "0      0  A0  B0  C0   D0  NaN\n",
       "1      1  A1  B1  C1   D1  NaN\n",
       "2      2  A2  B2  C2   D2  NaN\n",
       "3      3  A3  B3  C3   D3  NaN\n",
       "4      0  A4  B4  C4  NaN   D4\n",
       "5      1  A5  B5  C5  NaN   D5\n",
       "6      2  A6  B6  C6  NaN   D6\n",
       "7      3  A7  B7  C7  NaN   D7"
      ]
     },
     "execution_count": 70,
     "metadata": {},
     "output_type": "execute_result"
    }
   ],
   "source": [
    "a.reset_index(inplace = True) \n",
    "a"
   ]
  },
  {
   "cell_type": "markdown",
   "metadata": {},
   "source": [
    "### СКЛЕИВАНИЕ ДАТАФРЕЙМОВ ПО СТРОКАМ\n",
    "\n",
    "Датафреймы при необходимости можно склеивать и горизонтально, изменив значение параметра axis с 0 на 1. При этом при объединении строки будут объединяться по одинаковому индексу:"
   ]
  },
  {
   "cell_type": "code",
   "execution_count": 71,
   "metadata": {},
   "outputs": [
    {
     "data": {
      "text/html": [
       "<div>\n",
       "<style scoped>\n",
       "    .dataframe tbody tr th:only-of-type {\n",
       "        vertical-align: middle;\n",
       "    }\n",
       "\n",
       "    .dataframe tbody tr th {\n",
       "        vertical-align: top;\n",
       "    }\n",
       "\n",
       "    .dataframe thead th {\n",
       "        text-align: right;\n",
       "    }\n",
       "</style>\n",
       "<table border=\"1\" class=\"dataframe\">\n",
       "  <thead>\n",
       "    <tr style=\"text-align: right;\">\n",
       "      <th></th>\n",
       "      <th>A</th>\n",
       "      <th>B</th>\n",
       "      <th>C</th>\n",
       "      <th>D</th>\n",
       "      <th>A</th>\n",
       "      <th>B</th>\n",
       "      <th>C</th>\n",
       "      <th>E</th>\n",
       "    </tr>\n",
       "  </thead>\n",
       "  <tbody>\n",
       "    <tr>\n",
       "      <th>0</th>\n",
       "      <td>A0</td>\n",
       "      <td>B0</td>\n",
       "      <td>C0</td>\n",
       "      <td>D0</td>\n",
       "      <td>A4</td>\n",
       "      <td>B4</td>\n",
       "      <td>C4</td>\n",
       "      <td>D4</td>\n",
       "    </tr>\n",
       "    <tr>\n",
       "      <th>1</th>\n",
       "      <td>A1</td>\n",
       "      <td>B1</td>\n",
       "      <td>C1</td>\n",
       "      <td>D1</td>\n",
       "      <td>A5</td>\n",
       "      <td>B5</td>\n",
       "      <td>C5</td>\n",
       "      <td>D5</td>\n",
       "    </tr>\n",
       "    <tr>\n",
       "      <th>2</th>\n",
       "      <td>A2</td>\n",
       "      <td>B2</td>\n",
       "      <td>C2</td>\n",
       "      <td>D2</td>\n",
       "      <td>A6</td>\n",
       "      <td>B6</td>\n",
       "      <td>C6</td>\n",
       "      <td>D6</td>\n",
       "    </tr>\n",
       "    <tr>\n",
       "      <th>3</th>\n",
       "      <td>A3</td>\n",
       "      <td>B3</td>\n",
       "      <td>C3</td>\n",
       "      <td>D3</td>\n",
       "      <td>A7</td>\n",
       "      <td>B7</td>\n",
       "      <td>C7</td>\n",
       "      <td>D7</td>\n",
       "    </tr>\n",
       "  </tbody>\n",
       "</table>\n",
       "</div>"
      ],
      "text/plain": [
       "    A   B   C   D   A   B   C   E\n",
       "0  A0  B0  C0  D0  A4  B4  C4  D4\n",
       "1  A1  B1  C1  D1  A5  B5  C5  D5\n",
       "2  A2  B2  C2  D2  A6  B6  C6  D6\n",
       "3  A3  B3  C3  D3  A7  B7  C7  D7"
      ]
     },
     "execution_count": 71,
     "metadata": {},
     "output_type": "execute_result"
    }
   ],
   "source": [
    "pd.concat([df1, df2], axis=1)"
   ]
  },
  {
   "cell_type": "markdown",
   "metadata": {},
   "source": [
    "### ОБЪЕДИНЕНИЕ ФАЙЛОВ В ДАТАФРЕЙМ\n",
    "\n",
    "Итак, ранее мы прочитали содержимое одного файла с рейтингами в датафрейм. Список всех десяти файлов у нас лежит в списке files. Запишем содержимое всех файлов в датафрейм data.\n",
    "\n",
    "Сначала создадим его:"
   ]
  },
  {
   "cell_type": "code",
   "execution_count": 17,
   "metadata": {},
   "outputs": [
    {
     "data": {
      "text/plain": [
       "(0, 4)"
      ]
     },
     "execution_count": 17,
     "metadata": {},
     "output_type": "execute_result"
    }
   ],
   "source": [
    "data = pd.DataFrame(columns = ['userId', 'movieId', 'rating', 'timestamp'])\n",
    "data.shape"
   ]
  },
  {
   "cell_type": "markdown",
   "metadata": {},
   "source": [
    "Для каждого имени файла filename будем записывать его содержимое в датафрейм temp. \n",
    "\n",
    "Допустим, имя текущего файла записано в переменную filename, тогда для его импорта в датафрейм используем переменную temp:"
   ]
  },
  {
   "cell_type": "markdown",
   "metadata": {},
   "source": [
    "os.path.join\n",
    "Метод join позволяет вам совместить несколько путей при помощи присвоенного разделителя. К примеру, в Windows, в роли разделителя выступает бэкслэш (косая черта, указывающая назад)\n"
   ]
  },
  {
   "cell_type": "code",
   "execution_count": 8,
   "metadata": {},
   "outputs": [
    {
     "name": "stdout",
     "output_type": "stream",
     "text": [
      "C:\\Python27\\Tools\\pynche\\ChipViewer.py\n"
     ]
    }
   ],
   "source": [
    "import os\n",
    "import pandas as pd \n",
    "print( os.path.join(r'C:\\Python27\\Tools\\pynche', 'ChipViewer.py') )\n",
    "# C:\\\\Python27\\\\Tools\\\\pynche\\\\ChipViewer.py"
   ]
  },
  {
   "cell_type": "code",
   "execution_count": 6,
   "metadata": {},
   "outputs": [
    {
     "data": {
      "text/plain": [
       "'ratings_1.txt'"
      ]
     },
     "execution_count": 6,
     "metadata": {},
     "output_type": "execute_result"
    }
   ],
   "source": [
    "files = os.listdir('data')\n",
    "files[0]"
   ]
  },
  {
   "cell_type": "code",
   "execution_count": 15,
   "metadata": {},
   "outputs": [
    {
     "data": {
      "text/plain": [
       "(9999, 4)"
      ]
     },
     "execution_count": 15,
     "metadata": {},
     "output_type": "execute_result"
    }
   ],
   "source": [
    "temp = pd.read_csv( os.path.join('data', files[0]), names = ['userId', 'movieId', 'rating', 'timestamp'] )\n",
    "temp.shape"
   ]
  },
  {
   "cell_type": "code",
   "execution_count": 18,
   "metadata": {},
   "outputs": [
    {
     "data": {
      "text/plain": [
       "(0, 4)"
      ]
     },
     "execution_count": 18,
     "metadata": {},
     "output_type": "execute_result"
    }
   ],
   "source": [
    "data.shape"
   ]
  },
  {
   "cell_type": "markdown",
   "metadata": {},
   "source": [
    "Наконец, для добавления содержимого очередного файла filename к основному датафрейму data останется использовать метод concat:"
   ]
  },
  {
   "cell_type": "code",
   "execution_count": 19,
   "metadata": {},
   "outputs": [
    {
     "data": {
      "text/plain": [
       "(9999, 4)"
      ]
     },
     "execution_count": 19,
     "metadata": {},
     "output_type": "execute_result"
    }
   ],
   "source": [
    "data = pd.concat([data, temp])\n",
    "data.shape"
   ]
  },
  {
   "cell_type": "code",
   "execution_count": 20,
   "metadata": {},
   "outputs": [
    {
     "data": {
      "text/plain": [
       "11"
      ]
     },
     "execution_count": 20,
     "metadata": {},
     "output_type": "execute_result"
    }
   ],
   "source": [
    "len(files)"
   ]
  },
  {
   "cell_type": "markdown",
   "metadata": {},
   "source": [
    "Использование временного датафрейма temp аналогично тому как мы прибавляем значение к переменной i в цикле: i = i + 1. Только вместо i у нас датафрейм data, а вместо единицы - temp."
   ]
  },
  {
   "cell_type": "markdown",
   "metadata": {},
   "source": [
    "### Домашнее задание\n",
    "\n",
    "Напишите цикл, который собирает содержимое файлов папки data в единый датафрейм data.\n",
    "\n",
    "Сколько строк получится в датафрейме data?"
   ]
  },
  {
   "cell_type": "code",
   "execution_count": 28,
   "metadata": {},
   "outputs": [
    {
     "name": "stdout",
     "output_type": "stream",
     "text": [
      "0\n",
      "1\n",
      "2\n",
      "3\n",
      "4\n",
      "5\n",
      "6\n",
      "7\n",
      "8\n",
      "9\n"
     ]
    }
   ],
   "source": [
    "for i in range(0,len(files)-1):\n",
    "    print (i)"
   ]
  },
  {
   "cell_type": "code",
   "execution_count": 27,
   "metadata": {},
   "outputs": [
    {
     "name": "stdout",
     "output_type": "stream",
     "text": [
      "(0, 4)\n",
      "0\n",
      "(9999, 4)\n",
      "1\n",
      "(20004, 4)\n",
      "2\n",
      "(30004, 4)\n",
      "3\n",
      "(40004, 4)\n",
      "4\n",
      "(50004, 4)\n",
      "5\n",
      "(60004, 4)\n",
      "6\n",
      "(70004, 4)\n",
      "7\n",
      "(80004, 4)\n",
      "8\n",
      "(90004, 4)\n",
      "9\n",
      "(100004, 4)\n"
     ]
    }
   ],
   "source": [
    "data = pd.DataFrame(columns = ['userId', 'movieId', 'rating', 'timestamp'])\n",
    "print(data.shape)\n",
    "for i in range(0,len(files)-1):\n",
    "    print (i)\n",
    "    temp = pd.read_csv( os.path.join('data', files[i]), names = ['userId', 'movieId', 'rating', 'timestamp'] )\n",
    "    data = pd.concat([data, temp])\n",
    "    print(data.shape)"
   ]
  },
  {
   "cell_type": "code",
   "execution_count": null,
   "metadata": {},
   "outputs": [],
   "source": []
  },
  {
   "cell_type": "code",
   "execution_count": null,
   "metadata": {},
   "outputs": [],
   "source": []
  }
 ],
 "metadata": {
  "kernelspec": {
   "display_name": "Python 3",
   "language": "python",
   "name": "python3"
  },
  "language_info": {
   "codemirror_mode": {
    "name": "ipython",
    "version": 3
   },
   "file_extension": ".py",
   "mimetype": "text/x-python",
   "name": "python",
   "nbconvert_exporter": "python",
   "pygments_lexer": "ipython3",
   "version": "3.7.1"
  }
 },
 "nbformat": 4,
 "nbformat_minor": 2
}
