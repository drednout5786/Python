{
 "cells": [
  {
   "cell_type": "markdown",
   "metadata": {},
   "source": [
    "# Решающие деревья для ДМ"
   ]
  },
  {
   "cell_type": "code",
   "execution_count": 1,
   "metadata": {},
   "outputs": [],
   "source": [
    "import numpy as np\n",
    "import pandas as pd\n",
    "import math"
   ]
  },
  {
   "cell_type": "code",
   "execution_count": 8,
   "metadata": {},
   "outputs": [],
   "source": [
    "from sklearn.tree import DecisionTreeClassifier"
   ]
  },
  {
   "cell_type": "code",
   "execution_count": 15,
   "metadata": {},
   "outputs": [],
   "source": [
    "from sklearn.tree import export_graphviz"
   ]
  },
  {
   "cell_type": "code",
   "execution_count": 2,
   "metadata": {},
   "outputs": [],
   "source": [
    "column_names = [\"Targ1\",\"Targ2\",\"Targ3\",\"Targ4\",\"Don\",\"Apgar\",\"Sex\",\"Vospal\",\"Ves\",\n",
    "                \"IMT\",\"Somat\",\"Ob_somat\",\"Ob_gin\",\"Ob_inf_ber\",\"Ob_inf_lac\",\"ZMG_lac\",\n",
    "                \"Prer_ber\",\"Gestoz\",\"AB_ber\",\"AB_lac\",\"Prob_lac\",\"Rody\",\"7_St aureus\",\"7_Klebsiella\",\"7_E.Coli\",\n",
    "                \"7_S.epidermidis\",\"7_Enterococcus spp.\",\"7_S.salivarius\",\"7_K.pneumoniae\",\"7_S. haemolyticus/hominis\",\n",
    "                \"7_S. lugdunensis\",\"7_A.pittii\",\"7_S. agalactiae\",\"7_S. anginosus\",\"7_A. baumannii\",\"7_Kocuria kristinae\",\n",
    "                \"7_Rothia spp.\",\"7_Corynebacterium spp.\",\"7_Enterobacter spp.\",\"7_A.junii\",\"7_S.maltophilia\",\"7_R.aquatilis\",\n",
    "                \"7_Pseudomonas spp\",\"7_E. faecalis\",\"4_St aureus\",\"4_Klebsiella\",\"4_E.Coli\",\"4_S.epidermidis\",\n",
    "                \"4_Enterococcus spp.\",\"4_S.salivarius\",\"4_K.pneumoniae\",\"4_S. haemolyticus/hominis\",\n",
    "                \"4_S. lugdunensis \",\"4_A.pittii\",\"4_S. agalactiae\",\"4_S. anginosus\",\"4_A. baumannii\",\"4_Kocuria kristinae\",\n",
    "                \"4_Rothia spp.\",\"4_Corynebacterium spp.\",\"4_Enterobacter spp.\",\"4_A.junii\",\"4_S.maltophilia\",\n",
    "                \"4_R.aquatilis\",\"4_Pseudomonas spp\",\"4_E. faecalis\",\"10_St aureus\",\"10_Klebsiella\",\n",
    "                \"10_E.Coli\",\"10_S.epidermidis\",\"10_Enterococcus spp.\",\"10_S.salivarius\",\"10_K.pneumoniae\",\n",
    "                \"10_S. haemolyticus/hominis\",\"10_S. lugdunensis \",\"10_A.pittii\",\"10_S. agalactiae\",\n",
    "                \"10_S. anginosus\",\"10_A. baumannii\",\"10_Kocuria kristinae\",\"10_Rothia spp.\",\n",
    "                \"10_Corynebacterium spp.\",\"10_Enterobacter spp.\",\"10_A.junii\",\"10_S.maltophilia\",\n",
    "                \"10_R.aquatilis\",\"10_Pseudomonas spp\",\"10_E. faecalis\"]"
   ]
  },
  {
   "cell_type": "code",
   "execution_count": 3,
   "metadata": {},
   "outputs": [],
   "source": [
    "train = pd.read_csv(\"DM2_train.csv\", sep=\";\", header=None, engine=\"python\", names=column_names)\n",
    "test = pd.read_csv(\"DM3_test.csv\", sep=\";\", header=None, engine=\"python\", names=column_names)"
   ]
  },
  {
   "cell_type": "code",
   "execution_count": 5,
   "metadata": {},
   "outputs": [],
   "source": [
    "numeric_cols_X = [\"Don\",\"Apgar\",\"Sex\",\"Vospal\",\"Ves\",\n",
    "                \"IMT\",\"Somat\",\"Ob_somat\",\"Ob_gin\",\"Ob_inf_ber\",\"Ob_inf_lac\",\"ZMG_lac\",\n",
    "                \"Prer_ber\",\"Gestoz\",\"AB_ber\",\"AB_lac\",\"Prob_lac\",\"Rody\"]\n",
    "numeric_cols_Y = [\"Targ1\"]"
   ]
  },
  {
   "cell_type": "code",
   "execution_count": 6,
   "metadata": {},
   "outputs": [],
   "source": [
    "train_features = train[numeric_cols_X]\n",
    "train_labels = train[numeric_cols_Y]\n",
    "test_features = test[numeric_cols_X]\n",
    "test_labels = test[numeric_cols_Y]"
   ]
  },
  {
   "cell_type": "markdown",
   "metadata": {},
   "source": [
    "## Простое решение"
   ]
  },
  {
   "cell_type": "code",
   "execution_count": 12,
   "metadata": {},
   "outputs": [
    {
     "data": {
      "text/plain": [
       "DecisionTreeClassifier(class_weight=None, criterion='gini', max_depth=None,\n",
       "            max_features=None, max_leaf_nodes=None,\n",
       "            min_impurity_decrease=0.0, min_impurity_split=None,\n",
       "            min_samples_leaf=1, min_samples_split=2,\n",
       "            min_weight_fraction_leaf=0.0, presort=False, random_state=17,\n",
       "            splitter='best')"
      ]
     },
     "execution_count": 12,
     "metadata": {},
     "output_type": "execute_result"
    }
   ],
   "source": [
    "sal_tree = DecisionTreeClassifier(random_state=17)\n",
    "sal_tree"
   ]
  },
  {
   "cell_type": "code",
   "execution_count": 13,
   "metadata": {},
   "outputs": [],
   "source": [
    "sal_tree.fit(train_features.values, train_labels.values)\n",
    "\n"
   ]
  },
  {
   "cell_type": "code",
   "execution_count": 16,
   "metadata": {},
   "outputs": [],
   "source": [
    "export_graphviz(sal_tree, feature_names=numeric_cols_X, out_file='sal_tree.dot', filled=True)\n"
   ]
  },
  {
   "cell_type": "markdown",
   "metadata": {},
   "source": [
    "## Решение (по сложнее)\n"
   ]
  },
  {
   "cell_type": "code",
   "execution_count": 49,
   "metadata": {},
   "outputs": [],
   "source": [
    "from sklearn.model_selection import train_test_split, StratifiedKFold\n",
    "from sklearn.neighbors import KNeighborsClassifier\n",
    "from sklearn.metrics import recall_score, precision_score, roc_auc_score, f1_score"
   ]
  },
  {
   "cell_type": "code",
   "execution_count": 36,
   "metadata": {},
   "outputs": [],
   "source": [
    "numeric_cols = [\"Targ1\",\"Don\",\"Apgar\",\"Sex\",\"Vospal\",\"Ves\",\n",
    "                \"IMT\",\"Somat\",\"Ob_somat\",\"Ob_gin\",\"Ob_inf_ber\",\"Ob_inf_lac\",\"ZMG_lac\",\n",
    "                \"Prer_ber\",\"Gestoz\",\"AB_ber\",\"AB_lac\",\"Prob_lac\",\"Rody\"]"
   ]
  },
  {
   "cell_type": "code",
   "execution_count": null,
   "metadata": {},
   "outputs": [],
   "source": []
  },
  {
   "cell_type": "code",
   "execution_count": 37,
   "metadata": {},
   "outputs": [],
   "source": [
    "FD= pd.read_csv(\"DM_all.csv\", sep=\";\", header=None, engine=\"python\", names=numeric_cols)"
   ]
  },
  {
   "cell_type": "code",
   "execution_count": 38,
   "metadata": {},
   "outputs": [],
   "source": [
    "y = FD['Targ1']\n",
    "X_train, X_holdout, y_train, y_holdout = train_test_split(FD[numeric_cols_X].values, y, test_size=0.3, random_state=17) \n",
    "#test - выделение обучающей выборки"
   ]
  },
  {
   "cell_type": "code",
   "execution_count": 39,
   "metadata": {},
   "outputs": [
    {
     "data": {
      "text/plain": [
       "(42, 18)"
      ]
     },
     "execution_count": 39,
     "metadata": {},
     "output_type": "execute_result"
    }
   ],
   "source": [
    "X_train.shape\n"
   ]
  },
  {
   "cell_type": "code",
   "execution_count": 40,
   "metadata": {},
   "outputs": [
    {
     "data": {
      "text/plain": [
       "(19, 18)"
      ]
     },
     "execution_count": 40,
     "metadata": {},
     "output_type": "execute_result"
    }
   ],
   "source": [
    "X_holdout.shape"
   ]
  },
  {
   "cell_type": "code",
   "execution_count": 41,
   "metadata": {},
   "outputs": [
    {
     "data": {
      "text/plain": [
       "(42,)"
      ]
     },
     "execution_count": 41,
     "metadata": {},
     "output_type": "execute_result"
    }
   ],
   "source": [
    "y_train.shape"
   ]
  },
  {
   "cell_type": "code",
   "execution_count": 42,
   "metadata": {},
   "outputs": [
    {
     "data": {
      "text/plain": [
       "(19,)"
      ]
     },
     "execution_count": 42,
     "metadata": {},
     "output_type": "execute_result"
    }
   ],
   "source": [
    "y_holdout.shape"
   ]
  },
  {
   "cell_type": "code",
   "execution_count": 34,
   "metadata": {},
   "outputs": [
    {
     "data": {
      "text/plain": [
       "array([[0, 2, 1, 0, 3, 3, 0, 0, 0, 0, 0, 0, 1, 0, 0, 0, 0, 1],\n",
       "       [0, 2, 2, 1, 2, 2, 1, 1, 1, 1, 0, 0, 1, 1, 1, 1, 0, 2],\n",
       "       [0, 2, 2, 0, 2, 2, 0, 0, 0, 0, 0, 0, 1, 1, 0, 0, 0, 2],\n",
       "       [1, 1, 1, 0, 5, 2, 0, 0, 0, 0, 0, 0, 0, 1, 0, 0, 0, 1],\n",
       "       [1, 2, 2, 0, 5, 4, 1, 0, 0, 0, 0, 0, 0, 0, 0, 0, 0, 1],\n",
       "       [0, 1, 2, 0, 4, 2, 0, 0, 0, 0, 0, 0, 0, 0, 0, 0, 0, 1],\n",
       "       [0, 3, 2, 1, 1, 2, 1, 0, 0, 1, 1, 0, 1, 0, 0, 0, 0, 2],\n",
       "       [0, 1, 1, 1, 5, 2, 0, 0, 0, 0, 0, 0, 1, 0, 0, 0, 0, 1],\n",
       "       [0, 2, 1, 0, 3, 2, 0, 0, 0, 0, 0, 0, 1, 1, 0, 0, 0, 2],\n",
       "       [0, 2, 2, 0, 4, 3, 1, 0, 0, 0, 0, 0, 1, 1, 1, 1, 0, 2],\n",
       "       [0, 2, 2, 0, 3, 2, 0, 0, 0, 1, 0, 0, 0, 0, 1, 0, 0, 2],\n",
       "       [1, 1, 1, 0, 6, 2, 1, 0, 0, 0, 0, 0, 0, 0, 0, 0, 0, 1],\n",
       "       [1, 1, 1, 0, 6, 3, 1, 0, 0, 1, 0, 0, 0, 0, 0, 0, 0, 1],\n",
       "       [1, 1, 2, 0, 5, 2, 1, 0, 0, 1, 0, 0, 0, 0, 0, 0, 0, 1],\n",
       "       [0, 2, 2, 0, 4, 2, 0, 0, 0, 0, 1, 0, 0, 1, 0, 0, 0, 1],\n",
       "       [1, 1, 2, 1, 5, 1, 0, 0, 0, 1, 0, 0, 1, 0, 0, 0, 0, 1],\n",
       "       [1, 1, 2, 0, 5, 2, 0, 0, 0, 0, 0, 0, 0, 0, 0, 0, 0, 1],\n",
       "       [1, 2, 2, 0, 4, 2, 1, 0, 0, 0, 1, 0, 0, 0, 0, 1, 0, 2],\n",
       "       [0, 1, 1, 0, 4, 2, 0, 0, 0, 0, 0, 0, 0, 1, 0, 0, 1, 1]],\n",
       "      dtype=int64)"
      ]
     },
     "execution_count": 34,
     "metadata": {},
     "output_type": "execute_result"
    }
   ],
   "source": [
    "X_holdout"
   ]
  },
  {
   "cell_type": "code",
   "execution_count": 43,
   "metadata": {},
   "outputs": [
    {
     "data": {
      "text/plain": [
       "array([[0, 2, 1, 0, 3, 3, 0, 0, 0, 0, 0, 0, 1, 0, 0, 0, 0, 1],\n",
       "       [0, 2, 2, 1, 2, 2, 1, 1, 1, 1, 0, 0, 1, 1, 1, 1, 0, 2],\n",
       "       [0, 2, 2, 0, 2, 2, 0, 0, 0, 0, 0, 0, 1, 1, 0, 0, 0, 2],\n",
       "       [1, 1, 1, 0, 5, 2, 0, 0, 0, 0, 0, 0, 0, 1, 0, 0, 0, 1],\n",
       "       [1, 2, 2, 0, 5, 4, 1, 0, 0, 0, 0, 0, 0, 0, 0, 0, 0, 1],\n",
       "       [0, 1, 2, 0, 4, 2, 0, 0, 0, 0, 0, 0, 0, 0, 0, 0, 0, 1],\n",
       "       [0, 3, 2, 1, 1, 2, 1, 0, 0, 1, 1, 0, 1, 0, 0, 0, 0, 2],\n",
       "       [0, 1, 1, 1, 5, 2, 0, 0, 0, 0, 0, 0, 1, 0, 0, 0, 0, 1],\n",
       "       [0, 2, 1, 0, 3, 2, 0, 0, 0, 0, 0, 0, 1, 1, 0, 0, 0, 2],\n",
       "       [0, 2, 2, 0, 4, 3, 1, 0, 0, 0, 0, 0, 1, 1, 1, 1, 0, 2],\n",
       "       [0, 2, 2, 0, 3, 2, 0, 0, 0, 1, 0, 0, 0, 0, 1, 0, 0, 2],\n",
       "       [1, 1, 1, 0, 6, 2, 1, 0, 0, 0, 0, 0, 0, 0, 0, 0, 0, 1],\n",
       "       [1, 1, 1, 0, 6, 3, 1, 0, 0, 1, 0, 0, 0, 0, 0, 0, 0, 1],\n",
       "       [1, 1, 2, 0, 5, 2, 1, 0, 0, 1, 0, 0, 0, 0, 0, 0, 0, 1],\n",
       "       [0, 2, 2, 0, 4, 2, 0, 0, 0, 0, 1, 0, 0, 1, 0, 0, 0, 1],\n",
       "       [1, 1, 2, 1, 5, 1, 0, 0, 0, 1, 0, 0, 1, 0, 0, 0, 0, 1],\n",
       "       [1, 1, 2, 0, 5, 2, 0, 0, 0, 0, 0, 0, 0, 0, 0, 0, 0, 1],\n",
       "       [1, 2, 2, 0, 4, 2, 1, 0, 0, 0, 1, 0, 0, 0, 0, 1, 0, 2],\n",
       "       [0, 1, 1, 0, 4, 2, 0, 0, 0, 0, 0, 0, 0, 1, 0, 0, 1, 1]],\n",
       "      dtype=int64)"
      ]
     },
     "execution_count": 43,
     "metadata": {},
     "output_type": "execute_result"
    }
   ],
   "source": [
    "X_holdout"
   ]
  },
  {
   "cell_type": "code",
   "execution_count": 44,
   "metadata": {},
   "outputs": [
    {
     "data": {
      "text/plain": [
       "DecisionTreeClassifier(class_weight=None, criterion='gini', max_depth=5,\n",
       "            max_features=None, max_leaf_nodes=None,\n",
       "            min_impurity_decrease=0.0, min_impurity_split=None,\n",
       "            min_samples_leaf=1, min_samples_split=2,\n",
       "            min_weight_fraction_leaf=0.0, presort=False, random_state=17,\n",
       "            splitter='best')"
      ]
     },
     "execution_count": 44,
     "metadata": {},
     "output_type": "execute_result"
    }
   ],
   "source": [
    "tree = DecisionTreeClassifier(max_depth=5, random_state=17)\n",
    "tree.fit(X_train, y_train)"
   ]
  },
  {
   "cell_type": "code",
   "execution_count": 81,
   "metadata": {},
   "outputs": [],
   "source": [
    "export_graphviz(tree, feature_names=numeric_cols_X, out_file='des_tree.dot', filled=True)"
   ]
  },
  {
   "cell_type": "code",
   "execution_count": 45,
   "metadata": {},
   "outputs": [
    {
     "data": {
      "text/plain": [
       "KNeighborsClassifier(algorithm='auto', leaf_size=30, metric='minkowski',\n",
       "           metric_params=None, n_jobs=None, n_neighbors=10, p=2,\n",
       "           weights='uniform')"
      ]
     },
     "execution_count": 45,
     "metadata": {},
     "output_type": "execute_result"
    }
   ],
   "source": [
    "knn = KNeighborsClassifier(n_neighbors=10)\n",
    "knn.fit(X_train, y_train)"
   ]
  },
  {
   "cell_type": "code",
   "execution_count": 46,
   "metadata": {},
   "outputs": [
    {
     "data": {
      "text/plain": [
       "19"
      ]
     },
     "execution_count": 46,
     "metadata": {},
     "output_type": "execute_result"
    }
   ],
   "source": [
    "len(X_holdout)"
   ]
  },
  {
   "cell_type": "markdown",
   "metadata": {},
   "source": [
    "Качество прогнозов будем проверять с помощью простой метрики – доли правильных ответов. Сделаем прогнозы для отложенной выборки. Дерево решений справилось лучше: доля правильных ответов около 94% против 88% у kNN. Но это мы пока выбирали параметры наугад."
   ]
  },
  {
   "cell_type": "code",
   "execution_count": 52,
   "metadata": {},
   "outputs": [
    {
     "name": "stdout",
     "output_type": "stream",
     "text": [
      "accuracy =  0.5789473684210527\n",
      "recall =  0.8333333333333334\n",
      "precision =  0.4166666666666667\n",
      "roc_auc =  0.6474358974358975\n",
      "f1 =  0.5555555555555556\n"
     ]
    }
   ],
   "source": [
    "from sklearn.metrics import accuracy_score\n",
    "\n",
    "tree_pred = tree.predict(X_holdout)\n",
    "print(\"accuracy = \", accuracy_score(y_holdout, tree_pred)) \n",
    "print(\"recall = \", recall_score(y_holdout, tree_pred)) \n",
    "print(\"precision = \", precision_score(y_holdout, tree_pred)) \n",
    "print(\"roc_auc = \", roc_auc_score(y_holdout, tree_pred)) \n",
    "print(\"f1 = \", f1_score(y_holdout, tree_pred)) "
   ]
  },
  {
   "cell_type": "code",
   "execution_count": 53,
   "metadata": {},
   "outputs": [
    {
     "name": "stdout",
     "output_type": "stream",
     "text": [
      "accuracy =  0.2631578947368421\n",
      "recall =  0.6666666666666666\n",
      "precision =  0.25\n",
      "roc_auc =  0.37179487179487175\n",
      "f1 =  0.36363636363636365\n"
     ]
    }
   ],
   "source": [
    "knn_pred = knn.predict(X_holdout)\n",
    "print(\"accuracy = \", accuracy_score(y_holdout, knn_pred))\n",
    "print(\"recall = \", recall_score(y_holdout, knn_pred)) \n",
    "print(\"precision = \", precision_score(y_holdout, knn_pred)) \n",
    "print(\"roc_auc = \", roc_auc_score(y_holdout, knn_pred)) \n",
    "print(\"f1 = \", f1_score(y_holdout, knn_pred)) "
   ]
  },
  {
   "cell_type": "markdown",
   "metadata": {},
   "source": [
    "# Доделать"
   ]
  },
  {
   "cell_type": "code",
   "execution_count": 65,
   "metadata": {},
   "outputs": [
    {
     "ename": "AttributeError",
     "evalue": "'numpy.ndarray' object has no attribute 'feature_importances_'",
     "output_type": "error",
     "traceback": [
      "\u001b[1;31m---------------------------------------------------------------------------\u001b[0m",
      "\u001b[1;31mAttributeError\u001b[0m                            Traceback (most recent call last)",
      "\u001b[1;32m<ipython-input-65-66fdb256922f>\u001b[0m in \u001b[0;36m<module>\u001b[1;34m\u001b[0m\n\u001b[1;32m----> 1\u001b[1;33m \u001b[0mimportances\u001b[0m \u001b[1;33m=\u001b[0m \u001b[0mknn_pred\u001b[0m\u001b[1;33m.\u001b[0m\u001b[0mfeature_importances_\u001b[0m\u001b[1;33m\u001b[0m\u001b[1;33m\u001b[0m\u001b[0m\n\u001b[0m\u001b[0;32m      2\u001b[0m \u001b[0mindices\u001b[0m \u001b[1;33m=\u001b[0m \u001b[0mnp\u001b[0m\u001b[1;33m.\u001b[0m\u001b[0margsort\u001b[0m\u001b[1;33m(\u001b[0m\u001b[0mimportances\u001b[0m\u001b[1;33m)\u001b[0m\u001b[1;33m[\u001b[0m\u001b[1;33m:\u001b[0m\u001b[1;33m:\u001b[0m\u001b[1;33m-\u001b[0m\u001b[1;36m1\u001b[0m\u001b[1;33m]\u001b[0m\u001b[1;33m\u001b[0m\u001b[1;33m\u001b[0m\u001b[0m\n",
      "\u001b[1;31mAttributeError\u001b[0m: 'numpy.ndarray' object has no attribute 'feature_importances_'"
     ]
    }
   ],
   "source": [
    "importances = knn_pred.feature_importances_\n",
    "indices = np.argsort(importances)[::-1]"
   ]
  },
  {
   "cell_type": "code",
   "execution_count": null,
   "metadata": {},
   "outputs": [],
   "source": [
    "print(\"Feature importances:\")\n",
    "for f, idx in enumerate(indices):\n",
    "    print(\"{:2d}. feature '{:5s}' ({:.4f})\".format(f + 1, feature_names[idx], importances[idx]))"
   ]
  },
  {
   "cell_type": "code",
   "execution_count": null,
   "metadata": {},
   "outputs": [],
   "source": []
  },
  {
   "cell_type": "markdown",
   "metadata": {},
   "source": [
    "Теперь настроим параметры дерева на кросс-валидации. Настраивать будем максимальную глубину и максимальное используемое на каждом разбиении число признаков. Суть того, как работает GridSearchCV: для каждой уникальной пары значений параметров max_depth и max_features будет проведена 5-кратная кросс-валидация и выберется лучшее сочетание параметров."
   ]
  },
  {
   "cell_type": "code",
   "execution_count": 54,
   "metadata": {},
   "outputs": [],
   "source": [
    "from sklearn.model_selection import GridSearchCV, cross_val_score"
   ]
  },
  {
   "cell_type": "code",
   "execution_count": 55,
   "metadata": {},
   "outputs": [],
   "source": [
    "tree_params = {'max_depth': range(1,11),'max_features': range(4,19)}"
   ]
  },
  {
   "cell_type": "code",
   "execution_count": 56,
   "metadata": {},
   "outputs": [],
   "source": [
    "tree_grid = GridSearchCV(tree, tree_params, cv=5, n_jobs=-1, verbose=True)\n",
    "#GridSearchCV занимается подбором оптимальных параметров для модели из списка tree_params"
   ]
  },
  {
   "cell_type": "code",
   "execution_count": 57,
   "metadata": {},
   "outputs": [
    {
     "name": "stdout",
     "output_type": "stream",
     "text": [
      "Fitting 5 folds for each of 150 candidates, totalling 750 fits\n"
     ]
    },
    {
     "name": "stderr",
     "output_type": "stream",
     "text": [
      "[Parallel(n_jobs=-1)]: Using backend LokyBackend with 4 concurrent workers.\n",
      "[Parallel(n_jobs=-1)]: Done 139 tasks      | elapsed:    5.9s\n",
      "[Parallel(n_jobs=-1)]: Done 750 out of 750 | elapsed:    6.5s finished\n",
      "C:\\Anaconda3\\lib\\site-packages\\sklearn\\model_selection\\_search.py:841: DeprecationWarning: The default of the `iid` parameter will change from True to False in version 0.22 and will be removed in 0.24. This will change numeric results when test-set sizes are unequal.\n",
      "  DeprecationWarning)\n"
     ]
    },
    {
     "data": {
      "text/plain": [
       "GridSearchCV(cv=5, error_score='raise-deprecating',\n",
       "       estimator=DecisionTreeClassifier(class_weight=None, criterion='gini', max_depth=5,\n",
       "            max_features=None, max_leaf_nodes=None,\n",
       "            min_impurity_decrease=0.0, min_impurity_split=None,\n",
       "            min_samples_leaf=1, min_samples_split=2,\n",
       "            min_weight_fraction_leaf=0.0, presort=False, random_state=17,\n",
       "            splitter='best'),\n",
       "       fit_params=None, iid='warn', n_jobs=-1,\n",
       "       param_grid={'max_depth': range(1, 11), 'max_features': range(4, 19)},\n",
       "       pre_dispatch='2*n_jobs', refit=True, return_train_score='warn',\n",
       "       scoring=None, verbose=True)"
      ]
     },
     "execution_count": 57,
     "metadata": {},
     "output_type": "execute_result"
    }
   ],
   "source": [
    "tree_grid.fit(X_train, y_train)"
   ]
  },
  {
   "cell_type": "code",
   "execution_count": 58,
   "metadata": {},
   "outputs": [
    {
     "data": {
      "text/plain": [
       "{'max_depth': 5, 'max_features': 14}"
      ]
     },
     "execution_count": 58,
     "metadata": {},
     "output_type": "execute_result"
    }
   ],
   "source": [
    "tree_grid.best_params_"
   ]
  },
  {
   "cell_type": "code",
   "execution_count": 60,
   "metadata": {},
   "outputs": [
    {
     "data": {
      "text/plain": [
       "0.8333333333333334"
      ]
     },
     "execution_count": 60,
     "metadata": {},
     "output_type": "execute_result"
    }
   ],
   "source": [
    "tree_grid.best_score_"
   ]
  },
  {
   "cell_type": "code",
   "execution_count": 63,
   "metadata": {},
   "outputs": [
    {
     "name": "stdout",
     "output_type": "stream",
     "text": [
      "accuracy =  0.47368421052631576\n",
      "recall =  0.8333333333333334\n",
      "precision =  0.35714285714285715\n",
      "roc_auc =  0.5705128205128206\n",
      "f1 =  0.5\n"
     ]
    }
   ],
   "source": [
    "print(\"accuracy = \", accuracy_score(y_holdout, tree_grid.predict(X_holdout)))\n",
    "print(\"recall = \", recall_score(y_holdout, tree_grid.predict(X_holdout)))\n",
    "print(\"precision = \", precision_score(y_holdout, tree_grid.predict(X_holdout)))\n",
    "print(\"roc_auc = \", roc_auc_score(y_holdout, tree_grid.predict(X_holdout)))\n",
    "print(\"f1 = \", f1_score(y_holdout, tree_grid.predict(X_holdout)))"
   ]
  },
  {
   "cell_type": "markdown",
   "metadata": {},
   "source": [
    "Теперь настроим число соседей в алгоритме kNN."
   ]
  },
  {
   "cell_type": "code",
   "execution_count": 66,
   "metadata": {},
   "outputs": [],
   "source": [
    "from sklearn.pipeline import Pipeline\n",
    "from sklearn.preprocessing import StandardScaler # Стандартизирует данные"
   ]
  },
  {
   "cell_type": "code",
   "execution_count": 67,
   "metadata": {},
   "outputs": [],
   "source": [
    "knn_pipe = Pipeline([('scaler', StandardScaler()), ('knn', KNeighborsClassifier(n_jobs=-1))])"
   ]
  },
  {
   "cell_type": "code",
   "execution_count": 68,
   "metadata": {},
   "outputs": [],
   "source": [
    "knn_params = {'knn__n_neighbors': range(1, 10)}"
   ]
  },
  {
   "cell_type": "code",
   "execution_count": 69,
   "metadata": {},
   "outputs": [],
   "source": [
    "knn_grid = GridSearchCV(knn_pipe, knn_params, cv=5, n_jobs=-1, verbose=True)"
   ]
  },
  {
   "cell_type": "code",
   "execution_count": 70,
   "metadata": {},
   "outputs": [
    {
     "name": "stdout",
     "output_type": "stream",
     "text": [
      "Fitting 5 folds for each of 9 candidates, totalling 45 fits\n"
     ]
    },
    {
     "name": "stderr",
     "output_type": "stream",
     "text": [
      "[Parallel(n_jobs=-1)]: Using backend LokyBackend with 4 concurrent workers.\n",
      "[Parallel(n_jobs=-1)]: Done  45 out of  45 | elapsed:    8.4s finished\n",
      "C:\\Anaconda3\\lib\\site-packages\\sklearn\\model_selection\\_search.py:841: DeprecationWarning: The default of the `iid` parameter will change from True to False in version 0.22 and will be removed in 0.24. This will change numeric results when test-set sizes are unequal.\n",
      "  DeprecationWarning)\n",
      "C:\\Anaconda3\\lib\\site-packages\\sklearn\\utils\\validation.py:595: DataConversionWarning: Data with input dtype int64 was converted to float64 by StandardScaler.\n",
      "  warnings.warn(msg, DataConversionWarning)\n",
      "C:\\Anaconda3\\lib\\site-packages\\sklearn\\utils\\validation.py:595: DataConversionWarning: Data with input dtype int64 was converted to float64 by StandardScaler.\n",
      "  warnings.warn(msg, DataConversionWarning)\n"
     ]
    },
    {
     "data": {
      "text/plain": [
       "GridSearchCV(cv=5, error_score='raise-deprecating',\n",
       "       estimator=Pipeline(memory=None,\n",
       "     steps=[('scaler', StandardScaler(copy=True, with_mean=True, with_std=True)), ('knn', KNeighborsClassifier(algorithm='auto', leaf_size=30, metric='minkowski',\n",
       "           metric_params=None, n_jobs=-1, n_neighbors=5, p=2,\n",
       "           weights='uniform'))]),\n",
       "       fit_params=None, iid='warn', n_jobs=-1,\n",
       "       param_grid={'knn__n_neighbors': range(1, 10)},\n",
       "       pre_dispatch='2*n_jobs', refit=True, return_train_score='warn',\n",
       "       scoring=None, verbose=True)"
      ]
     },
     "execution_count": 70,
     "metadata": {},
     "output_type": "execute_result"
    }
   ],
   "source": [
    "knn_grid.fit(X_train, y_train)"
   ]
  },
  {
   "cell_type": "code",
   "execution_count": 71,
   "metadata": {},
   "outputs": [
    {
     "data": {
      "text/plain": [
       "({'knn__n_neighbors': 1}, 0.6666666666666666)"
      ]
     },
     "execution_count": 71,
     "metadata": {},
     "output_type": "execute_result"
    }
   ],
   "source": [
    "knn_grid.best_params_, knn_grid.best_score_"
   ]
  },
  {
   "cell_type": "code",
   "execution_count": 72,
   "metadata": {},
   "outputs": [
    {
     "name": "stderr",
     "output_type": "stream",
     "text": [
      "C:\\Anaconda3\\lib\\site-packages\\sklearn\\utils\\validation.py:595: DataConversionWarning: Data with input dtype int64 was converted to float64 by StandardScaler.\n",
      "  warnings.warn(msg, DataConversionWarning)\n"
     ]
    },
    {
     "name": "stdout",
     "output_type": "stream",
     "text": [
      "accuracy =  0.5263157894736842\n",
      "recall =  0.8333333333333334\n"
     ]
    },
    {
     "name": "stderr",
     "output_type": "stream",
     "text": [
      "C:\\Anaconda3\\lib\\site-packages\\sklearn\\utils\\validation.py:595: DataConversionWarning: Data with input dtype int64 was converted to float64 by StandardScaler.\n",
      "  warnings.warn(msg, DataConversionWarning)\n",
      "C:\\Anaconda3\\lib\\site-packages\\sklearn\\utils\\validation.py:595: DataConversionWarning: Data with input dtype int64 was converted to float64 by StandardScaler.\n",
      "  warnings.warn(msg, DataConversionWarning)\n"
     ]
    },
    {
     "name": "stdout",
     "output_type": "stream",
     "text": [
      "precision =  0.38461538461538464\n",
      "roc_auc =  0.608974358974359\n"
     ]
    },
    {
     "name": "stderr",
     "output_type": "stream",
     "text": [
      "C:\\Anaconda3\\lib\\site-packages\\sklearn\\utils\\validation.py:595: DataConversionWarning: Data with input dtype int64 was converted to float64 by StandardScaler.\n",
      "  warnings.warn(msg, DataConversionWarning)\n",
      "C:\\Anaconda3\\lib\\site-packages\\sklearn\\utils\\validation.py:595: DataConversionWarning: Data with input dtype int64 was converted to float64 by StandardScaler.\n",
      "  warnings.warn(msg, DataConversionWarning)\n"
     ]
    },
    {
     "name": "stdout",
     "output_type": "stream",
     "text": [
      "f1 =  0.5263157894736842\n"
     ]
    }
   ],
   "source": [
    "print (\"accuracy = \", accuracy_score(y_holdout, knn_grid.predict(X_holdout)))\n",
    "print (\"recall = \", recall_score(y_holdout, knn_grid.predict(X_holdout)))\n",
    "print (\"precision = \", precision_score(y_holdout, knn_grid.predict(X_holdout)))\n",
    "print (\"roc_auc = \", roc_auc_score(y_holdout, knn_grid.predict(X_holdout)))\n",
    "print (\"f1 = \", f1_score(y_holdout, knn_grid.predict(X_holdout)))"
   ]
  },
  {
   "cell_type": "markdown",
   "metadata": {},
   "source": [
    "В этом примере дерево показало себя лучше, чем метод ближайших соседей: 94.2% правильных ответов на кросс-валидации и 94.6% на отложенной выборке против 88.6% / 89% для kNN. Более того, в данной задаче дерево проявляет себя очень хорошо, и даже случайный лес (который пока представляем просто как кучу деревьев, которые вместе работают почему-то намного лучше, чем одно дерево) в этом примере показывает долю правильных ответов не намного выше (95.1% на кросс-валидации и 95.3% –на отложенной выборке), а обучается намного дольше."
   ]
  },
  {
   "cell_type": "markdown",
   "metadata": {},
   "source": [
    "# RandomForestClassifier"
   ]
  },
  {
   "cell_type": "code",
   "execution_count": 73,
   "metadata": {},
   "outputs": [],
   "source": [
    "from sklearn.ensemble import RandomForestClassifier"
   ]
  },
  {
   "cell_type": "code",
   "execution_count": 74,
   "metadata": {},
   "outputs": [
    {
     "name": "stdout",
     "output_type": "stream",
     "text": [
      "0.7388888888888889\n"
     ]
    }
   ],
   "source": [
    "forest = RandomForestClassifier(n_estimators=100, n_jobs=-1, random_state=17)\n",
    "print(np.mean(cross_val_score(forest, X_train, y_train, cv=5))) "
   ]
  },
  {
   "cell_type": "code",
   "execution_count": 75,
   "metadata": {},
   "outputs": [],
   "source": [
    "forest_params = {'max_depth': range(1,11), 'max_features': range(4,19)}"
   ]
  },
  {
   "cell_type": "code",
   "execution_count": 76,
   "metadata": {},
   "outputs": [],
   "source": [
    "forest_grid = GridSearchCV(forest, forest_params, cv=5, n_jobs=-1, verbose=True)"
   ]
  },
  {
   "cell_type": "code",
   "execution_count": 77,
   "metadata": {},
   "outputs": [
    {
     "name": "stdout",
     "output_type": "stream",
     "text": [
      "Fitting 5 folds for each of 150 candidates, totalling 750 fits\n"
     ]
    },
    {
     "name": "stderr",
     "output_type": "stream",
     "text": [
      "[Parallel(n_jobs=-1)]: Using backend LokyBackend with 4 concurrent workers.\n",
      "[Parallel(n_jobs=-1)]: Done  42 tasks      | elapsed:    4.8s\n",
      "[Parallel(n_jobs=-1)]: Done 192 tasks      | elapsed:   21.8s\n",
      "[Parallel(n_jobs=-1)]: Done 442 tasks      | elapsed:   52.2s\n",
      "[Parallel(n_jobs=-1)]: Done 750 out of 750 | elapsed:  1.5min finished\n",
      "C:\\Anaconda3\\lib\\site-packages\\sklearn\\model_selection\\_search.py:841: DeprecationWarning: The default of the `iid` parameter will change from True to False in version 0.22 and will be removed in 0.24. This will change numeric results when test-set sizes are unequal.\n",
      "  DeprecationWarning)\n"
     ]
    },
    {
     "data": {
      "text/plain": [
       "GridSearchCV(cv=5, error_score='raise-deprecating',\n",
       "       estimator=RandomForestClassifier(bootstrap=True, class_weight=None, criterion='gini',\n",
       "            max_depth=None, max_features='auto', max_leaf_nodes=None,\n",
       "            min_impurity_decrease=0.0, min_impurity_split=None,\n",
       "            min_samples_leaf=1, min_samples_split=2,\n",
       "            min_weight_fraction_leaf=0.0, n_estimators=100, n_jobs=-1,\n",
       "            oob_score=False, random_state=17, verbose=0, warm_start=False),\n",
       "       fit_params=None, iid='warn', n_jobs=-1,\n",
       "       param_grid={'max_depth': range(1, 11), 'max_features': range(4, 19)},\n",
       "       pre_dispatch='2*n_jobs', refit=True, return_train_score='warn',\n",
       "       scoring=None, verbose=True)"
      ]
     },
     "execution_count": 77,
     "metadata": {},
     "output_type": "execute_result"
    }
   ],
   "source": [
    "forest_grid.fit(X_train, y_train)"
   ]
  },
  {
   "cell_type": "code",
   "execution_count": 78,
   "metadata": {},
   "outputs": [
    {
     "data": {
      "text/plain": [
       "({'max_depth': 7, 'max_features': 17}, 0.7857142857142857)"
      ]
     },
     "execution_count": 78,
     "metadata": {},
     "output_type": "execute_result"
    }
   ],
   "source": [
    "forest_grid.best_params_, forest_grid.best_score_ "
   ]
  },
  {
   "cell_type": "code",
   "execution_count": 80,
   "metadata": {},
   "outputs": [
    {
     "name": "stdout",
     "output_type": "stream",
     "text": [
      "accuracy =  0.42105263157894735\n",
      "recall =  0.8333333333333334\n",
      "precision =  0.3333333333333333\n",
      "roc_auc =  0.532051282051282\n",
      "f1 =  0.47619047619047616\n"
     ]
    }
   ],
   "source": [
    "print(\"accuracy = \", accuracy_score(y_holdout, forest_grid.predict(X_holdout))) \n",
    "print(\"recall = \", recall_score(y_holdout, forest_grid.predict(X_holdout))) \n",
    "print(\"precision = \", precision_score(y_holdout, forest_grid.predict(X_holdout))) \n",
    "print(\"roc_auc = \", roc_auc_score(y_holdout, forest_grid.predict(X_holdout))) \n",
    "print(\"f1 = \", f1_score(y_holdout, forest_grid.predict(X_holdout))) "
   ]
  },
  {
   "cell_type": "code",
   "execution_count": null,
   "metadata": {},
   "outputs": [],
   "source": []
  }
 ],
 "metadata": {
  "kernelspec": {
   "display_name": "Python 3",
   "language": "python",
   "name": "python3"
  },
  "language_info": {
   "codemirror_mode": {
    "name": "ipython",
    "version": 3
   },
   "file_extension": ".py",
   "mimetype": "text/x-python",
   "name": "python",
   "nbconvert_exporter": "python",
   "pygments_lexer": "ipython3",
   "version": "3.7.1"
  }
 },
 "nbformat": 4,
 "nbformat_minor": 2
}
