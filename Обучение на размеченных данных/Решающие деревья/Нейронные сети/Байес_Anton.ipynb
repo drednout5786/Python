{
  "nbformat": 4,
  "nbformat_minor": 0,
  "metadata": {
    "colab": {
      "name": "Байес_Anton.ipynb",
      "version": "0.3.2",
      "provenance": [],
      "collapsed_sections": []
    },
    "kernelspec": {
      "name": "python2",
      "display_name": "Python 2"
    }
  },
  "cells": [
    {
      "metadata": {
        "id": "EIzVwP4NobO3",
        "colab_type": "text"
      },
      "cell_type": "markdown",
      "source": [
        "## **Выбор семейства распределений в наивном байесе**\n",
        "В этом задании вы сможете немного расслабиться после реализации случайного леса и градиентного бустинга по мотивам материалов прошлой недели. Все, что нужно будет делать — запускать методы из sklearn. Вам предлагается выяснить, какое распределение лучше использовать в наивном байесовском классификаторе в зависимости от вида признаков."
      ]
    },
    {
      "metadata": {
        "id": "fPM5R91fot5_",
        "colab_type": "code",
        "colab": {}
      },
      "cell_type": "code",
      "source": [
        "import numpy as np\n",
        "import matplotlib.pyplot as plt\n",
        "plt.style.use('ggplot')\n",
        "\n",
        "%matplotlib inline"
      ],
      "execution_count": 0,
      "outputs": []
    },
    {
      "metadata": {
        "id": "DFFMJuAnozwP",
        "colab_type": "text"
      },
      "cell_type": "markdown",
      "source": [
        "Загрузите датасеты digits и breast_cancer из sklearn.datasets. Выведите несколько строчек из обучающих выборок и посмотрите на признаки. С помощью sklearn.cross_validation.cross_val_score c настройками по умолчанию и вызова метода mean() у возвращаемого этой функцией numpy.ndarray, сравните качество работы наивных байесовских классификаторов на этих двух датасетах. Для сравнения предлагается использовать BernoulliNB, MultinomialNB и GaussianNB. Насколько полученные результаты согласуются с рекомендациями из лекций?"
      ]
    },
    {
      "metadata": {
        "id": "s9e1CTOjpF23",
        "colab_type": "text"
      },
      "cell_type": "markdown",
      "source": [
        "# **Breast_cancer **"
      ]
    },
    {
      "metadata": {
        "id": "7BSjQ-m4o5pH",
        "colab_type": "code",
        "colab": {}
      },
      "cell_type": "code",
      "source": [
        "from sklearn.datasets import load_breast_cancer\n",
        "\n",
        "breast_cancer = load_breast_cancer()\n",
        "X, y = breast_cancer.data, breast_cancer.target"
      ],
      "execution_count": 0,
      "outputs": []
    },
    {
      "metadata": {
        "id": "jIkLK1XYpe-T",
        "colab_type": "code",
        "outputId": "c7a87644-f2dd-4738-a563-f2669917228f",
        "colab": {
          "base_uri": "https://localhost:8080/",
          "height": 34
        }
      },
      "cell_type": "code",
      "source": [
        "from sklearn.model_selection import cross_val_score\n",
        "from sklearn.naive_bayes import BernoulliNB, MultinomialNB, GaussianNB\n",
        "      \n",
        "breast_cancer_scores = []\n",
        "breast_cancer_scores"
      ],
      "execution_count": 0,
      "outputs": [
        {
          "output_type": "execute_result",
          "data": {
            "text/plain": [
              "[]"
            ]
          },
          "metadata": {
            "tags": []
          },
          "execution_count": 26
        }
      ]
    },
    {
      "metadata": {
        "id": "CnIVzAVapwEr",
        "colab_type": "code",
        "outputId": "43d5df94-8f48-4b77-ebec-e221f5b39750",
        "colab": {
          "base_uri": "https://localhost:8080/",
          "height": 51
        }
      },
      "cell_type": "code",
      "source": [
        "# BernoulliNB( alpha = 1.0 , binarize = 0.0 , fit_prior = True , class_prior = None )\n",
        "# Наивный байесовский классификатор для многомерных моделей Бернулли.\n",
        "# Этот классификатор подходит для дискретных данных. BernoulliNB предназначен для двоичных / логических функций.\n",
        "clf = BernoulliNB() \n",
        "clf.fit(X, y)\n",
        "\n",
        "score = np.mean(cross_val_score(clf, X, y, n_jobs=-1))\n",
        "breast_cancer_scores.append(score)\n",
        "print score\n",
        "print(breast_cancer_scores)"
      ],
      "execution_count": 0,
      "outputs": [
        {
          "output_type": "stream",
          "text": [
            "0.8258236507780582\n",
            "[0.8258236507780582]\n"
          ],
          "name": "stdout"
        }
      ]
    },
    {
      "metadata": {
        "id": "UuB2xlljqiAS",
        "colab_type": "code",
        "outputId": "e9910e78-a76e-40fd-e9bc-b7aaed0cb935",
        "colab": {
          "base_uri": "https://localhost:8080/",
          "height": 51
        }
      },
      "cell_type": "code",
      "source": [
        "clf = MultinomialNB()\n",
        "clf.fit(X, y)\n",
        "\n",
        "score = np.mean(cross_val_score(clf, X, y, n_jobs=-1))\n",
        "breast_cancer_scores.append(score)\n",
        "print score\n",
        "print(breast_cancer_scores)"
      ],
      "execution_count": 0,
      "outputs": [
        {
          "output_type": "stream",
          "text": [
            "0.8708771489735053\n",
            "[0.8258236507780582, 0.8708771489735053]\n"
          ],
          "name": "stdout"
        }
      ]
    },
    {
      "metadata": {
        "id": "WLVV8oCjqn7y",
        "colab_type": "code",
        "outputId": "2c53e42f-9d2d-4cb5-c379-618f88981bd8",
        "colab": {
          "base_uri": "https://localhost:8080/",
          "height": 51
        }
      },
      "cell_type": "code",
      "source": [
        "clf = GaussianNB()\n",
        "clf.fit(X, y)\n",
        "\n",
        "score = np.mean(cross_val_score(clf, X, y, n_jobs=-1))\n",
        "breast_cancer_scores.append(score)\n",
        "print score\n",
        "print(breast_cancer_scores)"
      ],
      "execution_count": 0,
      "outputs": [
        {
          "output_type": "stream",
          "text": [
            "0.8186003803550138\n",
            "[0.8258236507780582, 0.8708771489735053, 0.8186003803550138]\n"
          ],
          "name": "stdout"
        }
      ]
    },
    {
      "metadata": {
        "id": "akyb7GX6r4p_",
        "colab_type": "code",
        "outputId": "bbc82d97-47fe-4135-9396-5046ab0f4815",
        "colab": {
          "base_uri": "https://localhost:8080/",
          "height": 34
        }
      },
      "cell_type": "code",
      "source": [
        "print(max(breast_cancer_scores))"
      ],
      "execution_count": 0,
      "outputs": [
        {
          "output_type": "stream",
          "text": [
            "0.8708771489735053\n"
          ],
          "name": "stdout"
        }
      ]
    },
    {
      "metadata": {
        "id": "vwBZQE2Yq57b",
        "colab_type": "text"
      },
      "cell_type": "markdown",
      "source": [
        "# **Digits**"
      ]
    },
    {
      "metadata": {
        "id": "2QEbRSOzrCEV",
        "colab_type": "code",
        "colab": {}
      },
      "cell_type": "code",
      "source": [
        "from sklearn.datasets import load_digits\n",
        "\n",
        "digits = load_digits()\n",
        "X, y = digits.data, digits.target"
      ],
      "execution_count": 0,
      "outputs": []
    },
    {
      "metadata": {
        "id": "Fr7A-AXRrGhl",
        "colab_type": "code",
        "colab": {}
      },
      "cell_type": "code",
      "source": [
        "digits_scores = []"
      ],
      "execution_count": 0,
      "outputs": []
    },
    {
      "metadata": {
        "id": "nreQC6dbrd-2",
        "colab_type": "code",
        "outputId": "94ea588e-90dc-4448-d79c-7f393229463b",
        "colab": {
          "base_uri": "https://localhost:8080/",
          "height": 51
        }
      },
      "cell_type": "code",
      "source": [
        "clf = BernoulliNB()\n",
        "clf.fit(X, y)\n",
        "\n",
        "score = np.mean(cross_val_score(clf, X, y, n_jobs=-1))\n",
        "digits_scores.append(score)\n",
        "print score\n",
        "print(digits_scores)"
      ],
      "execution_count": 0,
      "outputs": [
        {
          "output_type": "stream",
          "text": [
            "0.8258236507780582\n",
            "[0.8258236507780582]\n"
          ],
          "name": "stdout"
        }
      ]
    },
    {
      "metadata": {
        "id": "hh3FW5s6rhF2",
        "colab_type": "code",
        "outputId": "283ac315-9b4e-48c7-d510-a8840dfb5994",
        "colab": {
          "base_uri": "https://localhost:8080/",
          "height": 51
        }
      },
      "cell_type": "code",
      "source": [
        "clf = MultinomialNB()\n",
        "clf.fit(X, y)\n",
        "\n",
        "score = np.mean(cross_val_score(clf, X, y, n_jobs=-1))\n",
        "digits_scores.append(score)\n",
        "print score\n",
        "print(digits_scores)"
      ],
      "execution_count": 0,
      "outputs": [
        {
          "output_type": "stream",
          "text": [
            "0.8708771489735053\n",
            "[0.8258236507780582, 0.8708771489735053]\n"
          ],
          "name": "stdout"
        }
      ]
    },
    {
      "metadata": {
        "id": "FJfX3ht0rkEv",
        "colab_type": "code",
        "outputId": "2cff5d9a-2991-4678-914a-5a316d7d38b6",
        "colab": {
          "base_uri": "https://localhost:8080/",
          "height": 68
        }
      },
      "cell_type": "code",
      "source": [
        "clf = GaussianNB()\n",
        "clf.fit(X, y)\n",
        "\n",
        "score = np.mean(cross_val_score(clf, X, y, n_jobs=-1))\n",
        "digits_scores.append(score)\n",
        "print score\n",
        "print(digits_scores)\n",
        "print(max(digits_scores))"
      ],
      "execution_count": 0,
      "outputs": [
        {
          "output_type": "stream",
          "text": [
            "0.8186003803550138\n",
            "[0.8258236507780582, 0.8708771489735053, 0.8186003803550138, 0.8186003803550138]\n",
            "0.8708771489735053\n"
          ],
          "name": "stdout"
        }
      ]
    },
    {
      "metadata": {
        "id": "4p6a7sTXs7Rz",
        "colab_type": "text"
      },
      "cell_type": "markdown",
      "source": [
        "**Вопрос 3**\n",
        "\n",
        "Выберите верные утверждения и запишите их номера через пробел (в порядке возрастания номера):\n",
        "\n",
        "1) На вещественных признаках лучше всего сработал наивный байесовский классификатор с распределением Бернулли\n",
        "\n",
        "2) На вещественных признаках лучше всего сработал наивный байесовский классификатор с мультиномиальным распределением\n",
        "\n",
        "3) Мультиномиальное распределение лучше показало себя на выборке с целыми неотрицательными значениями признаков\n",
        "\n",
        "4) На вещественных признаках лучше всего сработало нормальное распределение"
      ]
    },
    {
      "metadata": {
        "id": "n6AuAMHxKjaK",
        "colab_type": "text"
      },
      "cell_type": "markdown",
      "source": [
        "2 3"
      ]
    }
  ]
}