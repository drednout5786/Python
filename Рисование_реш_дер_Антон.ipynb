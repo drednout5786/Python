{
  "nbformat": 4,
  "nbformat_minor": 0,
  "metadata": {
    "colab": {
      "name": "Рисование_реш_дер_Антон.ipynb",
      "version": "0.3.2",
      "provenance": [],
      "collapsed_sections": [],
      "include_colab_link": true
    },
    "kernelspec": {
      "name": "python3",
      "display_name": "Python 3"
    },
    "accelerator": "GPU"
  },
  "cells": [
    {
      "cell_type": "markdown",
      "metadata": {
        "id": "view-in-github",
        "colab_type": "text"
      },
      "source": [
        "<a href=\"https://colab.research.google.com/github/drednout5786/Kuznecov_Anton/blob/master/%D0%A0%D0%B8%D1%81%D0%BE%D0%B2%D0%B0%D0%BD%D0%B8%D0%B5_%D1%80%D0%B5%D1%88_%D0%B4%D0%B5%D1%80_%D0%90%D0%BD%D1%82%D0%BE%D0%BD.ipynb\" target=\"_parent\"><img src=\"https://colab.research.google.com/assets/colab-badge.svg\" alt=\"Open In Colab\"/></a>"
      ]
    },
    {
      "metadata": {
        "id": "IloMr1FWqCNX",
        "colab_type": "code",
        "colab": {}
      },
      "cell_type": "code",
      "source": [
        "Визуализация графика по решающим деревьям на Питоне 2.7"
      ],
      "execution_count": 0,
      "outputs": []
    },
    {
      "metadata": {
        "id": "nRPljkZp4wBq",
        "colab_type": "code",
        "colab": {}
      },
      "cell_type": "code",
      "source": [
        "#https://dataaspirant.com/2017/02/01/decision-tree-algorithm-python-with-scikit-learn/\n",
        "import numpy as np\n",
        "import pandas as pd\n",
        "#from sklearn.cross_validation import train_test_split\n",
        "from sklearn.tree import DecisionTreeClassifier\n",
        "from sklearn.metrics import accuracy_score\n",
        "from sklearn import tree\n",
        "\n",
        "from sklearn import datasets\n",
        "from sklearn import metrics\n",
        "from sklearn import tree\n",
        "\n",
        "import sklearn # это библиотека машинного обучения"
      ],
      "execution_count": 0,
      "outputs": []
    },
    {
      "metadata": {
        "id": "mykEDpFJqSYP",
        "colab_type": "code",
        "colab": {}
      },
      "cell_type": "code",
      "source": [
        "#Импорт данных\n",
        "import pandas as pd\n",
        "balance_data = pd.read_csv('https://archive.ics.uci.edu/ml/machine-learning-databases/balance-scale/balance-scale.data', sep= ',', header= None)"
      ],
      "execution_count": 0,
      "outputs": []
    },
    {
      "metadata": {
        "id": "yQkS9nEWqyhZ",
        "colab_type": "code",
        "colab": {}
      },
      "cell_type": "code",
      "source": [
        "#print \"Dataset Lenght:: \", len(balance_data)\n",
        "#print \"Dataset Shape:: \", balance_data.shape"
      ],
      "execution_count": 0,
      "outputs": []
    },
    {
      "metadata": {
        "id": "pPx3rnPHq0Vy",
        "colab_type": "code",
        "colab": {
          "base_uri": "https://localhost:8080/",
          "height": 204
        },
        "outputId": "f96758db-2a0b-4c0c-80f9-8702cc8f606a"
      },
      "cell_type": "code",
      "source": [
        "#print \"Dataset:: \"\n",
        "balance_data.head()"
      ],
      "execution_count": 6,
      "outputs": [
        {
          "output_type": "execute_result",
          "data": {
            "text/html": [
              "<div>\n",
              "<style scoped>\n",
              "    .dataframe tbody tr th:only-of-type {\n",
              "        vertical-align: middle;\n",
              "    }\n",
              "\n",
              "    .dataframe tbody tr th {\n",
              "        vertical-align: top;\n",
              "    }\n",
              "\n",
              "    .dataframe thead th {\n",
              "        text-align: right;\n",
              "    }\n",
              "</style>\n",
              "<table border=\"1\" class=\"dataframe\">\n",
              "  <thead>\n",
              "    <tr style=\"text-align: right;\">\n",
              "      <th></th>\n",
              "      <th>0</th>\n",
              "      <th>1</th>\n",
              "      <th>2</th>\n",
              "      <th>3</th>\n",
              "      <th>4</th>\n",
              "    </tr>\n",
              "  </thead>\n",
              "  <tbody>\n",
              "    <tr>\n",
              "      <th>0</th>\n",
              "      <td>B</td>\n",
              "      <td>1</td>\n",
              "      <td>1</td>\n",
              "      <td>1</td>\n",
              "      <td>1</td>\n",
              "    </tr>\n",
              "    <tr>\n",
              "      <th>1</th>\n",
              "      <td>R</td>\n",
              "      <td>1</td>\n",
              "      <td>1</td>\n",
              "      <td>1</td>\n",
              "      <td>2</td>\n",
              "    </tr>\n",
              "    <tr>\n",
              "      <th>2</th>\n",
              "      <td>R</td>\n",
              "      <td>1</td>\n",
              "      <td>1</td>\n",
              "      <td>1</td>\n",
              "      <td>3</td>\n",
              "    </tr>\n",
              "    <tr>\n",
              "      <th>3</th>\n",
              "      <td>R</td>\n",
              "      <td>1</td>\n",
              "      <td>1</td>\n",
              "      <td>1</td>\n",
              "      <td>4</td>\n",
              "    </tr>\n",
              "    <tr>\n",
              "      <th>4</th>\n",
              "      <td>R</td>\n",
              "      <td>1</td>\n",
              "      <td>1</td>\n",
              "      <td>1</td>\n",
              "      <td>5</td>\n",
              "    </tr>\n",
              "  </tbody>\n",
              "</table>\n",
              "</div>"
            ],
            "text/plain": [
              "   0  1  2  3  4\n",
              "0  B  1  1  1  1\n",
              "1  R  1  1  1  2\n",
              "2  R  1  1  1  3\n",
              "3  R  1  1  1  4\n",
              "4  R  1  1  1  5"
            ]
          },
          "metadata": {
            "tags": []
          },
          "execution_count": 6
        }
      ]
    },
    {
      "metadata": {
        "id": "tbQ6NYalq2-p",
        "colab_type": "code",
        "colab": {}
      },
      "cell_type": "code",
      "source": [
        "#Разделение данных для разделения данных на обучающие и тестовые наборы.\n",
        "X = balance_data.values[:, 1:5]\n",
        "Y = balance_data.values[:,0]\n",
        "#Делим данные на набор функций и набор целей. Набор «X» состоит из переменных-предикторов. \n",
        "#Он состоит из данных от 2-го столбца до 5-го столбца. Набор «Y» состоит из переменной результата. \n",
        "#Он состоит из данных в 1-м столбце. \n",
        "#Мы используем «.values» numpy, преобразуя наши фреймы данных в numpy массивы."
      ],
      "execution_count": 0,
      "outputs": []
    },
    {
      "metadata": {
        "id": "I4DLQE-Qq6IZ",
        "colab_type": "code",
        "colab": {}
      },
      "cell_type": "code",
      "source": [
        "#Разделим наши данные на обучающие и тестовые наборы. Мы будем использовать метод train_test_split () от sklearn.\n",
        "import sklearn.model_selection\n",
        "X_train, X_test, y_train, y_test = sklearn.model_selection.train_test_split( X, Y, test_size = 0.3, random_state = 100)\n",
        "#Переменная random_state - это состояние генератора псевдослучайных чисел, используемого для случайной выборки."
      ],
      "execution_count": 0,
      "outputs": []
    },
    {
      "metadata": {
        "id": "84lJrzGzr4n9",
        "colab_type": "code",
        "colab": {
          "base_uri": "https://localhost:8080/",
          "height": 54
        },
        "outputId": "d01ea15d-e58d-46a7-d207-e4aed608d437"
      },
      "cell_type": "code",
      "source": [
        "\"\"\"\n",
        "DecisionTreeClassifier (): это функция классификатора для DecisionTree. \n",
        "Это основная функция для реализации алгоритмов. Некоторые важные параметры:\n",
        "критерий:  определяет функцию измерения качества разделения. Sklearn поддерживает критерии «Джини» для индекса Джини и «энтропию» для получения информации. По умолчанию он принимает значение «Джини».\n",
        "разделитель: определяет стратегию выбора разделения в каждом узле. Поддерживает «лучшее» значение для выбора лучшего разделения и «случайное» для выбора лучшего случайного разделения. По умолчанию он принимает «лучшее» значение.\n",
        "max_features:  он определяет нет. из особенностей, чтобы рассмотреть, ища лучший раскол. Мы можем ввести целое число, число с плавающей запятой, строку и значение None.\n",
        "Если вводится целое число, то это значение считается максимальным для каждого разбиения.\n",
        "Если берется значение с плавающей запятой, то оно показывает процент объектов при каждом разделении.\n",
        "Если выбрано «auto» или «sqrt», то max_features = sqrt (n_features).\n",
        "Если выбрано «log2», то max_features = log2 (n_features).\n",
        "Если нет, то max_features = n_features. По умолчанию он принимает значение «Нет».\n",
        "\n",
        "max_depth:  параметр max_depth обозначает максимальную глубину дерева. Может принимать любое целочисленное значение или нет. Если None, то узлы расширяются до тех пор, пока все листья не станут чистыми или пока все листья не будут содержать меньше чем min_samples_split samples. По умолчанию он принимает значение «Нет».\n",
        "min_samples_split:  выше минимального значения. образцов требуется разделить внутренний узел. Если целочисленное значение взято, тогда рассмотрите min_samples_split как минимальное нет. Если float, то он показывает процент. По умолчанию он принимает значение «2».\n",
        "min_samples_leaf: минимальное количество выборок, которое требуется для конечного  узла. Если целочисленное значение взято, тогда рассмотрите min_samples_leaf как минимальное нет. Если float, то он показывает процент. По умолчанию он принимает значение «1».\n",
        "max_leaf_nodes: определяет максимальное количество возможных конечных узлов. Если None, то требуется неограниченное количество конечных узлов. По умолчанию он принимает значение «Нет».\n",
        "min_impurity_split: определяет порог ранней остановки роста дерева. Узел разделится, если его примесь выше порога, в противном случае это лист.\n",
        "\"\"\""
      ],
      "execution_count": 13,
      "outputs": [
        {
          "output_type": "execute_result",
          "data": {
            "text/plain": [
              "'\\nDecisionTreeClassifier (): это функция классификатора для DecisionTree. \\nЭто основная функция для реализации алгоритмов. Некоторые важные параметры:\\nкритерий:  определяет функцию измерения качества разделения. Sklearn поддерживает критерии «Джини» для индекса Джини и «энтропию» для получения информации. По умолчанию он принимает значение «Джини».\\nразделитель: определяет стратегию выбора разделения в каждом узле. Поддерживает «лучшее» значение для выбора лучшего разделения и «случайное» для выбора лучшего случайного разделения. По умолчанию он принимает «лучшее» значение.\\nmax_features:  он определяет нет. из особенностей, чтобы рассмотреть, ища лучший раскол. Мы можем ввести целое число, число с плавающей запятой, строку и значение None.\\nЕсли вводится целое число, то это значение считается максимальным для каждого разбиения.\\nЕсли берется значение с плавающей запятой, то оно показывает процент объектов при каждом разделении.\\nЕсли выбрано «auto» или «sqrt», то max_features = sqrt (n_features).\\nЕсли выбрано «log2», то max_features = log2 (n_features).\\nЕсли нет, то max_features = n_features. По умолчанию он принимает значение «Нет».\\n\\nmax_depth:  параметр max_depth обозначает максимальную глубину дерева. Может принимать любое целочисленное значение или нет. Если None, то узлы расширяются до тех пор, пока все листья не станут чистыми или пока все листья не будут содержать меньше чем min_samples_split samples. По умолчанию он принимает значение «Нет».\\nmin_samples_split:  выше минимального значения. образцов требуется разделить внутренний узел. Если целочисленное значение взято, тогда рассмотрите min_samples_split как минимальное нет. Если float, то он показывает процент. По умолчанию он принимает значение «2».\\nmin_samples_leaf: минимальное количество выборок, которое требуется для конечного  узла. Если целочисленное значение взято, тогда рассмотрите min_samples_leaf как минимальное нет. Если float, то он показывает процент. По умолчанию он принимает значение «1».\\nmax_leaf_nodes: определяет максимальное количество возможных конечных узлов. Если None, то требуется неограниченное количество конечных узлов. По умолчанию он принимает значение «Нет».\\nmin_impurity_split: определяет порог ранней остановки роста дерева. Узел разделится, если его примесь выше порога, в противном случае это лист.\\n'"
            ]
          },
          "metadata": {
            "tags": []
          },
          "execution_count": 13
        }
      ]
    },
    {
      "metadata": {
        "id": "nafB-G6s257K",
        "colab_type": "code",
        "colab": {
          "base_uri": "https://localhost:8080/",
          "height": 119
        },
        "outputId": "6e7931b0-2843-45e5-ae0d-f85959e1647a"
      },
      "cell_type": "code",
      "source": [
        "#Построим классификаторы, используя критерий как индекс Джини и получение информации. \n",
        "#Нам нужно подогнать наш классификатор, используя fit (). Построим визуализацию нашего классификатора дерева решений.\n",
        "clf_gini = DecisionTreeClassifier(criterion = \"gini\", random_state = 100, max_depth=3, min_samples_leaf=5)\n",
        "clf_gini.fit(X_train, y_train)"
      ],
      "execution_count": 14,
      "outputs": [
        {
          "output_type": "execute_result",
          "data": {
            "text/plain": [
              "DecisionTreeClassifier(class_weight=None, criterion='gini', max_depth=3,\n",
              "            max_features=None, max_leaf_nodes=None,\n",
              "            min_impurity_decrease=0.0, min_impurity_split=None,\n",
              "            min_samples_leaf=5, min_samples_split=2,\n",
              "            min_weight_fraction_leaf=0.0, presort=False, random_state=100,\n",
              "            splitter='best')"
            ]
          },
          "metadata": {
            "tags": []
          },
          "execution_count": 14
        }
      ]
    },
    {
      "metadata": {
        "id": "vDgY7sv428wx",
        "colab_type": "code",
        "colab": {
          "base_uri": "https://localhost:8080/",
          "height": 119
        },
        "outputId": "917c51bf-cf66-47d3-cb99-225c0586cc53"
      },
      "cell_type": "code",
      "source": [
        "#2 вариант построения\n",
        "clf_entropy = DecisionTreeClassifier(criterion = \"entropy\", random_state = 100, max_depth=3, min_samples_leaf=5)\n",
        "clf_entropy.fit(X_train, y_train)"
      ],
      "execution_count": 15,
      "outputs": [
        {
          "output_type": "execute_result",
          "data": {
            "text/plain": [
              "DecisionTreeClassifier(class_weight=None, criterion='entropy', max_depth=3,\n",
              "            max_features=None, max_leaf_nodes=None,\n",
              "            min_impurity_decrease=0.0, min_impurity_split=None,\n",
              "            min_samples_leaf=5, min_samples_split=2,\n",
              "            min_weight_fraction_leaf=0.0, presort=False, random_state=100,\n",
              "            splitter='best')"
            ]
          },
          "metadata": {
            "tags": []
          },
          "execution_count": 15
        }
      ]
    },
    {
      "metadata": {
        "id": "AekbCLWg3Am5",
        "colab_type": "code",
        "colab": {
          "base_uri": "https://localhost:8080/",
          "height": 34
        },
        "outputId": "98569c9a-a055-4c1f-b919-7243f1b36c96"
      },
      "cell_type": "code",
      "source": [
        "#мы смоделировали 2 классификатора. Один классификатор с индексом Джини и другой с получением информации в качестве критерия. \n",
        "#Мы готовы прогнозировать классы для нашего тестового набора.\n",
        "clf_gini.predict([[4, 4, 3, 3]])"
      ],
      "execution_count": 16,
      "outputs": [
        {
          "output_type": "execute_result",
          "data": {
            "text/plain": [
              "array(['R'], dtype=object)"
            ]
          },
          "metadata": {
            "tags": []
          },
          "execution_count": 16
        }
      ]
    },
    {
      "metadata": {
        "id": "YGflRd3f3Exx",
        "colab_type": "code",
        "colab": {
          "base_uri": "https://localhost:8080/",
          "height": 272
        },
        "outputId": "66499bd4-ebac-4ae8-8e4f-c99b80858168"
      },
      "cell_type": "code",
      "source": [
        "y_pred = clf_gini.predict(X_test)\n",
        "y_pred"
      ],
      "execution_count": 17,
      "outputs": [
        {
          "output_type": "execute_result",
          "data": {
            "text/plain": [
              "array(['R', 'L', 'R', 'R', 'R', 'L', 'R', 'L', 'L', 'L', 'R', 'L', 'L',\n",
              "       'L', 'R', 'L', 'R', 'L', 'L', 'R', 'L', 'R', 'L', 'L', 'R', 'L',\n",
              "       'L', 'L', 'R', 'L', 'L', 'L', 'R', 'L', 'L', 'L', 'L', 'R', 'L',\n",
              "       'L', 'R', 'L', 'R', 'L', 'R', 'R', 'L', 'L', 'R', 'L', 'R', 'R',\n",
              "       'L', 'R', 'R', 'L', 'R', 'R', 'L', 'L', 'R', 'R', 'L', 'L', 'L',\n",
              "       'L', 'L', 'R', 'R', 'L', 'L', 'R', 'R', 'L', 'R', 'L', 'R', 'R',\n",
              "       'R', 'L', 'R', 'L', 'L', 'L', 'L', 'R', 'R', 'L', 'R', 'L', 'R',\n",
              "       'R', 'L', 'L', 'L', 'R', 'R', 'L', 'L', 'L', 'R', 'L', 'R', 'R',\n",
              "       'R', 'R', 'R', 'R', 'R', 'L', 'R', 'L', 'R', 'R', 'L', 'R', 'R',\n",
              "       'R', 'R', 'R', 'L', 'R', 'L', 'L', 'L', 'L', 'L', 'L', 'L', 'R',\n",
              "       'R', 'R', 'R', 'L', 'R', 'R', 'R', 'L', 'L', 'R', 'L', 'R', 'L',\n",
              "       'R', 'L', 'L', 'R', 'L', 'L', 'R', 'L', 'R', 'L', 'R', 'R', 'R',\n",
              "       'L', 'R', 'R', 'R', 'R', 'R', 'L', 'L', 'R', 'R', 'R', 'R', 'L',\n",
              "       'R', 'R', 'R', 'L', 'R', 'L', 'L', 'L', 'L', 'R', 'R', 'L', 'R',\n",
              "       'R', 'L', 'L', 'R', 'R', 'R'], dtype=object)"
            ]
          },
          "metadata": {
            "tags": []
          },
          "execution_count": 17
        }
      ]
    },
    {
      "metadata": {
        "id": "qTRJDyWJ3HOp",
        "colab_type": "code",
        "colab": {
          "base_uri": "https://localhost:8080/",
          "height": 272
        },
        "outputId": "000c8317-aad5-4de7-d667-38a4690df784"
      },
      "cell_type": "code",
      "source": [
        "y_pred_en = clf_entropy.predict(X_test)\n",
        "y_pred_en"
      ],
      "execution_count": 18,
      "outputs": [
        {
          "output_type": "execute_result",
          "data": {
            "text/plain": [
              "array(['R', 'L', 'R', 'L', 'R', 'L', 'R', 'L', 'R', 'R', 'R', 'R', 'L',\n",
              "       'L', 'R', 'L', 'R', 'L', 'L', 'R', 'L', 'R', 'L', 'L', 'R', 'L',\n",
              "       'R', 'L', 'R', 'L', 'R', 'L', 'R', 'L', 'L', 'L', 'L', 'L', 'R',\n",
              "       'L', 'R', 'L', 'R', 'L', 'R', 'R', 'L', 'L', 'R', 'L', 'L', 'R',\n",
              "       'L', 'L', 'R', 'L', 'R', 'R', 'L', 'R', 'R', 'R', 'L', 'L', 'R',\n",
              "       'L', 'L', 'R', 'L', 'L', 'L', 'R', 'R', 'L', 'R', 'L', 'R', 'R',\n",
              "       'R', 'L', 'R', 'L', 'L', 'L', 'L', 'R', 'R', 'L', 'R', 'L', 'R',\n",
              "       'R', 'L', 'L', 'L', 'R', 'R', 'L', 'L', 'L', 'R', 'L', 'L', 'R',\n",
              "       'R', 'R', 'R', 'R', 'R', 'L', 'R', 'L', 'R', 'R', 'L', 'R', 'R',\n",
              "       'L', 'R', 'R', 'L', 'R', 'R', 'R', 'L', 'L', 'L', 'L', 'L', 'R',\n",
              "       'R', 'R', 'R', 'L', 'R', 'R', 'R', 'L', 'L', 'R', 'L', 'R', 'L',\n",
              "       'R', 'L', 'R', 'R', 'L', 'L', 'R', 'L', 'R', 'R', 'R', 'R', 'R',\n",
              "       'L', 'R', 'R', 'R', 'R', 'R', 'R', 'L', 'R', 'L', 'R', 'R', 'L',\n",
              "       'R', 'L', 'R', 'L', 'R', 'L', 'L', 'L', 'L', 'L', 'R', 'R', 'R',\n",
              "       'L', 'L', 'L', 'R', 'R', 'R'], dtype=object)"
            ]
          },
          "metadata": {
            "tags": []
          },
          "execution_count": 18
        }
      ]
    },
    {
      "metadata": {
        "id": "3oUnFy_l3Jnx",
        "colab_type": "code",
        "colab": {
          "base_uri": "https://localhost:8080/",
          "height": 51
        },
        "outputId": "955adee7-6e6b-4ffa-93ee-8dbc983ea3e6"
      },
      "cell_type": "code",
      "source": [
        "#Расчет показателя точности\n",
        "\"\"\"\n",
        "Под точностью мы понимаем отношение правильно спрогнозированных точек данных ко всем спрогнозированным точкам данных. \n",
        "Точность как метрика помогает понять эффективность нашего алгоритма. Требуется 4 параметра.\n",
        "y_true,\n",
        "y_pred,\n",
        "нормализуют,\n",
        "sample_weight.\n",
        "Из этих 4 normalize и sample_weight являются необязательными параметрами. \n",
        "Параметр y_true принимает массив правильных меток, а y_pred принимает массив предсказанных меток, \n",
        "которые возвращаются классификатором. Возвращает точность как значение с плавающей точкой.\n",
        "\"\"\"\n",
        "print (\"Accuracy is \", accuracy_score(y_test,y_pred)*100)\n",
        "print (\"Accuracy is \", accuracy_score(y_test,y_pred_en)*100)"
      ],
      "execution_count": 21,
      "outputs": [
        {
          "output_type": "stream",
          "text": [
            "Accuracy is  73.40425531914893\n",
            "Accuracy is  70.74468085106383\n"
          ],
          "name": "stdout"
        }
      ]
    },
    {
      "metadata": {
        "id": "Wcc8-sw33QhJ",
        "colab_type": "code",
        "colab": {}
      },
      "cell_type": "code",
      "source": [
        "with open(\"clf_gini.txt\", \"w\") as f:\n",
        "    f = tree.export_graphviz(clf_gini, out_file=f)"
      ],
      "execution_count": 0,
      "outputs": []
    },
    {
      "metadata": {
        "id": "H9HRN0gL3fRx",
        "colab_type": "code",
        "colab": {
          "base_uri": "https://localhost:8080/",
          "height": 54
        },
        "outputId": "948d264c-da41-4e86-81a2-23c8e1035141"
      },
      "cell_type": "code",
      "source": [
        "\"\"\"\n",
        "clf_gini.txt\n",
        "\n",
        "digraph Tree {\n",
        "node [shape=box] ;\n",
        "0 [label=\"X[2] <= 2.5\\ngini = 0.572\\nsamples = 437\\nvalue = [36, 203, 198]\"] ;\n",
        "1 [label=\"X[1] <= 1.5\\ngini = 0.446\\nsamples = 165\\nvalue = [13, 117, 35]\"] ;\n",
        "0 -> 1 [labeldistance=2.5, labelangle=45, headlabel=\"True\"] ;\n",
        "2 [label=\"X[3] <= 2.5\\ngini = 0.532\\nsamples = 27\\nvalue = [4, 6, 17]\"] ;\n",
        "1 -> 2 ;\n",
        "3 [label=\"gini = 0.653\\nsamples = 12\\nvalue = [4, 5, 3]\"] ;\n",
        "2 -> 3 ;\n",
        "4 [label=\"gini = 0.124\\nsamples = 15\\nvalue = [0, 1, 14]\"] ;\n",
        "2 -> 4 ;\n",
        "5 [label=\"X[0] <= 1.5\\ngini = 0.332\\nsamples = 138\\nvalue = [9, 111, 18]\"] ;\n",
        "1 -> 5 ;\n",
        "6 [label=\"gini = 0.637\\nsamples = 25\\nvalue = [5, 9, 11]\"] ;\n",
        "5 -> 6 ;\n",
        "7 [label=\"gini = 0.18\\nsamples = 113\\nvalue = [4, 102, 7]\"] ;\n",
        "5 -> 7 ;\n",
        "8 [label=\"X[3] <= 2.5\\ngini = 0.534\\nsamples = 272\\nvalue = [23, 86, 163]\"] ;\n",
        "0 -> 8 [labeldistance=2.5, labelangle=-45, headlabel=\"False\"] ;\n",
        "9 [label=\"X[0] <= 1.5\\ngini = 0.559\\nsamples = 110\\nvalue = [11, 62, 37]\"] ;\n",
        "8 -> 9 ;\n",
        "10 [label=\"gini = 0.37\\nsamples = 27\\nvalue = [3, 3, 21]\"] ;\n",
        "9 -> 10 ;\n",
        "11 [label=\"gini = 0.448\\nsamples = 83\\nvalue = [8, 59, 16]\"] ;\n",
        "9 -> 11 ;\n",
        "12 [label=\"X[0] <= 3.5\\ngini = 0.368\\nsamples = 162\\nvalue = [12, 24, 126]\"] ;\n",
        "8 -> 12 ;\n",
        "13 [label=\"gini = 0.133\\nsamples = 100\\nvalue = [3, 4, 93]\"] ;\n",
        "12 -> 13 ;\n",
        "14 [label=\"gini = 0.592\\nsamples = 62\\nvalue = [9, 20, 33]\"] ;\n",
        "12 -> 14 ;\n",
        "}\n",
        "\n",
        "Далее идем на сайт http://webgraphviz.com/ и заганяем туда txt\n",
        "Получаем: рисунок\n",
        "\n",
        "\"\"\""
      ],
      "execution_count": 23,
      "outputs": [
        {
          "output_type": "execute_result",
          "data": {
            "text/plain": [
              "'\\nclf_gini.txt\\n\\ndigraph Tree {\\nnode [shape=box] ;\\n0 [label=\"X[2] <= 2.5\\ngini = 0.572\\nsamples = 437\\nvalue = [36, 203, 198]\"] ;\\n1 [label=\"X[1] <= 1.5\\ngini = 0.446\\nsamples = 165\\nvalue = [13, 117, 35]\"] ;\\n0 -> 1 [labeldistance=2.5, labelangle=45, headlabel=\"True\"] ;\\n2 [label=\"X[3] <= 2.5\\ngini = 0.532\\nsamples = 27\\nvalue = [4, 6, 17]\"] ;\\n1 -> 2 ;\\n3 [label=\"gini = 0.653\\nsamples = 12\\nvalue = [4, 5, 3]\"] ;\\n2 -> 3 ;\\n4 [label=\"gini = 0.124\\nsamples = 15\\nvalue = [0, 1, 14]\"] ;\\n2 -> 4 ;\\n5 [label=\"X[0] <= 1.5\\ngini = 0.332\\nsamples = 138\\nvalue = [9, 111, 18]\"] ;\\n1 -> 5 ;\\n6 [label=\"gini = 0.637\\nsamples = 25\\nvalue = [5, 9, 11]\"] ;\\n5 -> 6 ;\\n7 [label=\"gini = 0.18\\nsamples = 113\\nvalue = [4, 102, 7]\"] ;\\n5 -> 7 ;\\n8 [label=\"X[3] <= 2.5\\ngini = 0.534\\nsamples = 272\\nvalue = [23, 86, 163]\"] ;\\n0 -> 8 [labeldistance=2.5, labelangle=-45, headlabel=\"False\"] ;\\n9 [label=\"X[0] <= 1.5\\ngini = 0.559\\nsamples = 110\\nvalue = [11, 62, 37]\"] ;\\n8 -> 9 ;\\n10 [label=\"gini = 0.37\\nsamples = 27\\nvalue = [3, 3, 21]\"] ;\\n9 -> 10 ;\\n11 [label=\"gini = 0.448\\nsamples = 83\\nvalue = [8, 59, 16]\"] ;\\n9 -> 11 ;\\n12 [label=\"X[0] <= 3.5\\ngini = 0.368\\nsamples = 162\\nvalue = [12, 24, 126]\"] ;\\n8 -> 12 ;\\n13 [label=\"gini = 0.133\\nsamples = 100\\nvalue = [3, 4, 93]\"] ;\\n12 -> 13 ;\\n14 [label=\"gini = 0.592\\nsamples = 62\\nvalue = [9, 20, 33]\"] ;\\n12 -> 14 ;\\n}\\n\\nДалее идем на сайт http://webgraphviz.com/ и заганяем туда txt\\nПолучаем:\\n\\n'"
            ]
          },
          "metadata": {
            "tags": []
          },
          "execution_count": 23
        }
      ]
    }
  ]
}