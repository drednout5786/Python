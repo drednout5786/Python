{
  "nbformat": 4,
  "nbformat_minor": 0,
  "metadata": {
    "colab": {
      "name": "MNIST_Anton.ipynb",
      "version": "0.3.2",
      "provenance": [],
      "collapsed_sections": [],
      "include_colab_link": true
    },
    "kernelspec": {
      "name": "python3",
      "display_name": "Python 3"
    },
    "accelerator": "GPU"
  },
  "cells": [
    {
      "cell_type": "markdown",
      "metadata": {
        "id": "view-in-github",
        "colab_type": "text"
      },
      "source": [
        "<a href=\"https://colab.research.google.com/github/drednout5786/Python/blob/master/MNIST_Anton.ipynb\" target=\"_parent\"><img src=\"https://colab.research.google.com/assets/colab-badge.svg\" alt=\"Open In Colab\"/></a>"
      ]
    },
    {
      "metadata": {
        "id": "GxmgisZ06F_L",
        "colab_type": "code",
        "colab": {}
      },
      "cell_type": "code",
      "source": [
        "from tensorflow.keras.datasets import mnist\n",
        "from tensorflow.keras.models import Sequential\n",
        "from tensorflow.keras.layers import Dense\n",
        "from tensorflow.keras import utils\n",
        "from tensorflow.keras.layers import Dropout\n",
        "from keras import layers\n",
        "from google.colab import files\n",
        "import numpy as np\n",
        "import matplotlib.pyplot as plt\n",
        "from scipy.misc import toimage\n",
        "%matplotlib inline"
      ],
      "execution_count": 0,
      "outputs": []
    },
    {
      "metadata": {
        "id": "ux9uhjaa6ftZ",
        "colab_type": "code",
        "colab": {}
      },
      "cell_type": "code",
      "source": [
        "(x_train_org, y_train_org), (x_test_org, y_test_org) = mnist.load_data()"
      ],
      "execution_count": 0,
      "outputs": []
    },
    {
      "metadata": {
        "id": "miapZQyxEfXh",
        "colab_type": "code",
        "outputId": "43e02a18-322a-4f72-db81-06626477b0c7",
        "colab": {
          "base_uri": "https://localhost:8080/",
          "height": 72
        }
      },
      "cell_type": "code",
      "source": [
        "#Характеристики ответов\n",
        "print (y_train_org.shape)\n",
        "print (y_test_org.shape)\n",
        "y_train_org"
      ],
      "execution_count": 0,
      "outputs": [
        {
          "output_type": "stream",
          "text": [
            "(60000,)\n",
            "(10000,)\n"
          ],
          "name": "stdout"
        },
        {
          "output_type": "execute_result",
          "data": {
            "text/plain": [
              "array([5, 0, 4, ..., 5, 6, 8], dtype=uint8)"
            ]
          },
          "metadata": {
            "tags": []
          },
          "execution_count": 291
        }
      ]
    },
    {
      "metadata": {
        "id": "8U1NR9Fljzfk",
        "colab_type": "code",
        "outputId": "e2565038-dfbc-44b8-c5ea-2859e6c39390",
        "colab": {
          "base_uri": "https://localhost:8080/",
          "height": 35
        }
      },
      "cell_type": "code",
      "source": [
        "y_test_org"
      ],
      "execution_count": 0,
      "outputs": [
        {
          "output_type": "execute_result",
          "data": {
            "text/plain": [
              "array([7, 2, 1, ..., 4, 5, 6], dtype=uint8)"
            ]
          },
          "metadata": {
            "tags": []
          },
          "execution_count": 292
        }
      ]
    },
    {
      "metadata": {
        "id": "bSPe4kcMhmhh",
        "colab_type": "code",
        "outputId": "4e75d7f1-081b-45fc-8666-de5e05644028",
        "colab": {
          "base_uri": "https://localhost:8080/",
          "height": 54
        }
      },
      "cell_type": "code",
      "source": [
        "print (x_train_org.shape)\n",
        "print (x_test_org.shape)\n",
        "#x_train_org[0] #закодированная 5"
      ],
      "execution_count": 0,
      "outputs": [
        {
          "output_type": "stream",
          "text": [
            "(60000, 28, 28)\n",
            "(10000, 28, 28)\n"
          ],
          "name": "stdout"
        }
      ]
    },
    {
      "metadata": {
        "id": "S3mBgws36qF1",
        "colab_type": "code",
        "outputId": "66734abf-0f3e-4182-ba55-10f88fb61984",
        "colab": {
          "base_uri": "https://localhost:8080/",
          "height": 357
        }
      },
      "cell_type": "code",
      "source": [
        "n=0 #закодированная 5 в обучающей выборке\n",
        "plt.imshow(toimage(x_train_org[n]).convert('RGBA'))\n",
        "plt.show"
      ],
      "execution_count": 0,
      "outputs": [
        {
          "output_type": "stream",
          "text": [
            "/usr/local/lib/python3.6/dist-packages/ipykernel_launcher.py:2: DeprecationWarning: `toimage` is deprecated!\n",
            "`toimage` is deprecated in SciPy 1.0.0, and will be removed in 1.2.0.\n",
            "Use Pillow's ``Image.fromarray`` directly instead.\n",
            "  \n"
          ],
          "name": "stderr"
        },
        {
          "output_type": "execute_result",
          "data": {
            "text/plain": [
              "<function matplotlib.pyplot.show>"
            ]
          },
          "metadata": {
            "tags": []
          },
          "execution_count": 294
        },
        {
          "output_type": "display_data",
          "data": {
            "image/png": "[encoded data removed]",
            "text/plain": [
              "<Figure size 432x288 with 1 Axes>"
            ]
          },
          "metadata": {
            "tags": []
          }
        }
      ]
    },
    {
      "metadata": {
        "id": "C0_e-fB2KoLv",
        "colab_type": "code",
        "outputId": "370bcf8f-010b-4736-e063-520db3790378",
        "colab": {
          "base_uri": "https://localhost:8080/",
          "height": 357
        }
      },
      "cell_type": "code",
      "source": [
        "n=0 #закодированная 7 в тестовой выборке\n",
        "plt.imshow(toimage(x_test_org[n]).convert('RGBA'))\n",
        "plt.show"
      ],
      "execution_count": 0,
      "outputs": [
        {
          "output_type": "stream",
          "text": [
            "/usr/local/lib/python3.6/dist-packages/ipykernel_launcher.py:2: DeprecationWarning: `toimage` is deprecated!\n",
            "`toimage` is deprecated in SciPy 1.0.0, and will be removed in 1.2.0.\n",
            "Use Pillow's ``Image.fromarray`` directly instead.\n",
            "  \n"
          ],
          "name": "stderr"
        },
        {
          "output_type": "execute_result",
          "data": {
            "text/plain": [
              "<function matplotlib.pyplot.show>"
            ]
          },
          "metadata": {
            "tags": []
          },
          "execution_count": 295
        },
        {
          "output_type": "display_data",
          "data": {
            "image/png": "[encoded data removed]",
            "text/plain": [
              "<Figure size 432x288 with 1 Axes>"
            ]
          },
          "metadata": {
            "tags": []
          }
        }
      ]
    },
    {
      "metadata": {
        "id": "ehS62as46wMR",
        "colab_type": "code",
        "colab": {}
      },
      "cell_type": "code",
      "source": [
        "x_train = x_train_org.reshape(60000,784)# переведем данные в 2 мерный массив. т.к. 28*28 = 784\n",
        "x_test =  x_test_org.reshape(10000,784)"
      ],
      "execution_count": 0,
      "outputs": []
    },
    {
      "metadata": {
        "id": "u3Zre2QO61q9",
        "colab_type": "code",
        "colab": {}
      },
      "cell_type": "code",
      "source": [
        "x_train = x_train.astype('float32')\n",
        "x_train = x_train/255 #Нормализуем данные - переводим их в значения от 0 до 1\n",
        "#x_train[0]"
      ],
      "execution_count": 0,
      "outputs": []
    },
    {
      "metadata": {
        "id": "ev-DGWF165Pc",
        "colab_type": "code",
        "outputId": "6ee067a8-e5a0-448e-8cd4-436e458cc722",
        "colab": {
          "base_uri": "https://localhost:8080/",
          "height": 35
        }
      },
      "cell_type": "code",
      "source": [
        "print(y_train_org[n])"
      ],
      "execution_count": 0,
      "outputs": [
        {
          "output_type": "stream",
          "text": [
            "5\n"
          ],
          "name": "stdout"
        }
      ]
    },
    {
      "metadata": {
        "id": "T20k55QbK3Vn",
        "colab_type": "code",
        "outputId": "e9c3fa4f-4a1c-44b4-c32e-bbfc9ec37dea",
        "colab": {
          "base_uri": "https://localhost:8080/",
          "height": 35
        }
      },
      "cell_type": "code",
      "source": [
        "print(y_test_org[n])"
      ],
      "execution_count": 0,
      "outputs": [
        {
          "output_type": "stream",
          "text": [
            "7\n"
          ],
          "name": "stdout"
        }
      ]
    },
    {
      "metadata": {
        "id": "92x-vlsoI6M4",
        "colab_type": "code",
        "outputId": "478281af-f2c9-4804-f3fe-19cb514744b7",
        "colab": {
          "base_uri": "https://localhost:8080/",
          "height": 35
        }
      },
      "cell_type": "code",
      "source": [
        "print(x_train.shape[0], 'train samples') #Количество в обучающей выборке"
      ],
      "execution_count": 0,
      "outputs": [
        {
          "output_type": "stream",
          "text": [
            "60000 train samples\n"
          ],
          "name": "stdout"
        }
      ]
    },
    {
      "metadata": {
        "id": "cSyUkdTSJP0N",
        "colab_type": "code",
        "outputId": "1d75a7dd-1d1b-4cbc-d475-493abe7878f3",
        "colab": {
          "base_uri": "https://localhost:8080/",
          "height": 35
        }
      },
      "cell_type": "code",
      "source": [
        "print(x_test.shape[0], 'test samples') #Количество в тестовой выборке"
      ],
      "execution_count": 0,
      "outputs": [
        {
          "output_type": "stream",
          "text": [
            "10000 test samples\n"
          ],
          "name": "stdout"
        }
      ]
    },
    {
      "metadata": {
        "id": "GhcovHmO67qv",
        "colab_type": "code",
        "colab": {}
      },
      "cell_type": "code",
      "source": [
        "# convert class vectors to binary class matrices\n",
        "y_train = utils.to_categorical(y_train_org, 10)\n",
        "y_test = utils.to_categorical(y_test_org, 10)"
      ],
      "execution_count": 0,
      "outputs": []
    },
    {
      "metadata": {
        "id": "GfRELXJ46-qy",
        "colab_type": "code",
        "outputId": "4d18a2be-035f-486d-bef7-4dcdee7d77a2",
        "colab": {
          "base_uri": "https://localhost:8080/",
          "height": 35
        }
      },
      "cell_type": "code",
      "source": [
        "print(y_train[n]) #5"
      ],
      "execution_count": 0,
      "outputs": [
        {
          "output_type": "stream",
          "text": [
            "[0. 0. 0. 0. 0. 1. 0. 0. 0. 0.]\n"
          ],
          "name": "stdout"
        }
      ]
    },
    {
      "metadata": {
        "id": "joStUk77KAO9",
        "colab_type": "code",
        "outputId": "407e72d1-8cd8-4c7f-97bd-aa1e3d8ce330",
        "colab": {
          "base_uri": "https://localhost:8080/",
          "height": 35
        }
      },
      "cell_type": "code",
      "source": [
        "print(y_test[n]) #7"
      ],
      "execution_count": 0,
      "outputs": [
        {
          "output_type": "stream",
          "text": [
            "[0. 0. 0. 0. 0. 0. 0. 1. 0. 0.]\n"
          ],
          "name": "stdout"
        }
      ]
    },
    {
      "metadata": {
        "id": "1rzcgEsT7BEh",
        "colab_type": "code",
        "colab": {}
      },
      "cell_type": "code",
      "source": [
        "#Создаем последовательную модель. В Keras доступны два типа моделей: последовательные и с функциональным API.\n",
        "model = Sequential()"
      ],
      "execution_count": 0,
      "outputs": []
    },
    {
      "metadata": {
        "id": "RvrkxVKS7Fhc",
        "colab_type": "code",
        "colab": {}
      },
      "cell_type": "code",
      "source": [
        "#Добавляем в созданную модель новые полносвязные слои: Dense. \n",
        "#На каждом слое используется функция «dense» для полного соединения слоев друг с другом. \n",
        "#В скрытых слоях будем используем функцию активации «relu», потому это практически всегда приводит к удовлетворительным результатам.\n",
        "#Входной слой: в нем 800 нейронов. На вход подается информация с 784 пикселов.\n",
        "#model.add(Dropout(0.2, input_shape=(784,))) # dropout on the inputs\n",
        "# это помогает имитировать шум или отсутствующие данные\n",
        "model.add(Dense(800, input_dim = 784, activation = \"relu\"))\n",
        "model.add(Dropout(0.5))\n",
        "#Выходной слой: \"softmax\" означает, что сумма всех значений на выходе из нейронной сети должна равняться 1. Т.е. почти все значения должны быть близки к 0 и только одно близко к единице.\n",
        "model.add(Dense(10, activation = \"softmax\"))"
      ],
      "execution_count": 0,
      "outputs": []
    },
    {
      "metadata": {
        "id": "rkVt-_e97Vps",
        "colab_type": "code",
        "outputId": "a1905df3-13a2-41a3-ceaa-d52dee73e6b9",
        "colab": {
          "base_uri": "https://localhost:8080/",
          "height": 274
        }
      },
      "cell_type": "code",
      "source": [
        "#Прежде чем обучать нейронную сеть надо ее скомпилировать.\n",
        "#Будем использовать оптимизатор «adam». Оптимизатор — это алгоритм, который изменяет веса и смещения во время обучения. \n",
        "#В качестве функции потерь (функцию ошибки loss) используем бинарную кросс-энтропию (так как мы работаем с бинарной классификацией), \n",
        "#в качестве метрики оценки — точность - доля правильных ответов.\n",
        "model.compile(loss = \"categorical_crossentropy\", optimizer = \"adam\", metrics = [\"accuracy\"])\n",
        "print (model.summary())"
      ],
      "execution_count": 0,
      "outputs": [
        {
          "output_type": "stream",
          "text": [
            "_________________________________________________________________\n",
            "Layer (type)                 Output Shape              Param #   \n",
            "=================================================================\n",
            "dense_11 (Dense)             (None, 800)               628000    \n",
            "_________________________________________________________________\n",
            "dropout_2 (Dropout)          (None, 800)               0         \n",
            "_________________________________________________________________\n",
            "dense_12 (Dense)             (None, 10)                8010      \n",
            "=================================================================\n",
            "Total params: 636,010\n",
            "Trainable params: 636,010\n",
            "Non-trainable params: 0\n",
            "_________________________________________________________________\n",
            "None\n"
          ],
          "name": "stdout"
        }
      ]
    },
    {
      "metadata": {
        "id": "gXOAFB7EIBGi",
        "colab_type": "code",
        "outputId": "f6e56a73-e325-429e-b815-d495284bfd37",
        "colab": {
          "base_uri": "https://localhost:8080/",
          "height": 35
        }
      },
      "cell_type": "code",
      "source": [
        "print(len(model.layers)) # Получили 2 слоя"
      ],
      "execution_count": 0,
      "outputs": [
        {
          "output_type": "stream",
          "text": [
            "3\n"
          ],
          "name": "stdout"
        }
      ]
    },
    {
      "metadata": {
        "id": "X8lLxBgEIEkC",
        "colab_type": "code",
        "colab": {}
      },
      "cell_type": "code",
      "source": [
        ""
      ],
      "execution_count": 0,
      "outputs": []
    },
    {
      "metadata": {
        "id": "UTqK7QUj7XoK",
        "colab_type": "code",
        "outputId": "69cee47c-3f39-4c6e-f101-5805babbbf9c",
        "colab": {
          "base_uri": "https://localhost:8080/",
          "height": 770
        }
      },
      "cell_type": "code",
      "source": [
        "#Обучаем модель с учителем. В каждый раз берем по 200 картинок. Это размер минивыборки.20 - сколько раз мы передаем данные для обучения нейронной сети.\n",
        "history = model.fit(x_train, y_train, batch_size = 200, epochs = 20, validation_split=0.2, verbose = 1)"
      ],
      "execution_count": 0,
      "outputs": [
        {
          "output_type": "stream",
          "text": [
            "Train on 48000 samples, validate on 12000 samples\n",
            "Epoch 1/20\n",
            "48000/48000 [==============================] - 2s 37us/sample - loss: 0.3674 - acc: 0.8911 - val_loss: 0.1768 - val_acc: 0.9492\n",
            "Epoch 2/20\n",
            "48000/48000 [==============================] - 1s 31us/sample - loss: 0.1682 - acc: 0.9510 - val_loss: 0.1225 - val_acc: 0.9638\n",
            "Epoch 3/20\n",
            "48000/48000 [==============================] - 1s 30us/sample - loss: 0.1228 - acc: 0.9634 - val_loss: 0.1008 - val_acc: 0.9689\n",
            "Epoch 4/20\n",
            "48000/48000 [==============================] - 1s 30us/sample - loss: 0.0986 - acc: 0.9704 - val_loss: 0.0901 - val_acc: 0.9727\n",
            "Epoch 5/20\n",
            "48000/48000 [==============================] - 1s 30us/sample - loss: 0.0810 - acc: 0.9757 - val_loss: 0.0851 - val_acc: 0.9728\n",
            "Epoch 6/20\n",
            "48000/48000 [==============================] - 1s 30us/sample - loss: 0.0692 - acc: 0.9791 - val_loss: 0.0799 - val_acc: 0.9768\n",
            "Epoch 7/20\n",
            "48000/48000 [==============================] - 1s 30us/sample - loss: 0.0612 - acc: 0.9811 - val_loss: 0.0702 - val_acc: 0.9791\n",
            "Epoch 8/20\n",
            "48000/48000 [==============================] - 1s 30us/sample - loss: 0.0527 - acc: 0.9837 - val_loss: 0.0693 - val_acc: 0.9787\n",
            "Epoch 9/20\n",
            "48000/48000 [==============================] - 1s 31us/sample - loss: 0.0464 - acc: 0.9853 - val_loss: 0.0706 - val_acc: 0.9793\n",
            "Epoch 10/20\n",
            "48000/48000 [==============================] - 1s 30us/sample - loss: 0.0430 - acc: 0.9864 - val_loss: 0.0667 - val_acc: 0.9797\n",
            "Epoch 11/20\n",
            "48000/48000 [==============================] - 1s 31us/sample - loss: 0.0377 - acc: 0.9881 - val_loss: 0.0698 - val_acc: 0.9798\n",
            "Epoch 12/20\n",
            "48000/48000 [==============================] - 1s 30us/sample - loss: 0.0360 - acc: 0.9884 - val_loss: 0.0652 - val_acc: 0.9808\n",
            "Epoch 13/20\n",
            "48000/48000 [==============================] - 1s 30us/sample - loss: 0.0324 - acc: 0.9892 - val_loss: 0.0657 - val_acc: 0.9806\n",
            "Epoch 14/20\n",
            "48000/48000 [==============================] - 1s 31us/sample - loss: 0.0290 - acc: 0.9909 - val_loss: 0.0643 - val_acc: 0.9811\n",
            "Epoch 15/20\n",
            "48000/48000 [==============================] - 1s 30us/sample - loss: 0.0273 - acc: 0.9913 - val_loss: 0.0664 - val_acc: 0.9816\n",
            "Epoch 16/20\n",
            "48000/48000 [==============================] - 1s 31us/sample - loss: 0.0247 - acc: 0.9921 - val_loss: 0.0686 - val_acc: 0.9817\n",
            "Epoch 17/20\n",
            "48000/48000 [==============================] - 1s 31us/sample - loss: 0.0226 - acc: 0.9929 - val_loss: 0.0670 - val_acc: 0.9806\n",
            "Epoch 18/20\n",
            "48000/48000 [==============================] - 1s 30us/sample - loss: 0.0219 - acc: 0.9929 - val_loss: 0.0690 - val_acc: 0.9806\n",
            "Epoch 19/20\n",
            "48000/48000 [==============================] - 1s 31us/sample - loss: 0.0221 - acc: 0.9924 - val_loss: 0.0684 - val_acc: 0.9815\n",
            "Epoch 20/20\n",
            "48000/48000 [==============================] - 1s 31us/sample - loss: 0.0192 - acc: 0.9941 - val_loss: 0.0709 - val_acc: 0.9819\n"
          ],
          "name": "stdout"
        }
      ]
    },
    {
      "metadata": {
        "id": "Nsv5POAKC9v2",
        "colab_type": "code",
        "outputId": "7f49da73-d11d-44c2-8b90-353562358ddc",
        "colab": {
          "base_uri": "https://localhost:8080/",
          "height": 35
        }
      },
      "cell_type": "code",
      "source": [
        "print(history.history.keys()) #  a history attribute containing the lists of successive losses and other metrics."
      ],
      "execution_count": 0,
      "outputs": [
        {
          "output_type": "stream",
          "text": [
            "dict_keys(['loss', 'acc', 'val_loss', 'val_acc'])\n"
          ],
          "name": "stdout"
        }
      ]
    },
    {
      "metadata": {
        "id": "csW94_eTM-j6",
        "colab_type": "code",
        "colab": {}
      },
      "cell_type": "code",
      "source": [
        "#Проверка точности полученной модели на тестовой выборке\n",
        "score = model.evaluate(x_test, y_test, verbose=0)"
      ],
      "execution_count": 0,
      "outputs": []
    },
    {
      "metadata": {
        "id": "AmZ2VQPtNBXm",
        "colab_type": "code",
        "outputId": "45bb9fae-64ef-469a-9451-be6883a7f9bb",
        "colab": {
          "base_uri": "https://localhost:8080/",
          "height": 54
        }
      },
      "cell_type": "code",
      "source": [
        "print('Test loss:', score[0])\n",
        "print('Test accuracy:', score[1])"
      ],
      "execution_count": 0,
      "outputs": [
        {
          "output_type": "stream",
          "text": [
            "Test loss: 0.3081562224268996\n",
            "Test accuracy: 0.9805\n"
          ],
          "name": "stdout"
        }
      ]
    },
    {
      "metadata": {
        "id": "GpNtJKZDAKw7",
        "colab_type": "code",
        "outputId": "2adf709d-57d1-4b6c-a9ab-e1040986be39",
        "colab": {
          "base_uri": "https://localhost:8080/",
          "height": 35
        }
      },
      "cell_type": "code",
      "source": [
        "print('Доля верных ответов на тестовой выборке:', round(score[1]*100,4), \"%\")"
      ],
      "execution_count": 0,
      "outputs": [
        {
          "output_type": "stream",
          "text": [
            "Доля верных ответов на тестовой выборке: 98.05 %\n"
          ],
          "name": "stdout"
        }
      ]
    },
    {
      "metadata": {
        "id": "2NVMK4rxBWWp",
        "colab_type": "code",
        "outputId": "8dd6fd97-62d7-45de-a0b1-dbd43938c69e",
        "colab": {
          "base_uri": "https://localhost:8080/",
          "height": 384
        }
      },
      "cell_type": "code",
      "source": [
        "#Значение ошибки на обучающей выборке\n",
        "history.history['loss']"
      ],
      "execution_count": 0,
      "outputs": [
        {
          "output_type": "execute_result",
          "data": {
            "text/plain": [
              "[0.3673587607840697,\n",
              " 0.16820157517989476,\n",
              " 0.12282771216705442,\n",
              " 0.09860716865708431,\n",
              " 0.08103312391322107,\n",
              " 0.06915660310381402,\n",
              " 0.0611907278575624,\n",
              " 0.05267520473959545,\n",
              " 0.046439283112219225,\n",
              " 0.04299973395342628,\n",
              " 0.03766086696026226,\n",
              " 0.03602507245571663,\n",
              " 0.03239869291816528,\n",
              " 0.028961340696938957,\n",
              " 0.027278182100659857,\n",
              " 0.02470435441743272,\n",
              " 0.022607419977430255,\n",
              " 0.02194604527418657,\n",
              " 0.022111813514493407,\n",
              " 0.019182175572495908]"
            ]
          },
          "metadata": {
            "tags": []
          },
          "execution_count": 314
        }
      ]
    },
    {
      "metadata": {
        "id": "uoKTEW8CBoBD",
        "colab_type": "code",
        "outputId": "63605b2c-8411-4f1e-f391-a78685d1a8cb",
        "colab": {
          "base_uri": "https://localhost:8080/",
          "height": 384
        }
      },
      "cell_type": "code",
      "source": [
        "#Доля правильных ответов\n",
        "history.history['val_acc']"
      ],
      "execution_count": 0,
      "outputs": [
        {
          "output_type": "execute_result",
          "data": {
            "text/plain": [
              "[0.94925,\n",
              " 0.96375,\n",
              " 0.96891665,\n",
              " 0.9726667,\n",
              " 0.97275,\n",
              " 0.97683334,\n",
              " 0.97908336,\n",
              " 0.97875,\n",
              " 0.97925,\n",
              " 0.97975,\n",
              " 0.9798333,\n",
              " 0.98083335,\n",
              " 0.9805833,\n",
              " 0.98108333,\n",
              " 0.98158336,\n",
              " 0.9816667,\n",
              " 0.9805833,\n",
              " 0.9805833,\n",
              " 0.9815,\n",
              " 0.98191667]"
            ]
          },
          "metadata": {
            "tags": []
          },
          "execution_count": 315
        }
      ]
    },
    {
      "metadata": {
        "id": "2cSdo3RhB_Yt",
        "colab_type": "code",
        "outputId": "16402819-6a14-46ff-f6c1-c5c5ed7e7570",
        "colab": {
          "base_uri": "https://localhost:8080/",
          "height": 280
        }
      },
      "cell_type": "code",
      "source": [
        "#Рисуем график\n",
        "plt.plot(history.history['acc'], label = \"Доля верных ответов на обучающей выборке\")\n",
        "plt.plot(history.history['val_acc'], label = \"Доля верных ответов на проверочном наборе\")\n",
        "plt.xlabel (\"Эпоха обучения\")\n",
        "plt.ylabel (\"Доля верных ответов\")\n",
        "plt.legend ()\n",
        "plt.show ()"
      ],
      "execution_count": 0,
      "outputs": [
        {
          "output_type": "display_data",
          "data": {
            "image/png": "[encoded data removed]",
            "text/plain": [
              "<Figure size 432x288 with 1 Axes>"
            ]
          },
          "metadata": {
            "tags": []
          }
        }
      ]
    },
    {
      "metadata": {
        "id": "B-HdRq9n75HA",
        "colab_type": "code",
        "colab": {}
      },
      "cell_type": "code",
      "source": [
        "#Save partly trained model\n",
        "model.save(\"mnist_dense.h5\")"
      ],
      "execution_count": 0,
      "outputs": []
    },
    {
      "metadata": {
        "id": "u1XW6F6U8AqO",
        "colab_type": "code",
        "outputId": "d48c7547-8331-4d13-bbd7-8a4889fbf843",
        "colab": {
          "base_uri": "https://localhost:8080/",
          "height": 35
        }
      },
      "cell_type": "code",
      "source": [
        "!ls #Команда Linux"
      ],
      "execution_count": 0,
      "outputs": [
        {
          "output_type": "stream",
          "text": [
            "'2 (1).png'   2.png   mnist_dense.h5   sample_data\n"
          ],
          "name": "stdout"
        }
      ]
    },
    {
      "metadata": {
        "id": "fgShF-A0Bz7B",
        "colab_type": "code",
        "outputId": "fc3c21d7-ae44-4e91-f558-4cc6a062e901",
        "colab": {
          "base_uri": "https://localhost:8080/",
          "height": 35
        }
      },
      "cell_type": "code",
      "source": [
        "model"
      ],
      "execution_count": 0,
      "outputs": [
        {
          "output_type": "execute_result",
          "data": {
            "text/plain": [
              "<tensorflow.python.keras.engine.sequential.Sequential at 0x7f0eddb03630>"
            ]
          },
          "metadata": {
            "tags": []
          },
          "execution_count": 319
        }
      ]
    },
    {
      "metadata": {
        "id": "OPo8-PEr8C49",
        "colab_type": "code",
        "colab": {}
      },
      "cell_type": "code",
      "source": [
        "#files.download(\"mnist_dense.h5\")"
      ],
      "execution_count": 0,
      "outputs": []
    },
    {
      "metadata": {
        "id": "jLAf5to5CIAo",
        "colab_type": "code",
        "colab": {}
      },
      "cell_type": "code",
      "source": [
        "#model.load_weights('mnist_dense.h5', by_name=True)"
      ],
      "execution_count": 0,
      "outputs": []
    },
    {
      "metadata": {
        "id": "1W8Fq4aY8KMo",
        "colab_type": "code",
        "colab": {}
      },
      "cell_type": "code",
      "source": [
        "from keras.models import load_model"
      ],
      "execution_count": 0,
      "outputs": []
    },
    {
      "metadata": {
        "id": "mzZpsq0SV_HA",
        "colab_type": "code",
        "colab": {}
      },
      "cell_type": "code",
      "source": [
        "from keras.utils import CustomObjectScope\n",
        "from keras.initializers import glorot_uniform"
      ],
      "execution_count": 0,
      "outputs": []
    },
    {
      "metadata": {
        "id": "EIo7iM21WnNr",
        "colab_type": "code",
        "outputId": "34046aba-fc84-489d-a704-e3e6681c308c",
        "colab": {
          "base_uri": "https://localhost:8080/",
          "height": 35
        }
      },
      "cell_type": "code",
      "source": [
        "#Load partly trained model\n",
        "with CustomObjectScope({'GlorotUniform': glorot_uniform()}):\n",
        "        model = load_model('mnist_dense.h5')\n",
        "model\n",
        "#https://askvoprosy.com/voprosy/unknown-initializer-glorotuniform-when-loading-keras-model"
      ],
      "execution_count": 0,
      "outputs": [
        {
          "output_type": "execute_result",
          "data": {
            "text/plain": [
              "<keras.engine.sequential.Sequential at 0x7f0edd7b7fd0>"
            ]
          },
          "metadata": {
            "tags": []
          },
          "execution_count": 324
        }
      ]
    },
    {
      "metadata": {
        "id": "GT5YVf6W8ych",
        "colab_type": "code",
        "colab": {}
      },
      "cell_type": "code",
      "source": [
        "#model = load_model('mnist_dense.h5')"
      ],
      "execution_count": 0,
      "outputs": []
    },
    {
      "metadata": {
        "id": "OJSN_JJHXGGi",
        "colab_type": "code",
        "colab": {}
      },
      "cell_type": "code",
      "source": [
        "#Используем полученную модель для распознования цифр.\n",
        "n_rec = 0"
      ],
      "execution_count": 0,
      "outputs": []
    },
    {
      "metadata": {
        "id": "Rfl5N-SxXJwt",
        "colab_type": "code",
        "outputId": "afc0fb8c-7faf-444b-ecdb-ea84bde8c405",
        "colab": {
          "base_uri": "https://localhost:8080/",
          "height": 338
        }
      },
      "cell_type": "code",
      "source": [
        "plt.imshow(toimage(x_test_org[n_rec]).convert('RGBA'))\n",
        "plt.show()"
      ],
      "execution_count": 0,
      "outputs": [
        {
          "output_type": "stream",
          "text": [
            "/usr/local/lib/python3.6/dist-packages/ipykernel_launcher.py:1: DeprecationWarning: `toimage` is deprecated!\n",
            "`toimage` is deprecated in SciPy 1.0.0, and will be removed in 1.2.0.\n",
            "Use Pillow's ``Image.fromarray`` directly instead.\n",
            "  \"\"\"Entry point for launching an IPython kernel.\n"
          ],
          "name": "stderr"
        },
        {
          "output_type": "display_data",
          "data": {
            "image/png": "[encoded data removed]",
            "text/plain": [
              "<Figure size 432x288 with 1 Axes>"
            ]
          },
          "metadata": {
            "tags": []
          }
        }
      ]
    },
    {
      "metadata": {
        "id": "lU3ToARhXNgm",
        "colab_type": "code",
        "colab": {}
      },
      "cell_type": "code",
      "source": [
        "x = x_test[n_rec]\n",
        "x = np.expand_dims(x, axis = 0)"
      ],
      "execution_count": 0,
      "outputs": []
    },
    {
      "metadata": {
        "id": "U0Bt-4IHXSfG",
        "colab_type": "code",
        "colab": {}
      },
      "cell_type": "code",
      "source": [
        "prediction = model.predict(x)"
      ],
      "execution_count": 0,
      "outputs": []
    },
    {
      "metadata": {
        "id": "8UebzeZAXT4I",
        "colab_type": "code",
        "outputId": "b068f1b4-17ab-4f51-d244-eb99ff1f404a",
        "colab": {
          "base_uri": "https://localhost:8080/",
          "height": 35
        }
      },
      "cell_type": "code",
      "source": [
        "print(prediction)"
      ],
      "execution_count": 0,
      "outputs": [
        {
          "output_type": "stream",
          "text": [
            "[[0. 0. 0. 0. 0. 0. 0. 1. 0. 0.]]\n"
          ],
          "name": "stdout"
        }
      ]
    },
    {
      "metadata": {
        "id": "57Qy9SOTXcrC",
        "colab_type": "code",
        "outputId": "db530d2d-58d8-48e2-daaf-15da9d346136",
        "colab": {
          "base_uri": "https://localhost:8080/",
          "height": 35
        }
      },
      "cell_type": "code",
      "source": [
        "prediction = np.argmax(prediction)\n",
        "print(prediction)"
      ],
      "execution_count": 0,
      "outputs": [
        {
          "output_type": "stream",
          "text": [
            "7\n"
          ],
          "name": "stdout"
        }
      ]
    },
    {
      "metadata": {
        "id": "V7j6sAUeXfRl",
        "colab_type": "code",
        "outputId": "fcd397c0-8eec-4202-ca64-580c5feddea8",
        "colab": {
          "base_uri": "https://localhost:8080/",
          "height": 35
        }
      },
      "cell_type": "code",
      "source": [
        "print(y_test_org[n_rec])"
      ],
      "execution_count": 0,
      "outputs": [
        {
          "output_type": "stream",
          "text": [
            "7\n"
          ],
          "name": "stdout"
        }
      ]
    },
    {
      "metadata": {
        "id": "sxtfKhUUXlos",
        "colab_type": "code",
        "outputId": "b9fe7329-4b10-4ad7-a064-cde12cfd7d91",
        "colab": {
          "resources": {
            "http://localhost:8080/nbextensions/google.colab/files.js": {
              "data": "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",
              "ok": true,
              "headers": [
                [
                  "content-type",
                  "application/javascript"
                ]
              ],
              "status": 200,
              "status_text": "OK"
            }
          },
          "base_uri": "https://localhost:8080/",
          "height": 115
        }
      },
      "cell_type": "code",
      "source": [
        "files.upload()"
      ],
      "execution_count": 0,
      "outputs": [
        {
          "output_type": "display_data",
          "data": {
            "text/html": [
              "\n",
              "     <input type=\"file\" id=\"files-736e8d1c-d649-48e9-87c0-dd6bb80e0db4\" name=\"files[]\" multiple disabled />\n",
              "     <output id=\"result-736e8d1c-d649-48e9-87c0-dd6bb80e0db4\">\n",
              "      Upload widget is only available when the cell has been executed in the\n",
              "      current browser session. Please rerun this cell to enable.\n",
              "      </output>\n",
              "      <script src=\"/nbextensions/google.colab/files.js\"></script> "
            ],
            "text/plain": [
              "<IPython.core.display.HTML object>"
            ]
          },
          "metadata": {
            "tags": []
          }
        },
        {
          "output_type": "stream",
          "text": [
            "Saving 2.png to 2 (2).png\n"
          ],
          "name": "stdout"
        },
        {
          "output_type": "execute_result",
          "data": {
            "text/plain": [
              "{'2.png': b'\\x89PNG\\r\\n\\x1a\\n\\x00\\x00\\x00\\rIHDR\\x00\\x00\\x00\\x1c\\x00\\x00\\x00\\x1c\\x08\\x06\\x00\\x00\\x00r\\r\\xdf\\x94\\x00\\x00\\x00\\x01sRGB\\x00\\xae\\xce\\x1c\\xe9\\x00\\x00\\x00\\x04gAMA\\x00\\x00\\xb1\\x8f\\x0b\\xfca\\x05\\x00\\x00\\x00\\tpHYs\\x00\\x00\\x16%\\x00\\x00\\x16%\\x01IR$\\xf0\\x00\\x00\\x03nIDATHK\\xedVO(\\xa4a\\x18\\x7f\\xc6\\x98\\x89\\xf1g\\xb9\\xc8\\xb2\\xcb\\xf8\\x17!\\x17\\x9b\\x03c\\xca\\xd5\\xc1U!.\\xca\\x89\\x94\\xcbN\\xcd^\\x94\\x12\\xca\\xba\\x88\\x84\\xda\\xa9\\x9d\\x83\\x14i&spQ\\x8e\\xb3\\xd1(R\\x0c\\x8a\\x18\\xd4\\x18\\xc6\\x083\\xbf}\\xde\\xd7g\\xb7\\xd6\\xfc\\xb3Y\\xa7\\xfdM_\\xcd\\xf7}\\xcf\\xfb\\xfe\\xde\\xe7y~\\xbf\\xa7O\\xe5\\xdatA\\x97\\xac\\xa3\\xb7\\xc0M\\xe0\\x86T\\xbb\\xbb\\xbb(,,T\\x1e\\xfd[\\xec\\xed\\xedQ\\x82\\xf2\\xff\\xcd\\xf0\\x9f0\"\\x00\\xd0\\xf5\\xf55\\x1d\\x1e\\x1e\\xd2\\xc2\\xc2\\x02-..\\xd2\\xfd\\xfd\\xbd\\xf26\\n\\x84h^\\x82\\x87\\x87\\x07\\xb8\\xddn\\x98\\xcdf466\\xa2\\xa4\\xa4\\x04999(//\\xc7\\xec\\xec\\xac\\x12\\x15\\x1e\\x82+n\\xc2P(\\x84\\xad\\xad-\\xf4\\xf6\\xf6\\xa2\\xa0\\xa0\\x00\\xa9\\xa9\\xa9HJJ\\xc2\\x87\\x8f\\x1f\\xe5\\xbdV\\xab\\x95\\x078::RV<G\\xdc\\x84\\x97\\x97\\x97\\xe8\\xeb\\xebCnn\\xae\\xdcX\\xa5RA\\xadV\\xc3`0`cc\\x03KKK\\xe0b\\xa1\\xb2\\xb2\\x12.\\x97KY\\xf5\\x1c\\x82+\\xae\\x1e\\xae\\xac\\xac\\xd0\\xf4\\xf44\\x1d\\x1f\\x1f\\xd3\\xdd\\xdd\\x1d1!UUU\\xd1\\xf8\\xf88\\x15\\x17\\x17\\x93N\\xf788xOyECLB\\xb1|~~^\\n$!!\\x81\\xb8g\\xd4\\xdc\\xdcLV\\xab\\x95***\\x88{*\\r\\x1d/b\\x12\\xaa\\xf8\\x1a\\x1a\\x1a\\xa2\\xfe\\xfe~Z]]\\x95\\xd77\\x8b\\x85JKK\\xe5\\x01\\x842OOO\\x1f\\x83\\xe3@\\\\%e\\x15\\x92\\xc9d\\xa2\\xda\\xdaZ\\xca\\xce\\xce&5\\x13\\x89\\xd2\\x85\\x845\\xfc~Z__W\"c#\\xeeY*J\\x1b\\n\\x06\\xc9\\xeb\\xf5\\xd2\\xcc\\xcc\\x0c\\x05\\x02\\x01IzuuE\\x0e\\x87\\x83\\x0e\\x0e\\x0e\\xa8\\xa3\\xa3\\x83\\xbe\\x8e\\x8d\\xc9\\x03\\x85\\x83,},\\x95\\n;\\xb0P\\xe0\\xde\\xdf\\x07\\x1b\\x1cF\\xa3Q*TXB\\xa8\\x95\\xf7\\x91\\xf7\\x9c\\xbdTa\\x88\\x7f\\x91\\x10S\\xa5\\x1cC\\xdeK/\\xd9l6\\xaa7\\x18\\xa8\\xb3\\xb3S\\xf6\\xab\\xae\\xae\\x8eZZZ(--\\xedW\\x9cx\\xce\\xf6 \\x9f\\xef*\\xbaR#e(2\\xdb\\xe7\\xacFGG\\x91\\x92\\x92\\x82\\xcc\\xccLLNNJ\\x9f\\x05no\\xb1\\xecX\\x86^\\xaf\\x87F\\xa3\\x01\\xf7\\x15L\\x8e\\xbc\\xbc<LMM\\xc9L|>\\x1f\\xfc~?n9\\xf6\\t\\xe2yXBAvrr\\x82\\xee\\xeen$&&\"++\\x0b\\x9c\\x9d\\x1c\\x00b\\xa3\\xb5\\xb55\\x94\\x95\\x95\\x81\\xfd\\x87\\x9a\\x9a\\x1a\\x8c\\x8c\\x0c\\xa3\\xb5\\xb5\\x95G\\xdc{9\\x1c\\xda\\xda\\xda`\\xb1Xd\\x0b\\x9cN\\xe7\\xe3\\xa6\\x8c\\x88\\x84\\x1e\\x8f\\x07===HNN\\x06{\\r,\\x12\\xee\\xa1\\x1b\\xdb\\xdb\\xdb`\\xb3\\xcbg\\xf9\\xf9\\xf9hoo\\xc7\\xe6\\xe6&\\x1e\\x82Ax\\xce<\\xe0\\xd2\\xa3\\xab\\xab\\x0bEEE\\xc8\\xc8x\\'+000\\xa0\\xec\\x1a\\x85pxx\\x18\\xe9\\xe9\\xe92\\x03\\xb1\\xc0f\\xb7appP\\x8e2q\\x08\\x91\\xddw\\xab\\x15ggg\\xca\\x8a\\xdf\\xb8\\xb8\\xb8\\x00\\x0f\\x05\\x98L\\x9f119\\x81\\xf3\\xf3s\\xe5M\\x04B\\xa1\\xb1\\x86\\x86\\x06\\xa9<QN}\\x81^\\x96I\\xf4I\\xcc\\xca\\xa6\\xa6&\\xcc\\xcd\\xcd!\\xc8e\\x8f\\x06\\xf1\\xf6\\xcf\\x08\\xc1\\xf5\\xcc\\x87B__\\xccf\\xb2\\xdb\\xed\\xc4\\xa7%\\x16\\x854\\xbb\\xd1XO\\xd5\\xd5\\x9f\\xa4\\xf9\\xb9\\xa7\\xc4\\x07z\\\\\\xf0\\x02\\x08\\x1f\\x865>\\xab\\x90~8\\x9d\\xb4\\xb3\\xb3#\\xa5\\xcf\\xde\\xa3\\x8c\\xcc\\x0c\\xd2j\\xb4J\\xc4\\xdf!\"\\xe1\\x13D\\xb6b\\x96\\xbe\\x16b~\\xb5\\xbd&\\xd9\\x13\\xe2\\x1a\\xde\\xaf\\x897\\'|\\xe3O\\xfd\\x1b\\xfa\\t\\x1e.\\xd8F\\x1cx\\x9eB\\x00\\x00\\x00\\x00IEND\\xaeB`\\x82 \\x04D\\x82X\\x90\\x04f\\xc2Y\\xcf\\x009P\\xf5\\x1c\\xb0\\x00,\\x05\\xc5\\xa0\\x14\\xac\\x03\\x9bA\\x05\\xd8\\x01v\\x83Zp\\x00\\x1c\\x06M\\xe0\\x048\\x0b.\\x82\\xab\\xa0\\x13\\xdc\\x04\\xf7\\xe1\\xda\\xe8\\x05/\\xc1\\x00\\x18\\x02\\xc3\\x08\\x82\\x90\\x10\\x1aBG4\\x10]\\xc4\\x08\\xb1@l\\x11g\\xc4\\x03\\xf1G\\xc2\\x90h$\\tIA\\xd2\\x11>\"B\\x16 \\xcb\\x90Rd\\x03R\\x81\\xecB\\xea\\x90_\\x91\\xe3\\xc8Y\\xe42\\xd2\\x85\\xdcE\\x1e#}\\xc8\\x1b\\xe4\\x13\\x8a\\xa1TT\\x15\\xd5F\\x8d\\xd1\\xc9\\xa83\\xea\\x8d\\x86\\xa2\\xb1\\xe8\\x0c4\\x1d\\xcdE\\x0b\\xd1\\xe5\\xe8\\x1a\\xb4\\x1c\\xadF\\xf7\\xa3\\x8d\\xe8Y\\xf4*z\\x13\\x15\\xa3/\\xd1A\\x0c`\\xf2\\x18\\x03\\xd3\\xc3,1g\\xcc\\x17\\x8b\\xc4\\x92\\xb14L\\x88-\\xc2J\\xb02\\xac\\x1ak\\xc0Z\\xe0o}\\x1d\\x13c\\xfd\\xd8G\\x9c\\x88\\xd3q&n\\t\\xd7g\\x10\\x1e\\x87\\xb3\\xf1\\\\|\\x11\\xbe\\x1a\\xaf\\xc0k\\xf1F\\xfc<~\\x1d\\x7f\\x8c\\x0f\\xe0_\\t4\\x82\\x16\\xc1\\x82\\xe0J\\x08&$\\x12\\xd2\\ts\\x08\\xc5\\x842\\xc2^\\xc21\\xc2\\x05\\xb8\\xa3z\\tCD\"\\x91A4!:\\xc1\\xbd\\x99D\\xcc$\\xce\\'\\xae&n\\'\\x1e$\\x9e!v\\x11{\\x88\\x83$\\x12I\\x83dAr\\'E\\x92X\\xa4|R1i+i?\\xe94\\xa9\\x9b\\xd4K\\xfa@\\x96\\'\\xeb\\x92m\\xc9\\x01\\xe4d2\\x9f\\\\D.#\\xef#\\x9f\"w\\x93\\x9f\\x93\\x87\\xe5\\x94\\xe4\\x8c\\xe4\\\\\\xe5\"\\xe58r\\xf3\\xe4\\xd6\\xca\\xed\\x91k\\x91\\xbb&\\xd7+7LQ\\xa6\\x98P\\xdc)\\xb1\\x94L\\xcaRJ9\\xa5\\x81r\\x81\\xf2\\x80\\xf2V^^^_\\xdeE~\\xaa<O~\\x89|\\xb9\\xfc!\\xf9K\\xf2\\x8f\\xe5?RU\\xa8\\xe6T_\\xeat\\xaa\\x88\\xba\\x86ZC=C\\xbdK}K\\xa3\\xd1\\x8ci^\\xb4dZ>m\\r\\xad\\x8ev\\x8e\\xf6\\x88\\xf6A\\x81\\xae`\\xa5\\x10\\xac\\xc0QX\\xacP\\xa9\\xd0\\xa8\\xd0\\xad\\xf0JQN\\xd1H\\xd1[q\\xa6b\\xa1b\\x99\\xe2\\x11\\xc5k\\x8a\\xfdJrJ\\xc6J\\xbeJ,\\xa5EJ\\x95J\\xc7\\x95n+\\r*\\xd3\\x95m\\x94#\\x95s\\x94W+\\xefS\\xbe\\xac\\xfcB\\x85\\xa4b\\xac\\xe2\\xaf\\xc2QY\\xae\\xb2[\\xe5\\x9cJ\\x0f\\x1d\\xa3\\x1b\\xd0}\\xe9l\\xfa2\\xfa\\x1e\\xfa\\x05z\\xaf*Q\\xd5D5X5S\\xb5T\\xf5\\x80j\\x87\\xea\\x80\\x9a\\x8a\\x9a\\xbdZ\\xbc\\xda\\\\\\xb5J\\xb5\\x93jb\\x06\\xc60f\\x043\\xb2\\x19k\\x19\\x87\\x19\\xb7\\x18\\x9f&hO\\xf0\\x9e\\xc0\\x9d\\xb0jB\\xc3\\x84\\xee\\t\\xef\\xd5\\'\\xaa{\\xa9s\\xd5K\\xd4\\x0f\\xaa\\xdfT\\xff\\xa4\\xc1\\xd4\\xf0\\xd7\\xc8\\xd2X\\xaf\\xd1\\xa4\\xf1P\\x13\\xd74\\xd7\\x9c\\xaa9G\\xb3J\\xf3\\x82f\\xffD\\xd5\\x89n\\x13\\xd9\\x13K&\\x1e\\x9exO\\x0b\\xd52\\xd7\\x8a\\xd6\\x9a\\xaf\\xb5[\\xab]kP[G;P[\\xa0\\xbdU\\xfb\\x9cv\\xbf\\x0eC\\xc7K\\'Sg\\x93\\xce)\\x9d>]\\xba\\xae\\x87.Ow\\x93\\xeei\\xdd?\\x98jLof6\\xb3\\x9cy\\x9e9\\xa0\\xa7\\xa5\\x17\\xa4\\'\\xd2\\xdb\\xa5\\xd7\\xa17\\xaco\\xa2\\x1f\\xa7_\\xa4\\x7fP\\xff\\xa1\\x01\\xc5\\xc0\\xd9 \\xcd`\\x93A\\xab\\xc1\\x80\\xa1\\xaea\\xb8\\xe1\\x02\\xc3z\\xc3{FrF\\xceF\\x19F[\\x8c\\xda\\x8c\\xde\\x1b\\x9b\\x18\\'\\x18\\xaf0n2~a\\xa2n\\x12lRhRo\\xf2\\xc0\\x94f\\xeai\\x9akZmz\\xc3\\x8ch\\xe6l\\x96e\\xb6\\xdd\\xac\\xd3\\x1c5w0\\xcf0\\xaf4\\xbff\\x81Z8Z\\xf0,\\xb6[tM\"Lr\\x99\\xc4\\x9fT=\\xe9\\xb6%\\xd5\\xd2\\xdb\\xb2\\xc0\\xb2\\xde\\xf2\\xb1\\x15\\xc3*\\xcc\\xaa\\xc8\\xaa\\xc9\\xea\\xd5d\\xc3\\xc9\\xc9\\x93\\xd7On\\x9b\\xfc\\xd5\\xda\\xc1:\\xdbz\\x8f\\xf5}\\x1b\\x15\\x9b\\x10\\x9b\"\\x9b\\x16\\x9b7\\xb6\\xe6\\xb6l\\xdbJ\\xdb\\x1bv4\\xbb\\x00\\xbb\\xc5v\\xcdv\\xaf\\xed-\\xec\\xb9\\xf6U\\xf6w\\x1c\\xe8\\x0e\\xe1\\x0e+\\x1cZ\\x1d\\xbe8:9\\n\\x1d\\x1b\\x1c\\xfb\\x9c\\x0c\\x9dR\\x9c\\xb69\\xddvVu\\x8er^\\xed|\\xc9\\x85\\xe0\\xe2\\xe3\\xb2\\xd8\\xe5\\x84\\xcbGWG\\xd7|\\xd7\\xc3\\xae\\x7f\\xb9Y\\xbae\\xb9\\xeds{1\\xc5d\\nw\\xca\\x9e)=\\xee\\xfa\\xee,\\xf7]\\xeeb\\x0f\\xa6G\\x8a\\xc7N\\x0f\\xb1\\xa7\\x9e\\'\\xcb\\xb3\\xda\\xf3\\x89\\x97\\x81\\x17\\xc7k\\xaf\\xd7so3\\xefL\\xef\\xfd\\xde\\xaf|\\xac}\\x84>\\xc7|\\xde\\xfb\\xba\\xfa.\\xf4=\\xe3\\x87\\xf9\\x05\\xfa\\x95\\xf8u\\xf8\\xab\\xf8\\xc7\\xf9W\\xf8?\\n\\xd0\\x0fH\\x0f\\xa8\\x0f\\x18\\x08t\\x08\\x9c\\x1fx&\\x88\\x10\\x14\\x1a\\xb4>\\xe8v\\xb0v0;\\xb8.x \\xc4)da\\xc8\\xf9PjhLhE\\xe8\\x930\\xf30aXK8\\x1a\\x1e\\x12\\xbe1\\xfcA\\x84Q\\x04?\\xa2)\\x12D\\x06Gn\\x8c|\\x18e\\x12\\x95\\x1b\\xf5\\xdbT\\xe2\\xd4\\xa8\\xa9\\x95S\\x9fE\\xdbD/\\x88n\\x8b\\xa1\\xc7\\xcc\\x8a\\xd9\\x173\\x14\\xeb\\x13\\xbb6\\xf6~\\x9ci\\x9c(\\xae5^1~z|]\\xfc\\xfb\\x04\\xbf\\x84\\r\\t\\xe2\\xc4\\xc9\\x89\\x0b\\x13\\xaf&i&\\xf1\\x92\\x9a\\x93I\\xc9\\xf1\\xc9{\\x93\\x07\\xa7\\xf9O\\xdb<\\xadw\\xba\\xc3\\xf4\\xe2\\xe9\\xb7f\\x98\\xcc\\x98;\\xe3\\xf2L\\xcd\\x99\\xd93O\\xceR\\x9c\\xc5\\x9au$\\x85\\x90\\x92\\x90\\xb2/\\xe53+\\x92U\\xcd\\x1aL\\rN\\xdd\\x96:\\xc0\\xf6eoa\\xbf\\xe4xq6q\\xfa\\xb8\\xee\\xdc\\r\\xdc\\xe7i\\xeei\\x1b\\xd2^\\xa4\\xbb\\xa7oL\\xef\\xcb\\xf0\\xcc(\\xcb\\xe8\\xe7\\xf9\\xf2*x\\xaf3\\x832wd\\xbe\\xcf\\x8a\\xcc\\xaa\\xc9\\x1a\\xc9N\\xc8>\\x98C\\xceI\\xc99\\xceW\\xe1g\\xf1\\xcf\\xcf\\xd6\\x99=wv\\x97\\xc0BP,\\x10\\xe7\\xba\\xe6n\\xce\\x1d\\x10\\x86\\n\\xf7\\xe6!y3\\xf2\\x9a\\xf3U\\xe1Q\\xa7]d*\\xfaI\\xf4\\xb8\\xc0\\xa3\\xa0\\xb2\\xe0\\xc3\\x9c\\xf89G\\xe6*\\xcf\\xe5\\xcfm\\x9fg>o\\xd5\\xbc\\xe7\\x85\\x01\\x85\\xbf\\xcc\\xc7\\xe7\\xb3\\xe7\\xb7.\\xd0[\\xb0t\\xc1\\xe3\\x85\\xde\\x0bw-B\\x16\\xa5.j]l\\xb0x\\xf9\\xe2\\xde%\\x81Kj\\x97R\\x96f-\\xfd\\xbd\\xc8\\xbahC\\xd1\\xbbe\\t\\xcbZ\\x96k/_\\xb2\\xbc\\xe7\\xa7\\xc0\\x9f\\xea\\x8b\\x15\\x8a\\x85\\xc5\\xb7W\\xb8\\xad\\xd8\\xb1\\x12_\\xc9[\\xd9\\xb1\\xcan\\xd5\\xd6U_K8%WJ\\xadK\\xcbJ?\\xaff\\xaf\\xbe\\xf2\\xb3\\xcd\\xcf\\xe5?\\x8f\\xacI[\\xd3\\xb1\\xd6qm\\xd5:\\xe2:\\xfe\\xba[\\xeb=\\xd7\\xd7nP\\xdeP\\xb8\\xa1gc\\xf8\\xc6\\xc6M\\xccM%\\x9b\\xdem\\x9e\\xb5\\xf9r\\x99}\\xd9\\x8e-\\x94-\\xa2-\\xe2\\xf2\\xb0\\xf2\\xe6\\xad\\x86[\\xd7m\\xfd\\\\\\x91Qq\\xb3\\xd2\\xa7\\xf2\\xe06\\xadm\\xab\\xb6\\xbd\\xdf\\xce\\xd9\\xde]\\xe5U\\xd5\\xb0C{G\\xe9\\x8eO;y;\\xef\\xec\\n\\xdc\\xd5Xm\\\\]\\xb6\\x9b\\xb8\\xbb`\\xf7\\xb3=\\xf1{\\xda~q\\xfe\\xa5n\\xaf\\xe6\\xde\\xd2\\xbd_j\\xf85\\xe2\\xda\\xe8\\xda\\xf3uNuu\\xfb\\xb4\\xf6\\xad\\xadG\\xebE\\xf5}\\xfb\\xa7\\xef\\xef<\\xe0w\\xa0\\xb9\\xc1\\xb2a\\xd7A\\xc6\\xc1\\xd2C\\xe0\\x90\\xe8\\xd0\\x1f\\xbf\\xa6\\xfcz\\xebp\\xe8\\xe1\\xd6#\\xceG\\x1a\\x8e\\x1a\\x1d\\xddv\\x8c~\\xac\\xa4\\x11i\\x9c\\xd78\\xd0\\x94\\xd1$nNj\\xee:\\x1er\\xbc\\xb5\\xc5\\xad\\xe5\\xd8oV\\xbf\\xd5\\x9c\\xd0;QyR\\xed\\xe4\\xdaS\\x94S\\xcbO\\x8d\\x9c.<=xFp\\xa6\\xffl\\xfa\\xd9\\x9e\\xd6Y\\xad\\xf7\\xcf%\\x9e\\xbbq~\\xea\\xf9\\x8e\\x0b\\xa1\\x17.]\\x0c\\xb8x\\xae\\xcd\\xbb\\xed\\xf4%\\xf7K\\'.\\xbb^>~\\xc5\\xf9J\\xd3U\\xc7\\xab\\x8d\\xed\\x0e\\xed\\xc7~w\\xf8\\xfdX\\x87cG\\xe35\\xa7k\\xcd\\x9d.\\x9d-]S\\xbaNu{v\\x9f\\xbd\\xeew\\xfd\\xe2\\x8d\\xe0\\x1bWoF\\xdc\\xec\\xba\\x15w\\xeb\\xce\\xed\\xe9\\xb7\\xc5w8w^\\xdc\\xcd\\xbe\\xfb\\xfa^\\xc1\\xbd\\xe1\\xfbK\\x1e\\x10\\x1e\\x94<TzX\\xf6H\\xebQ\\xf5\\xbf\\xcc\\xfeuP\\xec(>\\xf9\\xd8\\xefq\\xfb\\x93\\x98\\'\\xf7{\\xd8=/\\x9f\\xe6=\\xfd\\xdc\\xbb\\xfc\\x19\\xedY\\xd9s\\xdd\\xe7u/l_\\x9c\\xe8\\x0b\\xe8\\xeb\\xfcc\\xda\\x1f\\xbd/\\x05/\\x87\\xfb\\x8b\\xffT\\xfes\\xdb+\\xd3WG\\xff\\xf2\\xfa\\xab} q\\xa0\\xf7\\xb5\\xf0\\xf5\\xc8\\x9b\\xd5o5\\xde\\xd6\\xbc\\xb3\\x7f\\xd7:\\x185\\xf8h(gh\\xf8}\\xc9\\x07\\x8d\\x0f\\xb5\\x1f\\x9d?\\xb6}J\\xf8\\xf4|x\\xceg\\xd2\\xe7\\xf2/f_Z\\xbe\\x86~}0\\x9232\"`\\tY\\xd2\\xa3\\x00\\x06+\\x9a\\x96\\x06\\xc0\\x9b\\x1a\\x00hI\\xf0\\xec\\x00\\xefq\\x14\\x05\\xd9\\xfdKZ\\x10\\xd9\\x9dQJ\\xe0\\x9fXvG\\x93\\x16xr\\xa9\\xf1\\x02 n\\t\\x00a\\xf0\\x8cR\\x05\\xab\\x11d*\\xfc\\x94\\x1c\\xbfc\\xbd\\x00jg7^GK^\\x9a\\x9d\\xad,\\x17\\x15\\xdeb\\x08\\x1fFF\\xdej\\x03@j\\x01\\xe0\\x8bpddx\\xfb\\xc8\\xc8\\x97=P\\xec]\\x00\\xce\\xe4\\xca\\xee}\\x92B\\x84g\\xfc\\x9df\\x12\\xeah\\xa7\\x80\\x1f\\xcb\\xbf\\x01\\xe7\\xa1k\\x1cdG\\x1c\\x93\\x00\\x00\\x00\\tpHYs\\x00\\x00\\x16%\\x00\\x00\\x16%\\x01IR$\\xf0\\x00\\x00\\x01\\x9diTXtXML:com.adobe.xmp\\x00\\x00\\x00\\x00\\x00<x:xmpmeta xmlns:x=\"adobe:ns:meta/\" x:xmptk=\"XMP Core 5.4.0\">\\n   <rdf:RDF xmlns:rdf=\"http://www.w3.org/1999/02/22-rdf-syntax-ns#\">\\n      <rdf:Description rdf:about=\"\"\\n            xmlns:exif=\"http://ns.adobe.com/exif/1.0/\">\\n         <exif:PixelXDimension>586</exif:PixelXDimension>\\n         <exif:PixelYDimension>590</exif:PixelYDimension>\\n      </rdf:Description>\\n   </rdf:RDF>\\n</x:xmpmeta>\\n\\x1e^V\\xff\\x00\\x00@\\x00IDATx\\x01\\xed\\xdd\\xebs\\xde\\xc6y\\xfe\\xf1\\x15\\xcf\\xa4(R\\xa6(K\\xb6b\\xcb\\x8e#\\xbbv\\xd2\\xb4\\xce\\xb4o\\x9a\\xa4\\x99\\xbe\\xcf\\xf4\\xcf\\xfdM^t\\xa6\\xcd\\xf4E\\xa7i\\x137i\\x9c\\xd8\\xb1UE\\xb6u>K\\x14\\xcf\\xa4~\\xbe6\\xb9\\x18\\x10&EbwA\\x02\\xe0\\x173\\xd0>\\x0f\\x88\\xbdq\\xefg\\xf1\\x007A\\xda<\\xf5\\xe2\\xeb%\\xb0 \\x80\\x00\\x02\\x08 \\x80\\x00\\x02\\x08|C`\\xe4\\x1b[\\xd8\\x80\\x00\\x02\\x08 \\x80\\x00\\x02\\x08 \\x10\\x05(\\x948\\x11\\x10@\\x00\\x01\\x04\\x10@\\x00\\x81}\\x04(\\x94\\xf6\\x81a3\\x02\\x08 \\x80\\x00\\x02\\x08 @\\xa1\\xc49\\x80\\x00\\x02\\x08 \\x80\\x00\\x02\\x08\\xec#0V\\xdd\\xae\\xdf\\xeb\\xde\\xde\\xde\\x0e\\xeb\\xeb\\xebauu5\\xbe\\x1e\\x1f\\x1f\\x0f\\xa3\\xa3\\xa3\\xe1\\xd4\\xa9S\\xd5]y\\x8d\\x00\\x02\\x08 \\x80\\x00\\x02\\x08\\xf4V@5\\xcf\\xd6\\xd6V\\xd8\\xd8\\xd8\\x08###ajj*LLL\\xc4\\xd7\\xd5\\x9agW\\xa1\\xa4\"imm-<|\\xf80\\xdc\\xbcy3\\x16Ksssazz:\\x8c\\x8d\\x8dQ,\\xf5\\xf6t q\\x04\\x10@\\x00\\x01\\x04\\x10\\xb0\\x80\\x8a\\xa4\\xcd\\xcd\\xcd\\xb0\\xb2\\xb2\\x12\\x9e>}\\x1a\\x8b\\xa4\\xd7_\\x7f=,,,\\x84\\xc9\\xc9\\xc9\\xf8\\x80\\xc8\\xfb\\xee*\\x94\\xf4$IE\\xd2\\xd5\\xabW\\xc3G\\x1f}\\x14_\\x9f9s&\\x06\\xd0S%U\\\\,\\x08 \\x80\\x00\\x02\\x08 \\x80@\\x9f\\x05\\xf4`HO\\x93\\xf4\\xd3\\xb3g\\xcf\\x9e\\xc5\\x02\\xe9\\xc3\\x0f?\\x8cC:w\\xee\\\\|@\\xe4\\xf1\\xed*\\x94\\xd4\\xe1\\xc6\\x8d\\x1b\\xb1H\\xfa\\xd9\\xcf~\\x16\\xae]\\xbb\\xb6\\xf3c\\xb7\\xeac(w\\xa6E\\x00\\x01\\x04\\x10@\\x00\\x01\\x04\\xfa(\\xa0\\xa7J\\xfe\\xf1\\xdb\\xdbo\\xbf\\x1d\\x87\\xa0\\x1f\\xbf\\x9d>}z\\xffB\\xa9\\xfa\\xa3\\xb7\\xcf?\\xff<\\\\\\xbf~=,..\\x06=U\\xd2\\xef*Q,\\xf5\\xf1T g\\x04\\x10@\\x00\\x01\\x04\\x10\\xa8\\n\\xa8@\\xd2\\xef&\\xe9i\\xd2\\xfd\\xfb\\xf7\\xe3\\xd3%\\xfdDM\\xbf~\\xa4Z\\xa8\\xba\\xecz\\xa2\\xa4\\xdfC\\xd2\\xef$\\xcd\\xce\\xce\\xc6\\'Iz\\xfc\\xf4\\x93\\x9f\\xfc$|\\xf7\\xbb\\xdf\\r\\xf3\\xf3\\xf3\\xf1\\x97\\x9c\\xaa\\x9dy\\x8d\\x00\\x02\\x08 \\x80\\x00\\x02\\x08\\xf4M@\\xbfj\\xf4\\xe4\\xc9\\x93\\xf0\\xf1\\xc7\\x1f\\x87\\x7f\\xfb\\xb7\\x7f\\x8b5\\x8fj\\x1f\\xd5@\\xaa\\x85\\xaa\\xcb\\xaew\\xfa=\\xa4\\x99\\x99\\x99\\x9d_\\xde\\xd6\\x93$\\x15I?\\xfe\\xf1\\x8f\\xc3\\xab\\xaf\\xbe\\x1a\\x7fW\\xa9\\xda\\x99\\xd7\\x08 \\x80\\x00\\x02\\x08 \\x80@\\xdf\\x04\\xf4\\xabFw\\xef\\xde\\x8di\\xff\\xf2\\x97\\xbf\\x8c\\xc5\\x91\\xfe\\xc35\\xd5@\\xaa\\x85\\xaa\\xcb\\xaeBI?Z\\xd3/l{\\'\\xfd\\xb8MO\\x92\\xce\\x9f?\\x1f.\\\\\\xb8\\xb0\\xebgv\\xd5 \\xbcF\\x00\\x01\\x04\\x10@\\x00\\x01\\x04\\xfa\"\\xa0\\xff\\xdaM?~S\\x8d\\xa3ZG\\x8b\\xff\\xa3\\xb5\\xfa\\xaf\\x19\\xedY(\\xa9X\\xd2\\x8eZ\\xf5\\xff\\x14P\\x85\\xe5\\'M}A O\\x04\\x10@\\x00\\x01\\x04\\x10@`/\\x01\\xd57\\xaak\\xfc\\xffM\\xd2>\\xaa}\\\\\\xffT\\xfb\\x1c\\xea\\xbf\\xf7\\xf7o\\x86W;\\xf2\\x1a\\x01\\x04\\x10@\\x00\\x01\\x04\\x10\\xe8\\xa3@\\x93\\xba\\xe6P\\x85R\\x1f\\x11\\xc8\\x19\\x01\\x04\\x10@\\x00\\x01\\x04\\x10\\xc8\\x15\\xa0P\\xca\\x15\\xa4?\\x02\\x08 \\x80\\x00\\x02\\x08\\x0cV\\x80Bi\\xb0S\\xcb\\xc0\\x10@\\x00\\x01\\x04\\x10@ W\\x80B)W\\x90\\xfe\\x08 \\x80\\x00\\x02\\x08 0X\\x01\\n\\xa5\\xc1N-\\x03C\\x00\\x01\\x04\\x10@\\x00\\x81\\\\\\x01\\n\\xa5\\\\A\\xfa#\\x80\\x00\\x02\\x08 \\x80\\xc0`\\x05(\\x94\\x06;\\xb5\\x0c\\x0c\\x01\\x04\\x10@\\x00\\x01\\x04r\\x05(\\x94r\\x05\\xe9\\x8f\\x00\\x02\\x08 \\x80\\x00\\x02\\x83\\x15\\xa0P\\x1a\\xec\\xd420\\x04\\x10@\\x00\\x01\\x04\\x10\\xc8\\x15\\xa0P\\xca\\x15\\xa4?\\x02\\x08 \\x80\\x00\\x02\\x08\\x0cV\\x80Bi\\xb0S\\xcb\\xc0\\x10@\\x00\\x01\\x04\\x10@ W\\x80B)W\\x90\\xfe\\x08 \\x80\\x00\\x02\\x08 0X\\x01\\n\\xa5\\xc1N-\\x03C\\x00\\x01\\x04\\x10@\\x00\\x81\\\\\\x01\\n\\xa5\\\\A\\xfa#\\x80\\x00\\x02\\x08 \\x80\\xc0`\\x05(\\x94\\x06;\\xb5\\x0c\\x0c\\x01\\x04\\x10@\\x00\\x01\\x04r\\x05(\\x94r\\x05\\xe9\\x8f\\x00\\x02\\x08 \\x80\\x00\\x02\\x83\\x15\\xa0P\\x1a\\xec\\xd420\\x04\\x10@\\x00\\x01\\x04\\x10\\xc8\\x15\\xa0P\\xca\\x15\\xa4?\\x02\\x08 \\x80\\x00\\x02\\x08\\x0cV\\x80Bi\\xb0S\\xcb\\xc0\\x10@\\x00\\x01\\x04\\x10@ W\\x80B)W\\x90\\xfe\\x08 \\x80\\x00\\x02\\x08 0X\\x01\\n\\xa5\\xc1N-\\x03C\\x00\\x01\\x04\\x10@\\x00\\x81\\\\\\x01\\n\\xa5\\\\A\\xfa#\\x80\\x00\\x02\\x08 \\x80\\xc0`\\x05(\\x94\\x06;\\xb5\\x0c\\x0c\\x01\\x04\\x10@\\x00\\x01\\x04r\\x05(\\x94r\\x05\\xe9\\x8f\\x00\\x02\\x08 \\x80\\x00\\x02\\x83\\x15\\xa0P\\x1a\\xec\\xd420\\x04\\x10@\\x00\\x01\\x04\\x10\\xc8\\x15\\xa0P\\xca\\x15\\xa4?\\x02\\x08 \\x80\\x00\\x02\\x08\\x0cV\\x80Bi\\xb0S\\xcb\\xc0\\x10@\\x00\\x01\\x04\\x10@ W\\x80B)W\\x90\\xfe\\x08 \\x80\\x00\\x02\\x08 0X\\x01\\n\\xa5\\xc1N-\\x03C\\x00\\x01\\x04\\x10@\\x00\\x81\\\\\\x01\\n\\xa5\\\\A\\xfa#\\x80\\x00\\x02\\x08 \\x80\\xc0`\\x05(\\x94\\x06;\\xb5\\x0c\\x0c\\x01\\x04\\x10@\\x00\\x01\\x04r\\x05(\\x94r\\x05\\xe9\\x8f\\x00\\x02\\x08 \\x80\\x00\\x02\\x83\\x15\\xa0P\\x1a\\xec\\xd420\\x04\\x10@\\x00\\x01\\x04\\x10\\xc8\\x15\\xa0P\\xca\\x15\\xa4?\\x02\\x08 \\x80\\x00\\x02\\x08\\x0cV\\x80Bi\\xb0S\\xcb\\xc0\\x10@\\x00\\x01\\x04\\x10@ W\\x80B)W\\x90\\xfe\\x08 \\x80\\x00\\x02\\x08 0X\\x01\\n\\xa5\\xc1N-\\x03C\\x00\\x01\\x04\\x10@\\x00\\x81\\\\\\x01\\n\\xa5\\\\A\\xfa#\\x80\\x00\\x02\\x08 \\x80\\xc0`\\x05(\\x94\\x06;\\xb5\\x0c\\x0c\\x01\\x04\\x10@\\x00\\x01\\x04r\\x05(\\x94r\\x05\\xe9\\x8f\\x00\\x02\\x08 \\x80\\x00\\x02\\x83\\x15\\xa0P\\x1a\\xec\\xd420\\x04\\x10@\\x00\\x01\\x04\\x10\\xc8\\x15\\xa0P\\xca\\x15\\xa4?\\x02\\x08 \\x80\\x00\\x02\\x08\\x0cV\\x80Bi\\xb0S\\xcb\\xc0\\x10@\\x00\\x01\\x04\\x10@ W\\x80B)W\\x90\\xfe\\x08 \\x80\\x00\\x02\\x08 0X\\x01\\n\\xa5\\xc1N-\\x03C\\x00\\x01\\x04\\x10@\\x00\\x81\\\\\\x01\\n\\xa5\\\\A\\xfa#\\x80\\x00\\x02\\x08 \\x80\\xc0`\\x05(\\x94\\x06;\\xb5\\x0c\\x0c\\x01\\x04\\x10@\\x00\\x01\\x04r\\x05(\\x94r\\x05\\xe9\\x8f\\x00\\x02\\x08 \\x80\\x00\\x02\\x83\\x15\\xa0P\\x1a\\xec\\xd420\\x04\\x10@\\x00\\x01\\x04\\x10\\xc8\\x15\\xa0P\\xca\\x15\\xa4?\\x02\\x08 \\x80\\x00\\x02\\x08\\x0cV\\x80Bi\\xb0S\\xcb\\xc0\\x10@\\x00\\x01\\x04\\x10@ W\\x80B)W\\x90\\xfe\\x08 \\x80\\x00\\x02\\x08 0X\\x01\\n\\xa5\\xc1N-\\x03C\\x00\\x01\\x04\\x10@\\x00\\x81\\\\\\x01\\n\\xa5\\\\A\\xfa#\\x80\\x00\\x02\\x08 \\x80\\xc0`\\x05(\\x94\\x06;\\xb5\\x0c\\x0c\\x01\\x04\\x10@\\x00\\x01\\x04r\\x05(\\x94r\\x05\\xe9\\x8f\\x00\\x02\\x08 \\x80\\x00\\x02\\x83\\x15\\xa0P\\x1a\\xec\\xd420\\x04\\x10@\\x00\\x01\\x04\\x10\\xc8\\x15\\xa0P\\xca\\x15\\xa4?\\x02\\x08 \\x80\\x00\\x02\\x08\\x0cV\\x80Bi\\xb0S\\xcb\\xc0\\x10@\\x00\\x01\\x04\\x10@ W\\x80B)W\\x90\\xfe\\x08 \\x80\\x00\\x02\\x08 0X\\x01\\n\\xa5\\xc1N-\\x03C\\x00\\x01\\x04\\x10@\\x00\\x81\\\\\\x01\\n\\xa5\\\\A\\xfa#\\x80\\x00\\x02\\x08 \\x80\\xc0`\\x05(\\x94\\x06;\\xb5\\x0c\\x0c\\x01\\x04\\x10@\\x00\\x01\\x04r\\x05(\\x94r\\x05\\xe9\\x8f\\x00\\x02\\x08 \\x80\\x00\\x02\\x83\\x15\\xa0P\\x1a\\xec\\xd420\\x04\\x10@\\x00\\x01\\x04\\x10\\xc8\\x15\\xa0P\\xca\\x15\\xa4?\\x02\\x08 \\x80\\x00\\x02\\x08\\x0cV\\x80Bi\\xb0S\\xcb\\xc0\\x10@\\x00\\x01\\x04\\x10@ W\\x80B)W\\x90\\xfe\\x08 \\x80\\x00\\x02\\x08 0X\\x01\\n\\xa5\\xc1N-\\x03C\\x00\\x01\\x04\\x10@\\x00\\x81\\\\\\x01\\n\\xa5\\\\A\\xfa#\\x80\\x00\\x02\\x08 \\x80\\xc0`\\x05(\\x94\\x06;\\xb5\\x0c\\x0c\\x01\\x04\\x10@\\x00\\x01\\x04r\\x05(\\x94r\\x05\\xe9\\x8f\\x00\\x02\\x08 \\x80\\x00\\x02\\x83\\x15\\xa0P\\x1a\\xec\\xd420\\x04\\x10@\\x00\\x01\\x04\\x10\\xc8\\x15\\xa0P\\xca\\x15\\xa4?\\x02\\x08 \\x80\\x00\\x02\\x08\\x0cV\\x80Bi\\xb0S\\xcb\\xc0\\x10@\\x00\\x01\\x04\\x10@ W\\x80B)W\\x90\\xfe\\x08 \\x80\\x00\\x02\\x08 0X\\x01\\n\\xa5\\xc1N-\\x03C\\x00\\x01\\x04\\x10@\\x00\\x81\\\\\\x01\\n\\xa5\\\\A\\xfa#\\x80\\x00\\x02\\x08 \\x80\\xc0`\\x05(\\x94\\x06;\\xb5\\x0c\\x0c\\x01\\x04\\x10@\\x00\\x01\\x04r\\x05(\\x94r\\x05\\xe9\\x8f\\x00\\x02\\x08 \\x80\\x00\\x02\\x83\\x15\\xa0P\\x1a\\xec\\xd420\\x04\\x10@\\x00\\x01\\x04\\x10\\xc8\\x15\\xa0P\\xca\\x15\\xa4?\\x02\\x08 \\x80\\x00\\x02\\x08\\x0cV\\x80Bi\\xb0S\\xcb\\xc0\\x10@\\x00\\x01\\x04\\x10@ W\\x80B)W\\x90\\xfe\\x08 \\x80\\x00\\x02\\x08 0X\\x01\\n\\xa5\\xc1N-\\x03C\\x00\\x01\\x04\\x10@\\x00\\x81\\\\\\x01\\n\\xa5\\\\A\\xfa#\\x80\\x00\\x02\\x08 \\x80\\xc0`\\x05(\\x94\\x06;\\xb5\\x0c\\x0c\\x01\\x04\\x10@\\x00\\x01\\x04r\\x05(\\x94r\\x05\\xe9\\x8f\\x00\\x02\\x08 \\x80\\x00\\x02\\x83\\x15\\xa0P\\x1a\\xec\\xd420\\x04\\x10@\\x00\\x01\\x04\\x10\\xc8\\x15\\xa0P\\xca\\x15\\xa4?\\x02\\x08 \\x80\\x00\\x02\\x08\\x0cV\\x80Bi\\xb0S\\xcb\\xc0\\x10@\\x00\\x01\\x04\\x10@ W\\x80B)W\\x90\\xfe\\x08 \\x80\\x00\\x02\\x08 0X\\x01\\n\\xa5\\xc1N-\\x03C\\x00\\x01\\x04\\x10@\\x00\\x81\\\\\\x01\\n\\xa5\\\\A\\xfa#\\x80\\x00\\x02\\x08 \\x80\\xc0`\\x05\\xc6\\x06;2\\x06\\x86\\x00\\x02\\'Z\\xe0\\xc5\\x8b\\x17a{{;\\xa8-\\xb1(\\x8e\\xd7\\x9cx\\xa7N\\x9d\\x8a\\xdd766\\xc2\\xca\\xcaJP[r\\xf1\\xb85\\xf6\\x12\\xcb\\xe4\\xe4d\\x98\\x9b\\x9b\\x0bjs\\x16\\xcf\\x83\\xc6\\xef5\\'\\x1e}\\x118*\\x01\\n\\xa5\\xa3\\x92\\xe68\\x08 p\\xa4\\x02[[[\\xb1\\x08Q\\xab\\xc5\\x05Jj\\x12*<T\\xd4\\xb8\\x00\\xc9\\x8d\\xf7\\xe4\\xc9\\x93\\xf0\\xe5\\x97_\\x06\\xb5ZFF\\xca<\\xe0W\\x8e\\xab\\xab\\xabass3\\xc6M\\xcd\\xd3E\\xe6\\x85\\x0b\\x17\\xc2\\xf7\\xbe\\xf7\\xbd\\xa0\\xb6T\\xa1866\\x96=\\x1fqp\\xfc\\x83\\xc0\\x11\\x08P(\\x1d\\x012\\x87@\\x00\\x81\\xa3\\x17\\xd0M]ERn\\xc1\\xe0\\xcc\\x15k}}=\\xc6\\xd4\\xb6\\xd4\\x02\\xc4\\xfd\\x96\\x96\\x96\\xc2\\xbd{\\xf7\\xe2\\xaax\\xa5\\n%\\xe5\\xb8\\xbc\\xbc\\x1cs\\xcd\\xc9\\xd3\\x85\\x92\\xdaw\\xdeyg\\xe7\\xe9\\x9c\\x9f\\x0c)v\\x93\\xc5\\xfd4N\\xbfn\\xd2\\x9f}\\x118.\\x01\\n\\xa5\\xe3\\x92\\xe7\\xb8\\x08 p\\xa2\\x05\\\\0\\xd5\\xdb\\\\\\x14\\xc5\\xf3\\xaaX\\x8e\\xdf4\\xae\\xfb\\xb9m\\xda\\x9f\\xfd\\x11\\x18\\x8a\\x00\\x85\\xd2Pf\\x92q \\x80\\xc0.\\x01\\x17\\x0b\\xbe\\xd1\\xbb\\xdd\\xb5S\\x837\\xa5\\xe29\\x0f\\xb5z\\xba\\xe2\\'In\\x1b\\xa4\\xb4\\xe7\\xae\\x8e\\xe9x>\\xde\\x9e;\\x1f\\xb0QO~\\x14\\xc7c?`\\xf7C}\\xb9d\\xacC\\x1d\\x90\\x9d\\x10\\xc8\\x14(\\xf3C\\xf1\\xcc$\\xe8\\x8e\\x00\\x02\\x08 \\x80\\x00\\x02\\x08tQ\\x80B\\xa9\\x8b\\xb3BN\\x08 \\x80\\x00\\x02\\x08 \\xd0\\t\\x01\\n\\xa5NL\\x03I \\x80\\x00\\x02\\x08 \\x80@\\x17\\x05(\\x94\\xba8+\\xe4\\x84\\x00\\x02\\x08 \\x80\\x00\\x02\\x9d\\x10\\xa0P\\xea\\xc44\\x90\\x04\\x02\\x08 \\x80\\x00\\x02\\x08tQ\\x80B\\xa9\\x8b\\xb3BN\\x08 \\x80\\x00\\x02\\x08 \\xd0\\t\\x01\\n\\xa5NL\\x03I \\x80\\x00\\x02\\x08 \\x80@\\x17\\x05(\\x94\\xba8+\\xe4\\x84\\x00\\x02\\x08 \\x80\\x00\\x02\\x9d\\x10\\xa0P\\xea\\xc44\\x90\\x04\\x02\\x08 \\x80\\x00\\x02\\x08tQ\\x80B\\xa9\\x8b\\xb3BN\\x08 \\x80\\x00\\x02\\x08 \\xd0\\t\\x01\\n\\xa5NL\\x03I \\x80\\x00\\x02\\x08 \\x80@\\x17\\x05(\\x94\\xba8+\\xe4\\x84\\x00\\x02\\x08 \\x80\\x00\\x02\\x9d\\x10\\xa0P\\xea\\xc44\\x90\\x04\\x02\\x08 \\x80\\x00\\x02\\x08tQ`\\xac\\x8bI\\x91\\x13\\x02\\x08 \\x90+\\xa0\\xbfz\\xefU\\xb1\\xf4W\\xebs\\x96\\x17/^\\x84\\xd1\\xd1\\xd1\\x9d\\x10\\xa9\\xf1\\xdcO\\xb1\\xaa\\xf9\\xe9u\\x89\\xc51}\\x1c\\xb7Mc\\xbb\\x9fZ\\xad\\x8a+\\x03\\xad)\\x8b\\xfb9nJ\\x0c\\xfa p\\x1c\\x02\\x14J\\xc7\\xa1\\xce1\\x11@\\xa0u\\x01\\xdf\\xdc]\\x80\\xe4\\xde\\xa0u\\xa3w\\xb1\\xa0\\xe4S\\xe3\\xb9\\x9fZ\\xaf9\\xf1\\xea\\x90\\x8eYb\\xdc\\x1e\\xb3b9\\xef\\xfa\\xf1\\x9a\\xbe/\\x15\\xa7\\xe9q\\xd9\\x1f\\x81T\\x01\\n\\xa5T9\\xfa!pB\\x05\\xb6\\xb7\\xb7\\xc3\\xc6\\xc6FP\\xab\\xa5\\xd4\\x8domm-<y\\xf2$\\xac\\xae\\xae\\x16\\x89\\xabxKKKa}}\\xbdH<\\x8dyyy9\\xc6s1\\x12\\x03\\'\\xfe\\xa3\\xb1~\\xf9\\xe5\\x97q\\xcc\\n\\xe1\\xc2&1\\xdcN7\\xe5\\xa9\\xb1\\xab\\xd5\\x92:?\\x9a_\\x15J\\xf2{\\xf5\\xd5WcL\\xbd\\xd7\\x9a\\xb2\\xb8\\xdf\\xcc\\xccL\\xb8p\\xe1BP\\xcb\\x82@\\x1f\\x04(\\x94\\xfa0K\\xe4\\x88@\\x87\\x04t\\x03~\\xf6\\xec\\xd9N\\x01\\x92\\x9b\\x9a\\x8b\\x8e\\xdb\\xb7o\\x87_\\xff\\xfa\\xd7\\xe1\\xce\\x9d;\\xbb\\x9e\\xb4\\xa4\\xc4WL\\x15I\\x8a\\xa5\\\\}\\x8c\\x94X\\xea\\xa3\\xfe*\\x92\\xee\\xdf\\xbf\\x1fVVVb\\x18mKY\\xdcO\\x8e\\x8a\\xe5\\x82&%\\xd6^}T\\x90lmm%\\x174\\x8e\\xe9B\\xe9\\x8d7\\xde\\x88\\x96js\\n%\\xe7\\xf4\\xe6\\x9bo\\x86\\x7f\\xf8\\x87\\x7f\\xa0P24m\\xe7\\x05(\\x94:?E$\\x88@\\xb7\\x04t\\x03\\xd5\\x13\\x8bRO~\\\\\\xc4<~\\xfc8\\xfc\\xf1\\x8f\\x7f\\x8c\\xab\\xb6\\xe5<aQ\\xff\\xea\\x13\\x1b\\x1f#UR\\xfdUx\\xdd\\xbau+\\x8e=5N\\x1f\\xfbi\\xae\\x17\\x17\\x17\\xe3|\\x97(\\x944\\xaf>w\\xfa\\xe8A\\xce\\'O\\x80B\\xe9\\xe4\\xcd9#F\\xa0\\x93\\x02.f\\xaamj\\xa2\\x8e\\xa1\\x9b\\xb2V\\xbf\\xcf\\x89\\xe7X\\xa91\\x8e\\xba\\x9f\\xc6\\x9c\\xb3\\xf8Ge\\x1ewn<\\xf7w\\x9b\\x93\\x1b}\\x118J\\x01\\n\\xa5\\xa3\\xd4\\xe6X\\x08\\x0c@@7:\\xaf\\x1aN\\xee\\x8d\\xcf\\xb1\\xd4\\xea\\xa6\\xac\\xff\\x1a\\xcc\\xafS\\xb9\\xd4_q\\xbc\\xfa\\x18\\xb9\\xf1\\xc6\\xc6\\xc6v\\xc6\\xae\\x98C^\\xfc\\xa37\\x17J\\xb2\\xccy\\xa2$+\\xf5W\\xbc\\xa1\\xdb\\r\\xf9\\xbc8\\x89c+\\xf3\\xdf\\xa3\\x9eD9\\xc6\\x8c\\x00\\x02\\x08 \\x80\\x00\\x02\\x83\\x17\\xa0P\\x1a\\xfc\\x143@\\x04\\x10@\\x00\\x01\\x04\\x10H\\x15\\xa0PJ\\x95\\xa3\\x1f\\x02\\x08 \\x80\\x00\\x02\\x08\\x0c^\\x80Bi\\xf0S\\xcc\\x00\\x11@\\x00\\x01\\x04\\x10@ U\\x80B)U\\x8e~\\x08 \\x80\\x00\\x02\\x08 0x\\x01\\n\\xa5\\xc1O1\\x03D\\x00\\x01\\x04\\x10@\\x00\\x81T\\x01\\n\\xa5T9\\xfa!\\x80\\x00\\x02\\x08 \\x80\\xc0\\xe0\\x05(\\x94\\x06?\\xc5\\x0c\\x10\\x01\\x04\\x10@\\x00\\x01\\x04R\\x05(\\x94R\\xe5\\xe8\\x87\\x00\\x02\\x08 \\x80\\x00\\x02\\x83\\x17\\xa0P\\x1a\\xfc\\x143@\\x04\\x10@\\x00\\x01\\x04\\x10H\\x15\\xa0PJ\\x95\\xa3\\x1f\\x02\\x08 \\x80\\x00\\x02\\x08\\x0c^\\x80Bi\\xf0S\\xcc\\x00\\x11@\\x00\\x01\\x04\\x10@ U\\x80B)U\\x8e~\\x08 \\x80\\x00\\x02\\x08 0x\\x81\\xb1\\xc1\\x8f\\x90\\x01\"\\x80@Q\\x81\\xea_\\x93W\\xe0\\xdc\\xbf\\x04\\xaf\\xfeZ\\xfdW\\xe5\\xfd>\\'\\xaec\\x14\\x1d\\xf8\\xd7\\xc1^\\xbcx\\x11\\xd7\\xd2q\\xdb\\x88\\x97\\xe3\\xb7W>\\xb9\\xf1\\xdc\\xdf\\xed^\\xc7`\\x1b\\x02]\\x14\\xa0P\\xea\\xe2\\xac\\x90\\x13\\x02\\x1d\\x16\\xd0\\x8d\\xceE\\x8d\\xd2\\xcc\\xbd\\xf1\\xa9\\x7f5\\xa6\\xdf\\xe7\\xc4\\xad\\xc6\\xa8\\xbeNe\\xcd\\xc9%\\xf5\\x98]\\xeag\\xc3\\x9c\\x9c\\xaa\\x86\\xd5\\xd791\\xe9\\x8b\\xc0Q\\x08P(\\x1d\\x852\\xc7@\\xa0\\x81\\xc0\\xd6\\xd6V\\xd8\\xd8\\xd8\\x08\\xdb\\xdb\\xdb\\rz\\xed\\xbf\\xeb\\xda\\xdaZx\\xfa\\xf4iP\\xab%\\xf7&\\xb5\\xb4\\xb4\\x14n\\xdd\\xba\\x15\\xd4\\x96\\xbc\\x81\\xde\\xbe};\\\\\\xbbv-\\xa8\\xd5\\xa2b,uQ^\\xca\\xef\\xf1\\xe3\\xc7E\\xf2T<\\xf9\\x8d\\x8e\\x8e\\x86\\xa9\\xa9\\xa9\\x98V\\xae\\xa3\\xedr\\xe3\\xd4\\x8dt\\xde\\xe8\\xfc\\xd1yTbY__\\x0f\\x8f\\x1e=\\n\\xe3\\xe3\\xe31\\x9c\\x9e\\xaa\\xa5,\\xcaG}\\x17\\x16\\x16\\xe2\\xf9\\xb8\\xb2\\xb2R\\xe4\\xe9\\x9c\\xce\\x13\\xe5\\xa6\\xb9aA\\xa0\\r\\x01\\n\\xa56T\\x89\\x89@\\x86\\x80nr\\xba\\xc1\\xaf\\xae\\xae\\xc6(\\xa97R\\xdf\\x88\\xef\\xdc\\xb9\\x13>\\xfe\\xf8\\xe3\\xa0\\xd6\\xdbR\\xd2s\\xdf\\xfb\\xf7\\xef\\x87\\xdf\\xff\\xfe\\xf7A\\xad\\x96\\x9c\\x82\\xc6y(\\xf6\\xf2\\xf2rx\\xf0\\xe0Al},\\x7f=\\xa5\\xdd\\xdc\\xdc\\x8c\\xc5\\x8dZ-\\x8a\\x99\\xb2\\xb80\\xd0\\x8dxbb\"\\x16J\\xa9\\xb1t\\xfcj\\xbc6n\\xf0*@t\\xfe\\xe4\\x8e\\xdbV\\x9a\\x97\\xabW\\xaf\\xc6\\xf3\\xc7\\xb9\\xfbkMZ\\x15J*\\xe2t\\xbe\\xdc\\xb8q#,..F\\x8b\\xd4o\\x08\\x9c\\x8b\\n\\xd7\\xb3g\\xcfR(5\\x99\\x0c\\xf6m$@\\xa1\\xd4\\x88\\x8b\\x9d\\x11h_@7\\x14\\x15I\\xbaAiI\\xbd)\\xbb\\xd8x\\xf8\\xf0a|Rs\\xfd\\xfa\\xf5\\x18+\\xb5\\xb0q<=\\xf1\\xf9\\xe8\\xa3\\x8f\\xe2\\x93\\x1fmK\\x8dW\\x97\\xd4\\xb8\\xfd\\xd4\\xa1\\xfe\\xb5.\\xbc\\x9f\\x9c\\x9c\\x0c\\xd3\\xd3\\xd3;O\\x94Rs\\xf2\\r~ll,\\x16^jK.\\x8a\\xaf\\xa2\\xce\\xc7\\xc9\\x89\\xad\\xf9\\xf5\\x13%=\\xa1\\xcbY\\\\(\\xa9\\x18\\xd6\\x13N\\x15t*\\x92r\\x0b%\\xe5\\xa4\\xd8,\\x08\\xb4%P\\xf6\\x13\\xdaV\\x96\\xc4E\\x00\\x81,\\x01\\x179nS\\x82\\xb9\\xafZ\\x15G\\xd5\\xf7)\\xf1\\xea}\\x14S7\\xcd\\x127\\xf8zl\\xde\\xe7\\tx\\xaes\\xa2Tc\\xe85\\x0b\\x02}\\x11\\xa0P\\xea\\xcbL\\x91\\xe7\\x89\\x11\\xf0\\r\\xc57\\x13\\xb7M\\x01\\x1cG\\x05\\x88V=e\\xd06\\xbdNY\\x1cOq\\xb4\\xeaIHN\\xbcz\\x0e~\\xe2\\xe0BI\\xb1s\\x16\\xc7q\\x9b\\x1a/\\xb7\\x7f\\xce\\x18r\\xfaz\\xbcn\\x9b\\xc6\\xaa\\x8e[1R\\xcf\\x1b\\x1f\\xd7\\xf1\\x14G\\xf1\\xaa\\xab\\xf7Ii\\x1d\\'\\xa5/}\\x108\\x8c@\\xda\\x15\\xf30\\x91\\xd9\\x07\\x01\\x04\\x10@\\x00\\x01\\x04\\x10\\xe8\\xb9\\x00\\x85R\\xcf\\'\\x90\\xf4\\x11@\\x00\\x01\\x04\\x10@\\xa0=\\x01\\n\\xa5\\xf6l\\x89\\x8c\\x00\\x02\\x08 \\x80\\x00\\x02=\\x17\\xa0P\\xea\\xf9\\x04\\x92>\\x02\\x08 \\x80\\x00\\x02\\x08\\xb4\\'@\\xa1\\xd4\\x9e-\\x91\\x11@\\x00\\x01\\x04\\x10@\\xa0\\xe7\\x02\\x14J=\\x9f@\\xd2G\\x00\\x01\\x04\\x10@\\x00\\x81\\xf6\\x04(\\x94\\xda\\xb3%2\\x02\\x08 \\x80\\x00\\x02\\x08\\xf4\\\\\\x80B\\xa9\\xe7\\x13H\\xfa\\x08 \\x80\\x00\\x02\\x08 \\xd0\\x9e\\x00\\x85R{\\xb6DF\\x00\\x01\\x04\\x10@\\x00\\x81\\x9e\\x0bP(\\xf5|\\x02I\\x1f\\x01\\x04\\x10@\\x00\\x01\\x04\\xda\\x13\\xa0Pj\\xcf\\x96\\xc8\\x08 \\x80\\x00\\x02\\x08 \\xd0s\\x01\\n\\xa5\\x9eO \\xe9#\\x80\\x00\\x02\\x08 \\x80@{\\x02\\x14J\\xed\\xd9\\x12\\x19\\x01\\x04\\x10@\\x00\\x01\\x04z.0\\xd6\\xf3\\xfcI\\x1f\\x81\\xc1\\t\\xe8\\xaf\\xab{\\xd5\\xe0\\xf4\\xd7\\xd1S\\x16\\xffU\\xf5R\\x7f\\xad\\xdd\\xf1R\\xf39\\xec\\x18\\xfcW\\xe6s\\x8f\\xe38>n\\xfd\\xbd\\xb7\\x1f\\xb6\\xdd\\xde\\xde\\x0e[[[q=l\\x9f\\xbd\\xf6s\\x1e\\x1a\\x9f\\xe2\\xe5\\x8e\\xb3~\\x0c\\xe5\\xe9c\\xd4\\xbf\\xc6{\\x04\\x10h.@\\xa1\\xd4\\xdc\\x8c\\x1e\\x08\\xb4*\\xa0\\x1bg\\x97\\x0b\\xa5V\\x07\\xdf\\xf1\\xe0*@T\\x88\\xe4,.b\\x14\\xc7kN\\xbcz\\xdf\\xdc\\xfc\\xea\\xf1x\\x8f\\xc0I\\x17\\xa0P:\\xe9g\\xc0\\t\\x1c\\xbfnT\\xfaN\\xde7\\xac\\xdc\\xef\\xe8WWW\\xc3\\xa3G\\x8f\\xc2\\xca\\xcaJ\\xd4\\xcc\\x8d\\xf7\\xec\\xd9\\xb3p\\xe3\\xc6\\x8d\\xa0VKj<\\xf5\\xd3z\\xfb\\xf6\\xedp\\xed\\xda\\xb5p\\xe7\\xce\\x9d\\x18OEX\\xca\\xe2x\\x0f\\x1e<\\x08\\x1a\\xb3n\\xc8\\xdaf\\xc7\\x94\\x98\\xd5>\\x8a\\xa7X\\x8a\\x99\\xb38\\x9f\\xd1\\xd1\\xd1066\\x16\\x8bN\\xc5K\\x8d\\xeb\\xc2caa!|\\xfb\\xdb\\xdf\\x0ej}\\x8c\\x94<\\xddW\\xf3\\xa0\\xfc\\x94g\\x89\\xc5\\xe3\\xbb{\\xf7n\\x9c\\x9f\\xe7\\xcf\\x9f\\xc7\\xb0\\xde\\x9ez\\x0c\\x8d\\x7fss3\\xb5\\xfbN?\\x7f\\xe6\\xd6\\xd7\\xd7\\x83W\\xc5\\xb6\\xef\\xce\\x8e\\x87|a\\xc7\\x89\\x89\\x89\\xe4\\x18\\x87<\\x14\\xbb\\x9dp\\x01\\n\\xa5\\x13~\\x02\\x9c\\xc4\\xe1\\xeb\\x82\\xad\\x0b\\xb5\\xda\\x9c\\xc5?\\xd2\\xbay\\xf3f\\xf8\\xc5/~\\x11\\x8b\\x1b\\xdd\\x94r\\x0b\\x91\\xfb\\xf7\\xef\\x87O>\\xf9$\\xa8\\xcd\\x89\\xe7\\xb1-//\\x07\\x157\\xbaq*^\\xee\\x8dscc#,--\\xed\\xdc<s\\xe39O\\xdd\\xf8|\\xf3\\xf3\\xb6\\x9cv||<\\xcc\\xcf\\xcf\\x87\\xc9\\xc9\\xc9\\x9c0;O}\\xde}\\xf7\\xdd\\xf0\\xd3\\x9f\\xfe4\\xa8U\\x9e\\xa97\\xf8j2\\xd51\\xe7:\\xea\\xbc\\xd3\\xfa\\x9b\\xdf\\xfc&\\xdc\\xbbw/\\xae\\xd5c\\xa5\\xbe\\xd68\\xf5M@nA\\xe7BI\\xe7\\xa3\\xd7\\xdcBI~\\xca\\xab\\xc4\\\\\\xa4\\xfa\\xd0o\\xf8\\x02\\x14J\\xc3\\x9fcFX\\x13\\xd0\\xc5U\\xdf!\\xfb\\xbb\\xe4\\xd4\\x1b\\x94\\x0b%=\\xf9\\xb9~\\xfdz\\xf8\\xec\\xb3\\xcfb\\x11\\x92zCQ\\x1eZ\\xf5\\xe4\\xe7\\xd7\\xbf\\xfeul\\xf5>\\xb5\\xf0\\xf2\\xb05N\\x157%o&\\xa9f\\xce\\xe9emnl\\xcd\\xaf\\x16\\xcd\\x83\\x8a\\xa4\\x99\\x99\\x99\\x97\\x1d\\xee\\xc0\\xaf\\xe9\\x06/\\xbb\\xc5\\xc5\\xc5\\xf0\\xfe\\xfb\\xef\\x87\\x0f?\\xfc0\\xbe\\xcf\\xf5T\\x7f\\xc5v\\xc1\\x9e;\\xcf\\x1a\\xafb\\xa8 \\xce\\x1ds\\x15Ey:\\xd7\\xea\\xf6\\xa6\\xaf\\xed\\xe5\\xa7Ij\\x1d\\xbbi,\\xed\\xef\"S\\xe7\\xb7c\\xa7\\xc4\\xa1\\x0f\\x02\\x07\\tP(\\x1d$\\xc4\\xd7\\x118@@7\\xf6\\xfaz@\\x97=\\xbf\\\\\\x8d\\xa1\\x1b\\x9eVm\\xcb\\xbd\\x81:\\xce\\x9e\\x07ec#\\x01\\xdd\\x9c}s\\xcf\\xbd9;\\x8e\\x0b\\xbb\\xdcx:W\\xb4\\xe4\\xc6i\\x04\\xc2\\xce\\x08\\x9c\\x00\\x01\\n\\xa5\\x130\\xc9\\x0cq\\xb7@\\xb5 \\xd1W|\\x83\\xd9\\xbd\\xd7\\xc1\\xef\\xaaqT\\x8c\\xe8;zm\\xcb}\\xa2\\xa4\\xfe^\\x15/\\xb7P\\xd2\\x8dX1|\\x03M\\x1d\\xef\\xc1\"\\xdd\\xd8\\xa3\\xad\\xf1\\xd5\\x8b${\\xa6\\x8eZ\\xfd\\xbd*Fn\\xde\\xee\\xef\\xc2+5\\xafz?\\xc7u[\\xffz\\xd3\\xf7\\x8aS_\\x9b\\xc6\\xa8\\xee\\xefX\\xd5m\\xbcF\\xa0\\xa4@\\xdaou\\x96\\xcc\\x80X\\x08 \\x80\\x00\\x02\\x08 \\x80@G\\x05(\\x94::1\\xa4\\x85\\x00\\x02\\x08 \\x80\\x00\\x02\\xc7/@\\xa1t\\xfcs@\\x06\\x08 \\x80\\x00\\x02\\x08 \\xd0Q\\x01\\n\\xa5\\x8eN\\x0ci!\\x80\\x00\\x02\\x08 \\x80\\xc0\\xf1\\x0bP(\\x1d\\xff\\x1c\\x90\\x01\\x02\\x08 \\x80\\x00\\x02\\x08tT\\x80B\\xa9\\xa3\\x13CZ\\x08 \\x80\\x00\\x02\\x08 p\\xfc\\x02\\x14J\\xc7?\\x07d\\x80\\x00\\x02\\x08 \\x80\\x00\\x02\\x1d\\x15\\xa0P\\xea\\xe8\\xc4\\x90\\x16\\x02\\x08 \\x80\\x00\\x02\\x08\\x1c\\xbf\\x00\\x85\\xd2\\xf1\\xcf\\x01\\x19 \\x80\\x00\\x02\\x08 \\x80@G\\x05(\\x94::1\\xa4\\x85\\x00\\x02\\x08 \\x80\\x00\\x02\\xc7/@\\xa1t\\xfcs@\\x06\\x08 \\x80\\x00\\x02\\x08 \\xd0Q\\x01\\n\\xa5\\x8eN\\x0ci!\\x80\\x00\\x02\\x08 \\x80\\xc0\\xf1\\x0bP(\\x1d\\xff\\x1c\\x90\\x01\\x02\\x08 \\x80\\x00\\x02\\x08tT\\x80B\\xa9\\xa3\\x13CZ\\x08 \\x80\\x00\\x02\\x08 p\\xfc\\x02\\x14J\\xc7?\\x07d\\x80\\x00\\x02\\x08 \\x80\\x00\\x02\\x1d\\x15\\x18\\xebh^\\xa4\\x85@\\xeb\\x02\\xa7N\\x9d\\x8a\\xc7p\\xdb\\xf4\\x80\\xea\\xb7\\xdf\\xda4\\x96\\xf6\\xaf\\xc6J\\xe9\\x7fP\\x9f\\x17/^\\xc4]R\\xc7{P\\xfc\\xdc\\xaf;\\xbfRq\\xb6\\xb7\\xb7\\xc3\\xd6\\xd6V\\\\sb*\\x86c\\xa9U\\x9e^s\\xe2:F\\xc9q;fN^\\xf4E\\x00\\x81\\xdd\\x02\\x14J\\xbb=xwB\\x04J\\x17\\x0b\\xd5\"\\'5\\xb6c\\x9c\\x90)8\\x92a\\xaapPq\\x93\\xb3\\xa8\\xbf\\x0b\\xa4\\x9c8\\xf4E\\x00\\x81~\\nP(\\xf5s\\xde\\xc8:C`cc#<~\\xfc8\\xac\\xac\\xac\\xc4(\\xa9\\x85\\xcd\\xc8\\xc8H|\\nt\\xf7\\xee\\xddp\\xf3\\xe6\\xcd\\xb8*\\xe0\\xe8\\xe8hRv.\\x94\\x1e>|\\x18s\\xd3\\x93\\x0cm\\xcb\\xbd\\xd1+\\x8e\\n\\x86\\xd4q&\\r\\xa6A\\'?Q\\x91\\xe7\\xf8\\xf8xP\\x9b\\xb3\\xf8\\xa9\\xca\\xb9s\\xe7\\xc2\\x95+W\\xc2\\xe2\\xe2b\\x1c\\x7fjL\\xfb\\xbd\\xfb\\xee\\xbbaaa!LNN\\xc6x%\\xe6emmm\\'\\xb7\\xdc\\xf9\\xf1\\xf9\\x93\\x1b\\'\\xd5\\x89~\\x08\\x0cU\\x80Bi\\xa83\\xcb\\xb8\\xf6\\x15x\\xfe\\xfcy\\xb8~\\xfdz\\xb8w\\xef^,\\x1eRo\\xcc.\\x94>\\xf9\\xe4\\x93\\xf0\\xd1G\\x1f\\x85O?\\xfd4+\\x9e\\x13V!\\xa7\\x1c\\xd7\\xd7\\xd7\\xe3\\xa6\\xdc\\x1b_\\x89\\xa7*\\xce\\xad\\xcdVE\\xd2\\xfc\\xfc|,Dr\\x8e\\xe3\\xc2FE\\xd2?\\xff\\xf3?\\x87\\xf7\\xde{/\\xab\\xb0q\\xe1\\xa5\"\\xe9\\x9dw\\xde\\tg\\xcf\\x9e\\xdd)nr\\xf2T\\xa1\\xae\\\\777s\\xc2\\xd0\\x17\\x01\\x04Z\\x16\\xa0Pj\\x19\\x98\\xf0\\xdd\\x13\\xf0\\x13\\xa5R\\x85\\x92\\x9f(\\xdd\\xb9s\\xa7\\xd8`s\\x8b\\xa3\\xbd\\x12i#\\xe6^\\xc7i\\xba\\xad\\xfaDIOk\\xa6\\xa7\\xa7\\x9b\\x86\\xd8\\xb5\\xbf\\x8a\\x0f=\\xed\\xd1\\x13%\\x15I?\\xf8\\xc1\\x0f\\xe2\\xfb\\xd4\\'@\\xceO\\xb9\\xcd\\xcd\\xcde\\x17rNV\\xf9\\xe8\\xe9\\xa3\\xe7\\xc5\\xad\\xbf\\xde\\xb4U\\x7f\\xafM\\xfb\\xb2?\\x02\\x08\\xec/@\\xa1\\xb4\\xbf\\r_\\x19\\xb0@\\xeeM\\xa9NS:^=>\\xef\\xd3\\x04\\xfc4MEIn\\xa1\\xe4\\x82)-\\x13z!\\x80@_\\x05(\\x94\\xfa:s\\xe4\\x9d,\\xe0\\xef\\xba\\xfd\\xa3\\xb3\\xdc\\x1f\\xbd\\xa9\\x7f5F\\xf5ur\\x92\\'\\xa8c[Ef\\xbdH\\xca-\\x94\\xd4\\x9fb\\xe9\\x04\\x9d\\x98\\x0c\\x15\\x81?\\x0b\\xe4\\xfd\\xd6$\\x8c\\x08 \\x80\\x00\\x02\\x08 \\x80\\xc0\\x80\\x05(\\x94\\x06<\\xb9\\x0c\\r\\x01\\x04\\x10@\\x00\\x01\\x04\\xf2\\x04(\\x94\\xf2\\xfc\\xe8\\x8d\\x00\\x02\\x08 \\x80\\x00\\x02\\x03\\x16\\xa0P\\x1a\\xf0\\xe424\\x04\\x10@\\x00\\x01\\x04\\x10\\xc8\\x13\\xa0P\\xca\\xf3\\xa37\\x02\\x08 \\x80\\x00\\x02\\x08\\x0cX\\x80Bi\\xc0\\x93\\xcb\\xd0\\x10@\\x00\\x01\\x04\\x10@ O\\x80B)\\xcf\\x8f\\xde\\x08 \\x80\\x00\\x02\\x08 0`\\x01\\n\\xa5\\x01O.CC\\x00\\x01\\x04\\x10@\\x00\\x81<\\x01\\n\\xa5<?z#\\x80\\x00\\x02\\x08 \\x80\\xc0\\x80\\x05(\\x94\\x06<\\xb9\\x0c\\r\\x01\\x04\\x10@\\x00\\x01\\x04\\xf2\\x04(\\x94\\xf2\\xfc\\xe8\\x8d\\x00\\x02\\x08 \\x80\\x00\\x02\\x03\\x16\\xa0P\\x1a\\xf0\\xe424\\x04\\x10@\\x00\\x01\\x04\\x10\\xc8\\x13\\xa0P\\xca\\xf3\\xa37\\x02\\x08 \\x80\\x00\\x02\\x08\\x0cX`l\\xc0cch\\x08\\xbcT@\\x7f\\xb5\\xde\\xebKw\\xdc\\xe7\\x8b9}\\xf7\\t\\xd9\\xca\\xe66\\xfe\\xe2}\\x1b1\\xb7\\xb7\\xb7\\xc3\\xd6\\xd6V\\\\s \\x14\\xc3\\xb1\\xd4*W\\xaf)q=\\xd6\\x9c\\x18)\\xc7\\xa5\\x0f\\x02\\x08tC\\x80B\\xa9\\x1b\\xf3@\\x16G,\\xe0\"\\xc7m\\xca\\xe1\\xddW\\xedIZ\\\\8\\x94\\x1e\\xb3\\x0b\\x11\\x1579\\x8b\\xfa\\xbb@\\xca\\x89C_\\x04\\x10@@\\x02\\x14J\\x9c\\x07\\x9d\\x15(}CvA\\xb3\\xbe\\xbe\\x1e\\x1e=z\\x14n\\xdf\\xbe\\x1dFFF\\xe2\\x9a\\x82\\xa0\\xbeZ\\x14kcc#%D\\xab}\\xec\\xa7<\\xc7\\xc6\\xc6\\x92\\xc7YOrtt4LNN\\x06\\xb5%\\x16\\x17Hg\\xcf\\x9e\\ro\\xbd\\xf5VP\\xeb\\xdcS\\xe2\\xeb\\x89\\x92\\xfa\\xbf\\xf7\\xde{aaa!\\xe6\\x9aS89\\x97\\x89\\x89\\x89b\\x86\\x1a\\x97\\xf2\\\\]]\\r\\xcf\\x9f?\\x8f\\xc3\\xf4\\xf9\\x942f\\xf5\\xf1\\xb9\\xac\\x98\\x8a\\xcd\\x82\\x00\\x02e\\x04(\\x94\\xca8\\x12\\xa5E\\x01\\xdf\\xa8\\\\\\xe8\\xe4\\x1ejyy9\\\\\\xbdz5\\xfc\\xeew\\xbf\\x8b?zK\\xbd\\xe1\\xfb\\x89\\xd2\\xad[\\xb7vnv\\xb9\\xb9\\xb5\\xd1_E\\xd2\\x993g\\x82n\\xf49\\x8b\\xe6A\\xeb\\xe9\\xd3\\xa7\\xc3\\xf9\\xf3\\xe7c\\xeb\\xb9\\xc9\\x89\\xeb\\x9b\\xfa\\x1bo\\xbc\\x11~\\xf8\\xc3\\x1f\\x06\\xb5ZR\\x9f,9O\\x15I\\xef\\xbc\\xf3N\\x98\\x9b\\x9b\\x8b\\xf1rsu\\xc1\\x19\\x83\\x15\\xf8G\\xc5\\xf5\\xe3\\xc7\\x8f\\xc3\\xc3\\x87\\x0fc\\xb4\\xdc\\xf3[\\xe7\\xb1rT\\xcc.\\x16\\xee\\x05\\xc8\\x08\\x81\\xc0\\xb1\\x08P(\\x1d\\x0b;\\x07=\\x8c\\x80oln\\x0f\\xd3\\xe7e\\xfb\\xf8FT\\x7f\\xa2\\x94S(\\xe9x}x\\xa2\\xa4\"ijj\\xeae<\\x07~\\xcd\\x05\\xc8\\xec\\xecl8w\\xee\\\\\\x98\\x9f\\x9fO.f\\xaa\\x07\\xf3\\x13 \\x15H\\x1f|\\xf0A\\xb8r\\xe5J,\\xc8r\\n%\\xc5\\xd7S/\\xe5\\xa8\\xb6\\x8b\\x0bO\\x94\\xba8+\\xe4\\x84\\xc07\\x05(\\x94\\xbei\\xc2\\x96\\x13 \\xe0\\xa7AnS\\x86\\xec\\xc2\\xcbmJ\\x8c>\\xf6q\\xe1\\xea\\xb6\\xd4\\x18\\\\\\x88\\xf9\\xc7d\\xb9\\x85R\\xe9\\xfcJ\\x8d\\x938\\x08 \\xd0/\\x01\\n\\xa5~\\xcd\\xd7\\x89\\xca\\xb6^\\x80\\xd4\\xdf\\xa7b(\\x8eV\\xffN\\x87\\xda\\x94\\xc5\\xf98^J\\x8c6\\xfb8\\xbf6\\x8e\\xe1\\xa2\\xa6D1R\\x8d\\xa5\\xe2\\xa8T\\xa1\\xe48m\\x8c\\xbfDL\\x9f7\\x9e\\'\\xb7\\xa9\\xb1\\xab\\xf1rc\\xa5\\xe6@?\\x04\\x86(\\x90v\\x87\\x18\\xa2\\x04cB\\x00\\x01\\x04\\x10@\\x00\\x01\\x04j\\x02\\x14J5\\x10\\xde\"\\x80\\x00\\x02\\x08 \\x80\\x00\\x02\\x16\\xa0P\\xb2\\x04-\\x02\\x08 \\x80\\x00\\x02\\x08 P\\x13\\xa0P\\xaa\\x81\\xf0\\x16\\x01\\x04\\x10@\\x00\\x01\\x04\\x10\\xb0\\x00\\x85\\x92%h\\x11@\\x00\\x01\\x04\\x10@\\x00\\x81\\x9a\\x00\\x85R\\r\\x84\\xb7\\x08 \\x80\\x00\\x02\\x08 \\x80\\x80\\x05(\\x94,A\\x8b\\x00\\x02\\x08 \\x80\\x00\\x02\\x08\\xd4\\x04(\\x94j \\xbcE\\x00\\x01\\x04\\x10@\\x00\\x01\\x04,@\\xa1d\\tZ\\x04\\x10@\\x00\\x01\\x04\\x10@\\xa0&@\\xa1T\\x03\\xe1-\\x02\\x08 \\x80\\x00\\x02\\x08 `\\x01\\n%K\\xd0\"\\x80\\x00\\x02\\x08 \\x80\\x00\\x025\\x01\\n\\xa5\\x1a\\x08o\\x11@\\x00\\x01\\x04\\x10@\\x00\\x01\\x0bP(Y\\x82\\x16\\x01\\x04\\x10@\\x00\\x01\\x04\\x10\\xa8\\t\\x8c\\xd5\\xde\\xf3\\x16\\x81\\xce\\x08\\xf8/\\xd3\\xbb\\xcdM\\xcc\\x7fQ]\\xf1\\xf4\\x97\\xe5\\xb7\\xb6\\xb6BNl\\xc7S\\x1c\\xc5\\xf3R}\\xedm\\xc7\\xd9*?\\xaf9y\\xc8J\\xabc\\xa9\\xcd\\xf1s.\\x8e#7\\x1f\\xc3\\xad\\xf7i\\xd2:\\xa7\\x9c\\x18M\\x8e\\xc7\\xbe\\x08 0l\\x01\\n\\xa5a\\xcf/\\xa3\\xdbG\\xc07Q\\xb7\\xfb\\xecv\\xa8\\xcd\\x8a\\xd1\\xb5\\xe2\\xa8\\x9a\\xb8r\\xf3Z\\xdd\\xde\\xf4\\xb5\\xad\\x1c\\xcb\\xef\\x9b\\xc6\\xa9\\xef\\xef8\\x8a\\xab\\xd7,\\x08 \\x80@\\x97\\x04(\\x94\\xba4\\x1b\\xe4\\xb2K\\xc0Ol\\xbc\\xb1\\xfe\\xde\\xdb\\x9b\\xb6333\\xe1\\xf2\\xe5\\xcbamm-(\\xe6\\xe8\\xe8h\\xd3\\x10q\\x7f\\xe7s\\xef\\xde\\xbdx\\x83W\\xabm##i?\\xd1v\\x910>>\\x1e\\xa6\\xa6\\xa6\\x82Z-\\xde\\x1e\\xdf4\\xf8\\xc7\\xfd\\xa6\\xa7\\xa7\\xc3+\\xaf\\xbc\\x12c6\\xe8\\xfe\\x8d]\\x15O\\xeb\\xec\\xecl\\xb8x\\xf1b8s\\xe6Lrn\\xd5\\xe0z\\xa2\\xa4\\xe5\\xd2\\xa5K1\\xcf\\xc9\\xc9\\xc9\\xf8^\\x85S\\xca\\xe2q+N\\xea\\\\\\xa4\\x1c\\xb7i\\x1f\\x8docc#\\xac\\xaf\\xaf\\xc7\\xae\\xb9\\xb9\\xaa\\xbfV\\xc5L\\xb5k:\\x06\\xf6G\\xe0$\\x08P(\\x9d\\x84Y\\xee\\xf9\\x18]\\x90\\x94\\x1a\\xc6\\xb9s\\xe7\\xc2\\x8f\\x7f\\xfc\\xe3\\xf0\\xbd\\xef}/\\x166\\xa9\\xf1\\xd5O\\xeb\\xad[\\xb7\\xc2\\x1bo\\xbc\\x11[\\xe5\\x98z\\xc3\\xf3\\r^\\x05\\xc8\\xb7\\xbe\\xf5\\xadX\\x88\\xe4\\x8c\\xd9\\xf1Tt-,,\\x04\\x15L9K5\\xde\\xd9\\xb3g\\x83\\x0b\\x9a\\x9c\\x98\\xea\\xab\\xb8ZU\\xc0\\xaa\\xa0S\\xebc\\xe5\\xc4\\xd6\\xdc\\xb8\\xd8\\xcc\\x89\\xd3V_\\x153\\xab\\xab\\xabaii)\\xab\\xc0v~:\\xef4f\\xc5\\xa4P\\xb2\\n-\\x02\\xf9\\x02\\x14J\\xf9\\x86DhI@\\x17\\xfd6\\x16?Qz\\xed\\xb5\\xd7b\\xf8\\xd4\\xe3\\xa8\\x9f\\xd6\\xb9\\xb9\\xb9\\xf0\\xec\\xd9\\xb3X8\\xe8}j\\xa1\\xe4\\x9b\\x9b\\n\\xb9+W\\xae\\xc4\\xe2F\\t\\xa6\\x16\\r\\xee\\xa7\\x02\\xa9d\\xa1411\\x11\\x9f*\\xa5>\\x89kcN\\xfb\\x18S\\xf3\\xed\\'J9\\xe7\\x8d\\xc7\\xeeB\\x89\\'J\\x16\\xa1E\\xa0\\x8c\\x00\\x85R\\x19G\\xa2\\xf4L@E\\x84\\x0b\\x89\\xdc\\xd4\\x15G7=\\xc7s\\xdb4\\xae\\xfb9\\x9e\\x0b\\'oO\\x8d\\xa78^\\x9b\\xc6\\xa8\\xee\\xef<\\x1c\\xab\\x8dBI\\xc7P\\xd1\\xc0\\x82\\x00\\x02\\x08tE\\x80B\\xa9+3A\\x1eG*\\xe0bD\\x07M\\xbd1\\xab\\x9fV\\x15\\x0e\\x8a\\xe7B\\xc2m\\xd3\\x01\\xb9\\x9f\\x0b\\x11\\xb5Z\\xbc\\xbdT\\xbc\\xa6q\\xbc\\xbf\\xf3p~~\\xef\\xaf\\xa7\\xb6\\x8e\\x93:\\x0f\\xa9\\xc7=\\xee~>\\x7f\\xaamNN\\xd58\\'\\xcd2\\xc7\\x8d\\xbe\\x08\\x1c$\\x90\\xf6[\\xa7\\x07E\\xe5\\xeb\\x08 \\x80\\x00\\x02\\x08 \\x80\\xc0\\x00\\x04(\\x94\\x060\\x89\\x0c\\x01\\x01\\x04\\x10@\\x00\\x01\\x04\\xda\\x11\\xa0Pj\\xc7\\x95\\xa8\\x08 \\x80\\x00\\x02\\x08 0\\x00\\x01\\n\\xa5\\x01L\"C@\\x00\\x01\\x04\\x10@\\x00\\x81v\\x04(\\x94\\xdaq%*\\x02\\x08 \\x80\\x00\\x02\\x08\\x0c@\\x80Bi\\x00\\x93\\xc8\\x10\\x10@\\x00\\x01\\x04\\x10@\\xa0\\x1d\\x01\\n\\xa5v\\\\\\x89\\x8a\\x00\\x02\\x08 \\x80\\x00\\x02\\x03\\x10\\xa0P\\x1a\\xc0$2\\x04\\x04\\x10@\\x00\\x01\\x04\\x10hG\\x80B\\xa9\\x1dW\\xa2\"\\x80\\x00\\x02\\x08 \\x80\\xc0\\x00\\x04(\\x94\\x060\\x89\\x0c\\x01\\x01\\x04\\x10@\\x00\\x01\\x04\\xda\\x11\\xa0Pj\\xc7\\x95\\xa8\\x08 \\x80\\x00\\x02\\x08 0\\x00\\x01\\n\\xa5\\x01L\"C@\\x00\\x01\\x04\\x10@\\x00\\x81v\\x04(\\x94\\xdaq%*\\x02\\x08 \\x80\\x00\\x02\\x08\\x0c@`l\\x00c`\\x08\\x084\\x12\\xd0_\\xab\\xf7\\xda\\xa8\\xe3>;+\\xd6\\xf6\\xf6v\\\\s\\xfej\\xbbbhq,\\xc5\\xd5\\xe26\\xbei\\xf0\\x8f\\xfb\\xa9\\xf5\\xda\\xa0\\xfb7v-\\x1d\\xcf\\x07p\\\\\\xbf\\xcf1t\\x0cZ\\x04\\x10@\\xa0\\x94\\x00\\x85R)I\\xe2\\x9cX\\x01\\x17!*pt\\x93O\\xbd\\xd1\\xbbPr\\xe1Po\\x9b\\x02\\xe7\\xf6oz<\\xf6o.\\xe0\\xf3\\xc5m\\xf3\\x08\\x7f\\xe9\\xe1\\x18\\xa9\\xe7\\xdf_\"\\xf1\\n\\x01\\x04\\xaa\\x02\\x14JU\\r^\\x9f\\x08\\x81\\x91\\x91\\x91011\\xb13\\xd6\\xd4\\x1b\\x8boLsss\\xe1[\\xdf\\xfaV\\x98\\x9c\\x9c\\xcc*\\x94\\\\\\xd8(\\xde\\xe2\\xe2b8s\\xe6\\xccN\\x8e)/\\x1cOyMMM\\xed\\x1asJ<\\xf7\\x19\\x1b\\x1b\\x0b2Lus\\x9cz[:^=~\\xee{{\\xe6\\xc6\\xf18777\\xc3\\xd2\\xd2Rx\\xf2\\xe4I\\xb4\\x94i\\xce\\xe29QL\\xc5fA\\x00\\x812\\x02\\x14Je\\x1c\\x89\\xd2#\\x01\\xdd\\xe8gff\\xc2\\xf4\\xf4t\\x91\\xacUt\\xa9\\xb8Y__\\x8f\\xf1|#l\\x1a\\xdc7b\\xe5\\xa7\\xdc\\xc6\\xc7\\xc7c\\x08oo\\x1a\\xcf\\xfb\\xeb\\x06\\xaaX\\xb97b\\xe7\\xa18\\xa3\\xa3\\xa3\\x0e\\x9f\\xdd\\xa6ze\\x1f81\\x80\\x1dr\\xf3^[[\\x0bw\\xee\\xdc\\t\\xd7\\xaf_\\x8f\\x85R\\xae\\xa9\\xf2\\xd1z\\xf7\\xee\\xdd\\xa0\\xd8,\\x08 PF\\x80B\\xa9\\x8c#Qz$\\xa0\\x1b}\\xf5\\x89Rn\\xeazb\\x93\\xfb\\xf4\\'7\\x07\\xfa\\xb7/\\xe0\\x02\\xc9m\\xea\\x11]`\\xd5\\x9f(\\x95*\\x94x\\xa2\\x94:3\\xf4C`o\\x01\\n\\xa5\\xbd]\\xd8\\x8a\\x00\\x02\\x08\\xb4.\\xe0\\xa7@ns\\x0e\\xe8\\x18.\\xc4rb\\xd1\\x17\\x01\\x04\\xfe\"@\\xa1\\xf4\\x17\\x0b^!\\x80\\x00\\x02\\xfb\\n\\xd4\\x0b\\x90\\xfa\\xfb};\\xee\\xf3\\x85ja\\xe3\\xd7\\xfb\\xecz\\xa8\\xcd\\x8e\\xe1\\xf6P\\x9d\\xd8\\t\\x01\\x04\\x0e\\x14\\xc8\\xfb\\xed\\xc1\\x03\\xc3\\xb3\\x03\\x02\\x08 \\x80\\x00\\x02\\x08 \\xd0_\\x01\\n\\xa5\\xfe\\xce\\x1d\\x99#\\x80\\x00\\x02\\x08 \\x80@\\xcb\\x02\\x14J-\\x03\\x13\\x1e\\x01\\x04\\x10@\\x00\\x01\\x04\\xfa+@\\xa1\\xd4\\xdf\\xb9#s\\x04\\x10@\\x00\\x01\\x04\\x10hY\\x80B\\xa9e`\\xc2#\\x80\\x00\\x02\\x08 \\x80@\\x7f\\x05(\\x94\\xfa;wd\\x8e\\x00\\x02\\x08 \\x80\\x00\\x02-\\x0bP(\\xb5\\x0cLx\\x04\\x10@\\x00\\x01\\x04\\x10\\xe8\\xaf\\x00\\x85R\\x7f\\xe7\\x8e\\xcc\\x11@\\x00\\x01\\x04\\x10@\\xa0e\\x01\\n\\xa5\\x96\\x81\\t\\x8f\\x00\\x02\\x08 \\x80\\x00\\x02\\xfd\\x15\\xa0P\\xea\\xef\\xdc\\x919\\x02\\x08 \\x80\\x00\\x02\\x08\\xb4,@\\xa1\\xd420\\xe1\\x11@\\x00\\x01\\x04\\x10@\\xa0\\xbf\\x02\\x14J\\xfd\\x9d;2G\\x00\\x01\\x04\\x10@\\x00\\x81\\x96\\x05(\\x94Z\\x06&<\\x02\\x08 \\x80\\x00\\x02\\x08\\xf4W\\x80B\\xa9\\xbfsG\\xe6\\x08 \\x80\\x00\\x02\\x08 \\xd0\\xb2\\x00\\x85R\\xcb\\xc0\\x84G\\x00\\x01\\x04\\x10@\\x00\\x81\\xfe\\n\\x8c\\xf57u2G\\x00\\x01\\x04\\x8eN\\xe0\\xd4\\xa9S\\xbb\\x0eV\\x7f\\xbf\\xeb\\x8b\\x87x\\x93\\xdb\\xff\\x10\\x87(\\xb2\\xcb\\x8b\\x17/\\x8a\\xc4q\\x10\\xc5\\xab\\xaf\\xfeZ\\x93\\xb6D\\x8c&\\xc7c\\xdf\\x93+@\\xa1tr\\xe7\\x9e\\x91#\\x80@\\x82@\\xa9\\x02Gq\\x1c\\xab\\xfa:!\\xa5\\xd8\\xa5D\\x8c\\xfd\\x8e]\\xb2X\\xaa\\x178\\xa9\\xb1\\xabq\\xf6\\xcb\\x9b\\xed\\x08\\x94\\x10\\xa0P*\\xa1H\\x0c\\x04N\\x90\\xc0\\xda\\xdaZx\\xfa\\xf4iP\\xab\\xc57\\xfb\\\\\\x82\\xae\\xdf\\xf8\\xea7\\xf4\\xd4q\\xbb\\xdf\\x8d\\x1b7\\xc2\\xe3\\xc7\\x8f\\xc3\\xf3\\xe7\\xcf\\xa3\\xe1\\xe8\\xe8h\\x16\\xa1\\x0b\\xa5\\x95\\x95\\x95\\xb0\\xb5\\xb5\\x95\\x15\\xcb\\x9d5\\xe6\\xf1\\xf1\\xf1099\\x19[oOi\\x95\\x93\\xe2\\xcd\\xcf\\xcf\\x87\\xb3g\\xcf\\xc6v{{;hMY<\\x1f\\xb3\\xb3\\xb3al\\x8c[Y\\x8a!}\\x0e\\'\\xc0\\xd9u8\\'\\xf6B\\x00\\x81?\\x0b\\xa8H\\xfa\\xedo\\x7f\\x1b\\xee\\xde\\xbd\\x1bo\\xf0\\xbe\\xf1\\xe7\\x02\\xe9\\x86\\xb9\\xb9\\xb9\\xb9s\\xe3\\xcc\\x8d\\xeb\\x1b\\xa9\\xdb\\xd4x\\xb9\\xfd\\xeb.\\xce\\xe3\\xd6\\xad[\\xe1\\xda\\xb5k\\xe1\\xde\\xbd{q\\x97\\x91\\x91\\xfc_\\x19Ul\\x15_\\x1b\\x1b\\x1b\\xf5\\xc3&\\xbfW\\x91t\\xf1\\xe2\\xc5\\xa0\\x82\\xc4\\x16)\\xc1\\\\(]\\xbe|9\\xbc\\xf9\\xe6\\x9bqU\\xbc\\x9cBI\\xfd]\\xc8\\xa5\\xe4D\\x1f\\x04\\x0e#@\\xa1t\\x18%\\xf6A\\x00\\x81\\x1d\\x01=IR\\x91\\xf4\\xc5\\x17_\\xc4B\\xa9\\xc4\\r^\\xc1u#\\xd5\\r\\xdeOC\\\\P\\xec\\x1c\\xb8\\xe1\\x0b\\xdf\\xd4\\xdd\\xa6\\xc6\\xab\\xf7O\\x8d\\xe3\\xf4\\xdd_\\x05\\x92\\x9f(\\xe9\\x18%\\x1c\\x15\\xbb\\xfaD\\xc9\\xc7\\xf2\\xb1SZ=\\xadQ\\x91\\xa4\\xa7@\\xb6H\\x89\\xa3yUQ\\xe4\\'Jsss1LN\\xa1\\xa4\\x00\\x1ac\\x89q\\xa6\\x8c\\x89>\\'C\\x80B\\xe9d\\xcc3\\xa3D\\xa0\\xb8\\x80oP\\xa5nR\\xf5x\\xa5\\xe2z\\xe0\\xb9\\xf1\\xdc\\xdf\\xad\\xe36m\\xdd_\\xed^\\xaf\\x9b\\xc6\\xab\\xee\\xefx\\xd5m%^\\xab@\\xf2\\x9a\\x1a\\xcf\\xfd\\xdd*N\\xf5u\\xd3\\xb8\\xea\\xeb\\xa5\\xadq;>\\xed\\xc9\\x16\\xa0P:\\xd9\\xf3\\xcf\\xe8\\x11h,\\xa0\\x9b\\x92\\x9e~h\\xf5\\xeb\\xc6A\\xf6\\xe8\\xa0\\x1b\\x9fb\\xfa\\x06\\x98{\\xf3s\\x1c\\xb7\\xa9\\xf1\\xea\\xfdS\\xe3x\\xc8\\xeeo?\\xbfw\\xeb\\xfdRZ\\xc5\\xf0\\x9a\\xd2\\x9f>\\x08 \\xf0M\\x81\\xfc\\x1f\\x8a\\x7f3&[\\x10@\\x00\\x01\\x04\\x10@\\x00\\x81A\\x08P(\\rb\\x1a\\x19\\x04\\x02\\x08 \\x80\\x00\\x02\\x08\\xb4!@\\xa1\\xd4\\x86*1\\x11@\\x00\\x01\\x04\\x10@`\\x10\\x02\\x14J\\x83\\x98F\\x06\\x81\\x00\\x02\\x08 \\x80\\x00\\x02m\\x08P(\\xb5\\xa1JL\\x04\\x10@\\x00\\x01\\x04\\x10\\x18\\x84\\x00\\x85\\xd2 \\xa6\\x91A \\x80\\x00\\x02\\x08 \\x80@\\x1b\\x02\\x14Jm\\xa8\\x12\\x13\\x01\\x04\\x10@\\x00\\x01\\x04\\x06!@\\xa14\\x88id\\x10\\x08 \\x80\\x00\\x02\\x08 \\xd0\\x86\\x00\\x85R\\x1b\\xaa\\xc4D\\x00\\x01\\x04\\x10@\\x00\\x81A\\x08P(\\rb\\x1a\\x19\\x04\\x02\\x08 \\x80\\x00\\x02\\x08\\xb4!@\\xa1\\xd4\\x86*1\\x11@\\x00\\x01\\x04\\x10@`\\x10\\x02\\x14J\\x83\\x98F\\x06\\x81\\x00\\x02\\x08 \\x80\\x00\\x02m\\x08P(\\xb5\\xa1JL\\x04\\x10@\\x00\\x01\\x04\\x10\\x18\\x84\\xc0\\xd8 F\\xc1 \\x10@\\xe0\\xc8\\x04\\xf4W\\xef\\xbd\\xea/\\xd5\\xebu\\x89\\xe5\\xc5\\x8b\\x17\\xbb\\xfe\\xf2\\xbdb\\x97\\\\r\\xe3\\xb9\\xbf\\xdb\\xd4\\xdc\\xdc_\\xad_\\xa7\\xc6\\xda\\xaf\\x9f,\\xb5\\xb8\\xddo\\xbf\\x97mw_\\xb5\\xdb\\xdb\\xdbakk++\\x9e\\xfa+\\x8e\\xd6jl\\xbf~Y.{}\\xad\\xdaO\\xaf\\xdb\\xb2\\xdc\\xeb\\xd8l;Y\\x02\\x14J\\'k\\xbe\\x19-\\x02\\xd9\\x02\\xbe\\xc1W\\xdb\\xec\\xa0_\\x07P<\\x15]\\xbe\\x01\\xe6\\xde\\xf8\\x1c\\xc7mj\\xbcz\\xff\\xd486r\\xff\\xfdZ\\xef\\x97\\xd2:fJ\\xdf\\xfd\\xfah\\xfc\\xd5u\\xbf\\xfd\\x0e\\xda^\"\\xc6A\\xc7\\xe0\\xeb\\x08\\xb4!@\\xa1\\xd4\\x86*1O\\x94@\\xe9\\x1b\\x80\\xbe\\xf3\\xde\\xd8\\xd8\\x88\\xdf\\xc1\\x0b2\\xf7\\xe6\\xb7\\xba\\xba\\x1a\\x9e<y\\x12\\xd4\\xe6,\\xce\\xe3\\xe6\\xcd\\x9b\\xe1\\x93O>\\t7n\\xdc\\xd8)nr\\xe2\\xba\\xaf\\x9e4lnn\\xc6\\'\\x0e\\xda\\xe6\\xe3\\xf9\\xebM[\\xcd\\x8b\\x16\\xb7\\xa9\\xf1\\xea\\xfdS\\xe3\\xd4\\xf3\\x7f\\xfc\\xf8qx\\xf0\\xe0Ax\\xfa\\xf4i\\xfcR\\xa9\\'s\\x9ag\\xc5\\x9a\\x98\\x98\\x88\\x86\\xa9\\xf9\\xfa\\xc9\\xcf\\xfc\\xfc|x\\xfb\\xed\\xb7\\xc3\\xc5\\x8b\\x17w,\\xebc9\\xcc{?\\x91z\\xeb\\xad\\xb7\\xc2\\xcc\\xccL\\xec\\xa2\\xdcR\\xf3\\xf31K\\xc4p,Z\\x04\\xf6\\x12\\xa0P\\xdaK\\x85m\\x084\\x10(y\\x83\\xd7E\\x7fee%<z\\xf4(\\xb697\\x11\\xdf@n\\xdd\\xba\\x15~\\xf5\\xab_\\x05\\xb5\\xda\\x96{C\\xbe\\x7f\\xff~\\xf8\\xedo\\x7f\\x1b\\xee\\xdd\\xbb\\x17\\x95r\\xe3\\x99\\xbat\\xc1\\xe9\\x02\\xc7m\\xaae\\xbd\\x7fj\\x1c\\x8f\\xd3\\xfd\\xd7\\xd7\\xd7\\xc3\\xf2\\xf2rP\\xab\\xc5\\xdb\\xbd_\\xd3Vy*\\x86\\xd6\\xf1\\xf1\\xf1\\xa0\\x02\\'g\\xd1y\\xad\\xf5\\xf2\\xe5\\xcb\\xe1\\x9f\\xfe\\xe9\\x9f\\xc2w\\xbf\\xfb\\xdd\\x9d\\x1f\\x9d\\xa5\\xc4U~Z\\xcf\\x9d;\\x17\\xce\\x9f?\\xbf\\x13\\xa2\\xd4\\xf9\\xb3\\x13\\x90\\x17\\x08\\x14\\x16\\xa0P*\\x0cJ\\xb8\\x93\\'\\xa0\\x8b\\xbfn(\\xfa\\x8eYK\\xce\\rO}u\\xe3\\\\ZZ\\x8a\\xabo|)\\xaa\\xee{\\xf7\\xee\\xdd\\xf0\\xe9\\xa7\\x9f\\x86\\xff\\xfb\\xbf\\xff\\x8b\\xb9\\xa5\\xde\\x98<\\xae\\x87\\x0f\\x1f\\xc6xzJ\\xc5\\xd2=\\x01=I\\x9a\\x9c\\x9c\\x8ckNv\\xfe\\x9d\"?Q\\xfa\\xe0\\x83\\x0f\\xb2\\x0b%\\xe5355\\xb5\\xeb\\x89RN\\x8e\\xf4E\\xe0(\\x04(\\x94\\x8eB\\x99c \\xd0P\\xc0E\\x8e\\xdb\\x86\\xdd\\xe3\\xee\\xd5\\xbez\\xad\\x02\\xc9mj<\\xf5\\xab\\xc6M\\x89C\\x9f~\\t\\xf8IP\\xb5M\\x19\\x81\\xfakq\\x9b\\x12\\x83>\\x08\\x1c\\x87\\x00\\x85\\xd2q\\xa8s\\xccA\\t\\xb8pP\\xab\\xc5m\\xca \\xab\\xb1\\xaa\\xafsb\\xa9@\\x1a\\x1d\\x1d\\x8d\\xabb\\xe6>Qr,\\xe7\\x94\\x1a\\xcf\\xfd\\xdbj}Cv\\x9b:/\\xf5\\xfe\\xa9q\\xea\\xe3t\\\\\\xb7\\xb9qK\\xc5\\xa9\\xe7\\xa9\\xf7\\x8a\\xed\\x1f\\xc5\\xa9MY\\x9c\\x9f\\xdb\\x94\\x18\\xf4A\\xe08\\x04\\xca\\xfcw\\xbd\\xc7\\x919\\xc7D\\x00\\x01\\x04\\x10@\\x00\\x01\\x04Z\\x16\\xa0Pj\\x19\\x98\\xf0\\x08 \\x80\\x00\\x02\\x08 \\xd0_\\x01\\n\\xa5\\xfe\\xce\\x1d\\x99#\\x80\\x00\\x02\\x08 \\x80@\\xcb\\x02\\x14J-\\x03\\x13\\x1e\\x01\\x04\\x10@\\x00\\x01\\x04\\xfa+@\\xa1\\xd4\\xdf\\xb9#s\\x04\\x10@\\x00\\x01\\x04\\x10hY\\x80B\\xa9e`\\xc2#\\x80\\x00\\x02\\x08 \\x80@\\x7f\\x05(\\x94\\xfa;wd\\x8e\\x00\\x02\\x08 \\x80\\x00\\x02-\\x0bP(\\xb5\\x0cLx\\x04\\x10@\\x00\\x01\\x04\\x10\\xe8\\xaf\\x00\\x85R\\x7f\\xe7\\x8e\\xcc\\x11@\\x00\\x01\\x04\\x10@\\xa0e\\x01\\n\\xa5\\x96\\x81\\t\\x8f\\x00\\x02\\x08 \\x80\\x00\\x02\\xfd\\x15\\xa0P\\xea\\xef\\xdc\\x919\\x02\\x08 \\x80\\x00\\x02\\x08\\xb4,@\\xa1\\xd420\\xe1\\x11@\\x00\\x01\\x04\\x10@\\xa0\\xbf\\x02\\x14J\\xfd\\x9d;2G\\x00\\x01\\x04\\x10@\\x00\\x81\\x96\\x05\\xc6Z\\x8eOx\\x04\\x06/\\xa0\\xbf\\xfa>2\\xf2\\x97\\xef9r\\xfe\\n\\xbc\\xfa\\x8e\\x8e\\x8e\\xc6x\\x8a\\xa9\\xf7\\xa9\\xf1\\xdc\\xd7qJND\\xf5/\\xc0W_\\xe7\\x1e\\xa3d\\xacz.\\xb9\\xb1\\xdd?u>\\x0e\\xca\\xc7\\xf1\\xeb\\xfbu\\xe5\\xbd\\xcf\\xa7R\\xe3\\xef\\xca\\xb8\\xc8\\x03\\x81\\x83\\x04(\\x94\\x0e\\x12\\xe2\\xeb\\x08\\x1c \\xa0\\x1bG\\xc9B\\xc9\\xf1\\\\\\xe0\\xa4\\xde\\x98\\xd4o\\xbf\\xf5\\x80!\\xed\\xf9e\\xe7\\xe1v\\xcf\\x9d\\xd88H\\x81\\x92s^2\\xd6 \\xb1\\x19T\\xe7\\x04(\\x94:7%$d\\x01}\\x87\\xdd\\xc6w\\xd9[[[a}}=\\xa8\\xcdY|\\xc1\\x7f\\xf6\\xecY\\xb8u\\xebVP\\xab\\xc5\\xdbSb\\xab\\xef\\xf3\\xe7\\xcf\\xc3\\x83\\x07\\x0fb\\x9b\\x13O\\xb1\\xb4*\\xb7\\x9b7o\\x86\\xc7\\x8f\\x1f\\xef\\x14N\\xa9\\xb9\\xa9\\xdf\\xd2\\xd2R\\x8c311\\x11\\xc3T\\x8b\\xc4\\x94\\xb8\\x9e\\xe3\\xb1\\xb1\\xb1099\\x19\\xd4z[J<\\xfbk\\x8eWVV\\xc2\\xc6\\xc6F\\x0c\\xe3\\xed)1\\xddg{{{\\'\\xb7\\xdcx\\xee\\xef\\xb1\\xfa\\xbd\\x8f\\xd5\\xb4u\\x1c\\xf5\\xd3k\\xe5\\x9a\\xb3(\\x86V9\\xea\\xdc\\xb9{\\xf7nV\\\\\\xc7\\x9b\\x9b\\x9b\\x0b333q\\xaes\\xf2\\xab\\xf6\\x95]\\xae_5\\x1e\\xaf\\x11\\xa8\\nP(U5x\\xdd)\\x01_\\xec}\\xc1/q!T\\x0c\\xdd<\\xef\\xdf\\xbf\\x1f\\x96\\x97\\x97\\xb3\\x0b\\x07\\x15\\t\\x9f\\x7f\\xfey\\xf8\\x97\\x7f\\xf9\\x97p\\xf5\\xea\\xd5\\x18O?:\\xcbYVWW\\xe3\\x8dIm\\xce\\r@~ZT(\\xa8\\x88\\xd3\\rOK\\xaa\\xa3\\xe3\\xa9\\xd5\\x18u\\xc3+\\xb5(\\xe6\\xe9\\xd3\\xa7\\xc3\\x85\\x0b\\x17b[\"\\xee\\xd3\\xa7O\\xc3\\x8d\\x1b7\\xc2\\x93\\'Ob\\xb8\\xd4\\x82\\xce\\xe3\\xd6y\\xb8\\xb9\\xb9\\x99]\\x80\\xd4\\xc7\\x96:\\x1f\\xf58\\xd5\\xf7\\xfa&\\xc0\\x9f\\x9b\\xea\\xf6&\\xaf\\x15Cc\\xd7\\xb9s\\xed\\xda\\xb58\\xe7\\x8ai\\x8f&\\xb1\\xb4\\xaf\\xf3\\xb9x\\xf1b\\x98\\x9f\\x9f\\x0f\\xb3\\xb3\\xb31Vj<\\xf7\\xd3\\xbc\\xea|l\\xc3\\xb1\\xe9\\x18\\xd9\\x7f\\x98\\x02\\x14J\\xc3\\x9c\\xd7A\\x8cJ\\x17B]\\\\}\\x81-q!T\\x0c\\x15\\x0ez*\\xa2\\x1b\\x80\\xde\\xa7\\xc6\\xd5\\x05Z\\xab\\x9e\\xd8\\xfc\\xfa\\xd7\\xbf\\x0e\\xbf\\xf9\\xcdob\\xac\\xdcBI\\x05\\x8dr\\xd3M\\xb9\\xc4\\xa2\\xf1\\x8d\\x8f\\x8f\\xc7\\'59\\xf1|c\\xd2\\x13\\x9f\\x92O\\x04\\x14W\\xabb.,,\\xc4\\x9b\\xa8\\x8f\\x95\\x92\\xaf\\xe7S\\xf3\\xa0\\x82\\xd8\\xf3\\x91Z(9\\x07\\x15\\x0e.\\x1e\\xb4\\xcd\\xc7\\xf1\\xd7\\x9b\\xb6\\xb9\\xfd_v<\\xf9\\xf9s\\xf3\\xb2\\xfd^\\xf65\\xcfK\\xfd\\x89R\\xea\\xdc(\\x1f\\xf5\\xd5S\\xc3\\xb5\\xb5\\xb5\\x98\\x9f\\x8f\\xf1\\xb2<\\xf6\\xfbZ5\\x8f\\xdc\\xb9\\xdd\\xef\\x18lG@\\x02\\x14J\\x9c\\x07\\'R@7\\xa9\\xea\\x9a\\x82P\\xed\\xef\\xa2I\\xdbr/\\xda%bT\\xc7S\\xcd\\xb3\\xba=\\xf5\\xb5\\xe2\\xf5a\\xa9\\xdeH\\xfb\\x90o\\x97s,9\\xe7%cu\\xd9\\x8c\\xdc\\x86#@\\xa14\\x9c\\xb9\\x1c\\xdcH\\xea7\\xf8\\x12\\x17\\xd8j\\xcc\\xea\\xeb\\x14<\\xf7Wa\\xa4\\xa7\\x16z\\xd2\\xa2m~\\x82\\x91\\x12S}\\xf4\\xd4B1\\\\p)f\\xca\\xe2B\\xc1\\xb1R\\xe3\\xd4\\x8f]*N=\\xae\\xde\\xfb\\t\\x83s\\xdfk\\x9f\\xe3\\xde\\xd6\\xe6\\xf8K\\x8dM9\\xe6\\xe6\\xe9\\xfe\\x8e\\xa5\\xf3\\xd1\\xf3\\x93\\x9a\\xa7\\xfa;\\x9e\\xe3\\xa7\\xc6r?\\xc7\\xf3{Z\\x04J\\x0b\\xfc\\xe5\\xbfi.\\x1d\\x99x\\x08 \\x80\\x00\\x02\\x08 \\x80@\\xcf\\x05(\\x94z>\\x81\\xa4\\x8f\\x00\\x02\\x08 \\x80\\x00\\x02\\xed\\tP(\\xb5gKd\\x04\\x10@\\x00\\x01\\x04\\x10\\xe8\\xb9\\x00\\x85R\\xcf\\'\\x90\\xf4\\x11@\\x00\\x01\\x04\\x10@\\xa0=\\x01\\n\\xa5\\xf6l\\x89\\x8c\\x00\\x02\\x08 \\x80\\x00\\x02=\\x17\\xa0P\\xea\\xf9\\x04\\x92>\\x02\\x08 \\x80\\x00\\x02\\x08\\xb4\\'@\\xa1\\xd4\\x9e-\\x91\\x11@\\x00\\x01\\x04\\x10@\\xa0\\xe7\\x02\\x14J=\\x9f@\\xd2G\\x00\\x01\\x04\\x10@\\x00\\x81\\xf6\\x04(\\x94\\xda\\xb3%2\\x02\\x08 \\x80\\x00\\x02\\x08\\xf4\\\\\\x80B\\xa9\\xe7\\x13H\\xfa\\x08 \\x80\\x00\\x02\\x08 \\xd0\\x9e\\x00\\x85R{\\xb6DF\\x00\\x01\\x04\\x10@\\x00\\x81\\x9e\\x0bP(\\xf5|\\x02I\\x1f\\x01\\x04\\x10@\\x00\\x01\\x04\\xda\\x13\\xa0Pj\\xcf\\x96\\xc8\\x08 \\x80\\x00\\x02\\x08 \\xd0s\\x81\\xb1\\x9e\\xe7O\\xfa\\'@\\xc0\\x7fe\\xdcm\\xce\\x90\\xfd\\x97\\xc6\\xf5\\x97\\xd0\\xb5\\xfa}JL\\xc7P[r\\xd1_X\\xdf\\xde\\xde\\x8e\\xab\\xe2\\xa6\\x8e[q\\xbc\\xa4\\xc6p\\x7f\\xb5\\x8e\\xa7X\\x9b\\x9b\\x9b\\xd5/e\\xbdV\\\\\\xad\\x8a\\xb9\\xb5\\xb5\\x15W\\x1f+%\\xb0\\xc7*C\\xc7V\\x9c\\x9c\\x98\\xee\\x9f\\x1b#e<\\x87\\xed\\xd3fn2\\xd5y^\\xf5<l^\\xd5\\xfd\\xd4_\\xb1\\xbcV\\xbf\\xc6k\\x04\\xba*@\\xa1\\xd4\\xd5\\x99!\\xaf(\\xa0\\x0bj\\xe9\\x1b\\x80/\\xd2\\xa5\\n%\\xc7+9e\\xd51W_\\xa7\\x1cC\\xfd\\xb5\\xaap\\xc8Y\\x9c\\x87\\x8b\\xb8\\xdcx\\xce\\xc5\\xf9\\xd5[\\x7f=\\xb5u\\xbc\\xd4\\xfe\\xf4\\xfb\\x93\\x80\\xcfo\\xb59\\x8b\\xfb;^N\\xacj_\\xc7\\xadn\\xe35\\x02%\\x05(\\x94Jj\\x9e\\xf0X\\xa5oL\\xeb\\xeb\\xeb\\xe1\\xf9\\xf3\\xe7A\\xad\\x96\\x12\\x17D\\x15G\\xf7\\xee\\xdd\\x0b\\xbf\\xfb\\xdd\\xef\\xc2\\xfd\\xfb\\xf7c\\xdc\\xd4\\'B\\xcaG}\\xaf^\\xbd\\x1a\\x1e>|\\x18\\xf3\\xf4\\xb6\\x188\\xf1\\x9f\\xd1\\xd1\\xd1p\\xf1\\xe2\\xc5\\xa0V\\xa6\\xa9\\xe3V_-\\x13\\x13\\x13avv6\\xb6\\x89)\\xc5n\\x9e\\xdf\\xc9\\xc9\\xc9077\\x17\\xd4\\xfa\\x189q\\xd5Wqfff\\xc2\\xf9\\xf3\\xe7c\\x9b\\x13W^Zo\\xdc\\xb8\\x11\\x1e<x\\x10\\x96\\x97\\x97cz\\xf2\\xccY666v\\x9ez\\xa5\\xceI\\xce\\xf1\\x0f\\xea\\xeb\\x9cT\\xc0\\x96x\\xe2\\xe7\\xf9~\\xf6\\xecY\\xf8\\xf2\\xcb/\\xe3\\xf9\\x9d3/zZ\\xa8E\\xb9]\\xbe|y\\xe7\\xfcI\\x8d\\xe9~:\\x0fu~\\xab\\xcdY\\x1c\\xcf\\xe7\\x8f=sb\\xd2w\\x18\\x02\\x14J\\xc3\\x98\\xc7N\\x8cB\\x17\\x1a]\\x0c\\xfd\\xa4!\\xf5B\\xe3~KKK\\xf1\\x02\\xfd\\xe4\\xc9\\x938\\xbe\\xd4\\x82\\xc68\\xea\\xaf\\xd8\\x7f\\xf8\\xc3\\x1f\\xc2\\xff\\xfb\\x7f\\xff/|\\xf6\\xd9g\\xf1}j\\\\\\xe7\\xa9bN\\xc5\\x97Z-\\xde\\xee\\xe3\\x1e\\xb6\\x95\\x9b\\x0cU$}\\xff\\xfb\\xdf\\x0f\\x17.\\\\\\x88]}\\x01?l\\x1c\\xef\\xa7~ZU\\xd4\\\\\\xbat)\\xb6\\xa9\\xb1\\x14\\xd3}\\xcf\\x9c9\\x13sT[bq\\xdcz\\xacTG\\xcf\\xb3\\x8aa\\x15\\xb0*\\x94\\xb4-u\\x9e\\x95\\x97rQ\\x1c\\x15\\xed*\\x98\\xba\\xbc\\xe8<Z]]\\xcd\\x1a\\xaf\\xc6\\xe7\\xcf\\xf1\\xad[\\xb7\\xe2\\xd8\\xa7\\xa6\\xa6\\xe2\\xb0\\xf7\\x9b\\xaf\\x83L|~\\xbf\\xf7\\xde{a~~>\\xe6\\xa8X>\\xceA\\xfd\\xeb_w\\xbf\\xb3g\\xcf\\x86\\xb7\\xdez+~c\\xa1}R\\xf3s|\\xcd\\xf5\\xd8\\xd8X\\xf2\\xe7\\xd8qh\\x87#@\\xa14\\x9c\\xb9<\\xf6\\x91\\xf8\\xa2\\xe7\\x0bX\\xea\\x8d\\xce\\xfdtSR\\x91\\xa4\\xa7\\x02Zrnt\\xee\\xaf\\x18z\\xd2\\xf0\\xdb\\xdf\\xfe6|\\xf2\\xc9\\'1n\\x89\\x7f\\x94\\xb3\\xf3N\\x8dg7?Q\\xfa\\xf6\\xb7\\xbf\\x1do\"\\xa9\\x17~\\xf5\\xd3\\xba\\xb0\\xb0\\x10\\xdey\\xe7\\x9d\\xd8\\xa6\\xc6\\xd2\\x98\\x1cO7&=\\x118}\\xfat\\xeaP\\xf7\\xec\\xa7\\xf1\\xab\\x18q!\\x92\\xea\\xe9\\xa2H\\xb1\\x94\\xabn\\xf0\\xda\\x96\\xf3DI\\xb9\\xe8\\x9b\\x80\\xdcsp\\xcf\\x81\\x17\\xdah/9\\xfa\\\\\\xca\\t\\xedsE\\xf3\\xa1\\xa7J\\xa5\\x16=\\xf9Q\\xf1u\\xee\\xdc\\xb9xN\\xa5\\xe6Z\\xed\\xb7\\xb6\\xb6\\xb63f\\xe7\\xdd4_\\xf7\\xd3\\x1c\\xfbu\\xd3\\x18\\xec?L\\x01\\n\\xa5a\\xce\\xeb`F\\xe5\\x8b\\x7f\\xc9\\x01)f\\xe9\\xb8\\xa5\\xe3\\xe9B\\xad\\x1b\\x81\\xda\\xd4\\x8b\\xb6\\xfb\\xbau\\xbcT\\xcbj\\x9c\\xeaM*5^\\xbd\\x9f\\xe3\\xab\\xcdY\\xaaqrc\\xe5\\xe41\\x94\\xbe:\\xb7K:\\x96\\xfe\\xfc\\x95\\xfe\\xec\\re\\xde\\x18G9\\x01\\n\\xa5r\\x96\\'>\\x92/\\x80\\xbep\\xb9m\\n\\xe3~\\x8e\\xe7\\xef\\xe2\\xdd6\\x8d\\xe7\\xfd\\xd5\\xdfk\\xf5\\xe9B\\xf5\\xb5\\xf7=\\x8eV\\xe3\\xf5\\r\\xa9\\xc4\\xcd\\xde1T\\xd4xu\\xfc\\x94\\xf1U\\xe3\\xf9\\xf7Mr\\xe2\\xd5s\\xf0\\x8fm]\\x84\\xf9<\\xa8\\xefw\\xd8\\xf7%s;\\xec1\\xbb\\xb0_\\xae[}\\x0c\\xfe\\x1c\\xe6\\xc6\\xf59\\xe3\\xcf\\xa0\\xda\\x12sT*?\\x8f\\xdb\\xf1\\xfc\\x9e\\x16\\x81\\xb2\\xff]3\\x9e\\x08 \\x80\\x00\\x02\\x08 \\x80\\xc0\\x80\\x04(\\x94\\x064\\x99\\x0c\\x05\\x01\\x04\\x10@\\x00\\x01\\x04\\xca\\nP(\\x95\\xf5$\\x1a\\x02\\x08 \\x80\\x00\\x02\\x08\\x0cH\\x80Bi@\\x93\\xc9P\\x10@\\x00\\x01\\x04\\x10@\\xa0\\xac\\x00\\x85RYO\\xa2!\\x80\\x00\\x02\\x08 \\x80\\xc0\\x80\\x04(\\x94\\x064\\x99\\x0c\\x05\\x01\\x04\\x10@\\x00\\x01\\x04\\xca\\nP(\\x95\\xf5$\\x1a\\x02\\x08 \\x80\\x00\\x02\\x08\\x0cH\\x80Bi@\\x93\\xc9P\\x10@\\x00\\x01\\x04\\x10@\\xa0\\xac\\x00\\x85RYO\\xa2!\\x80\\x00\\x02\\x08 \\x80\\xc0\\x80\\x04(\\x94\\x064\\x99\\x0c\\x05\\x01\\x04\\x10@\\x00\\x01\\x04\\xca\\nP(\\x95\\xf5$\\x1a\\x02\\x08 \\x80\\x00\\x02\\x08\\x0cH\\x80Bi@\\x93\\xc9P\\x10@\\x00\\x01\\x04\\x10@\\xa0\\xac\\x00\\x85RYO\\xa2!\\x80\\x00\\x02\\x08 \\x80\\xc0\\x80\\x04\\xc6\\x064\\x16\\x86\\xd2\\x01\\x81\\xea_\\xdeN\\xfdk\\xe3\\xeeW\\xfd+\\xe3\\x1a\\x9a\\xde\\xe7,\\x8e\\xe7\\xf89\\xb1\\xaa}\\xfd\\x17\\xd0\\xddV\\xbf\\xd6\\xe4\\xb5\\xfbooo\\x07\\xaf\\xda\\xe6\\xedMbi_\\xf7-\\x11\\xab\\x1a/5\\x9f\\xc3\\xe4\\xef9\\xd2\\xbe\\xa9\\xf3\\xe4\\x18jSc\\x1c\\x94k)\\x83Rq\\x0e\\xca\\xb7\\xc4\\xd7KZ*\\x96\\xe6\\xa7\\xc4\\xf8\\xab\\xf3\\xadq\\xa6\\xc6t\\xbf6\\xcf\\x9b\\x12\\xf3@\\x8c\\xa3\\x17\\xa0P:z\\xf3A\\x1f\\xd1\\x17@\\r2\\xf5\\xc2\\xea~j\\xab\\xf1t\\x01\\xcbY\\xea\\x17\\xd4\\x9cX\\xf5\\xbe\\xbe\\xc8\\xd6\\xb7\\xa7\\xbeW\\xbc\\xea\\x9a\\x12\\xa7\\xde\\xdf\\xefSb\\xa9On\\xff\\x83\\x8e[\\x9fo\\x9f\\x07\\x07\\xf5\\xab\\x7f\\xdd\\xf3\\\\\\xed\\xef\\xd8\\xf5}\\x0f\\xfb\\xbe\\x1a\\xeb\\xb0}\\x86\\xb2\\x9f\\xe6\\xbd\\xf4\\xf8\\xab\\xf3\\x91\\x1a\\xdb\\xfd\\xd4z\\xcee\\xae|S\\x16\\xf7\\xab\\xe6\\x96\\x12\\x87>\\xc3\\x13\\xa0P\\x1a\\xde\\x9c\\x1ezD%o|\\xba\\xb8\\xac\\xac\\xac\\x84\\x07\\x0f\\x1e\\x84\\xe5\\xe5\\xe5\\x98\\x83/d\\x87N\\xe8\\xcf;\\xfaBu\\xf7\\xee\\xdd\\xf0\\xf1\\xc7\\x1f\\x87{\\xf7\\xee\\xc5\\xaf\\xe4\\x16J\\x8a\\xab\\x18W\\xaf^\\r\\xcf\\x9f?\\xdfI\\xcb\\x17\\xc8\\x9d\\r\\r_\\x8c\\x8d\\x8d\\x85\\x99\\x99\\x99\\xa06g\\xd1\\x93\\x1f\\xe5r\\xfe\\xfc\\xf9p\\xe9\\xd2\\xa5\\xf0\\xc6\\x1bod\\x15\\'\\x9e\\xdf\\xb9\\xb9\\xb9p\\xee\\xdc\\xb9\\xa06g\\xac\\x8e\\xa7\\xb1\\xea\\xf5\\xfa\\xfazV<[\\xf9<y\\xf2\\xe4I\\xf8\\xf2\\xcb/\\xc3\\xe3\\xc7\\x8f\\xe3\\x8d\\xd9\\xdb\\xbd\\xdfa[\\xdf4?\\xf9\\xe4\\x93x\\xeeh\\xae\\xbd\\xed\\xb01\\xea\\xfb)\\x17\\x9d\\xdf\\x9a#\\xbd\\xf6Z\\xdf\\xef0\\xef=\\x07\\x93\\x93\\x93a~~>LMM\\x15q\\xf4\\xb1\\x95\\xa3\\xe6fkk\\xcb\\x9b\\xb2\\xda\\xcd\\xcd\\xcd\\xf8\\x99V[b\\xd1\\xf5\\xe1\\xda\\xb5k1\\x94\\xcf\\xa9\\x94\\xb8\\x1a\\xa7\\x96\\xc5\\xc5\\xc5\\xb0\\xb1\\xb1\\x11[\\xbd\\xb7\\xaf^7Y\\xdcozz:,,,\\x04\\xb5%\\x16\\xc7\\xd59\\xa8\\xf3Fm\\x97\\x16\\xe77::\\x1atN\\xaae\\xd9-\\x90we\\xdf\\x1d\\x8bw=\\x13\\xd0\\x07D\\x17\\x1b_p\\xf4!NY|\\xd3P\\x91\\xf4\\xdf\\xff\\xfd\\xdf\\xe1\\xc6\\x8d\\x1bY7&\\xe7\\xa18\\xff\\xf9\\x9f\\xff\\x19\\xbe\\xfa\\xea\\xab\"\\x17\\x18\\xc7]ZZ\\xda)\\xbeR\\xc6\\xeb>v\\xd3\\x05U\\x85\\x8dnzZ|\\xe1\\xf1~\\x87mucS\\xdf\\xf7\\xdf\\x7f?\\xfc\\xdd\\xdf\\xfd]l=G\\x87\\x8dQ\\xdd\\xcfy\\xf8\\x86\\xac\\xb6\\xc4\\xe2\\x9c\\x9e={\\x16\\xc3\\xd955\\xb6\\xfa\\xeb\\xe6\\xf1\\xc7?\\xfe1\\xfc\\xecg?\\x0b\\x9f}\\xf6Y\\x9c\\xef\\x9c\\x0b\\xb6b\\xaa\\xd0v\\xb1\\xa4\\xdcRoPvT\\xabb!\\xb7 V\\x1c\\xad\\xba\\x19\\x7f\\xff\\xfb\\xdf\\x0f\\x17.\\\\\\x88t>N\\xaa\\xa3\\xfai\\xdc*D\\x1e>|\\x18\\x0b;\\xbd\\xd7\\x9a\\xb3\\xa8\\x80\\xbd~\\xfdzP\\xab%\\xd5\\xd19\\xe8\\x1b\\x9f\\x7f\\xfd\\xd7\\x7f\\r\\xbf\\xf8\\xc5/\\xe2\\xa6\\xd4q\\xfb\\xf3\\xa7o\\x02\\xae\\\\\\xb9\\x12\\xbf\\x19P\\xc0\\x9cx\\xea{\\xf1\\xe2\\xc5\\xf07\\x7f\\xf37\\xb1\\xd5\\xfb\\xd4x\\x1e\\xaf\\xdb.\\x17\"\\x1a\\xa3\\xbe\\x01\\x92\\xa5Z\\x96\\xdd\\x02\\x14J\\xbb=N\\xd4;}8J\\x15J\\xbax\\xea;\\xee\\x9b7o\\xc6\\'6z\\x9fzA\\xd5\\x85]}uq\\xd6\\x13%\\xc5,\\xbdTo \\xb9\\x17B\\xdd8U$\\xe9\"\\xa3%5\\x9e\\x0b\\xa5\\xfa\\x13%\\xdf\\x10\\x9a\\x1a8\\x0f\\xe5\\xa7\\xa7\\x169\\x85G\\xf5\\xd8zZ\\xa1\"I\\xad\\x96\\xdc\\x1b\\xb1\\xcf\\x15=I\\xfa\\xc3\\x1f\\xfe\\x10>\\xfa\\xe8\\xa38\\xff9\\xf9*\\'\\xe5\\xa8\\x9b\\xb2\\x9fpV\\xc7\\x90\\xf2Z1\\x95SN^:\\xae\\xe7Ss\\xf2\\xdak\\xaf\\x85\\xcb\\x97/\\xc7s\\xc6\\xf3\\x95\\x92\\x9b\\xfb(G}#011\\x11\\xc7\\xaf\\xf7ZS\\x16\\xf7S[\\xfd\\x0c\\xa6\\xe6\\xe9x\\x9a\\x0f\\x15\\xc5\\xa5\\x16}\\xf6t\\xedQ\\xe1\\xa9%5?\\xcd\\x8b\\xfa\\xaa |\\xf5\\xd5W\\xe3\\xd3\\x15\\xbdO\\x8d\\xe7\\xf1\\xb9\\xff\\xf8\\xf8x\\xfc\\x1c\\xaa\\xed\\xd2R\\x1d\\xe3\\xd9\\xb3g\\xbb\\x94Zgr\\xa1P\\xea\\xccT\\x0c#\\x11]\\x0c}\\xe3\\xcb)\\x94\\x14\\xc7k\\x1fd|1,\\x95\\xab/^nS\\xe2:\\'\\xb7)1\\x8e\\xb2\\x8f\\xe7;\\xf7\\xfcQ\\xce\\x8eu\\x94\\xf9\\xa7\\x1c\\xcb\\xf3\\xeb6%F\\xbdO\\xc9X\\x8a\\xdd\\xf5\\xf3Gs\\xeds&7_\\x8d\\xd5\\xe7\\x8e\\xda\\x92K[qK\\xe6H\\xac\\xbd\\x05(\\x94\\xf6v9\\x11[\\xeb\\x1f\\xdc\\xd4\\x0bC5\\x8e/XnS \\x1d\\xaf\\xfa\\xdd\\xbb\\xb6)f\\x89\\xc5\\x17~\\xb7\\xa9\\xe3v\\x7f\\xe7\\xe4\\xf7n\\xbd\\xfd\\xb0\\xad\\xfa\\xed\\xb7\\x1e6Fu?\\xe7\\xe1\\x98\\xd5\\xaf\\xe5\\xbe\\xf6\\x1c)N\\xaa\\x9fsp,\\xb5\\x9es\\xcdu\\xce\\x93\\x1b\\xc7\\xaa\\x9e3\\xa9y\\xda\\xd1y:\\xef\\x12\\xad\\xe7\\xc6m\\xe9\\x98%\\xe2\\xd5c\\x94rL\\x8d\\xe3|\\xfcd\\xce\\xe7\\x8c\\xcf\\x17\\xcf\\x97\\xf7;l\\xab|\\xd4Wqt\\xde\\xe4\\xe6W?\\xae\\xe2y\\xad\\x7f\\xad\\x0b\\xef\\xbb\\x9c\\xdbq\\xfb\\x94\\xb9\\xf3\\x1c\\xf7(8>\\x02\\x08 \\x80\\x00\\x02\\x08 \\xd0\\x82\\x00\\x85R\\x0b\\xa8\\x84D\\x00\\x01\\x04\\x10@\\x00\\x81a\\x08P(\\rc\\x1e\\x19\\x05\\x02\\x08 \\x80\\x00\\x02\\x08\\xb4 @\\xa1\\xd4\\x02*!\\x11@\\x00\\x01\\x04\\x10@`\\x18\\x02\\x14J\\xc3\\x98GF\\x81\\x00\\x02\\x08 \\x80\\x00\\x02-\\x08P(\\xb5\\x80JH\\x04\\x10@\\x00\\x01\\x04\\x10\\x18\\x86\\x00\\x85\\xd20\\xe6\\x91Q \\x80\\x00\\x02\\x08 \\x80@\\x0b\\x02\\x14J-\\xa0\\x12\\x12\\x01\\x04\\x10@\\x00\\x01\\x04\\x86!@\\xa14\\x8cyd\\x14\\x08 \\x80\\x00\\x02\\x08 \\xd0\\x82\\x00\\x85R\\x0b\\xa8\\x84D\\x00\\x01\\x04\\x10@\\x00\\x81a\\x08P(\\rc\\x1e\\x19\\x05\\x02\\x08 \\x80\\x00\\x02\\x08\\xb4 @\\xa1\\xd4\\x02*!\\x11@\\x00\\x01\\x04\\x10@`\\x18\\x02\\x14J\\xc3\\x98GF\\x81\\x00\\x02\\x08 \\x80\\x00\\x02-\\x08P(\\xb5\\x80JH\\x04\\x10@\\x00\\x01\\x04\\x10\\x18\\x86\\x00\\x85\\xd20\\xe6\\x91Q \\x80\\x00\\x02\\x08 \\x80@\\x0b\\x02c-\\xc4$d\\x8f\\x04N\\x9d:\\x15\\xb4jq\\xdb4}\\xc7\\xd8\\xabm\\x1a\\xcby8\\x96\\xfb\\xbfx\\xf1\"h-\\xb1\\xd4c\\xe5\\xc6\\xdd\\xda\\xda\\n^\\x95_j<\\xc5P\\xdf\\xed\\xed\\xed\\xd8:\\xcf\\xd4x\\xa9\\xfd\\x0e2\\xd6\\xdc\\x8c\\x8c\\x8c\\xc4U\\xfb\\xea}\\xce\\xe2Xjsc\\xd5\\xf3\\xa8\\x1aT_\\xd7\\xf7;\\xcc{\\xcd\\x8b\\x96\\x12q\\x14\\xc3\\xe7Lu\\xbe\\x0f\\x93\\xc7\\xcb\\xf6\\x91\\x9f\\xe3\\xaa\\xd5\\xfbTS\\xf7s<\\x1f\\xd7\\x0e~\\xdf\\xb4\\xb5\\x9f\\xe37\\xed\\xef\\xfd\\x1d\\xc7\\xad\\xb7\\xe7\\xb6\\xca\\xcb\\xe7\\xa4b\\xe7\\xc6w\\x7f\\xc7T\\x9b\\xb3\\xd8\\xcdqsb\\xa9\\xaf\\xc7\\xe8\\xb8\\xb9\\xf1\\x86\\xd8\\x9fBi\\x88\\xb3\\xda`L\\xbe(\\xa8K\\xea\\x07\\xc51\\xd4\\xd6\\xd7\\x06\\xa9\\xec\\xecZ\\x8d\\xb1\\xb3\\xb1\\xe0\\x8bR\\x17\\x18\\xa7\\xe4\\x0b\\x8d\\xe3\\xba\\xf5\\xd7\\x0f\\xdbV\\xe3\\xa4\\xc68\\xec\\xb1r\\xf7\\xf3\\x9c+\\x8e^\\xe7,\\xbe\\x818N\\x89\\xf9w\\xac\\x9c\\xbc\\xf6\\xea\\xaby\\xc9-\\x14\\xdc\\xbf>\\xdf\\xde\\xbe\\xd7q\\x0f\\xbbM\\x96\\xd5\\xb8\\x87\\xed\\xf7\\xb2\\xfdJ\\x8cy\\xbf\\xf8\\x8a\\x9d\\xbb8F\\xee\\x9c\\xbb\\xbf\\xcf\\xbf\\xaaeN\\x8e\\xce\\xcf\\xe7\\xb9\\xda\\x12\\x8b\\xf3\\xcd\\x8d\\xa5\\xfc\\xb4\\x96\\xca+7\\x9f.\\xf6\\xa7P\\xea\\xe2\\xac\\xec\\x93\\x93?pns?(+++\\xe1\\xc1\\x83\\x07ayyy\\xa7\\xc0\\xd9\\xe7\\xd0/\\xdd\\xac<\\xf4!\\xbbv\\xedZ\\xb8~\\xfdz\\xf8\\xe2\\x8b/v\\xbe#{i\\xc7\\x97|Q1\\xef\\xde\\xbd\\x1b666\\xc2\\xe8\\xe8hV~\\xd5\\xc3\\xc8nff&\\xbc\\xf2\\xca+ajj*^ R\\x1d}c[\\\\\\\\\\x0c\\x7f\\xf5W\\x7f\\x15\\xd4j\\xf1\\xfcT\\x8f{\\x98\\xd7\\xfa\\xce]}\\xdf~\\xfb\\xed077\\x17\\xc6\\xc6\\xc6\\xe2{\\x1f\\xe701\\xf6\\xdbGs\\xed\\xbcR\\xc7\\xeb\\xd8O\\x9f>\\r7n\\xdc\\x08j\\xb5\\xe4^`}\\xfe|\\xfa\\xe9\\xa7\\xe1\\xde\\xbd{\\xe1\\xd9\\xb3gE\\xce\\x9f\\xd5\\xd5\\xd50>>\\x1e\\xa6\\xa7\\xa7c\\x9e\\xa9\\xe3\\xb6\\xff\\xe9\\xd3\\xa7\\xc3\\xf9\\xf3\\xe7\\x83\\xda\\x9cE\\xf14\\x17\\xdf\\xfa\\xd6\\xb7\\xc2\\xbb\\xef\\xbe\\x1b.]\\xba\\xb4379q\\xddW\\x9f\\xe7\\xb3g\\xcf\\x16\\xf9\\\\+\\xa6\\xae\\x11rT\\xab%u\\xbe5f\\xcd\\x81>\\xd3KKK\\xb1U\\xbc\\xdcy\\xd1\\xfc\\xae\\xaf\\xaf\\x87\\xc7\\x8f\\x1f+\\\\\\xf2\\xe2y\\xb9}\\xfbv\\xf8\\xfd\\xef\\x7f\\x1f\\x1e>|Xd^\\xfc\\xb9\\xd3\\xe7ybb\"~\\xae\\x93\\x93\\xfc\\xba\\xa3\\xe3i\\x1e\\x143u>\\x9c\\x83\\xc7}\\xf1\\xe2\\xc50;;\\x1bW\\x7f\\x8d\\xf6O\\x02\\x14J=;\\x13t3\\xcd]|cz\\xf4\\xe8Q\\xf8\\xe5/\\x7f\\x19oz\\xde\\x96\\x12[}\\xb5\\xaaH\\xfa\\xf9\\xcf\\x7f\\x1e\\xdb\\x9cx\\xceA\\x17T]\\xf4\\'\\'\\'\\xe3&\\xc5\\xccY|A\\xb8p\\xe1B\\xf8\\xfb\\xbf\\xff\\xfb\\x9d\\x1b\\x94/<McW\\xe3}\\xf7\\xbb\\xdf\\r\\x8a\\xabX\\xa9\\xf1\\xdcOE\\xd2\\xeb\\xaf\\xbf\\x1e/\\xaaMs\\xaa\\xee\\xefx*\\x18\\xee\\xdf\\xbf\\x1fT,\\xe5\\x18\\xea\\x82\\xecy\\xfe\\xf7\\x7f\\xff\\xf7b\\xf3\\xac\\x98ZU\\x18\\x7f\\xfc\\xf1\\xc7\\xb1\\xd5\\xfb\\xd4\\x1b\\x80\\xc7\\xad\\x9b\\x88\\x8aa]\\xfcs\\x16\\xcf\\xf3\\xe5\\xcb\\x97\\xc3\\x8f~\\xf4\\xa3\\xa0V\\xc7\\xd0\\xf6\\x94E}\\xb5\\xba\\xc0V\\xf1\\xe5m)\\xf1\\xaa}\\xe4\\xa6\\xa2A\\x85\\x88Z-\\xda\\x96\\xba\\xa8\\xaf\\n\\x10}\\x13\\xa4V\\xefS\\xe3\\xb9\\x9f\\n\\x90\\xcf?\\xff<\\x16\"%\\xe2=\\x7f\\xfe<\\x9e3w\\xee\\xdc\\x89\\xc3\\xf4qR\\xc7\\xac8\\xcaO\\xc5a\\xc9Ey\\xf93T\"\\xae\\x8a.\\x15\\xedjs\\x16\\xddSt.\\xff\\xed\\xdf\\xfem\\xbc\\xee\\xe8:\\xc6\\xb2[\\x80Bi\\xb7G\\xa7\\xdf\\xf9b\\xaaVK\\xce\\x05A1t\\xe3\\xd4\\x93\\x01]\\x14\\xf4\\x01N\\xbd1\\xf9b\\xf7\\xe5\\x97_\\xc6\\x9b\\xa7b\\x96X\\x94\\x8fnt\\xba\\xe1\\x95X\\x94\\xa7.\\x08\\xbaq\\xbe\\xf9\\xe6\\x9b\\xe1\\xca\\x95+\\xf1\\xbd=\\x9b\\x1e\\xc37P}\\'\\xf6\\xc1\\x07\\x1f\\x04\\xb5\\x9e\\xa3\\xa6\\xb1\\xb4\\xbf\\xf3\\xf0\\r\\xbe\\xd4\\xb8U(i\\xae\\x9f<y\\x92u\\xa3\\xf3E^\\x05\\x8d\\x9e\\xfe|\\xf2\\xc9\\'1\\x9e\\x9e\\xf8\\xe5.\\x9a\\x1b=I\\xd2\\x13%\\xdd\\xf8J,z\\xd2p\\xe6\\xcc\\x99\\x9d\\'J\\xa91\\xfd\\xa4\\xef\\xdc\\xb9s\\xe1\\xbd\\xf7\\xde\\x0b\\xef\\xbf\\xff~\\x9c\\xab\\xdcBIO}\\xfc\\xf405\\xb7\\xbd\\xfa)/\\xcd\\xf9\\xe6\\xe6f\\xfcr\\xceuB}u\\xde\\xa8x\\xcf=\\x7f\\x14K\\xeb\\xad[\\xb7\\xc2\\xda\\xda\\xda\\xce\\xd3\\x90\\x9c\\xeb\\x8e\\x06\\xa8s\\xe6\\xab\\xaf\\xbe\\xday\\xa2\\x94\\x1a\\xcf\\x96rS~\\xfe<z{\\xd7Z\\x15r\\xf3\\xf3\\xf3\\xf1\\x1a\\x99\\x93\\x9b\\xc6\\xabsF\\x9f\\x95R\\x9f\\xbd\\x9c|\\xba\\xd8\\xb7\\xcc\\x1d\\xa8\\x8b##\\xa7C\\t\\xe8\\xc2\\xa5\\x0b\\x8b\\xd7Cu\\xaa\\xed\\xe4\\x0b\\xa0[\\x7fY\\xefS\\x16_\\xa0R\\xfb\\x1ftL\\x173\\xd5\\xf6\\xa0>{}\\xbd\\xda\\xbf\\xfez\\xaf\\xfd\\x0f\\xda\\xa6\\x18Z\\x1c\\xeb\\xa0\\xfd\\x9b~\\xdd\\xf3\\x93\\xea\\xea\\xfe:\\xae^\\xeb\\x9cq\\xdb4\\x97\\xfa\\xfe\\xd5\\xd8\\xfe\\x9a\\xb6\\xa5,vL\\xe9{P\\x1f\\xc5v\\x81\\x9c[(\\xb55\\xcf\\x8e[\\xca\\xc1c\\xd6x\\xf7\\x9a\\xa7\\x83\\xcc\\xfcu\\xf7u~\\xda^}\\xed\\xfd\\x9a\\xb6\\x1e\\xa7\\xcf\\x17\\xb7M\\xe3x\\xffj\\x9e\\xde\\xd6\\xc5\\xd6\\xd7l\\xb59\\x8b\\xfb\\xbb\\xcd\\x895\\xd4\\xbe\\x14J=\\x9aY\\x7f\\x80\\x9dr\\xea\\x05\\xc1q\\xd4V?l\\xa9\\x1f\\x14\\xc7s,\\xe5\\xe7\\xd8\\xce\\xb5I\\xeb\\x0b\\x9f\\xe2)N\\x1b\\x8b\\x8e\\xa1\\x0b\\xbfoz)\\xc7p_\\xc7\\xf1{\\xe7\\xdf4\\xa6\\xfb\\xb9m\\xda\\xffe\\xfb{\\x8e\\xdc\\xbel\\xdf\\xfd\\xbe\\xe6\\xbe\\x9a\\x17=E\\xf2\\xef\\x8e\\x95z\\xa2\\xa48>\\x07}\\xac\\xfdr9\\xccv\\xc5(\\xb9\\xd4\\xcf\\x19\\xcdw\\xca\\xa28\\xd5X\\x8aQr\\xce\\xab\\xe7\\xa3b\\xe78\\xa8o5^\\xce\\xbc\\xb8o\\xfdsRb\\xec\\x8e\\x9d;^\\xf5\\xf7\\xf9\\xad\\xd7Z\\x14\\xbbK\\x8b\\xbd\\xfc\\x19\\xcc\\xfd\\xfc)\\x9e\\xc6\\xd8\\xe6\\xf5\\xb6K~)\\xb9\\xe4\\x95\\xa2)G\\xa4\\x0f\\x02\\x08 \\x80\\x00\\x02\\x08 \\xd0\\x13\\x01\\n\\xa5\\x9eL\\x14i\"\\x80\\x00\\x02\\x08 \\x80\\xc0\\xd1\\x0bP(\\x1d\\xbd9GD\\x00\\x01\\x04\\x10@\\x00\\x81\\x9e\\x08P(\\xf5d\\xa2H\\x13\\x01\\x04\\x10@\\x00\\x01\\x04\\x8e^\\x80B\\xe9\\xe8\\xcd9\"\\x02\\x08 \\x80\\x00\\x02\\x08\\xf4D\\x80B\\xa9\\'\\x13E\\x9a\\x08 \\x80\\x00\\x02\\x08 p\\xf4\\x02\\x14JGo\\xce\\x11\\x11@\\x00\\x01\\x04\\x10@\\xa0\\'\\x02\\x14J=\\x99(\\xd2D\\x00\\x01\\x04\\x10@\\x00\\x81\\xa3\\x17\\xa0P:zs\\x8e\\x88\\x00\\x02\\x08 \\x80\\x00\\x02=\\x11\\xa0P\\xea\\xc9D\\x91&\\x02\\x08 \\x80\\x00\\x02\\x08\\x1c\\xbd\\x00\\x85\\xd2\\xd1\\x9bsD\\x04\\x10@\\x00\\x01\\x04\\x10\\xe8\\x89\\x00\\x85RO&\\x8a4\\x11@\\x00\\x01\\x04\\x10@\\xe0\\xe8\\x05(\\x94\\x8e\\xde\\x9c#\"\\x80\\x00\\x02\\x08 \\x80@O\\x04\\xc6z\\x92\\'i\\xfeY\\xa0\\xfa\\x97\\xac\\xab\\xaf\\x9b\\x00\\xa9\\xdf~k\\x938\\xde\\xb7\\x1a\\xcb\\xdb\\xf4\\x17\\xa9\\xfdW\\xae\\xbd\\xed\\xb0\\xad\\xfb\\xa9M\\xfd\\x0b\\xed{\\x1d\\xcb\\x7f\\x05}kkk\\xd7_D\\xf7\\xf1\\xf6\\xea\\xf3\\xb2m\\xf5\\xbf\\x82\\xfe\\xb2}\\x9b|M\\x9e\\xfaK\\xde\\xa5\\x16\\xc5\\xf2\\xea\\xb9J\\x89\\xed\\xbf.\\xee6%\\xc6A}<\\xdf\\x9a\\x93\\xd4y\\xf114\\xcf^\\xbd-\\xa5U\\x0c\\xe5\\xe2\\xf3\\xc6\\xb9\\xa5\\xe6W\\xed\\xef\\x18nS\\xf2\\xab\\xf7\\xa9\\xc6\\xaf\\x7f-\\xe5\\xbd\\xe3inr\\xce\\x1f\\xf7U\\x1c\\xcf\\x8b\\xb6\\xa5\\x8e]}\\xb58\\x96Z-\\xa9\\xf1b\\xe7\\xaf\\xffQ~^\\xb5\\xcd\\xc7\\xf1\\xd7\\x8f\\xbb\\xf5\\xf8\\xaa\\x8e99\\xf9\\xbcV\\xeb\\xd89\\xf1\\x86\\xd8\\x97B\\xa9\\x87\\xb3\\xea\\x0f\\xae\\xdb\\xa6Cp?\\xb5\\xf5\\xb5i,\\xed_\\x8d\\x91\\xd2\\x7f\\xbf>\\xfa\\xd0z\\xddo\\x9f&\\xdb\\x1d\\xcb\\xad\\xfaV_7\\x89U\\xed\\xab\\x18Z\\xec\\x1a\\xdfd\\xfeS2\\x96\\x8b$\\x178\\xa9\\xb1\\xeb\\xfdK\\xce{jN/c\\xf6\\xdc\\xea\\x86\\x92\\xb3\\xa8\\xbfc\\xd5\\xdb\\x94\\xb8\\xd5\\x18)\\xfd\\x8f\\xa3\\x8fr.\\xb5\\xd4\\xc7\\x9f\\x1b\\xbbt<\\xcfw\\xa9\\xf1\\xb6\\x15\\xc7\\xe3.q~{\\xcc\\xb9s\\xd1\\xd6X\\x8f;.\\x85\\xd2q\\xcf@\\x83\\xe3\\xaf\\xad\\xad\\x85\\'O\\x9e\\x04\\xb5ZRo.\\xea\\xa7\\x9b\\xdeW_}\\x15\\xbe\\xf8\\xe2\\x8b\\xb8j\\xdb\\xe8\\xe8h\\x83lv\\xef\\xaa\\xfew\\xef\\xde\\r\\x1b\\x1b\\x1b1\\x8e\\xdekMY|\\x01\\x98\\x9d\\x9d\\r\\x17/^\\x0cj\\xb5\\xe4~\\x88}1x\\xeb\\xad\\xb7\\xc2\\xa5K\\x97\\xc2\\xab\\xaf\\xbe\\x1a\\xbfsL\\x8d\\xeb<\\xe7\\xe6\\xe6\\xe2\\xb8\\x1f?~\\\\$O}g\\'\\xc7\\xdc\\x0b\\xa0\\xfdu\\xceh\\x9e\\xd5j\\xd1\\xdc\\xa7,\\x9eS\\xc5\\xd2\\\\?{\\xf6,\\x86\\xc99o\\x14@\\x8e\\x8a\\xadqkN\\xce\\x9d;\\x17\\xe3:\\xff\\xf8\\xa6\\xc1?\\xd5y\\xd1<\\x9f9s&\\xeb\\xdc\\xa9\\x9e7\\xaf\\xbd\\xf6Z8{\\xf6l\\xcc&u~|\\xbe)\\xaf\\xf1\\xf1\\xf1\\xac\\xb1\\xee\\xc5\\xa2\\xf9\\x1d\\x1b\\x1bK\\xfe\\xfcUcj\\x0e\\xa6\\xa6\\xa6\\xe2\\x98ss\\xf5\\xf9\\xa3\\xf8\\xcf\\x9f?\\x8f\\xf3\\xacm9\\xe7\\xa3b\\xdd\\xbbw/\\x8eU\\xad\\x96\\xd4x\\xb1\\xf3\\xd7\\xff\\xac\\xae\\xae\\x06}\\x96\\xd5Vs\\xf6\\xd7\\x8f\\xbb\\xf5y7??\\x1f\\xdex\\xe3\\x8d87>\\xa7Rr\\xf3\\x13\\xa5+W\\xae\\xec\\\\kS\\xe2\\x0c\\xb9\\x0f\\x85R\\x8ffwii)|\\xfa\\xe9\\xa7\\xf1&\\x95s\\x81\\xd1\\x85D\\xfd\\xff\\xf0\\x87?\\x84\\xff\\xf8\\x8f\\xff\\x88mN<\\x13\\xea\\xe6\\xbe\\xbc\\xbc\\x1c&\\'\\'\\xe3&\\xc5LY\\xf4\\xc1\\xd5\\xa2\"\\xe9\\x1f\\xff\\xf1\\x1f\\xc3\\xe5\\xcb\\x97w\\xbe\\xa3O\\x89\\xe7>\\xbe\\xe1\\xe9f\\xfc\\xd7\\x7f\\xfd\\xd7\\xf1\\xa6\\xac\\xaf\\xa5^d\\xd4Oc\\\\__\\x8f\\x17~\\x17J\\xa9\\xe3V.\\xea\\xfb\\xf0\\xe1\\xc3\\xf0\\xf9\\xe7\\x9f\\x87\\x07\\x0f\\x1e\\xc4\\xf7\\xb9\\x17\\xfeG\\x8f\\x1e\\xc5x\\x8a\\xab\\xf8\\xa9\\xf9\\xb9\\x9f\\xceC\\xdd\\x94\\xd4\\xe6\\xc4\\xd3x\\xb5\\xc8Q\\xab\\xe6\\xe5\\x83\\x0f>\\xc8\\x9e\\x17\\xdfH\\xce\\x9f?_4\\x9e\\n$\\x9d\\x8bjS\\xcf\\x99?\\x8d\\xf8OcV1\\xa3\"\\xa4\\xf4\\xa2\\xf3ebbb\\'G\\xcf[\\xeaq\\x9c\\xe7\\xe6\\xe6f\\xf2\\xb9S=\\xf6\\x9bo\\xbe\\x19tS\\xd6\\xe7FKj~\\xee\\xa7\\xa2\\xfd\\x7f\\xff\\xf7\\x7f\\xc3\\x9d;wb\\xac\\xd4\\xcf\\x8b\\xcfe}\\xee>\\xfb\\xec\\xb3\\xf8\\xf9S~\\xa9\\xf1\\xd4\\xb7\\x8d\\xc5\\xd71\\x9d\\x8b?\\xfc\\xe1\\x0f\\x83<\\xb5\\xf8\\xbcozL\\xf7\\xd3\\xe7\\xef\\xc2\\x85\\x0bM\\xbb\\x9f\\x88\\xfd)\\x94z4\\xcdz\\x92t\\xff\\xfe\\xfdp\\xe3\\xc6\\x8d\\xac\\x0b\\x82>\\xf8\\xba(\\xf8\\x89\\x92\\xe2\\x95X\\x14W\\x17~]Xs\\x17\\xdd\\x88\\xf4$I\\x17\\x83\\xf7\\xdf+\\x15\\xbc\\xaf\\x00\\x00\\x18mIDAT\\x7f?^\\xf4\\xfd\\x81N\\x8d\\xed\\xfe\\x0b\\x0b\\x0b\\xf1\\x89\\xd2+\\xaf\\xbc\\x12\\x1drnzrT\\x81\\xa4\\xa75j}\\xb1M\\xc9\\xd1}u\\xe1W\\x11\\xebyN}b\\xa3xZt\\xce(\\x9en\\x00Zr/\\xfcr\\xd4\\xea\\x82\\xd6\\xc7\\x89\\xc1\\x13\\xfe\\xb1\\xbf\\x9e$\\xe9b\\xfd\\xce;\\xefd=\\xe9Sn\\x8a\\xa9\\xa7I*\\x88\\xd5\\xea\\xbd\\x8f\\xd34E\\xf7\\xd37\\x00\\xfa.^EH\\xe9%\\xd7\\xb0\\x9a\\x8fb\\xe5\\xceq5\\x9e\\x0b\\xa5\\xea\\xb6.\\xbd^\\\\\\\\\\x0c*\\xe2\\xfcyN\\x1d\\xbb\\xdc\\xb4\\xde\\xbe};>-\\xd5\\xbc\\x97\\xb6,\\xe1\\xa6\\xcf\\x9dr{\\xfd\\xf5\\xd7\\xe3\\xb5\\xf1\\xbd\\xf7\\xde\\x8b\\xef}}kz\\x0c\\x9f\\xdf\\xd3\\xd3\\xd3<Q\\xda\\x07/\\xff\\x8e\\xb6O`6\\xb7\\'\\xe0\\x0f\\xb4\\xda\\x94\\xa5\\xda\\xbf\\x1a\\xa3\\xfa\\xbaI\\\\\\x7f\\xd0R\\xfb\\xefw,\\xc5\\xad\\xaf\\xfb\\xed{\\x98\\xed\\xce\\xd31\\xd5\\xa7\\xfa\\xfa01\\xf6\\xda\\xc7q\\xab\\xae{\\xedw\\xd06\\xf7\\xd7~z\\xad\\x0b~u\\xdbA\\xfd\\xeb_W_-\\x8a\\xe3\\xd5\\xef\\xe3\\x17\\x12\\xff\\xa9\\x8eW!|\\x9c\\xc4pq\\x0e\\xaa}]\\xe8\\xf88\\xd5\\xaf\\x1d\\xe6\\xb5\\xe7\\xd4m\\x89x:\\xae\\xe3\\x1d&\\x07\\xf69:\\x01\\xcf\\x8bZ-nS3\\xf0\\xf9\\x92\\xda\\xff\\xa8\\xfay\\xdc\\xceWm\\xcab/\\xc7K\\x891\\xf4>\\x14J=\\x9aa\\xdf<}\\x03U\\x9b\\xb2T\\xfbWcT_7\\x89\\xeb\\x0f\\x9a\\xe36\\xe9{\\xd0\\xbe\\x8a\\x9d{!\\xf01|!q<\\xe7\\xed\\xd6\\xfb\\xa5\\xb4.h\\xdc\\xe6\\xc4\\x90\\xa3\\x9e\"i\\xf5\\x9c\\xa7\\xc6S?\\xc7\\xf2\\x93\\xa9\\xd4y\\xae\\xe6 3\\xbb)\\xc7\\x9cE\\xfd\\x15\\xcb\\xadc;~\\xd3\\xd8\\xee\\xafy\\xf6\\xeamMci\\x7f\\xe7\\xe1\\xf3&%\\x06}\\xfe\"`O\\xb7\\xa9\\xe7\\x8f\\xfby\\x8e\\xd5z\\xdb_\\x8ev\\xf8W\\xea\\xab\\xd5\\xe7\\x8a\\xf3s{\\xf8H\\xed\\xeeY\\xcd\\xcfc\\xd76\\xbdNY<\\xbe\\xd4\\xfe)\\xc7\\xec[\\x9f\\xb4;m\\xdfFI\\xbe\\x08 \\x80\\x00\\x02\\x08 \\x80@\\x82\\x00\\x85R\\x02\\x1a]\\x10@\\x00\\x01\\x04\\x10@\\xe0d\\x08P(\\x9d\\x8cyf\\x94\\x08 \\x80\\x00\\x02\\x08 \\x90 @\\xa1\\x94\\x80F\\x17\\x04\\x10@\\x00\\x01\\x04\\x108\\x19\\x02\\x14J\\'c\\x9e\\x19%\\x02\\x08 \\x80\\x00\\x02\\x08$\\x08P(%\\xa0\\xd1\\x05\\x01\\x04\\x10@\\x00\\x01\\x04N\\x86\\x00\\x85\\xd2\\xc9\\x98gF\\x89\\x00\\x02\\x08 \\x80\\x00\\x02\\t\\x02\\x14J\\thtA\\x00\\x01\\x04\\x10@\\x00\\x81\\x93!@\\xa1t2\\xe6\\x99Q\"\\x80\\x00\\x02\\x08 \\x80@\\x82\\x00\\x85R\\x02\\x1a]\\x10@\\x00\\x01\\x04\\x10@\\xe0d\\x08P(\\x9d\\x8cyf\\x94\\x08 \\x80\\x00\\x02\\x08 \\x90 @\\xa1\\x94\\x80F\\x17\\x04\\x10@\\x00\\x01\\x04\\x108\\x19\\x02\\x14J\\'c\\x9e\\x19%\\x02\\x08 \\x80\\x00\\x02\\x08$\\x08\\x8c%\\xf4\\xa1\\xcb1\\n\\xf8/\\\\\\xbbMI\\xc5}\\xd5v}q\\xae\\xca37_\\xf7\\x1f\\x19\\x19\\t^\\x15\\xd7\\x7f=[\\xaf\\x9b.\\x8a\\xe9Xj\\xab\\xf9\\xa6\\xc4r<\\xc7q\\xdb4\\x96\\xf6W\\xdf6\\x16\\xff\\xa5r\\xff\\xb5\\xf1\\xdc\\xe3\\xd8\\xdf\\x7f\\t]\\xad\\xb6y{\\xd31\\xb8\\xbf[\\xc7J\\x8d\\xe7~\\x8e\\xd34\\x1f\\xf6\\xdf-P\\xf5\\xdc\\xfd\\x95f\\xef|\\xde)\\x9e\\xcf\\x1dok\\x16\\xe9O{\\xab\\xafV\\xc5\\xda\\xda\\xda\\x8a\\xab\\xde;\\xdf\\x94\\x98m\\xf4Qn\\xcaIm\\xfd\\x1cO9\\x9e\\xc7\\xa7\\xd6\\xafS\\xe2\\x0c\\xb9\\x0f\\x85R\\xcffW\\x1f\\xdc\\xdc\\x1brn\\xff\\xa3$\\xf3\\xc5K\\xc7\\xd4\\xeb\\x9c\\xc5\\xfdm(\\x07-9\\x17\\x87j\\xac\\\\W\\xc5\\xaa\\xae9c\\xad\\xf6U\\xcc\\xd2K\\xd5\\xac\\xfa:\\xe78\\x8aS_S\\xe2\\x95\\x88\\x91r\\\\\\xfa\\x1c\\xaf\\x80\\xcfC\\xb7\\xa9\\xd9\\xf8\\xfcQ\\x11\\xd2\\xc6g\\'5/\\xf7\\xab\\x16G\\xdeF\\xdb\\xae\\x00\\x85R\\x0b\\xbe\\xb9\\x1f\\xd4zJ\\xfe\\xb0\\xae\\xae\\xae\\x86\\x9b7o\\x86\\xabW\\xaf\\xc6\\x0f\\xf0\\xe8\\xe8h}\\xd7C\\xbd\\xf7\\xcdX\\xb1\\x14\\xd3Kj\\xde\\xeeW\\xbd\\xc08fJ\\xeb8\\xca\\xed\\xf6\\xed\\xdbajj*\\x86\\xd1\\x05\"gq\\x9e\\x0f\\x1f>\\x0c\\xcb\\xcb\\xcb\\xe1\\xcc\\x9931\\x9c\\xb7\\xa7\\xc4\\x96\\xe5\\xd3\\xa7O\\xc3\\xad[\\xb7\\xc2\\xb3g\\xcfb\\x08\\xcfW\\xd3x\\x9e\\x97\\xfb\\xf7\\xef\\x87\\xaf\\xbe\\xfa*\\xa8\\xf5\\xb6\\xa6\\xb1\\xb4\\xbf\\xf3P~kkk\\xf1\\xbbOm\\xcf\\x19\\xaf\\xfaOLL\\x84s\\xe7\\xce\\xc5V\\xefs\\x17_\\xf8\\xdf~\\xfb\\xed\\xa0\\xf5\\xad\\xb7\\xde\\xda)\\x98Rb\\xfb\\xfcY\\\\\\\\\\x0c\\xf3\\xf3\\xf3arr2\\x86I\\x1d\\xb7\\xfbi\\xdc.\\xaeS\\xf2\\xa2\\xcf\\x9f\\x04|^\\xda\\xa3\\xfe\\xde\\xdb\\x0f\\xdbj^\\x16\\x16\\x16\\xe2\\xee\\x8a\\x95\\x1a\\xcf}\\xc7\\xc7\\xc7\\xc3\\xfa\\xfaz\\xb8p\\xe1B\\x8c\\xd5\\xb59\\xf7\\x13\\xa57\\xdex#~\\x0e\\xa7\\xa7\\xa7\\xb3?/\\xc2\\xd3\\xe7$\\xf5\\x9er\\xd8\\xb9\\xea\\xeb~\\x14J-\\xce\\x9c/\\xb0\\xa9\\x1f\\xdczj\\x8f\\x1f?\\x0e\\xbf\\xfa\\xd5\\xaf\\xc2\\x7f\\xfd\\xd7\\x7f\\xc5\\x0bv\\xeaI\\xed|t\\x03U\\xccR\\x8b\\xc6\\xab\\x0fq\\xee\\xe2\\x82\\xe8\\xd1\\xa3G\\xe1\\x7f\\xfe\\xe7\\x7f\\xc2\\x17_|\\x91}sWN\\x9e\\x0f\\xb9\\xe9b\\xe8\\x0b\\xa0=R\\xf3V\\xd1u\\xf7\\xee\\xdd\\xf0\\xfc\\xf9\\xf3\\xac\\xc2\\xc6\\xc7WQ\\xb3\\xb4\\xb4\\x14\\x8b\\x1bms\\x9e\\xfe\\xfaa[\\x8fwss3\\xac\\xac\\xac\\x04\\xb5ZR\\xc7\\xeb\\x82F7\\xa5\\x0f?\\xfc0\\\\\\xbcxq\\xc7\\xf4\\xb09\\xed\\xb5\\x9f\\xe3\\xaa@\\xfa\\xc9O~\\x12\\x8b%\\xe5\\xee\\xfc\\xf7\\xea\\xf3\\xb2m>\\x7ft\\xe1W1\\xacB;5V\\xf58\\x9a\\x87\\xb11.\\x99U\\x93\\x9c\\xd7\\xa9\\xe7a\\xfd\\x98\\xb3\\xb3\\xb3\\xe1;\\xdf\\xf9N,n\\xf4\\xb5\\xdc\\xb8*\\x92\\xbe\\xff\\xfd\\xef\\x17\\x8bW\\xcf7\\xf7\\xbd\\xcf\\xe5\\x99\\x99\\x99\\xf0\\xca+\\xaf\\x04\\xb5Z\\xbc=5\\xbe\\xae\\x8b\\x9c\\xdf{\\xeb\\xf1\\xa9\\xdf\\xdb%k\\xabOX\\xb7Y\\xc1\\xbe\\xee\\xec\\x0f~\\xf5\\x89\\x92.\\xda\\xba\\xd9\\xa7,\\xcekcc#>Qr|oo\\x1a\\xd3\\xfd\\xd4j\\xf5\\x8d\\xaai\\x1c\\xef\\xefx~\\xa2\\xa4\\x82\\xae\\xe4\\xa2\\x82AcwQ\\xe7\\xf1\\xa7\\x1eCE\\x88\\x9e\\xfe\\xe8\\x02\\xdb\\xd5Ec\\xcc\\x1d\\xa7\\xe7U\\xdf\\xc1\\xbf\\xf6\\xdak\\xe1\\xdb\\xdf\\xfev\\x91\\xf9\\xae\\x16Jz\\xa2t\\xf9\\xf2\\xe5\\xc8\\xe8\\xf3\\xa0\\xa9\\xa9\\xfb\\x95\\x18s\\xd3c\\xb3\\xff\\xc1\\x02\\xb9\\xe7a\\xfd\\x08:\\x1f\\xb5\\xb2 \\xd0\\x96\\x00\\x85R[\\xb2-\\xc5\\xd5EFE\\x92\\xd6\\xd4\\x0b\\x8e\\xfb\\xb9m)\\xd5\"a\\x95c\\xe9<\\x15O~\\xd5\\x1bjN\\xb2\\x9e\\x8f\\x9c\\x18m\\xf6-\\xed\\xa7\\\\e\\xe7\\x02\\xc7\\x8e\\xa9cP\\xff\\xea\\xea\\xf8\\xa9q\\xeb\\xfd\\xda\\x18\\x7f\\xeaX\\xe9\\x87\\x00\\x02\\xfd\\x13\\xa0Pja\\xce\\xea\\x17\\xe6\\xfa\\xfb\\xd4C*\\x8eo\\xcanSc\\xa9\\x9fbTs\\xab\\xbeN\\x89\\xab\\xfe^S\\xfa\\xd7\\xfb(V\\x89q\\xd6\\xe3\\xea\\x11s\\xf5f\\x9a;n\\xc5\\xd3\\xaa\\\\\\xb5\\xe4\\xc6snnS\\xe3\\xd5\\xfb\\xa7\\xc6\\xb1\\x9f\\xfa;\\xa6\\xda\\xea\\xea}R\\xdaj\\x9c\\xfa\\xeb\\xd4x\\xee\\x97;f\\xc7\\xa1=9\\x02:\\x07\\xb5\\xb8\\xed\\xda9T\\xcf\\xabk\\xf9\\r\\xf1L\\xe1\\xff\\xa34\\xc4YeL\\x08 \\x80\\x00\\x02\\x08 PD\\x80B\\xa9\\x08#A\\x10@\\x00\\x01\\x04\\x10@`\\x88\\x02\\x14JC\\x9cU\\xc6\\x84\\x00\\x02\\x08 \\x80\\x00\\x02E\\x04(\\x94\\x8a0\\x12\\x04\\x01\\x04\\x10@\\x00\\x01\\x04\\x86(@\\xa14\\xc4YeL\\x08 \\x80\\x00\\x02\\x08 PD\\x80B\\xa9\\x08#A\\x10@\\x00\\x01\\x04\\x10@`\\x88\\x02\\x14JC\\x9cU\\xc6\\x84\\x00\\x02\\x08 \\x80\\x00\\x02E\\x04(\\x94\\x8a0\\x12\\x04\\x01\\x04\\x10@\\x00\\x01\\x04\\x86(@\\xa14\\xc4YeL\\x08 \\x80\\x00\\x02\\x08 PD\\x80B\\xa9\\x08#A\\x10@\\x00\\x01\\x04\\x10@`\\x88\\x02\\x14JC\\x9cU\\xc6\\x84\\x00\\x02\\x08 \\x80\\x00\\x02E\\x04(\\x94\\x8a0\\x12\\x04\\x01\\x04\\x10@\\x00\\x01\\x04\\x86(@\\xa14\\xc4YeL\\x08 \\x80\\x00\\x02\\x08 PD`\\xacH\\x14\\x82\\x1c\\x89@\\xfd/\\xab\\xfb\\xafH\\xa7\\x1e\\xdc\\xf1R\\xfb\\xbb_n\\x1e\\x8e\\xd3\\xe7V\\x06\\xdb\\xdb\\xdbq\\x08\\xb9\\x7f\\xcd\\xbb\\xeeY\\x7f\\xdf\\xd4)\\xb7\\x7f\\xfdx[[[A\\xab\\xc6\\xab\\xd8\\xb9\\xf1\\x1d\\xc7\\xadc\\xa6\\xc6\\xad\\xf6\\xd3\\xeb\\xdc\\xf9\\xa8\\x8f\\x9f\\xf7\\xc3\\x16\\xf0\\xf9\\xe3\\xb6k\\xa3\\xad\\xe7\\xc5\\xf9\\xdd\\xfe\\x0cQ(\\xb5o\\xcc\\x112\\x05J_\\x08J\\xc7\\xd3\\xf0\\xea\\x17\\xaf\\xcc!w\\xba{\\xa9\\x82\\xc6\\x83\\x94\\x9dWo\\xa3E\\x00\\x01\\x04\\xba\"@\\xa1\\xd4\\x95\\x998D\\x1e###a||<LNN\\xc6\\xef\\x92\\xc7\\xc6\\xd2\\xa7O\\xc5\\x82nN\\x8a\\xa96\\xa7xp_\\xc5\\xd1M4wQ\\x1c-\\x9b\\x9b\\x9baee\\xa5H\\xccjN\\xca\\xd1OD\\xaa\\xdbS_+\\xde\\x993g\\xc2\\xe9\\xd3\\xa7SC\\xec\\xea7::\\x1a\\xa6\\xa6\\xa6\\x82Z-\\xf6\\xdd\\xb5\\xd3!\\xdex.&&&\\xc2\\xcc\\xccLP\\xab\\xc5\\xbe\\x87\\x08\\xb1k\\x17\\xf5\\xd3z\\xe9\\xd2\\xa5\\xf0\\xee\\xbb\\xef\\xc665V5\\xb0\\xf2T\\x9c\\xd7^{-\\x8e;u\\xbc\\xd5\\x98z\\xad8\\xa5b\\xd5c\\xf3~\\xb8\\x02\\xf5s\\xa6\\xfe\\xbe+#\\xefj^]\\xf1)\\x99G\\xfa\\x9d\\xb6d\\x16\\xc4:\\x94\\x80n\\x9c\\xd3\\xd3\\xd3avv6\\x1689\\x85\\x92\\x0e\\xa8\"\\xe9\\xf9\\xf3\\xe7\\x87:\\xf6aw\\xd2M\\xcf7\\xe8\\xc3\\xf6\\xd9o?\\x15I*\\x96\\\\0\\xec\\xb7_\\xd3\\xed\\xbe\\xe1\\xfb&\\x9fz\\xc1\\xf18U$]\\xbcx1\\x16KMs\\xa9\\xee\\xef\\xbc4\\xbf*\\x1a\\xd4:\\xc7\\xea~\\x87}\\xed\\xbeg\\xcf\\x9e\\ro\\xbe\\xf9fP\\x9b\\xb3x\\xbcsss1\\x9eZ->Njl\\xf7Wq\\xf8\\xca+\\xaf\\xc40\\x9a\\x93\\xd4yI\\xcd\\x83~\\x08T\\x05\\xbaz\\xfeu5\\xaf\\xaa\\xdd\\xd0^S(\\xf5hFK?Q\\xda\\xd8\\xd8\\x88\\xc5R.\\x81?\\xb8\\xba\\xe1\\xf9\\xa6\\x97\\x1bS\\xfducV\\xa1T2\\xa6\\xf3r\\xce~\\x9f\\xd2:/=\\xadQ\\xb1\\xb4\\xb8\\xb8\\x18\\xc3x{\\xd3\\x98\\xea\\xa7U\\xc5\\xc2[o\\xbd\\x15\\xdb\\xd4X:\\xb6\\x0b\\x9b\\xf3\\xe7\\xcf\\x87\\xf7\\xdf\\x7f?\\xbc\\xfa\\xea\\xab\\xd9\\xf9)\\x80\\x9eh*G\\xb5%\\x16\\x8fQs\\xe2\\xb5D\\\\b \\x90\"P\\xe2\\xda\\x90r\\\\\\xfatW\\x80B\\xa9\\xbbsCf\\x7f\\x16\\xe8\\xc3\\x85\\xcb7\\xfb\\x12\\x93\\xa6X\\xd555\\xa6sR\\xab\\xa2\\xc9\\x85\\x93\\xb77\\x8d\\xeb~\\x8a\\xa3\\xd7~\\xdf4N}\\xffj\\x9c>\\xccu=\\x7f\\xde#\\x80\\xc0\\xb0\\x05(\\x94\\x86=\\xbfG:\\xba\\x93v\\x93\\xf3\\r\\xde\\xe3\\xf6{\\xb7M\\xf1\\xd5\\xaf\\xba\\xba i\\x1a\\xc7\\xfb\\xbb0R\\xabU\\xbf\\x97\\xa5%\\'?\\xf5w\\xbc\\xd48\\x8aQ]J\\xc5\\xa9\\xc6\\xe45\\x02\\x08 PJ\\x80\\xff\\x8fR)I\\xe2 \\x80\\x00\\x02\\x08 \\x80\\xc0\\xe0\\x04(\\x94\\x067\\xa5\\x0c\\x08\\x01\\x04\\x10@\\x00\\x01\\x04J\\tP(\\x95\\x92$\\x0e\\x02\\x08 \\x80\\x00\\x02\\x08\\x0cN\\x80BipS\\xca\\x80\\x10@\\x00\\x01\\x04\\x10@\\xa0\\x94\\x00\\x85R)I\\xe2 \\x80\\x00\\x02\\x08 \\x80\\xc0\\xe0\\x04(\\x94\\x067\\xa5\\x0c\\x08\\x01\\x04\\x10@\\x00\\x01\\x04J\\tP(\\x95\\x92$\\x0e\\x02\\x08 \\x80\\x00\\x02\\x08\\x0cN\\x80BipS\\xca\\x80\\x10@\\x00\\x01\\x04\\x10@\\xa0\\x94\\x00\\x85R)I\\xe2 \\x80\\x00\\x02\\x08 \\x80\\xc0\\xe0\\x04(\\x94\\x067\\xa5\\x0c\\x08\\x01\\x04\\x10@\\x00\\x01\\x04J\\tP(\\x95\\x92$\\x0e\\x02\\x08 \\x80\\x00\\x02\\x08\\x0cN\\x80BipS\\xca\\x80\\x10@\\x00\\x01\\x04\\x10@\\xa0\\x94\\x00\\x85R)I\\xe2 \\x80\\x00\\x02\\x08 \\x80\\xc0\\xe0\\x04(\\x94\\x067\\xa5\\x0c\\x08\\x01\\x04\\x10@\\x00\\x01\\x04J\\tP(\\x95\\x92$\\x0e\\x02\\x08 \\x80\\x00\\x02\\x08\\x0cN`lp#\\xea\\xc0\\x80^\\xbcx\\x11\\xb3p\\x9b\\x9b\\xd2\\xa9S\\xa7v\\xe2mmm\\x05\\xad\\xda\\xe6\\xed)\\xf1\\xd5\\xd7\\xb1\\xd4_\\xb9\\x96\\xca7%\\x9f>\\xf7\\xd9\\xdc\\xdc\\xfc\\x86e\\xcax<\\x07\\x9a\\x97\\xed\\xed\\xed\\xb8\\xe6\\xcc\\x89bhQ\\xeb\\xd8z\\x9f\\x1a\\xd3\\xfd\\x1c\\xcb\\xef\\x153g\\xa9\\xc6\\xd1\\xeb\\x9c\\xf3:\\'\\x0f\\xfa\"\\x80\\x00\\x02{\\tP(\\xed\\xa5\\xd2\\xd1m\\xbeA\\xe9\\xc6\\xa7\\x9b\\x89o\\x84)\\xe9\\xba\\x7f\\xf5&\\x95\\x12\\x87>\\x7f*D\\\\\\x8c\\xc8#\\xd5T\\xfd\\x1c\\xc7mj\\xacj\\x1e\\x8a\\x91\\x13\\x879F\\x00\\x01\\x04N\\xb2\\x00\\x85R\\x0b\\xb3_\\xff\\x8e\\xb8\\xfe>\\xf5\\x90g\\xce\\x9c\\t\\xef\\xbd\\xf7\\xde\\xce\\x13\\xa5\\xd1\\xd1\\xd1\\xd4P\\xb1\\xd0z\\xfa\\xf4i\\xf8\\xea\\xab\\xaf\\x82Z-##y?\\x89\\xd5\\x93\\x90\\xb5\\xb5\\xb5\\x9d\\xfc\\x92\\x93\\xfbsG\\xb9i\\x8c\\xa5\\xfc\\x9c\\xcf\\xc4\\xc4D\\x98\\x9d\\x9d\\rjs\\x16\\x17\\xaag\\xcf\\x9e\\r\\x97/_\\x0ejs\\x16\\x174\\xca\\xed\\xd2\\xa5K1\\xc7\\x9c\\x02\\xc7}\\x95\\xd7\\xfc\\xfc|\\x98\\x9e\\x9e\\x8e\\xe9y{j\\xaer+9/\\xd5\\xf9\\xad\\xbeN\\xcd\\x8f~\\x08 \\x80@I\\x01\\n\\xa5\\x92\\x9a\\xb5X\\xa5/\\xfa\\x17/^\\x0c?\\xfd\\xe9O\\xc3\\x8f~\\xf4\\xa3x\\xa4\\xd4\\xc2\\xc6y=x\\xf0 |\\xf6\\xd9gA\\xad\\xb6y{m\\x18\\x87z\\xab\\xbe\\xcb\\xcb\\xcb1\\x96Z-\\xa9\\xf1|#\\x1f\\x1f\\x1f\\x8f7w\\xb5%\\x16?\\xa5Y\\\\\\\\\\x0cW\\xae\\\\\\tju,\\x1f\\xaf\\xe91\\xdcO\\x05H\\x89B\\xc4\\xf1T\\x88\\x9c>}:\\xbb\\x90s<\\xf9\\xcd\\xcc\\xcc\\x84\\\\G\\xc7\\xd3y\\xa7X\\xa9\\xe7_\\xdd\\xd9qS\\xcf\\x97z<\\xde#\\x80\\x00\\x02%\\x05(\\x94Jj\\xfe9V[\\x17\\xfc\\xea\\x13%\\x1d*\\xf58\\xeew\\xef\\xde\\xbd099\\x19\\xd4j\\xc9\\xb9\\xf1)\\xe6\\xb3g\\xcf\\xc2\\x8d\\x1b7b\\xab\\xf7>N\\x0c\\xde\\xe0\\x1f\\xdf8\\xfd\\xe4G9\\x96X\\\\(\\xbd\\xfe\\xfa\\xeb\\xe1\\x07?\\xf8A|j\\xa3c\\xf9xM\\x8f\\xe1~*\\x1a\\x94\\xe3\\xd8X\\xde\\xc7\\xc9\\xf14\\x0f\\xb9\\xb1\\x9a\\x8e\\xe58\\xf7O=O\\x8e3g\\x8e\\x8d\\x00\\x02\\'G \\xef\\xca~r\\x9c:1R\\xdf\\xd4\\xfd#\\x9f\\xd4\\x1b\\x8c\\xfb\\xb9p\\xf0\\r\\xdam\\xea`\\x9d_\\x898\\xca\\xc1\\xf1<\\xde\\xd4\\xbc\\xdc\\xaf:^\\xc5\\xae\\xbe\\xf7>MZ\\x8fSq\\x1c\\xabI\\xff\\xfa\\xbe\\x8e\\xe7q{\\x9e\\xea\\xfb\\xf1\\x1e\\x01\\x04\\x10@\\xe0\\xe8\\x04(\\x94\\x8e\\xce\\xba\\xc8\\x91|SV\\xb0\\xd4\\x1b\\xa9\\xfb9\\x96\\xda\\xdcE1],\\xf8\\x86\\x9f\\x1a\\xd3\\xfd]0\\xf8}j<\\xf7s<\\xe5\\xe9\\xff\\xe2\\xcf\\xdb\\xbcO\\x93\\xd6y\\xe9\\t\\x90-\\x9b\\xf4\\xaf\\xef\\xebx\\xda\\xae\\xd7\\x9e\\xa7\\xfa~\\xbcG\\x00\\x01\\x04\\x108:\\x81\\xbc\\xdf\\xde=\\xba<9\\x12\\x02\\x08 \\x80\\x00\\x02\\x08 p\\xe4\\x02\\x14JGN\\xce\\x01\\x11@\\x00\\x01\\x04\\x10@\\xa0/\\x02\\x14J}\\x99)\\xf2D\\x00\\x01\\x04\\x10@\\x00\\x81#\\x17\\xa0P:rr\\x0e\\x88\\x00\\x02\\x08 \\x80\\x00\\x02}\\x11\\xa0P\\xea\\xcbL\\x91\\'\\x02\\x08 \\x80\\x00\\x02\\x08\\x1c\\xb9\\x00\\x85\\xd2\\x91\\x93s@\\x04\\x10@\\x00\\x01\\x04\\x10\\xe8\\x8b\\x00\\x85R_f\\x8a<\\x11@\\x00\\x01\\x04\\x10@\\xe0\\xc8\\x05(\\x94\\x8e\\x9c\\x9c\\x03\"\\x80\\x00\\x02\\x08 \\x80@_\\x04(\\x94\\xfa2S\\xe4\\x89\\x00\\x02\\x08 \\x80\\x00\\x02G.@\\xa1t\\xe4\\xe4\\x1c\\x10\\x01\\x04\\x10@\\x00\\x01\\x04\\xfa\"@\\xa1\\xd4\\x97\\x99\"O\\x04\\x10@\\x00\\x01\\x04\\x108r\\x01\\n\\xa5#\\'\\xe7\\x80\\x08 \\x80\\x00\\x02\\x08 \\xd0\\x17\\x01\\n\\xa5\\xbe\\xcc\\x14y\"\\x80\\x00\\x02\\x08 \\x80\\xc0\\x91\\x0b\\x8c\\x1d\\xf9\\x119`\\xb2\\x80\\xff\\xd2}\\xf5\\xaf\\xcc\\'\\x07\\xfb\\xba\\xa3\\xe2\\x94\\xf8\\xab\\xf7\\xcaA\\x7f\\xe9\\xde\\xb1\\xb6\\xb6\\xb6\\xe2{mKY<>\\xc5q\\xcc\\x948\\xf5>\\x8a\\xe51\\xab\\xad\\xae\\xf5}\\x0f\\xf3\\xdey\\xe6\\xc6\\xf1\\xb1\\xea\\xf1\\xbc\\x9d\\x16\\x01\\x04\\x10@\\xe0\\xf8\\x04(\\x94\\x8e\\xcf\\xbe3G\\xae\\xde\\xa0s\\x92R\\x1c\\x17#\\xb9q\\xd4\\xbfT\\x01\\xe2\\\\\\xaa\\xf1<f\\x7f\\x8d\\x16\\x01\\x04\\x10@\\x00\\x81\\xbd\\x04(\\x94\\xf6R\\xe9\\xe86=\\xa1\\x19\\x1d\\x1d\\xdd\\xc9.\\xf5\\x89\\x8d\\xfbMOO\\x87\\xc5\\xc5\\xc506\\xf6\\xa7\\xd3\\xc0\\xdbw\\x0e\\xd0\\xe0\\x85\\xfa\\xce\\xcf\\xcf\\x87\\xa9\\xa9\\xa9\\xb0\\xbc\\xbc\\\\\\xe4\\x89\\xd2\\xf8\\xf8xP\\x8ejK,.\\xe24\\xe63g\\xce\\x84\\x89\\x89\\x89X\\x8c\\xa5\\xc6v\\xb1%?\\xad##e~\\x92-\\xcb\\x9c\\xb9H\\x1d\\x0f\\xfd\\x10@\\x00\\x01\\x04\\xbe)@\\xa1\\xf4M\\x93\\xcenQ\\x91499\\x99us\\xaf\\x0enaa!\\x166\\x1b\\x1b\\x1bqs\\xee\\xcdyss3\\xac\\xaf\\xaf\\x07\\xb5ZR\\xe3\\xb9\\x00Q\\xe1\\xa11\\x97*@bR_\\xff\\xa3\\x02ivv6\\xb6\\xda\\xe6\\xe3\\xf9\\xebM[\\x8dS9\\xe6\\xe6\\xe9<\\x14/\\xd5\\xaei\\xee\\xec\\x8f\\x00\\x02\\x08 \\xf0r\\x01\\n\\xa5\\x97\\xfbt\\xea\\xab\\xbayV\\x9f(\\xe5&\\xa7\\xa7 zb\\xc3\\x82\\x00\\x02\\x08 \\x80\\x00\\x02{\\x0b\\x94\\xf9Y\\xc1\\xde\\xb1\\xd9\\x8a\\x00\\x02\\x08 \\x80\\x00\\x02\\x08\\xf4Z\\x80\\'J\\xbd\\x9e\\xben%\\xef\\x1f\\x1d\\xb9M\\xfd\\xf1Q\\xbd\\x7fj\\x9cn\\xe9\\x90\\r\\x02\\x08 \\x80@\\x1f\\x05x\\xa2\\xd4\\xc7Y#g\\x04\\x10@\\x00\\x01\\x04\\x108\\x12\\x01\\n\\xa5#a\\xe6 \\x08 \\x80\\x00\\x02\\x08 \\xd0G\\x01\\n\\xa5>\\xce\\x1a9#\\x80\\x00\\x02\\x08 \\x80\\xc0\\x91\\x08P(\\x1d\\t3\\x07A\\x00\\x01\\x04\\x10@\\x00\\x81>\\nP(\\xf5q\\xd6\\xc8\\x19\\x01\\x04\\x10@\\x00\\x01\\x04\\x8eD\\x80B\\xe9H\\x989\\x08\\x02\\x08 \\x80\\x00\\x02\\x08\\xf4Q\\x80B\\xa9\\x8f\\xb3F\\xce\\x08 \\x80\\x00\\x02\\x08 p$\\x02\\x14JG\\xc2\\xccA\\x10@\\x00\\x01\\x04\\x10@\\xa0\\x8f\\x02\\x14J}\\x9c5rF\\x00\\x01\\x04\\x10@\\x00\\x81#\\x11\\xa0P:\\x12f\\x0e\\x82\\x00\\x02\\x08 \\x80\\x00\\x02}\\x14\\xa0P\\xea\\xe3\\xac\\x913\\x02\\x08 \\x80\\x00\\x02\\x08\\x1c\\x89\\x00\\x85\\xd2\\x910s\\x10\\x04\\x10@\\x00\\x01\\x04\\x10\\xe8\\xa3\\x00\\x85R\\x1fg\\x8d\\x9c\\x11@\\x00\\x01\\x04\\x10@\\xe0H\\x04\\xc6\\x8e\\xe4(\\x1c\\xe4D\\x08\\xbcx\\xf1\"\\x8e\\xd3m\\xea\\xa0\\xeb\\xfdO\\x9d:\\x95\\x1a\\x8a~\\x08 \\x80\\x00\\x02\\x08d\\t\\xf0D)\\x8b\\x8f\\xce\\x08 \\x80\\x00\\x02\\x08 0d\\x01\\x9e(\\ryv\\x8fxl\\xf5\\'?\\xf5\\xf7M\\xd3\\xc9\\xed\\xdf\\xf4x\\xec\\x8f\\x00\\x02\\x08 \\x80@]\\x80B\\xa9.\\xc2\\xfbl\\x81\\xdc\\x02\\'\\xb7\\x7f\\xf6\\x00\\x08\\x80\\x00\\x02\\x08 \\x80\\xc0\\x9f\\x05(\\x948\\x15\\x8a\\tP\\xe0\\x14\\xa3$\\x10\\x02\\x08 \\x80@G\\x04\\xf8\\x1d\\xa5\\x8eL\\x04i \\x80\\x00\\x02\\x08 \\x80@\\xf7\\x04(\\x94\\xba7\\'d\\x84\\x00\\x02\\x08 \\x80\\x00\\x02\\x1d\\x11\\xa0P\\xea\\xc8D\\x90\\x06\\x02\\x08 \\x80\\x00\\x02\\x08tO\\x80B\\xa9{sBF\\x08 \\x80\\x00\\x02\\x08 \\xd0\\x11\\x01\\n\\xa5\\x8eL\\x04i \\x80\\x00\\x02\\x08 \\x80@\\xf7\\x04(\\x94\\xba7\\'d\\x84\\x00\\x02\\x08 \\x80\\x00\\x02\\x1d\\x11\\xa0P\\xea\\xc8D\\x90\\x06\\x02\\x08 \\x80\\x00\\x02\\x08tO\\x80B\\xa9{sBF\\x08 \\x80\\x00\\x02\\x08 \\xd0\\x11\\x01\\n\\xa5\\x8eL\\x04i \\x80\\x00\\x02\\x08 \\x80@\\xf7\\x04(\\x94\\xba7\\'d\\x84\\x00\\x02\\x08 \\x80\\x00\\x02\\x1d\\x11\\xa0P\\xea\\xc8D\\x90\\x06\\x02\\x08 \\x80\\x00\\x02\\x08tO\\x80B\\xa9{sBF\\x08 \\x80\\x00\\x02\\x08 \\xd0\\x11\\x01\\n\\xa5\\x8eL\\x04i \\x80\\x00\\x02\\x08 \\x80@\\xf7\\x04(\\x94\\xba7\\'d\\x84\\x00\\x02\\x08 \\x80\\x00\\x02\\x1d\\x11\\xa0P\\xea\\xc8D\\x90\\x06\\x02\\x08 \\x80\\x00\\x02\\x08tO\\x80B\\xa9{sBF\\x08 \\x80\\x00\\x02\\x08 \\xd0\\x11\\x01\\n\\xa5\\x8eL\\x04i \\x80\\x00\\x02\\x08 \\x80@\\xf7\\x04(\\x94\\xba7\\'d\\x84\\x00\\x02\\x08 \\x80\\x00\\x02\\x1d\\x11\\xa0P\\xea\\xc8D\\x90\\x06\\x02\\x08 \\x80\\x00\\x02\\x08tO\\x80B\\xa9{sBF\\x08 \\x80\\x00\\x02\\x08 \\xd0\\x11\\x01\\n\\xa5\\x8eL\\x04i \\x80\\x00\\x02\\x08 \\x80@\\xf7\\x04(\\x94\\xba7\\'d\\x84\\x00\\x02\\x08 \\x80\\x00\\x02\\x1d\\x11\\xa0P\\xea\\xc8D\\x90\\x06\\x02\\x08 \\x80\\x00\\x02\\x08tO\\x80B\\xa9{sBF\\x08 \\x80\\x00\\x02\\x08 \\xd0\\x11\\x01\\n\\xa5\\x8eL\\x04i \\x80\\x00\\x02\\x08 \\x80@\\xf7\\x04(\\x94\\xba7\\'d\\x84\\x00\\x02\\x08 \\x80\\x00\\x02\\x1d\\x11\\xa0P\\xea\\xc8D\\x90\\x06\\x02\\x08 \\x80\\x00\\x02\\x08tO\\x80B\\xa9{sBF\\x08 \\x80\\x00\\x02\\x08 \\xd0\\x11\\x01\\n\\xa5\\x8eL\\x04i \\x80\\x00\\x02\\x08 \\x80@\\xf7\\x04(\\x94\\xba7\\'d\\x84\\x00\\x02\\x08 \\x80\\x00\\x02\\x1d\\x11\\xa0P\\xea\\xc8D\\x90\\x06\\x02\\x08 \\x80\\x00\\x02\\x08tO\\x80B\\xa9{sBF\\x08 \\x80\\x00\\x02\\x08 \\xd0\\x11\\x01\\n\\xa5\\x8eL\\x04i \\x80\\x00\\x02\\x08 \\x80@\\xf7\\x04(\\x94\\xba7\\'d\\x84\\x00\\x02\\x08 \\x80\\x00\\x02\\x1d\\x11\\xa0P\\xea\\xc8D\\x90\\x06\\x02\\x08 \\x80\\x00\\x02\\x08tO\\x80B\\xa9{sBF\\x08 \\x80\\x00\\x02\\x08 \\xd0\\x11\\x01\\n\\xa5\\x8eL\\x04i \\x80\\x00\\x02\\x08 \\x80@\\xf7\\x04(\\x94\\xba7\\'d\\x84\\x00\\x02\\x08 \\x80\\x00\\x02\\x1d\\x11\\xa0P\\xea\\xc8D\\x90\\x06\\x02\\x08 \\x80\\x00\\x02\\x08tO\\x80B\\xa9{sBF\\x08 \\x80\\x00\\x02\\x08 \\xd0\\x11\\x01\\n\\xa5\\x8eL\\x04i \\x80\\x00\\x02\\x08 \\x80@\\xf7\\x04(\\x94\\xba7\\'d\\x84\\x00\\x02\\x08 \\x80\\x00\\x02\\x1d\\x11\\xa0P\\xea\\xc8D\\x90\\x06\\x02\\x08 \\x80\\x00\\x02\\x08tO\\x80B\\xa9{sBF\\x08 \\x80\\x00\\x02\\x08 \\xd0\\x11\\x01\\n\\xa5\\x8eL\\x04i \\x80\\x00\\x02\\x08 \\x80@\\xf7\\x04(\\x94\\xba7\\'d\\x84\\x00\\x02\\x08 \\x80\\x00\\x02\\x1d\\x11\\xa0P\\xea\\xc8D\\x90\\x06\\x02\\x08 \\x80\\x00\\x02\\x08tO\\x80B\\xa9{sBF\\x08 \\x80\\x00\\x02\\x08 \\xd0\\x11\\x01\\n\\xa5\\x8eL\\x04i \\x80\\x00\\x02\\x08 \\x80@\\xf7\\x04(\\x94\\xba7\\'d\\x84\\x00\\x02\\x08 \\x80\\x00\\x02\\x1d\\x11\\xa0P\\xea\\xc8D\\x90\\x06\\x02\\x08 \\x80\\x00\\x02\\x08tO\\x80B\\xa9{sBF\\x08 \\x80\\x00\\x02\\x08 \\xd0\\x11\\x01\\n\\xa5\\x8eL\\x04i \\x80\\x00\\x02\\x08 \\x80@\\xf7\\x04(\\x94\\xba7\\'d\\x84\\x00\\x02\\x08 \\x80\\x00\\x02\\x1d\\x11\\xa0P\\xea\\xc8D\\x90\\x06\\x02\\x08 \\x80\\x00\\x02\\x08tO\\x80B\\xa9{sBF\\x08 \\x80\\x00\\x02\\x08 \\xd0\\x11\\x01\\n\\xa5\\x8eL\\x04i \\x80\\x00\\x02\\x08 \\x80@\\xf7\\x04(\\x94\\xba7\\'d\\x84\\x00\\x02\\x08 \\x80\\x00\\x02\\x1d\\x11\\xa0P\\xea\\xc8D\\x90\\x06\\x02\\x08 \\x80\\x00\\x02\\x08tO\\x80B\\xa9{sBF\\x08 \\x80\\x00\\x02\\x08 \\xd0\\x11\\x01\\n\\xa5\\x8eL\\x04i \\x80\\x00\\x02\\x08 \\x80@\\xf7\\x04(\\x94\\xba7\\'d\\x84\\x00\\x02\\x08 \\x80\\x00\\x02\\x1d\\x11\\xa0P\\xea\\xc8D\\x90\\x06\\x02\\x08 \\x80\\x00\\x02\\x08tO\\x80B\\xa9{sBF\\x08 \\x80\\x00\\x02\\x08 \\xd0\\x11\\x01\\n\\xa5\\x8eL\\x04i \\x80\\x00\\x02\\x08 \\x80@\\xf7\\x04(\\x94\\xba7\\'d\\x84\\x00\\x02\\x08 \\x80\\x00\\x02\\x1d\\x11\\xa0P\\xea\\xc8D\\x90\\x06\\x02\\x08 \\x80\\x00\\x02\\x08tO\\x80B\\xa9{sBF\\x08 \\x80\\x00\\x02\\x08 \\xd0\\x11\\x01\\n\\xa5\\x8eL\\x04i \\x80\\x00\\x02\\x08 \\x80@\\xf7\\x04(\\x94\\xba7\\'d\\x84\\x00\\x02\\x08 \\x80\\x00\\x02\\x1d\\x11\\xa0P\\xea\\xc8D\\x90\\x06\\x02\\x08 \\x80\\x00\\x02\\x08tO\\x80B\\xa9{sBF\\x08 \\x80\\x00\\x02\\x08 \\xd0\\x11\\x01\\n\\xa5\\x8eL\\x04i \\x80\\x00\\x02\\x08 \\x80@\\xf7\\x04(\\x94\\xba7\\'d\\x84\\x00\\x02\\x08 \\x80\\x00\\x02\\x1d\\x11\\xa0P\\xea\\xc8D\\x90\\x06\\x02\\x08 \\x80\\x00\\x02\\x08tO\\x80B\\xa9{sBF\\x08 \\x80\\x00\\x02\\x08 \\xd0\\x11\\x81C\\x15J\\xa7N\\x9d\\nZY\\x10@\\x00\\x01\\x04\\x10@\\x00\\x81\\xbe\\x0b4\\xa9k\\xc6\\xaa\\x83}\\xf1\\xe2E\\xd8\\xde\\xde\\x8e\\xab^k]__\\x0f\\xcb\\xcb\\xcbq\\xd5{\\x16\\x04\\x10@\\x00\\x01\\x04\\x10@\\xa0\\xcf\\x02+++\\xb1\\xaeQ\\x8d\\xa3\\xbaG\\x85S\\xb5\\xfe\\xa9\\x8em\\xcfBikk+\\xee\\xb3\\xb1\\xb1\\x11\\x9e<y\\x12\\xee\\xdd\\xbb\\x17\\x83LMMU\\xfb\\xf2\\x1a\\x01\\x04\\x10@\\x00\\x01\\x04\\x10\\xe8\\x9d\\xc0\\xea\\xeaj\\xacmT\\xe3\\xa8\\xd6\\x99\\x98\\x98\\x08\\xaa}\\xb4\\xd6\\x1f\\n\\xed*\\x94\\xb4\\x83\\x9e\\x1e\\xa9\\xd2\\xda\\xdc\\xdc\\x0c\\xcf\\x9e=\\x0b\\x1f\\x7f\\xfcq\\x04\\x98\\x9f\\x9f\\x8f\\x81z\\xa7A\\xc2\\x08 \\x80\\x00\\x02\\x08 \\x80@E@O\\x92T$\\xa9\\xc6Q\\xad\\xa3\\x1aG\\xb5\\x8fV?,\\xf2\\xee\\xbb\\n%\\x15GO\\x9f>\\rKKKq\\xc7\\x07\\x0f\\x1e\\x84\\x9f\\xff\\xfc\\xe7\\xe1W\\xbf\\xfaU\\x18\\x1f\\x1f\\xe7\\xf7\\x94\\xacF\\x8b\\x00\\x02\\x08 \\x80\\x00\\x02\\xbd\\x15\\xd0S#=IR\\x91\\xa4Zgvv6\\xd6>\\xaa\\x81T\\x0bU\\x97]\\x85\\xd2\\xc8\\xc8H\\x98\\x9c\\x9c\\x0c\\x0b\\x0b\\x0b\\xe1;\\xdf\\xf9N\\x18\\x1d\\x1d\\x8dk\\x93_z\\xaa\\x06\\xe75\\x02\\x08 \\x80\\x00\\x02\\x08 \\xd05\\x01\\xd55\\xfaq\\xdb+\\xaf\\xbc\\x12\\xe6\\xe6\\xe6\\xc2\\xdbo\\xbf\\x1dk\\x1f\\xd5@\\xaa\\x85\\xaa\\xcb\\xaeBI\\xbf\\x83t\\xe9\\xd2\\xa5\\xf0\\xe1\\x87\\x1f\\xc6}\\x1e>|\\x18\\xce\\x9c9\\x13\\xb4]ES\\xbds5\\x10\\xaf\\x11@\\x00\\x01\\x04\\x10@\\x00\\x81>\\x08\\xf8\\x17\\xb7\\xf5\\xa36\\xfd\\x14M\\x05\\x93j\\x1f\\xd5@\\xf5\\xdf\\xc7\\xdeU(\\xa9\\xba\\xd2\\xd3$-\\xd3\\xd3\\xd3A\\xbf\\xec\\xa4JK\\xaf\\xc7\\xc6\\xc6\\xf8\\xd1[\\x1ff\\x9f\\x1c\\x11@\\x00\\x01\\x04\\x10@\\xe0\\xa5\\x02\\xfa\\xd1\\x9b\\x7f/[?~\\xd3\\x93\\xa4\\xd7_\\x7f=\\xd6@\\xaa\\x85\\xaa\\xcb\\xa9\\xafw\\xde\\xf9o\\xfe\\xf5RU\\x96~\\xc9IE\\x92^\\xebw\\x93\\xf44I\\x8f\\xa9X\\x10@\\x00\\x01\\x04\\x10@\\x00\\x81!\\x08\\xb8X\\xd2\\xef*\\xe9\\'fz\\x92\\xa4\"I\\xaf\\xab5\\xcf\\xaeBi\\x08\\x03g\\x0c\\x08 \\x80\\x00\\x02\\x08 \\x80@)\\x81\\xdd\\xbf\\xb1T**q\\x10@\\x00\\x01\\x04\\x10@\\x00\\x81\\x01\\x08P(\\r`\\x12\\x19\\x02\\x02\\x08 \\x80\\x00\\x02\\x08\\xb4#@\\xa1\\xd4\\x8e+Q\\x11@\\x00\\x01\\x04\\x10@`\\x00\\x02\\x14J\\x03\\x98D\\x86\\x80\\x00\\x02\\x08 \\x80\\x00\\x02\\xed\\x08\\xfc\\x7f\\\\\\xc6\\xca\\xad{\\xee8-\\x00\\x00\\x00\\x00IEND\\xaeB`\\x82'}"
            ]
          },
          "metadata": {
            "tags": []
          },
          "execution_count": 333
        }
      ]
    },
    {
      "metadata": {
        "id": "l24kDpxBZlgA",
        "colab_type": "code",
        "outputId": "fbf96826-74be-4538-d1bf-305843608998",
        "colab": {
          "base_uri": "https://localhost:8080/",
          "height": 35
        }
      },
      "cell_type": "code",
      "source": [
        "!ls"
      ],
      "execution_count": 0,
      "outputs": [
        {
          "output_type": "stream",
          "text": [
            "'2 (1).png'  '2 (2).png'   2.png   mnist_dense.h5   sample_data\n"
          ],
          "name": "stdout"
        }
      ]
    },
    {
      "metadata": {
        "id": "Ccf5fO5mZn_x",
        "colab_type": "code",
        "outputId": "b1d4a3ab-9188-408e-a694-98755e5feac7",
        "colab": {
          "base_uri": "https://localhost:8080/",
          "height": 45
        }
      },
      "cell_type": "code",
      "source": [
        "img_path = '2.png'\n",
        "img = image.load_img(img_path, target_size = (28, 28), color_mode = \"grayscale\")\n",
        "img"
      ],
      "execution_count": 0,
      "outputs": [
        {
          "output_type": "execute_result",
          "data": {
            "image/png": "[encoded data removed]",
            "text/plain": [
              "<PIL.Image.Image image mode=L size=28x28 at 0x7F0EDDB03748>"
            ]
          },
          "metadata": {
            "tags": []
          },
          "execution_count": 335
        }
      ]
    },
    {
      "metadata": {
        "id": "yWKKz0mfZqIt",
        "colab_type": "code",
        "outputId": "9c90dead-21ce-4ecd-8dd6-7d33c6f7b32e",
        "colab": {
          "base_uri": "https://localhost:8080/",
          "height": 265
        }
      },
      "cell_type": "code",
      "source": [
        "plt.imshow(img.convert('RGBA'))\n",
        "plt.show()"
      ],
      "execution_count": 0,
      "outputs": [
        {
          "output_type": "display_data",
          "data": {
            "image/png": "[encoded data removed]",
            "text/plain": [
              "<Figure size 432x288 with 1 Axes>"
            ]
          },
          "metadata": {
            "tags": []
          }
        }
      ]
    },
    {
      "metadata": {
        "id": "7WkejnQKZsod",
        "colab_type": "code",
        "colab": {}
      },
      "cell_type": "code",
      "source": [
        "x = image.img_to_array(img)\n",
        "x = x.reshape(1, 784)\n",
        "x = 255 - x\n",
        "x /= 255"
      ],
      "execution_count": 0,
      "outputs": []
    },
    {
      "metadata": {
        "id": "g0Seogq8Zuyw",
        "colab_type": "code",
        "colab": {}
      },
      "cell_type": "code",
      "source": [
        "prediction = model.predict(x)"
      ],
      "execution_count": 0,
      "outputs": []
    },
    {
      "metadata": {
        "id": "qmAiWVsfZw33",
        "colab_type": "code",
        "outputId": "238ccddc-3e6f-4af0-e2c6-5dd18addf0e6",
        "colab": {
          "base_uri": "https://localhost:8080/",
          "height": 72
        }
      },
      "cell_type": "code",
      "source": [
        "prediction"
      ],
      "execution_count": 0,
      "outputs": [
        {
          "output_type": "execute_result",
          "data": {
            "text/plain": [
              "array([[2.19344343e-09, 4.01752009e-09, 9.99966264e-01, 3.66018048e-06,\n",
              "        1.39708654e-08, 6.08899597e-07, 8.08290657e-10, 2.92694240e-05,\n",
              "        1.00818035e-07, 6.70850326e-08]], dtype=float32)"
            ]
          },
          "metadata": {
            "tags": []
          },
          "execution_count": 339
        }
      ]
    },
    {
      "metadata": {
        "id": "y01OB88repV9",
        "colab_type": "code",
        "outputId": "2e46be8b-7fb1-455f-c3e8-756b7e2454a3",
        "colab": {
          "base_uri": "https://localhost:8080/",
          "height": 35
        }
      },
      "cell_type": "code",
      "source": [
        "print(np.argmax(prediction))"
      ],
      "execution_count": 0,
      "outputs": [
        {
          "output_type": "stream",
          "text": [
            "2\n"
          ],
          "name": "stdout"
        }
      ]
    }
  ]
}