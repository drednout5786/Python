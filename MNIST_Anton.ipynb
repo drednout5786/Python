{
  "nbformat": 4,
  "nbformat_minor": 0,
  "metadata": {
    "colab": {
      "name": "MNIST_Anton.ipynb",
      "version": "0.3.2",
      "provenance": [],
      "collapsed_sections": [],
      "include_colab_link": true
    },
    "kernelspec": {
      "name": "python3",
      "display_name": "Python 3"
    },
    "accelerator": "GPU"
  },
  "cells": [
    {
      "cell_type": "markdown",
      "metadata": {
        "id": "view-in-github",
        "colab_type": "text"
      },
      "source": [
        "<a href=\"https://colab.research.google.com/github/drednout5786/Kuznecov_Anton/blob/master/MNIST_Anton.ipynb\" target=\"_parent\"><img src=\"https://colab.research.google.com/assets/colab-badge.svg\" alt=\"Open In Colab\"/></a>"
      ]
    },
    {
      "metadata": {
        "id": "GxmgisZ06F_L",
        "colab_type": "code",
        "colab": {}
      },
      "cell_type": "code",
      "source": [
        "from tensorflow.keras.datasets import mnist\n",
        "from tensorflow.keras.models import Sequential\n",
        "from tensorflow.keras.layers import Dense\n",
        "from tensorflow.keras import utils\n",
        "from tensorflow.keras.layers import Dropout\n",
        "from keras import layers\n",
        "from google.colab import files\n",
        "import numpy as np\n",
        "import matplotlib.pyplot as plt\n",
        "from scipy.misc import toimage\n",
        "%matplotlib inline"
      ],
      "execution_count": 0,
      "outputs": []
    },
    {
      "metadata": {
        "id": "ux9uhjaa6ftZ",
        "colab_type": "code",
        "colab": {}
      },
      "cell_type": "code",
      "source": [
        "(x_train_org, y_train_org), (x_test_org, y_test_org) = mnist.load_data()"
      ],
      "execution_count": 0,
      "outputs": []
    },
    {
      "metadata": {
        "id": "miapZQyxEfXh",
        "colab_type": "code",
        "colab": {
          "base_uri": "https://localhost:8080/",
          "height": 72
        },
        "outputId": "9f370e95-7138-4dbd-944e-bfae1cf7ef1a"
      },
      "cell_type": "code",
      "source": [
        "#Характеристики ответов\n",
        "print (y_train_org.shape)\n",
        "print (y_test_org.shape)\n",
        "y_train_org"
      ],
      "execution_count": 239,
      "outputs": [
        {
          "output_type": "stream",
          "text": [
            "(60000,)\n",
            "(10000,)\n"
          ],
          "name": "stdout"
        },
        {
          "output_type": "execute_result",
          "data": {
            "text/plain": [
              "array([5, 0, 4, ..., 5, 6, 8], dtype=uint8)"
            ]
          },
          "metadata": {
            "tags": []
          },
          "execution_count": 239
        }
      ]
    },
    {
      "metadata": {
        "id": "8U1NR9Fljzfk",
        "colab_type": "code",
        "colab": {
          "base_uri": "https://localhost:8080/",
          "height": 35
        },
        "outputId": "34007805-f9b3-4f5d-9253-0a4bd9ae0792"
      },
      "cell_type": "code",
      "source": [
        "y_test_org"
      ],
      "execution_count": 240,
      "outputs": [
        {
          "output_type": "execute_result",
          "data": {
            "text/plain": [
              "array([7, 2, 1, ..., 4, 5, 6], dtype=uint8)"
            ]
          },
          "metadata": {
            "tags": []
          },
          "execution_count": 240
        }
      ]
    },
    {
      "metadata": {
        "id": "bSPe4kcMhmhh",
        "colab_type": "code",
        "colab": {
          "base_uri": "https://localhost:8080/",
          "height": 54
        },
        "outputId": "e6737d77-1c63-48be-dba6-7cfedd565084"
      },
      "cell_type": "code",
      "source": [
        "print (x_train_org.shape)\n",
        "print (x_test_org.shape)\n",
        "#x_train_org[0] #закодированная 5"
      ],
      "execution_count": 241,
      "outputs": [
        {
          "output_type": "stream",
          "text": [
            "(60000, 28, 28)\n",
            "(10000, 28, 28)\n"
          ],
          "name": "stdout"
        }
      ]
    },
    {
      "metadata": {
        "id": "S3mBgws36qF1",
        "colab_type": "code",
        "colab": {
          "base_uri": "https://localhost:8080/",
          "height": 357
        },
        "outputId": "12457dd3-56a2-4e6e-d6c3-eb4a32b540c5"
      },
      "cell_type": "code",
      "source": [
        "n=0 #закодированная 5 в обучающей выборке\n",
        "plt.imshow(toimage(x_train_org[n]).convert('RGBA'))\n",
        "plt.show"
      ],
      "execution_count": 242,
      "outputs": [
        {
          "output_type": "stream",
          "text": [
            "/usr/local/lib/python3.6/dist-packages/ipykernel_launcher.py:2: DeprecationWarning: `toimage` is deprecated!\n",
            "`toimage` is deprecated in SciPy 1.0.0, and will be removed in 1.2.0.\n",
            "Use Pillow's ``Image.fromarray`` directly instead.\n",
            "  \n"
          ],
          "name": "stderr"
        },
        {
          "output_type": "execute_result",
          "data": {
            "text/plain": [
              "<function matplotlib.pyplot.show>"
            ]
          },
          "metadata": {
            "tags": []
          },
          "execution_count": 242
        },
        {
          "output_type": "display_data",
          "data": {
            "image/png": "[encoded data removed]",
            "text/plain": [
              "<Figure size 432x288 with 1 Axes>"
            ]
          },
          "metadata": {
            "tags": []
          }
        }
      ]
    },
    {
      "metadata": {
        "id": "C0_e-fB2KoLv",
        "colab_type": "code",
        "colab": {
          "base_uri": "https://localhost:8080/",
          "height": 357
        },
        "outputId": "09477550-88a5-42c5-f311-297e00cab202"
      },
      "cell_type": "code",
      "source": [
        "n=0 #закодированная 7 в тестовой выборке\n",
        "plt.imshow(toimage(x_test_org[n]).convert('RGBA'))\n",
        "plt.show"
      ],
      "execution_count": 243,
      "outputs": [
        {
          "output_type": "stream",
          "text": [
            "/usr/local/lib/python3.6/dist-packages/ipykernel_launcher.py:2: DeprecationWarning: `toimage` is deprecated!\n",
            "`toimage` is deprecated in SciPy 1.0.0, and will be removed in 1.2.0.\n",
            "Use Pillow's ``Image.fromarray`` directly instead.\n",
            "  \n"
          ],
          "name": "stderr"
        },
        {
          "output_type": "execute_result",
          "data": {
            "text/plain": [
              "<function matplotlib.pyplot.show>"
            ]
          },
          "metadata": {
            "tags": []
          },
          "execution_count": 243
        },
        {
          "output_type": "display_data",
          "data": {
            "image/png": "[encoded data removed]",
            "text/plain": [
              "<Figure size 432x288 with 1 Axes>"
            ]
          },
          "metadata": {
            "tags": []
          }
        }
      ]
    },
    {
      "metadata": {
        "id": "ehS62as46wMR",
        "colab_type": "code",
        "colab": {}
      },
      "cell_type": "code",
      "source": [
        "x_train = x_train_org.reshape(60000,784)# переведем данные в 2 мерный массив. т.к. 28*28 = 784\n",
        "x_test =  x_test_org.reshape(10000,784)"
      ],
      "execution_count": 0,
      "outputs": []
    },
    {
      "metadata": {
        "id": "u3Zre2QO61q9",
        "colab_type": "code",
        "colab": {}
      },
      "cell_type": "code",
      "source": [
        "x_train = x_train.astype('float32')\n",
        "x_train = x_train/255 #Нормализуем данные - переводим их в значения от 0 до 1\n",
        "#x_train[0]"
      ],
      "execution_count": 0,
      "outputs": []
    },
    {
      "metadata": {
        "id": "ev-DGWF165Pc",
        "colab_type": "code",
        "colab": {
          "base_uri": "https://localhost:8080/",
          "height": 35
        },
        "outputId": "24e0e1ad-d734-4aac-d2c9-b0c81cbf4aa2"
      },
      "cell_type": "code",
      "source": [
        "print(y_train_org[n])"
      ],
      "execution_count": 246,
      "outputs": [
        {
          "output_type": "stream",
          "text": [
            "5\n"
          ],
          "name": "stdout"
        }
      ]
    },
    {
      "metadata": {
        "id": "T20k55QbK3Vn",
        "colab_type": "code",
        "colab": {
          "base_uri": "https://localhost:8080/",
          "height": 35
        },
        "outputId": "7703a26f-5566-47e4-d35c-612236e4f83d"
      },
      "cell_type": "code",
      "source": [
        "print(y_test_org[n])"
      ],
      "execution_count": 247,
      "outputs": [
        {
          "output_type": "stream",
          "text": [
            "7\n"
          ],
          "name": "stdout"
        }
      ]
    },
    {
      "metadata": {
        "id": "92x-vlsoI6M4",
        "colab_type": "code",
        "colab": {
          "base_uri": "https://localhost:8080/",
          "height": 35
        },
        "outputId": "12e1ca7f-7529-4bf7-91ed-cf9b038076d1"
      },
      "cell_type": "code",
      "source": [
        "print(x_train.shape[0], 'train samples') #Количество в обучающей выборке"
      ],
      "execution_count": 248,
      "outputs": [
        {
          "output_type": "stream",
          "text": [
            "60000 train samples\n"
          ],
          "name": "stdout"
        }
      ]
    },
    {
      "metadata": {
        "id": "cSyUkdTSJP0N",
        "colab_type": "code",
        "colab": {
          "base_uri": "https://localhost:8080/",
          "height": 35
        },
        "outputId": "8d304bc5-a9ff-47ec-ea37-d66b5b844a02"
      },
      "cell_type": "code",
      "source": [
        "print(x_test.shape[0], 'test samples') #Количество в тестовой выборке"
      ],
      "execution_count": 249,
      "outputs": [
        {
          "output_type": "stream",
          "text": [
            "10000 test samples\n"
          ],
          "name": "stdout"
        }
      ]
    },
    {
      "metadata": {
        "id": "GhcovHmO67qv",
        "colab_type": "code",
        "colab": {}
      },
      "cell_type": "code",
      "source": [
        "# convert class vectors to binary class matrices\n",
        "y_train = utils.to_categorical(y_train_org, 10)\n",
        "y_test = utils.to_categorical(y_test_org, 10)"
      ],
      "execution_count": 0,
      "outputs": []
    },
    {
      "metadata": {
        "id": "GfRELXJ46-qy",
        "colab_type": "code",
        "colab": {
          "base_uri": "https://localhost:8080/",
          "height": 35
        },
        "outputId": "92553b3b-e9da-417e-8af9-fa39f7c72dc9"
      },
      "cell_type": "code",
      "source": [
        "print(y_train[n]) #5"
      ],
      "execution_count": 251,
      "outputs": [
        {
          "output_type": "stream",
          "text": [
            "[0. 0. 0. 0. 0. 1. 0. 0. 0. 0.]\n"
          ],
          "name": "stdout"
        }
      ]
    },
    {
      "metadata": {
        "id": "joStUk77KAO9",
        "colab_type": "code",
        "colab": {
          "base_uri": "https://localhost:8080/",
          "height": 35
        },
        "outputId": "0625a00e-21ec-46d2-f58e-6618c1877281"
      },
      "cell_type": "code",
      "source": [
        "print(y_test[n]) #7"
      ],
      "execution_count": 252,
      "outputs": [
        {
          "output_type": "stream",
          "text": [
            "[0. 0. 0. 0. 0. 0. 0. 1. 0. 0.]\n"
          ],
          "name": "stdout"
        }
      ]
    },
    {
      "metadata": {
        "id": "1rzcgEsT7BEh",
        "colab_type": "code",
        "colab": {}
      },
      "cell_type": "code",
      "source": [
        "#Создаем последовательную модель. В Keras доступны два типа моделей: последовательные и с функциональным API.\n",
        "model = Sequential()"
      ],
      "execution_count": 0,
      "outputs": []
    },
    {
      "metadata": {
        "id": "RvrkxVKS7Fhc",
        "colab_type": "code",
        "colab": {}
      },
      "cell_type": "code",
      "source": [
        "#Добавляем в созданную модель новые полносвязные слои: Dense. \n",
        "#На каждом слое используется функция «dense» для полного соединения слоев друг с другом. \n",
        "#В скрытых слоях будем используем функцию активации «relu», потому это практически всегда приводит к удовлетворительным результатам.\n",
        "#Входной слой: в нем 800 нейронов. На вход подается информация с 784 пикселов.\n",
        "#model.add(Dropout(0.2, input_shape=(784,))) # dropout on the inputs\n",
        "# это помогает имитировать шум или отсутствующие данные\n",
        "model.add(Dense(800, input_dim = 784, activation = \"relu\"))\n",
        "model.add(Dropout(0.5))\n",
        "#Выходной слой: \"softmax\" означает, что сумма всех значений на выходе из нейронной сети должна равняться 1. Т.е. почти все значения должны быть близки к 0 и только одно близко к единице.\n",
        "model.add(Dense(10, activation = \"softmax\"))"
      ],
      "execution_count": 0,
      "outputs": []
    },
    {
      "metadata": {
        "id": "rkVt-_e97Vps",
        "colab_type": "code",
        "colab": {
          "base_uri": "https://localhost:8080/",
          "height": 274
        },
        "outputId": "34aa0569-5133-4da5-a6a5-79f4b84a5baf"
      },
      "cell_type": "code",
      "source": [
        "#Прежде чем обучать нейронную сеть надо ее скомпилировать.\n",
        "#Будем использовать оптимизатор «adam». Оптимизатор — это алгоритм, который изменяет веса и смещения во время обучения. \n",
        "#В качестве функции потерь (функцию ошибки loss) используем бинарную кросс-энтропию (так как мы работаем с бинарной классификацией), \n",
        "#в качестве метрики оценки — точность - доля правильных ответов.\n",
        "model.compile(loss = \"categorical_crossentropy\", optimizer = \"adam\", metrics = [\"accuracy\"])\n",
        "print (model.summary())"
      ],
      "execution_count": 255,
      "outputs": [
        {
          "output_type": "stream",
          "text": [
            "_________________________________________________________________\n",
            "Layer (type)                 Output Shape              Param #   \n",
            "=================================================================\n",
            "dense_9 (Dense)              (None, 800)               628000    \n",
            "_________________________________________________________________\n",
            "dropout_1 (Dropout)          (None, 800)               0         \n",
            "_________________________________________________________________\n",
            "dense_10 (Dense)             (None, 10)                8010      \n",
            "=================================================================\n",
            "Total params: 636,010\n",
            "Trainable params: 636,010\n",
            "Non-trainable params: 0\n",
            "_________________________________________________________________\n",
            "None\n"
          ],
          "name": "stdout"
        }
      ]
    },
    {
      "metadata": {
        "id": "gXOAFB7EIBGi",
        "colab_type": "code",
        "colab": {
          "base_uri": "https://localhost:8080/",
          "height": 35
        },
        "outputId": "7452527a-f5d3-45cc-dd4e-2a25bfb13635"
      },
      "cell_type": "code",
      "source": [
        "print(len(model.layers)) # Получили 2 слоя"
      ],
      "execution_count": 256,
      "outputs": [
        {
          "output_type": "stream",
          "text": [
            "3\n"
          ],
          "name": "stdout"
        }
      ]
    },
    {
      "metadata": {
        "id": "X8lLxBgEIEkC",
        "colab_type": "code",
        "colab": {}
      },
      "cell_type": "code",
      "source": [
        ""
      ],
      "execution_count": 0,
      "outputs": []
    },
    {
      "metadata": {
        "id": "UTqK7QUj7XoK",
        "colab_type": "code",
        "colab": {
          "base_uri": "https://localhost:8080/",
          "height": 770
        },
        "outputId": "cfd75254-5f5f-4615-e726-858e46f2f028"
      },
      "cell_type": "code",
      "source": [
        "#Обучаем модель с учителем. В каждый раз берем по 200 картинок. Это размер минивыборки.20 - сколько раз мы передаем данные для обучения нейронной сети.\n",
        "history = model.fit(x_train, y_train, batch_size = 200, epochs = 20, validation_split=0.2, verbose = 1)"
      ],
      "execution_count": 257,
      "outputs": [
        {
          "output_type": "stream",
          "text": [
            "Train on 48000 samples, validate on 12000 samples\n",
            "Epoch 1/20\n",
            "48000/48000 [==============================] - 2s 37us/sample - loss: 0.3635 - acc: 0.8940 - val_loss: 0.1751 - val_acc: 0.9503\n",
            "Epoch 2/20\n",
            "48000/48000 [==============================] - 1s 30us/sample - loss: 0.1674 - acc: 0.9515 - val_loss: 0.1230 - val_acc: 0.9657\n",
            "Epoch 3/20\n",
            "48000/48000 [==============================] - 1s 30us/sample - loss: 0.1244 - acc: 0.9635 - val_loss: 0.1037 - val_acc: 0.9688\n",
            "Epoch 4/20\n",
            "48000/48000 [==============================] - 1s 31us/sample - loss: 0.0971 - acc: 0.9715 - val_loss: 0.0905 - val_acc: 0.9731\n",
            "Epoch 5/20\n",
            "48000/48000 [==============================] - 1s 31us/sample - loss: 0.0821 - acc: 0.9762 - val_loss: 0.0840 - val_acc: 0.9743\n",
            "Epoch 6/20\n",
            "48000/48000 [==============================] - 1s 31us/sample - loss: 0.0693 - acc: 0.9798 - val_loss: 0.0762 - val_acc: 0.9780\n",
            "Epoch 7/20\n",
            "48000/48000 [==============================] - 1s 30us/sample - loss: 0.0618 - acc: 0.9814 - val_loss: 0.0729 - val_acc: 0.9781\n",
            "Epoch 8/20\n",
            "48000/48000 [==============================] - 1s 31us/sample - loss: 0.0530 - acc: 0.9840 - val_loss: 0.0729 - val_acc: 0.9776\n",
            "Epoch 9/20\n",
            "48000/48000 [==============================] - 1s 31us/sample - loss: 0.0456 - acc: 0.9857 - val_loss: 0.0703 - val_acc: 0.9797\n",
            "Epoch 10/20\n",
            "48000/48000 [==============================] - 1s 31us/sample - loss: 0.0413 - acc: 0.9868 - val_loss: 0.0688 - val_acc: 0.9800\n",
            "Epoch 11/20\n",
            "48000/48000 [==============================] - 1s 31us/sample - loss: 0.0370 - acc: 0.9881 - val_loss: 0.0678 - val_acc: 0.9802\n",
            "Epoch 12/20\n",
            "48000/48000 [==============================] - 1s 31us/sample - loss: 0.0348 - acc: 0.9889 - val_loss: 0.0677 - val_acc: 0.9810\n",
            "Epoch 13/20\n",
            "48000/48000 [==============================] - 1s 31us/sample - loss: 0.0329 - acc: 0.9897 - val_loss: 0.0658 - val_acc: 0.9794\n",
            "Epoch 14/20\n",
            "48000/48000 [==============================] - 1s 31us/sample - loss: 0.0296 - acc: 0.9907 - val_loss: 0.0674 - val_acc: 0.9801\n",
            "Epoch 15/20\n",
            "48000/48000 [==============================] - 1s 31us/sample - loss: 0.0271 - acc: 0.9915 - val_loss: 0.0658 - val_acc: 0.9805\n",
            "Epoch 16/20\n",
            "48000/48000 [==============================] - 2s 31us/sample - loss: 0.0245 - acc: 0.9923 - val_loss: 0.0691 - val_acc: 0.9808\n",
            "Epoch 17/20\n",
            "48000/48000 [==============================] - 1s 30us/sample - loss: 0.0253 - acc: 0.9918 - val_loss: 0.0695 - val_acc: 0.9813\n",
            "Epoch 18/20\n",
            "48000/48000 [==============================] - 1s 31us/sample - loss: 0.0214 - acc: 0.9932 - val_loss: 0.0670 - val_acc: 0.9812\n",
            "Epoch 19/20\n",
            "48000/48000 [==============================] - 1s 31us/sample - loss: 0.0216 - acc: 0.9931 - val_loss: 0.0705 - val_acc: 0.9814\n",
            "Epoch 20/20\n",
            "48000/48000 [==============================] - 1s 31us/sample - loss: 0.0193 - acc: 0.9935 - val_loss: 0.0699 - val_acc: 0.9808\n"
          ],
          "name": "stdout"
        }
      ]
    },
    {
      "metadata": {
        "id": "Nsv5POAKC9v2",
        "colab_type": "code",
        "colab": {
          "base_uri": "https://localhost:8080/",
          "height": 35
        },
        "outputId": "0be7a794-9487-4f6b-c404-be86c625f71e"
      },
      "cell_type": "code",
      "source": [
        "print(history.history.keys()) #  a history attribute containing the lists of successive losses and other metrics."
      ],
      "execution_count": 258,
      "outputs": [
        {
          "output_type": "stream",
          "text": [
            "dict_keys(['loss', 'acc', 'val_loss', 'val_acc'])\n"
          ],
          "name": "stdout"
        }
      ]
    },
    {
      "metadata": {
        "id": "csW94_eTM-j6",
        "colab_type": "code",
        "colab": {}
      },
      "cell_type": "code",
      "source": [
        "#Проверка точности полученной модели на тестовой выборке\n",
        "score = model.evaluate(x_test, y_test, verbose=0)"
      ],
      "execution_count": 0,
      "outputs": []
    },
    {
      "metadata": {
        "id": "AmZ2VQPtNBXm",
        "colab_type": "code",
        "colab": {
          "base_uri": "https://localhost:8080/",
          "height": 54
        },
        "outputId": "86158730-3888-4b6f-9424-9b862d5805d7"
      },
      "cell_type": "code",
      "source": [
        "print('Test loss:', score[0])\n",
        "print('Test accuracy:', score[1])"
      ],
      "execution_count": 260,
      "outputs": [
        {
          "output_type": "stream",
          "text": [
            "Test loss: 0.2593972109124155\n",
            "Test accuracy: 0.9838\n"
          ],
          "name": "stdout"
        }
      ]
    },
    {
      "metadata": {
        "id": "GpNtJKZDAKw7",
        "colab_type": "code",
        "colab": {
          "base_uri": "https://localhost:8080/",
          "height": 35
        },
        "outputId": "459303bb-b621-45d2-b31c-6265a8481e1b"
      },
      "cell_type": "code",
      "source": [
        "print('Доля верных ответов на тестовой выборке:', round(score[1]*100,4), \"%\")"
      ],
      "execution_count": 261,
      "outputs": [
        {
          "output_type": "stream",
          "text": [
            "Доля верных ответов на тестовой выборке: 98.38 %\n"
          ],
          "name": "stdout"
        }
      ]
    },
    {
      "metadata": {
        "id": "2NVMK4rxBWWp",
        "colab_type": "code",
        "colab": {
          "base_uri": "https://localhost:8080/",
          "height": 384
        },
        "outputId": "ec66099a-963c-42cd-f413-3855d0425111"
      },
      "cell_type": "code",
      "source": [
        "#Значение ошибки на обучающей выборке\n",
        "history.history['loss']"
      ],
      "execution_count": 262,
      "outputs": [
        {
          "output_type": "execute_result",
          "data": {
            "text/plain": [
              "[0.3635207197628915,\n",
              " 0.16740339941655596,\n",
              " 0.12444672466566166,\n",
              " 0.0970858992387851,\n",
              " 0.08212175311055034,\n",
              " 0.06925067071182033,\n",
              " 0.06175048273289576,\n",
              " 0.05300684995405997,\n",
              " 0.045579629418595384,\n",
              " 0.04128470775904134,\n",
              " 0.03699698798591271,\n",
              " 0.03483625267011424,\n",
              " 0.03286567316196549,\n",
              " 0.029623853376445672,\n",
              " 0.027054023544769733,\n",
              " 0.02445336837748376,\n",
              " 0.025348755635786802,\n",
              " 0.021421018976252527,\n",
              " 0.021641225634569612,\n",
              " 0.01930552008076726]"
            ]
          },
          "metadata": {
            "tags": []
          },
          "execution_count": 262
        }
      ]
    },
    {
      "metadata": {
        "id": "uoKTEW8CBoBD",
        "colab_type": "code",
        "colab": {
          "base_uri": "https://localhost:8080/",
          "height": 384
        },
        "outputId": "457c06de-4555-45c9-81db-dc10e7759073"
      },
      "cell_type": "code",
      "source": [
        "#Доля правильных ответов\n",
        "history.history['val_acc']"
      ],
      "execution_count": 263,
      "outputs": [
        {
          "output_type": "execute_result",
          "data": {
            "text/plain": [
              "[0.95025,\n",
              " 0.96575,\n",
              " 0.96875,\n",
              " 0.9730833,\n",
              " 0.97425,\n",
              " 0.978,\n",
              " 0.9780833,\n",
              " 0.97758335,\n",
              " 0.97966665,\n",
              " 0.98,\n",
              " 0.9801667,\n",
              " 0.981,\n",
              " 0.97941667,\n",
              " 0.98008335,\n",
              " 0.9805,\n",
              " 0.98075,\n",
              " 0.9813333,\n",
              " 0.98116666,\n",
              " 0.98141664,\n",
              " 0.98083335]"
            ]
          },
          "metadata": {
            "tags": []
          },
          "execution_count": 263
        }
      ]
    },
    {
      "metadata": {
        "id": "2cSdo3RhB_Yt",
        "colab_type": "code",
        "colab": {
          "base_uri": "https://localhost:8080/",
          "height": 280
        },
        "outputId": "55ad12c3-3f1c-4407-ead4-69a6c5c2db75"
      },
      "cell_type": "code",
      "source": [
        "#Рисуем график\n",
        "plt.plot(history.history['acc'], label = \"Доля верных ответов на обучающей выборке\")\n",
        "plt.plot(history.history['val_acc'], label = \"Доля верных ответов на проверочном наборе\")\n",
        "plt.xlabel (\"Эпоха обучения\")\n",
        "plt.ylabel (\"Доля верных ответов\")\n",
        "plt.legend ()\n",
        "plt.show ()"
      ],
      "execution_count": 264,
      "outputs": [
        {
          "output_type": "display_data",
          "data": {
            "image/png": "[encoded data removed]",
            "text/plain": [
              "<Figure size 432x288 with 1 Axes>"
            ]
          },
          "metadata": {
            "tags": []
          }
        }
      ]
    },
    {
      "metadata": {
        "id": "B-HdRq9n75HA",
        "colab_type": "code",
        "colab": {}
      },
      "cell_type": "code",
      "source": [
        "#Save partly trained model\n",
        "model.save(\"mnist_dense.h5\")"
      ],
      "execution_count": 0,
      "outputs": []
    },
    {
      "metadata": {
        "id": "u1XW6F6U8AqO",
        "colab_type": "code",
        "colab": {
          "base_uri": "https://localhost:8080/",
          "height": 35
        },
        "outputId": "17a394bb-ecee-4abd-d73f-1a491f33ede2"
      },
      "cell_type": "code",
      "source": [
        "!ls #Команда Linux"
      ],
      "execution_count": 266,
      "outputs": [
        {
          "output_type": "stream",
          "text": [
            "2.png  mnist_dense.h5  sample_data\n"
          ],
          "name": "stdout"
        }
      ]
    },
    {
      "metadata": {
        "id": "fgShF-A0Bz7B",
        "colab_type": "code",
        "colab": {
          "base_uri": "https://localhost:8080/",
          "height": 35
        },
        "outputId": "3f608089-3809-4b2c-9dae-3ef97367a114"
      },
      "cell_type": "code",
      "source": [
        "model"
      ],
      "execution_count": 267,
      "outputs": [
        {
          "output_type": "execute_result",
          "data": {
            "text/plain": [
              "<tensorflow.python.keras.engine.sequential.Sequential at 0x7f0edfc74470>"
            ]
          },
          "metadata": {
            "tags": []
          },
          "execution_count": 267
        }
      ]
    },
    {
      "metadata": {
        "id": "OPo8-PEr8C49",
        "colab_type": "code",
        "colab": {}
      },
      "cell_type": "code",
      "source": [
        "#files.download(\"mnist_dense.h5\")"
      ],
      "execution_count": 0,
      "outputs": []
    },
    {
      "metadata": {
        "id": "jLAf5to5CIAo",
        "colab_type": "code",
        "colab": {}
      },
      "cell_type": "code",
      "source": [
        "#model.load_weights('mnist_dense.h5', by_name=True)"
      ],
      "execution_count": 0,
      "outputs": []
    },
    {
      "metadata": {
        "id": "1W8Fq4aY8KMo",
        "colab_type": "code",
        "colab": {}
      },
      "cell_type": "code",
      "source": [
        "from keras.models import load_model"
      ],
      "execution_count": 0,
      "outputs": []
    },
    {
      "metadata": {
        "id": "mzZpsq0SV_HA",
        "colab_type": "code",
        "colab": {}
      },
      "cell_type": "code",
      "source": [
        "from keras.utils import CustomObjectScope\n",
        "from keras.initializers import glorot_uniform"
      ],
      "execution_count": 0,
      "outputs": []
    },
    {
      "metadata": {
        "id": "EIo7iM21WnNr",
        "colab_type": "code",
        "colab": {
          "base_uri": "https://localhost:8080/",
          "height": 35
        },
        "outputId": "4823d717-0d88-4dca-c63d-4c7b5698705d"
      },
      "cell_type": "code",
      "source": [
        "#Load partly trained model\n",
        "with CustomObjectScope({'GlorotUniform': glorot_uniform()}):\n",
        "        model = load_model('mnist_dense.h5')\n",
        "model\n",
        "#https://askvoprosy.com/voprosy/unknown-initializer-glorotuniform-when-loading-keras-model"
      ],
      "execution_count": 272,
      "outputs": [
        {
          "output_type": "execute_result",
          "data": {
            "text/plain": [
              "<keras.engine.sequential.Sequential at 0x7f0ede1626d8>"
            ]
          },
          "metadata": {
            "tags": []
          },
          "execution_count": 272
        }
      ]
    },
    {
      "metadata": {
        "id": "GT5YVf6W8ych",
        "colab_type": "code",
        "colab": {}
      },
      "cell_type": "code",
      "source": [
        "#model = load_model('mnist_dense.h5')"
      ],
      "execution_count": 0,
      "outputs": []
    },
    {
      "metadata": {
        "id": "OJSN_JJHXGGi",
        "colab_type": "code",
        "colab": {}
      },
      "cell_type": "code",
      "source": [
        "#Используем полученную модель для распознования цифр.\n",
        "n_rec = 0"
      ],
      "execution_count": 0,
      "outputs": []
    },
    {
      "metadata": {
        "id": "Rfl5N-SxXJwt",
        "colab_type": "code",
        "colab": {
          "base_uri": "https://localhost:8080/",
          "height": 338
        },
        "outputId": "c49f6468-4d9c-490a-f1d3-4ee23079b290"
      },
      "cell_type": "code",
      "source": [
        "plt.imshow(toimage(x_test_org[n_rec]).convert('RGBA'))\n",
        "plt.show()"
      ],
      "execution_count": 275,
      "outputs": [
        {
          "output_type": "stream",
          "text": [
            "/usr/local/lib/python3.6/dist-packages/ipykernel_launcher.py:1: DeprecationWarning: `toimage` is deprecated!\n",
            "`toimage` is deprecated in SciPy 1.0.0, and will be removed in 1.2.0.\n",
            "Use Pillow's ``Image.fromarray`` directly instead.\n",
            "  \"\"\"Entry point for launching an IPython kernel.\n"
          ],
          "name": "stderr"
        },
        {
          "output_type": "display_data",
          "data": {
            "image/png": "[encoded data removed]",
            "text/plain": [
              "<Figure size 432x288 with 1 Axes>"
            ]
          },
          "metadata": {
            "tags": []
          }
        }
      ]
    },
    {
      "metadata": {
        "id": "lU3ToARhXNgm",
        "colab_type": "code",
        "colab": {}
      },
      "cell_type": "code",
      "source": [
        "x = x_test[n_rec]\n",
        "x = np.expand_dims(x, axis = 0)"
      ],
      "execution_count": 0,
      "outputs": []
    },
    {
      "metadata": {
        "id": "U0Bt-4IHXSfG",
        "colab_type": "code",
        "colab": {}
      },
      "cell_type": "code",
      "source": [
        "prediction = model.predict(x)"
      ],
      "execution_count": 0,
      "outputs": []
    },
    {
      "metadata": {
        "id": "8UebzeZAXT4I",
        "colab_type": "code",
        "colab": {
          "base_uri": "https://localhost:8080/",
          "height": 35
        },
        "outputId": "7c3ced2d-5d51-497d-b880-7cf89ddc4aa0"
      },
      "cell_type": "code",
      "source": [
        "print(prediction)"
      ],
      "execution_count": 278,
      "outputs": [
        {
          "output_type": "stream",
          "text": [
            "[[0. 0. 0. 0. 0. 0. 0. 1. 0. 0.]]\n"
          ],
          "name": "stdout"
        }
      ]
    },
    {
      "metadata": {
        "id": "57Qy9SOTXcrC",
        "colab_type": "code",
        "colab": {
          "base_uri": "https://localhost:8080/",
          "height": 35
        },
        "outputId": "9c6ba92b-c30a-4c85-a696-31c8059671b7"
      },
      "cell_type": "code",
      "source": [
        "prediction = np.argmax(prediction)\n",
        "print(prediction)"
      ],
      "execution_count": 279,
      "outputs": [
        {
          "output_type": "stream",
          "text": [
            "7\n"
          ],
          "name": "stdout"
        }
      ]
    },
    {
      "metadata": {
        "id": "V7j6sAUeXfRl",
        "colab_type": "code",
        "colab": {
          "base_uri": "https://localhost:8080/",
          "height": 35
        },
        "outputId": "9326e875-5fcf-40fb-9ab2-d8a114c3294e"
      },
      "cell_type": "code",
      "source": [
        "print(y_test_org[n_rec])"
      ],
      "execution_count": 280,
      "outputs": [
        {
          "output_type": "stream",
          "text": [
            "7\n"
          ],
          "name": "stdout"
        }
      ]
    },
    {
      "metadata": {
        "id": "sxtfKhUUXlos",
        "colab_type": "code",
        "colab": {}
      },
      "cell_type": "code",
      "source": [
        "files.upload()"
      ],
      "execution_count": 0,
      "outputs": []
    },
    {
      "metadata": {
        "id": "l24kDpxBZlgA",
        "colab_type": "code",
        "colab": {
          "base_uri": "https://localhost:8080/",
          "height": 35
        },
        "outputId": "08086f5e-dd72-4052-c9f7-470899e4481f"
      },
      "cell_type": "code",
      "source": [
        "!ls"
      ],
      "execution_count": 282,
      "outputs": [
        {
          "output_type": "stream",
          "text": [
            "'2 (1).png'   2.png   mnist_dense.h5   sample_data\n"
          ],
          "name": "stdout"
        }
      ]
    },
    {
      "metadata": {
        "id": "Ccf5fO5mZn_x",
        "colab_type": "code",
        "colab": {
          "base_uri": "https://localhost:8080/",
          "height": 45
        },
        "outputId": "03430af6-12cd-4365-ff1b-9a5cf078ed0c"
      },
      "cell_type": "code",
      "source": [
        "img_path = '2.png'\n",
        "img = image.load_img(img_path, target_size = (28, 28), color_mode = \"grayscale\")\n",
        "img"
      ],
      "execution_count": 283,
      "outputs": [
        {
          "output_type": "execute_result",
          "data": {
            "image/png": "[encoded data removed]",
            "text/plain": [
              "<PIL.Image.Image image mode=L size=28x28 at 0x7F0EDFC74FD0>"
            ]
          },
          "metadata": {
            "tags": []
          },
          "execution_count": 283
        }
      ]
    },
    {
      "metadata": {
        "id": "yWKKz0mfZqIt",
        "colab_type": "code",
        "colab": {
          "base_uri": "https://localhost:8080/",
          "height": 265
        },
        "outputId": "abb22a11-eecc-4481-b75e-4ef04b462ccd"
      },
      "cell_type": "code",
      "source": [
        "plt.imshow(img.convert('RGBA'))\n",
        "plt.show()"
      ],
      "execution_count": 284,
      "outputs": [
        {
          "output_type": "display_data",
          "data": {
            "image/png": "[encoded data removed]",
            "text/plain": [
              "<Figure size 432x288 with 1 Axes>"
            ]
          },
          "metadata": {
            "tags": []
          }
        }
      ]
    },
    {
      "metadata": {
        "id": "7WkejnQKZsod",
        "colab_type": "code",
        "colab": {}
      },
      "cell_type": "code",
      "source": [
        "x = image.img_to_array(img)\n",
        "x = x.reshape(1, 784)\n",
        "x = 255 - x\n",
        "x /= 255"
      ],
      "execution_count": 0,
      "outputs": []
    },
    {
      "metadata": {
        "id": "g0Seogq8Zuyw",
        "colab_type": "code",
        "colab": {}
      },
      "cell_type": "code",
      "source": [
        "prediction = model.predict(x)"
      ],
      "execution_count": 0,
      "outputs": []
    },
    {
      "metadata": {
        "id": "qmAiWVsfZw33",
        "colab_type": "code",
        "colab": {
          "base_uri": "https://localhost:8080/",
          "height": 72
        },
        "outputId": "b0840dbd-891f-4ddf-e35a-c2856cd8281b"
      },
      "cell_type": "code",
      "source": [
        "prediction"
      ],
      "execution_count": 287,
      "outputs": [
        {
          "output_type": "execute_result",
          "data": {
            "text/plain": [
              "array([[5.9379532e-09, 1.6275098e-09, 9.9997604e-01, 3.6355648e-06,\n",
              "        5.6249686e-08, 7.6512592e-09, 7.4534610e-09, 1.9710102e-05,\n",
              "        4.3695081e-07, 1.6006022e-07]], dtype=float32)"
            ]
          },
          "metadata": {
            "tags": []
          },
          "execution_count": 287
        }
      ]
    },
    {
      "metadata": {
        "id": "y01OB88repV9",
        "colab_type": "code",
        "colab": {
          "base_uri": "https://localhost:8080/",
          "height": 35
        },
        "outputId": "a08e6366-9554-459a-c751-daa7ef798d95"
      },
      "cell_type": "code",
      "source": [
        "print(np.argmax(prediction))"
      ],
      "execution_count": 288,
      "outputs": [
        {
          "output_type": "stream",
          "text": [
            "2\n"
          ],
          "name": "stdout"
        }
      ]
    }
  ]
}